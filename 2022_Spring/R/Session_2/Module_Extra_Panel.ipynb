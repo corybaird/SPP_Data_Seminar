{
 "cells": [
  {
   "cell_type": "markdown",
   "metadata": {},
   "source": [
    "## A.1 Import libraries"
   ]
  },
  {
   "cell_type": "code",
   "execution_count": 41,
   "metadata": {},
   "outputs": [],
   "source": [
    "#Libraries you have\n",
    "library(ggplot2)\n",
    "library(dplyr)"
   ]
  },
  {
   "cell_type": "code",
   "execution_count": 2,
   "metadata": {},
   "outputs": [],
   "source": [
    "#Libraries to install\n",
    "#library(lmtest) # Regression diagnostics\n",
    "#library(MASS) #Robust regressions\n",
    "#library(plm) #Fixed and Random effects regression"
   ]
  },
  {
   "cell_type": "markdown",
   "metadata": {},
   "source": [
    "## A.2 Import data"
   ]
  },
  {
   "cell_type": "code",
   "execution_count": 3,
   "metadata": {},
   "outputs": [
    {
     "data": {
      "text/html": [
       "<table>\n",
       "<thead><tr><th scope=col>mpg</th><th scope=col>cyl</th><th scope=col>disp</th><th scope=col>hp</th><th scope=col>drat</th><th scope=col>wt</th><th scope=col>qsec</th><th scope=col>vs</th><th scope=col>am</th><th scope=col>gear</th><th scope=col>carb</th></tr></thead>\n",
       "<tbody>\n",
       "\t<tr><td>21   </td><td>6    </td><td>160  </td><td>110  </td><td>3.9  </td><td>2.620</td><td>16.46</td><td>0    </td><td>1    </td><td>4    </td><td>4    </td></tr>\n",
       "\t<tr><td>21   </td><td>6    </td><td>160  </td><td>110  </td><td>3.9  </td><td>2.875</td><td>17.02</td><td>0    </td><td>1    </td><td>4    </td><td>4    </td></tr>\n",
       "</tbody>\n",
       "</table>\n"
      ],
      "text/latex": [
       "\\begin{tabular}{r|lllllllllll}\n",
       " mpg & cyl & disp & hp & drat & wt & qsec & vs & am & gear & carb\\\\\n",
       "\\hline\n",
       "\t 21    & 6     & 160   & 110   & 3.9   & 2.620 & 16.46 & 0     & 1     & 4     & 4    \\\\\n",
       "\t 21    & 6     & 160   & 110   & 3.9   & 2.875 & 17.02 & 0     & 1     & 4     & 4    \\\\\n",
       "\\end{tabular}\n"
      ],
      "text/markdown": [
       "\n",
       "| mpg | cyl | disp | hp | drat | wt | qsec | vs | am | gear | carb |\n",
       "|---|---|---|---|---|---|---|---|---|---|---|\n",
       "| 21    | 6     | 160   | 110   | 3.9   | 2.620 | 16.46 | 0     | 1     | 4     | 4     |\n",
       "| 21    | 6     | 160   | 110   | 3.9   | 2.875 | 17.02 | 0     | 1     | 4     | 4     |\n",
       "\n"
      ],
      "text/plain": [
       "  mpg cyl disp hp  drat wt    qsec  vs am gear carb\n",
       "1 21  6   160  110 3.9  2.620 16.46 0  1  4    4   \n",
       "2 21  6   160  110 3.9  2.875 17.02 0  1  4    4   "
      ]
     },
     "metadata": {},
     "output_type": "display_data"
    }
   ],
   "source": [
    "mtcars = as_tibble(mtcars)\n",
    "#rownames(mtcars) <- NULL\n",
    "mtcars %>% head(2)"
   ]
  },
  {
   "cell_type": "markdown",
   "metadata": {},
   "source": [
    "# 1. OLS regression"
   ]
  },
  {
   "cell_type": "markdown",
   "metadata": {},
   "source": [
    "## 1.1 OLS: Built-in package lm\n",
    "- lm(Y~ X, data=DATAFRAME)\n",
    "\n",
    "### 1.1.1 Regression summary"
   ]
  },
  {
   "cell_type": "code",
   "execution_count": 4,
   "metadata": {},
   "outputs": [
    {
     "name": "stdout",
     "output_type": "stream",
     "text": [
      "\n",
      "Call:\n",
      "lm(formula = mpg ~ wt, data = mtcars)\n",
      "\n",
      "Residuals:\n",
      "    Min      1Q  Median      3Q     Max \n",
      "-4.5432 -2.3647 -0.1252  1.4096  6.8727 \n",
      "\n",
      "Coefficients:\n",
      "            Estimate Std. Error t value Pr(>|t|)    \n",
      "(Intercept)  37.2851     1.8776  19.858  < 2e-16 ***\n",
      "wt           -5.3445     0.5591  -9.559 1.29e-10 ***\n",
      "---\n",
      "Signif. codes:  0 ‘***’ 0.001 ‘**’ 0.01 ‘*’ 0.05 ‘.’ 0.1 ‘ ’ 1\n",
      "\n",
      "Residual standard error: 3.046 on 30 degrees of freedom\n",
      "Multiple R-squared:  0.7528,\tAdjusted R-squared:  0.7446 \n",
      "F-statistic: 91.38 on 1 and 30 DF,  p-value: 1.294e-10\n",
      "\n"
     ]
    }
   ],
   "source": [
    "linear_reg = lm(mpg ~ wt, data=mtcars)\n",
    "print(summary(linear_reg))"
   ]
  },
  {
   "cell_type": "markdown",
   "metadata": {},
   "source": [
    "#### 1.1.1.1 Acessing coefficients from summary"
   ]
  },
  {
   "cell_type": "code",
   "execution_count": 5,
   "metadata": {},
   "outputs": [
    {
     "data": {
      "text/html": [
       "<table>\n",
       "<thead><tr><th></th><th scope=col>Estimate</th><th scope=col>Std. Error</th><th scope=col>t value</th><th scope=col>Pr(&gt;|t|)</th></tr></thead>\n",
       "<tbody>\n",
       "\t<tr><th scope=row>(Intercept)</th><td>37.285126   </td><td>1.877627    </td><td>19.857575   </td><td>8.241799e-19</td></tr>\n",
       "\t<tr><th scope=row>wt</th><td>-5.344472   </td><td>0.559101    </td><td>-9.559044   </td><td>1.293959e-10</td></tr>\n",
       "</tbody>\n",
       "</table>\n"
      ],
      "text/latex": [
       "\\begin{tabular}{r|llll}\n",
       "  & Estimate & Std. Error & t value & Pr(>\\textbar{}t\\textbar{})\\\\\n",
       "\\hline\n",
       "\t(Intercept) & 37.285126    & 1.877627     & 19.857575    & 8.241799e-19\\\\\n",
       "\twt & -5.344472    & 0.559101     & -9.559044    & 1.293959e-10\\\\\n",
       "\\end{tabular}\n"
      ],
      "text/markdown": [
       "\n",
       "| <!--/--> | Estimate | Std. Error | t value | Pr(>|t|) |\n",
       "|---|---|---|---|---|\n",
       "| (Intercept) | 37.285126    | 1.877627     | 19.857575    | 8.241799e-19 |\n",
       "| wt | -5.344472    | 0.559101     | -9.559044    | 1.293959e-10 |\n",
       "\n"
      ],
      "text/plain": [
       "            Estimate  Std. Error t value   Pr(>|t|)    \n",
       "(Intercept) 37.285126 1.877627   19.857575 8.241799e-19\n",
       "wt          -5.344472 0.559101   -9.559044 1.293959e-10"
      ]
     },
     "metadata": {},
     "output_type": "display_data"
    },
    {
     "data": {
      "text/html": [
       "<dl class=dl-horizontal>\n",
       "\t<dt>value</dt>\n",
       "\t\t<dd>91.3753250037618</dd>\n",
       "\t<dt>numdf</dt>\n",
       "\t\t<dd>1</dd>\n",
       "\t<dt>dendf</dt>\n",
       "\t\t<dd>30</dd>\n",
       "</dl>\n"
      ],
      "text/latex": [
       "\\begin{description*}\n",
       "\\item[value] 91.3753250037618\n",
       "\\item[numdf] 1\n",
       "\\item[dendf] 30\n",
       "\\end{description*}\n"
      ],
      "text/markdown": [
       "value\n",
       ":   91.3753250037618numdf\n",
       ":   1dendf\n",
       ":   30\n",
       "\n"
      ],
      "text/plain": [
       "   value    numdf    dendf \n",
       "91.37533  1.00000 30.00000 "
      ]
     },
     "metadata": {},
     "output_type": "display_data"
    },
    {
     "data": {
      "text/html": [
       "3.04588212478938"
      ],
      "text/latex": [
       "3.04588212478938"
      ],
      "text/markdown": [
       "3.04588212478938"
      ],
      "text/plain": [
       "[1] 3.045882"
      ]
     },
     "metadata": {},
     "output_type": "display_data"
    },
    {
     "data": {
      "text/html": [
       "0.752832793658264"
      ],
      "text/latex": [
       "0.752832793658264"
      ],
      "text/markdown": [
       "0.752832793658264"
      ],
      "text/plain": [
       "[1] 0.7528328"
      ]
     },
     "metadata": {},
     "output_type": "display_data"
    }
   ],
   "source": [
    "linear_reg_summary = summary(linear_reg )\n",
    "linear_reg_summary$coefficients\n",
    "linear_reg_summary$fstatistic\n",
    "linear_reg_summary$sigma\n",
    "linear_reg_summary$r.squared"
   ]
  },
  {
   "cell_type": "markdown",
   "metadata": {},
   "source": [
    "#### 1.1.1.2 Extracting other stats from regression"
   ]
  },
  {
   "cell_type": "code",
   "execution_count": 6,
   "metadata": {},
   "outputs": [
    {
     "data": {
      "text/html": [
       "278.321937543343"
      ],
      "text/latex": [
       "278.321937543343"
      ],
      "text/markdown": [
       "278.321937543343"
      ],
      "text/plain": [
       "[1] 278.3219"
      ]
     },
     "metadata": {},
     "output_type": "display_data"
    },
    {
     "data": {
      "text/plain": [
       "'log Lik.' -80.01471 (df=3)"
      ]
     },
     "metadata": {},
     "output_type": "display_data"
    },
    {
     "data": {
      "text/html": [
       "30"
      ],
      "text/latex": [
       "30"
      ],
      "text/markdown": [
       "30"
      ],
      "text/plain": [
       "[1] 30"
      ]
     },
     "metadata": {},
     "output_type": "display_data"
    },
    {
     "data": {
      "text/html": [
       "166.029428991876"
      ],
      "text/latex": [
       "166.029428991876"
      ],
      "text/markdown": [
       "166.029428991876"
      ],
      "text/plain": [
       "[1] 166.0294"
      ]
     },
     "metadata": {},
     "output_type": "display_data"
    }
   ],
   "source": [
    "deviance(linear_reg)# SSR\n",
    "logLik(linear_reg) #Log likelihood\n",
    "linear_reg$df #Degrees of freedom\n",
    "#linear_reg$fitted.values #Yhat\n",
    "#linear_reg$coefficients #coefficients\n",
    "#linear_reg$residuals #Residuals\n",
    "AIC(linear_reg) #AIC"
   ]
  },
  {
   "cell_type": "markdown",
   "metadata": {},
   "source": [
    "#### 1.1.1.2 Acessing only Estimates ($\\beta$), Std. error, t-values"
   ]
  },
  {
   "cell_type": "code",
   "execution_count": 7,
   "metadata": {},
   "outputs": [
    {
     "data": {
      "text/html": [
       "-5.34447157272268"
      ],
      "text/latex": [
       "-5.34447157272268"
      ],
      "text/markdown": [
       "-5.34447157272268"
      ],
      "text/plain": [
       "[1] -5.344472"
      ]
     },
     "metadata": {},
     "output_type": "display_data"
    }
   ],
   "source": [
    "#linear_reg_summary$coefficients[\"wt\",\"Std. Error\"] #Std. errors\n",
    "#linear_reg_summary$coefficients[\"wt\",\"t value\"] #T-value\n",
    "beta1_lm = linear_reg_summary$coefficients[\"wt\",\"Estimate\"] #Beta \n",
    "beta1_lm"
   ]
  },
  {
   "cell_type": "markdown",
   "metadata": {},
   "source": [
    "### 1.1.2 Regression residuals"
   ]
  },
  {
   "cell_type": "code",
   "execution_count": 8,
   "metadata": {},
   "outputs": [],
   "source": [
    "resids = as.vector(linear_reg$residuals) #Yhat list of predicted values"
   ]
  },
  {
   "cell_type": "code",
   "execution_count": 9,
   "metadata": {},
   "outputs": [],
   "source": [
    "reg_df = mtcars  %>% select(wt, mpg) #Create new df\n",
    "reg_df = reg_df %>% mutate(yhat = resids) #Add yhat residuals we just created as a new column"
   ]
  },
  {
   "cell_type": "markdown",
   "metadata": {},
   "source": [
    "#### 1.1.2.1 Plot regression residuals\n",
    "- This is an important step to recognize heteroskedasticity"
   ]
  },
  {
   "cell_type": "code",
   "execution_count": 10,
   "metadata": {},
   "outputs": [
    {
     "data": {
      "image/png": "[encoded data removed]",
      "text/plain": [
       "plot without title"
      ]
     },
     "metadata": {},
     "output_type": "display_data"
    }
   ],
   "source": [
    "reg_df %>% ggplot(aes(mpg, yhat))+ geom_point()"
   ]
  },
  {
   "cell_type": "markdown",
   "metadata": {},
   "source": [
    "## 1.2 OLS: Using matrix algebra\n"
   ]
  },
  {
   "cell_type": "markdown",
   "metadata": {},
   "source": [
    "### 1.2.1 Create matrices for X and Y values"
   ]
  },
  {
   "cell_type": "code",
   "execution_count": 11,
   "metadata": {},
   "outputs": [],
   "source": [
    "X = as.matrix(mtcars %>% select(wt)) \n",
    "X = cbind(X,rep(1,length(X))) #Add constant/intercept\n",
    "colnames(X)[2] <- \"Intercept\" #Name intercept\n",
    "Y = as.matrix(mtcars %>% select(mpg))"
   ]
  },
  {
   "cell_type": "markdown",
   "metadata": {},
   "source": [
    "### 1.2.2 Calculate $\\beta$\n",
    "\n",
    "$y= x\\hat\\beta \\Rightarrow \\hat\\beta = (x\\prime x)^{-1}x\\prime y$\n",
    "\n",
    "\n",
    "Matrix algebra notes:\n",
    "- t() = transpose\n",
    "- %*% = dot product\n",
    "- solve() = inverse"
   ]
  },
  {
   "cell_type": "code",
   "execution_count": 12,
   "metadata": {},
   "outputs": [
    {
     "name": "stdout",
     "output_type": "stream",
     "text": [
      "                mpg\n",
      "wt        -5.344472\n",
      "Intercept 37.285126\n"
     ]
    }
   ],
   "source": [
    "A = solve(t(X)%*%X)\n",
    "bhat_hand = A  %*% t(X) %*% Y \n",
    "print(bhat_hand)"
   ]
  },
  {
   "cell_type": "markdown",
   "metadata": {},
   "source": [
    "#### 1.2.2.1 Show lm-beta == hand calculated-beta \n",
    "- (1.1.1.2==1.1.2)"
   ]
  },
  {
   "cell_type": "code",
   "execution_count": 13,
   "metadata": {},
   "outputs": [
    {
     "data": {
      "text/html": [
       "<dl class=dl-horizontal>\n",
       "\t<dt>(Intercept)</dt>\n",
       "\t\t<dd>37.285126167342</dd>\n",
       "\t<dt>wt</dt>\n",
       "\t\t<dd>-5.34447157272268</dd>\n",
       "</dl>\n"
      ],
      "text/latex": [
       "\\begin{description*}\n",
       "\\item[(Intercept)] 37.285126167342\n",
       "\\item[wt] -5.34447157272268\n",
       "\\end{description*}\n"
      ],
      "text/markdown": [
       "(Intercept)\n",
       ":   37.285126167342wt\n",
       ":   -5.34447157272268\n",
       "\n"
      ],
      "text/plain": [
       "(Intercept)          wt \n",
       "  37.285126   -5.344472 "
      ]
     },
     "metadata": {},
     "output_type": "display_data"
    }
   ],
   "source": [
    "linear_reg_summary$coefficients[,\"Estimate\"] "
   ]
  },
  {
   "cell_type": "code",
   "execution_count": 14,
   "metadata": {},
   "outputs": [
    {
     "data": {
      "text/html": [
       "'Beta_1 by hand: -5.34'"
      ],
      "text/latex": [
       "'Beta\\_1 by hand: -5.34'"
      ],
      "text/markdown": [
       "'Beta_1 by hand: -5.34'"
      ],
      "text/plain": [
       "[1] \"Beta_1 by hand: -5.34\""
      ]
     },
     "metadata": {},
     "output_type": "display_data"
    },
    {
     "data": {
      "text/html": [
       "'Beta_1 by lm package: -5.34'"
      ],
      "text/latex": [
       "'Beta\\_1 by lm package: -5.34'"
      ],
      "text/markdown": [
       "'Beta_1 by lm package: -5.34'"
      ],
      "text/plain": [
       "[1] \"Beta_1 by lm package: -5.34\""
      ]
     },
     "metadata": {},
     "output_type": "display_data"
    },
    {
     "data": {
      "text/html": [
       "'Is Beta_1 from lm and by hand equal? TRUE'"
      ],
      "text/latex": [
       "'Is Beta\\_1 from lm and by hand equal? TRUE'"
      ],
      "text/markdown": [
       "'Is Beta_1 from lm and by hand equal? TRUE'"
      ],
      "text/plain": [
       "[1] \"Is Beta_1 from lm and by hand equal? TRUE\""
      ]
     },
     "metadata": {},
     "output_type": "display_data"
    }
   ],
   "source": [
    "#Just to make sure our eyes are not tricking us, check to see whether wt coefficients are equal \n",
    "beta1_hand = bhat_hand[1]\n",
    "paste(\"Beta_1 by hand:\", round(beta1_hand,2))\n",
    "paste(\"Beta_1 by lm package:\", round(beta1_lm,2))\n",
    "paste(\"Is Beta_1 from lm and by hand equal?\", round(beta1_lm,2) == round(beta1_hand,2))"
   ]
  },
  {
   "cell_type": "markdown",
   "metadata": {},
   "source": [
    "### 1.2.3 Calculate $\\hat{e}$\n",
    "$\\hat{e} = Y - X' \\hat{\\beta}$. "
   ]
  },
  {
   "cell_type": "code",
   "execution_count": 15,
   "metadata": {},
   "outputs": [],
   "source": [
    "residuals_hand = Y - (X %*% bhat_hand)\n",
    "#ehat"
   ]
  },
  {
   "cell_type": "markdown",
   "metadata": {},
   "source": [
    "### 1.2.4 Calculate standard error\n",
    "- Example derived from Rebecca Ferrel's [github](http://rebeccaferrell.github.io/CSSS508/Homework/template-HW4-key.html)"
   ]
  },
  {
   "cell_type": "markdown",
   "metadata": {},
   "source": [
    "#### 1.2.4.1 Residual variance\n"
   ]
  },
  {
   "cell_type": "code",
   "execution_count": 16,
   "metadata": {},
   "outputs": [],
   "source": [
    "p <- ncol(X) - 1\n",
    "residual_var <- t(residuals_hand) %*% residuals_hand / (n - p - 1)\n",
    "residual_var <- as.numeric(residual_var)"
   ]
  },
  {
   "cell_type": "markdown",
   "metadata": {},
   "source": [
    "#### 1.2.4.2 $Var(\\hat{\\beta})$"
   ]
  },
  {
   "cell_type": "code",
   "execution_count": 17,
   "metadata": {},
   "outputs": [
    {
     "data": {
      "text/html": [
       "<table>\n",
       "<thead><tr><th></th><th scope=col>wt</th><th scope=col>Intercept</th></tr></thead>\n",
       "<tbody>\n",
       "\t<tr><th scope=row>wt</th><td> 0.312594</td><td>-1.005693</td></tr>\n",
       "\t<tr><th scope=row>Intercept</th><td>-1.005693</td><td> 3.525484</td></tr>\n",
       "</tbody>\n",
       "</table>\n"
      ],
      "text/latex": [
       "\\begin{tabular}{r|ll}\n",
       "  & wt & Intercept\\\\\n",
       "\\hline\n",
       "\twt &  0.312594 & -1.005693\\\\\n",
       "\tIntercept & -1.005693 &  3.525484\\\\\n",
       "\\end{tabular}\n"
      ],
      "text/markdown": [
       "\n",
       "| <!--/--> | wt | Intercept |\n",
       "|---|---|---|\n",
       "| wt |  0.312594 | -1.005693 |\n",
       "| Intercept | -1.005693 |  3.525484 |\n",
       "\n"
      ],
      "text/plain": [
       "          wt        Intercept\n",
       "wt         0.312594 -1.005693\n",
       "Intercept -1.005693  3.525484"
      ]
     },
     "metadata": {},
     "output_type": "display_data"
    }
   ],
   "source": [
    "beta_covar_hand <- residual_var * A\n",
    "beta_covar_hand"
   ]
  },
  {
   "cell_type": "markdown",
   "metadata": {},
   "source": [
    "#### 1.2.4.3 Standard error: $\\sqrt{var(\\hat{\\beta})}$"
   ]
  },
  {
   "cell_type": "code",
   "execution_count": 18,
   "metadata": {},
   "outputs": [
    {
     "data": {
      "text/html": [
       "<dl class=dl-horizontal>\n",
       "\t<dt>wt</dt>\n",
       "\t\t<dd>0.559101045099321</dd>\n",
       "\t<dt>Intercept</dt>\n",
       "\t\t<dd>1.87762733725589</dd>\n",
       "</dl>\n"
      ],
      "text/latex": [
       "\\begin{description*}\n",
       "\\item[wt] 0.559101045099321\n",
       "\\item[Intercept] 1.87762733725589\n",
       "\\end{description*}\n"
      ],
      "text/markdown": [
       "wt\n",
       ":   0.559101045099321Intercept\n",
       ":   1.87762733725589\n",
       "\n"
      ],
      "text/plain": [
       "       wt Intercept \n",
       " 0.559101  1.877627 "
      ]
     },
     "metadata": {},
     "output_type": "display_data"
    }
   ],
   "source": [
    "beta_SE_hand <- sqrt(diag(beta_covar_hand))\n",
    "beta_SE_hand"
   ]
  },
  {
   "cell_type": "markdown",
   "metadata": {},
   "source": [
    "#### 1.2.4.4 Show lm-se == hand calculated-se \n",
    "- (1.2.4.3==1.1.1.1)"
   ]
  },
  {
   "cell_type": "code",
   "execution_count": 19,
   "metadata": {},
   "outputs": [
    {
     "data": {
      "text/html": [
       "<dl class=dl-horizontal>\n",
       "\t<dt>(Intercept)</dt>\n",
       "\t\t<dd>1.87762733725589</dd>\n",
       "\t<dt>wt</dt>\n",
       "\t\t<dd>0.559101045099323</dd>\n",
       "</dl>\n"
      ],
      "text/latex": [
       "\\begin{description*}\n",
       "\\item[(Intercept)] 1.87762733725589\n",
       "\\item[wt] 0.559101045099323\n",
       "\\end{description*}\n"
      ],
      "text/markdown": [
       "(Intercept)\n",
       ":   1.87762733725589wt\n",
       ":   0.559101045099323\n",
       "\n"
      ],
      "text/plain": [
       "(Intercept)          wt \n",
       "   1.877627    0.559101 "
      ]
     },
     "metadata": {},
     "output_type": "display_data"
    }
   ],
   "source": [
    "#Code from 1.1.1.2\n",
    "beta1_se_lm = linear_reg_summary$coefficients['wt',\"Std. Error\"] #Grab only wt se\n",
    "linear_reg_summary$coefficients[,\"Std. Error\"] "
   ]
  },
  {
   "cell_type": "code",
   "execution_count": 20,
   "metadata": {},
   "outputs": [
    {
     "data": {
      "text/html": [
       "'beta1 SE by hand: 0.56'"
      ],
      "text/latex": [
       "'beta1 SE by hand: 0.56'"
      ],
      "text/markdown": [
       "'beta1 SE by hand: 0.56'"
      ],
      "text/plain": [
       "[1] \"beta1 SE by hand: 0.56\""
      ]
     },
     "metadata": {},
     "output_type": "display_data"
    },
    {
     "data": {
      "text/html": [
       "'SE by lm package: 0.56'"
      ],
      "text/latex": [
       "'SE by lm package: 0.56'"
      ],
      "text/markdown": [
       "'SE by lm package: 0.56'"
      ],
      "text/plain": [
       "[1] \"SE by lm package: 0.56\""
      ]
     },
     "metadata": {},
     "output_type": "display_data"
    },
    {
     "data": {
      "text/html": [
       "'Is Beta_1 SE from lm and by hand equal? TRUE'"
      ],
      "text/latex": [
       "'Is Beta\\_1 SE from lm and by hand equal? TRUE'"
      ],
      "text/markdown": [
       "'Is Beta_1 SE from lm and by hand equal? TRUE'"
      ],
      "text/plain": [
       "[1] \"Is Beta_1 SE from lm and by hand equal? TRUE\""
      ]
     },
     "metadata": {},
     "output_type": "display_data"
    }
   ],
   "source": [
    "#Just to make sure our eyes are not tricking us, check to see whether wt coefficients are equal \n",
    "beta1_SE_hand = beta_SE_hand[1]\n",
    "paste(\"beta1 SE by hand:\", round(beta1_SE_hand,2))\n",
    "paste(\"SE by lm package:\", round(beta1_se_lm ,2))\n",
    "paste(\"Is Beta_1 SE from lm and by hand equal?\", round(beta1_SE_hand,2) ==  round(beta1_se_lm ,2))"
   ]
  },
  {
   "cell_type": "markdown",
   "metadata": {},
   "source": [
    "# 2. Regression diagnostics\n",
    "\n",
    "- [lmtest package](http://math.furman.edu/~dcs/courses/math47/R/library/lmtest/html/00Index.html)"
   ]
  },
  {
   "cell_type": "code",
   "execution_count": 42,
   "metadata": {},
   "outputs": [],
   "source": [
    "library(lmtest)"
   ]
  },
  {
   "cell_type": "markdown",
   "metadata": {},
   "source": [
    "## 2.1 Breusch pagan: test for heteroskedasticity\n",
    "\n",
    "- If any of $\\delta$ are different than zero other than $\\delta_0$ then there is heteroscedasticity\n"
   ]
  },
  {
   "cell_type": "code",
   "execution_count": 22,
   "metadata": {},
   "outputs": [
    {
     "data": {
      "text/plain": [
       "\n",
       "\tstudentized Breusch-Pagan test\n",
       "\n",
       "data:  linear_reg\n",
       "BP = 0.040438, df = 1, p-value = 0.8406\n"
      ]
     },
     "metadata": {},
     "output_type": "display_data"
    }
   ],
   "source": [
    "linear_reg = lm(mpg ~ wt, data=mtcars)\n",
    "bptest(linear_reg)"
   ]
  },
  {
   "cell_type": "code",
   "execution_count": 23,
   "metadata": {},
   "outputs": [],
   "source": [
    "diagnostics <- function(regression) {\n",
    "    bp_res = bptest(linear_reg)$p.value\n",
    "    if (bp_res<.1){\n",
    "        print(paste(\"P-value\", round(bp_res,3)))\n",
    "        print(\"Reject null. Thus there is evidence of heteroskedasticity\")\n",
    "    }\n",
    "    else{\n",
    "        print(paste(\"P-value\", round(bp_res,3)))\n",
    "        print(\"Cannot reject null. No evidence of heteroskedasticity\")\n",
    "    } \n",
    "}"
   ]
  },
  {
   "cell_type": "code",
   "execution_count": 24,
   "metadata": {},
   "outputs": [
    {
     "name": "stdout",
     "output_type": "stream",
     "text": [
      "[1] \"P-value 0.841\"\n",
      "[1] \"Cannot reject null. No evidence of heteroskedasticity\"\n"
     ]
    }
   ],
   "source": [
    "diagnostics(linear_reg)"
   ]
  },
  {
   "cell_type": "markdown",
   "metadata": {},
   "source": [
    "## 2.2  DW test: test for serial correlation\n",
    "\n",
    "Serial correlation occurs when:\n",
    "- Important variable is omitted\n",
    "- Functional misspecification\n",
    "- Measurement error in independent variable\n",
    "\n",
    "This statistic will always be between 0 and 4.\n",
    "- Inidication of no serial correlation: the test statistic equals 2.\n",
    "- The closer to 0 the statistic, the more evidence for positive serial correlation.\n",
    "- The closer to 4, the more evidence for negative serial correlation."
   ]
  },
  {
   "cell_type": "code",
   "execution_count": 25,
   "metadata": {},
   "outputs": [
    {
     "data": {
      "text/plain": [
       "\n",
       "\tDurbin-Watson test\n",
       "\n",
       "data:  linear_reg\n",
       "DW = 1.2517, p-value = 0.0102\n",
       "alternative hypothesis: true autocorrelation is greater than 0\n"
      ]
     },
     "metadata": {},
     "output_type": "display_data"
    }
   ],
   "source": [
    "dwtest(linear_reg)"
   ]
  },
  {
   "cell_type": "markdown",
   "metadata": {},
   "source": [
    "## 2.3 Functional misspecification\n",
    "\n",
    "- If our model is correctly specified T-test of $\\gamma_1$ should not be rejected\n",
    "- If we reject the null then there is functional misspecfication"
   ]
  },
  {
   "cell_type": "code",
   "execution_count": 26,
   "metadata": {},
   "outputs": [
    {
     "data": {
      "text/plain": [
       "\n",
       "\tRESET test\n",
       "\n",
       "data:  linear_reg\n",
       "RESET = 5.1315, df1 = 2, df2 = 28, p-value = 0.01263\n"
      ]
     },
     "metadata": {},
     "output_type": "display_data"
    }
   ],
   "source": [
    "resettest(linear_reg)"
   ]
  },
  {
   "cell_type": "markdown",
   "metadata": {},
   "source": [
    "## 2.4 Introduction to functions"
   ]
  },
  {
   "cell_type": "markdown",
   "metadata": {},
   "source": [
    "### 2.4.1 Function: square numbers"
   ]
  },
  {
   "cell_type": "code",
   "execution_count": 27,
   "metadata": {},
   "outputs": [],
   "source": [
    "square = function(a){\n",
    "    solution = a^2\n",
    "    return (solution)\n",
    "}"
   ]
  },
  {
   "cell_type": "code",
   "execution_count": 28,
   "metadata": {},
   "outputs": [
    {
     "data": {
      "text/html": [
       "16"
      ],
      "text/latex": [
       "16"
      ],
      "text/markdown": [
       "16"
      ],
      "text/plain": [
       "[1] 16"
      ]
     },
     "metadata": {},
     "output_type": "display_data"
    }
   ],
   "source": [
    "square(4)"
   ]
  },
  {
   "cell_type": "markdown",
   "metadata": {},
   "source": [
    "### 2.4.2 Function: add two numbers"
   ]
  },
  {
   "cell_type": "code",
   "execution_count": 29,
   "metadata": {},
   "outputs": [],
   "source": [
    "add_numbers = function(a,b){\n",
    "    solution = (a^2)+b\n",
    "    return (solution)\n",
    "}"
   ]
  },
  {
   "cell_type": "code",
   "execution_count": 30,
   "metadata": {},
   "outputs": [
    {
     "data": {
      "text/html": [
       "7"
      ],
      "text/latex": [
       "7"
      ],
      "text/markdown": [
       "7"
      ],
      "text/plain": [
       "[1] 7"
      ]
     },
     "metadata": {},
     "output_type": "display_data"
    }
   ],
   "source": [
    "add_numbers(2,3)"
   ]
  },
  {
   "cell_type": "markdown",
   "metadata": {},
   "source": [
    "### 2.4.3 Function: using if and else"
   ]
  },
  {
   "cell_type": "code",
   "execution_count": 31,
   "metadata": {},
   "outputs": [],
   "source": [
    "number_test = function(a,b,c) { \n",
    "    print('You can print anything you want inside functions')\n",
    "    solution1 = a+b\n",
    "    solution = solution1-c\n",
    "    print(paste(\"The solution is:\", solution))\n",
    "    if (solution>100){\n",
    "        print('Big numbers are lame')\n",
    "    }\n",
    "    else{\n",
    "        print('Small numbers are cool')\n",
    "    }\n",
    "}"
   ]
  },
  {
   "cell_type": "code",
   "execution_count": 32,
   "metadata": {},
   "outputs": [
    {
     "name": "stdout",
     "output_type": "stream",
     "text": [
      "[1] \"You can print anything you want inside functions\"\n",
      "[1] \"The solution is: -2\"\n",
      "[1] \"Small numbers are cool\"\n"
     ]
    }
   ],
   "source": [
    "number_test(1,2,5)"
   ]
  },
  {
   "cell_type": "markdown",
   "metadata": {},
   "source": [
    "### 2.4.4 Function: BP, DW and RESET Test "
   ]
  },
  {
   "cell_type": "code",
   "execution_count": 33,
   "metadata": {},
   "outputs": [],
   "source": [
    "diagnostics = function(regression) { \n",
    "    #BP-test\n",
    "    print('-------')\n",
    "    print('BP-Test')\n",
    "    bp_res = bptest(linear_reg)$p.value\n",
    "    if (bp_res<.1){\n",
    "        print(paste(\"P-value\", round(bp_res,3)))\n",
    "        print(\"Reject null. Thus there is evidence of heteroskedasticity\")\n",
    "    }\n",
    "    else{\n",
    "        print(paste(\"P-value\", round(bp_res,3)))\n",
    "        print(\"Cannot reject null. No evidence of heteroskedasticity\")\n",
    "    }\n",
    "    #DW-test\n",
    "    print('-------')\n",
    "    print('DW-Test')\n",
    "    dw_res = dwtest(linear_reg)$p.value\n",
    "    if (dw_res<.1){\n",
    "        print(paste(\"P-value\", round(dw_res,3)))\n",
    "        print(\"Reject null. Thus there is evidence of serial correlation\")\n",
    "    }\n",
    "    else{\n",
    "        print(paste(\"P-value\", round(bp_res,3)))\n",
    "        print(\"Cannot reject null. No evidence of serial correlation\")\n",
    "    } \n",
    "    #Ramsey Reset test\n",
    "    print('-------')\n",
    "    print('Rest-Test')\n",
    "    ram_res = resettest(linear_reg)$p.value\n",
    "    if (ram_res<.1){\n",
    "        print(paste(\"P-value\", round(ram_res,3)))\n",
    "        print(\"Reject null. Thus there is evidence of misspecification\")\n",
    "    }\n",
    "    else{\n",
    "        print(paste(\"P-value\", round(ram_res,3)))\n",
    "        print(\"Cannot reject null. No evidence of  misspecification\")\n",
    "    } \n",
    "}"
   ]
  },
  {
   "cell_type": "code",
   "execution_count": 34,
   "metadata": {},
   "outputs": [
    {
     "name": "stdout",
     "output_type": "stream",
     "text": [
      "[1] \"-------\"\n",
      "[1] \"BP-Test\"\n",
      "[1] \"P-value 0.841\"\n",
      "[1] \"Cannot reject null. No evidence of heteroskedasticity\"\n",
      "[1] \"-------\"\n",
      "[1] \"DW-Test\"\n",
      "[1] \"P-value 0.01\"\n",
      "[1] \"Reject null. Thus there is evidence of serial correlation\"\n",
      "[1] \"-------\"\n",
      "[1] \"Rest-Test\"\n",
      "[1] \"P-value 0.013\"\n",
      "[1] \"Reject null. Thus there is evidence of misspecification\"\n"
     ]
    }
   ],
   "source": [
    "diagnostics(linear_reg)"
   ]
  },
  {
   "cell_type": "markdown",
   "metadata": {},
   "source": [
    "## 3. Other regression models"
   ]
  },
  {
   "cell_type": "markdown",
   "metadata": {},
   "source": [
    "## 3.1 Robust S.E. regression"
   ]
  },
  {
   "cell_type": "code",
   "execution_count": 43,
   "metadata": {},
   "outputs": [],
   "source": [
    "library(MASS)"
   ]
  },
  {
   "cell_type": "code",
   "execution_count": 36,
   "metadata": {},
   "outputs": [
    {
     "data": {
      "text/plain": [
       "Call:\n",
       "rlm(formula = mpg ~ wt, data = mtcars)\n",
       "Converged in 5 iterations\n",
       "\n",
       "Coefficients:\n",
       "(Intercept)          wt \n",
       "  36.737870   -5.250336 \n",
       "\n",
       "Degrees of freedom: 32 total; 30 residual\n",
       "Scale estimate: 3.06 "
      ]
     },
     "metadata": {},
     "output_type": "display_data"
    }
   ],
   "source": [
    "rlm(mpg ~ wt, mtcars)"
   ]
  },
  {
   "cell_type": "markdown",
   "metadata": {},
   "source": [
    "## 3.2 Panel data estimators\n",
    "- [plm package](https://cran.r-project.org/web/packages/plm/plm.pdf)"
   ]
  },
  {
   "cell_type": "code",
   "execution_count": 44,
   "metadata": {},
   "outputs": [],
   "source": [
    "library(plm)"
   ]
  },
  {
   "cell_type": "code",
   "execution_count": 38,
   "metadata": {},
   "outputs": [
    {
     "data": {
      "text/html": [
       "<table>\n",
       "<thead><tr><th scope=col>firm</th><th scope=col>year</th><th scope=col>inv</th><th scope=col>value</th><th scope=col>capital</th></tr></thead>\n",
       "<tbody>\n",
       "\t<tr><td>1     </td><td>1935  </td><td>317.6 </td><td>3078.5</td><td>  2.8 </td></tr>\n",
       "\t<tr><td>1     </td><td>1936  </td><td>391.8 </td><td>4661.7</td><td> 52.6 </td></tr>\n",
       "\t<tr><td>1     </td><td>1937  </td><td>410.6 </td><td>5387.1</td><td>156.9 </td></tr>\n",
       "</tbody>\n",
       "</table>\n"
      ],
      "text/latex": [
       "\\begin{tabular}{r|lllll}\n",
       " firm & year & inv & value & capital\\\\\n",
       "\\hline\n",
       "\t 1      & 1935   & 317.6  & 3078.5 &   2.8 \\\\\n",
       "\t 1      & 1936   & 391.8  & 4661.7 &  52.6 \\\\\n",
       "\t 1      & 1937   & 410.6  & 5387.1 & 156.9 \\\\\n",
       "\\end{tabular}\n"
      ],
      "text/markdown": [
       "\n",
       "| firm | year | inv | value | capital |\n",
       "|---|---|---|---|---|\n",
       "| 1      | 1935   | 317.6  | 3078.5 |   2.8  |\n",
       "| 1      | 1936   | 391.8  | 4661.7 |  52.6  |\n",
       "| 1      | 1937   | 410.6  | 5387.1 | 156.9  |\n",
       "\n"
      ],
      "text/plain": [
       "  firm year inv   value  capital\n",
       "1 1    1935 317.6 3078.5   2.8  \n",
       "2 1    1936 391.8 4661.7  52.6  \n",
       "3 1    1937 410.6 5387.1 156.9  "
      ]
     },
     "metadata": {},
     "output_type": "display_data"
    }
   ],
   "source": [
    "data(\"Grunfeld\", package=\"plm\")\n",
    "Grunfeld  %>% head(3)"
   ]
  },
  {
   "cell_type": "markdown",
   "metadata": {},
   "source": [
    "### 3.2.1 Fixed effects"
   ]
  },
  {
   "cell_type": "code",
   "execution_count": 39,
   "metadata": {},
   "outputs": [
    {
     "data": {
      "text/plain": [
       "Oneway (individual) effect Within Model\n",
       "\n",
       "Call:\n",
       "plm(formula = inv ~ value + capital, data = Grunfeld, model = \"within\")\n",
       "\n",
       "Balanced Panel: n = 10, T = 20, N = 200\n",
       "\n",
       "Residuals:\n",
       "      Min.    1st Qu.     Median    3rd Qu.       Max. \n",
       "-184.00857  -17.64316    0.56337   19.19222  250.70974 \n",
       "\n",
       "Coefficients:\n",
       "        Estimate Std. Error t-value  Pr(>|t|)    \n",
       "value   0.110124   0.011857  9.2879 < 2.2e-16 ***\n",
       "capital 0.310065   0.017355 17.8666 < 2.2e-16 ***\n",
       "---\n",
       "Signif. codes:  0 ‘***’ 0.001 ‘**’ 0.01 ‘*’ 0.05 ‘.’ 0.1 ‘ ’ 1\n",
       "\n",
       "Total Sum of Squares:    2244400\n",
       "Residual Sum of Squares: 523480\n",
       "R-Squared:      0.76676\n",
       "Adj. R-Squared: 0.75311\n",
       "F-statistic: 309.014 on 2 and 188 DF, p-value: < 2.22e-16"
      ]
     },
     "metadata": {},
     "output_type": "display_data"
    }
   ],
   "source": [
    "grun.fe <- plm(inv~value+capital, data = Grunfeld, model = \"within\")\n",
    "summary(grun.fe)"
   ]
  },
  {
   "cell_type": "markdown",
   "metadata": {},
   "source": [
    "### 3.2.2 Random effects"
   ]
  },
  {
   "cell_type": "code",
   "execution_count": 40,
   "metadata": {},
   "outputs": [
    {
     "data": {
      "text/plain": [
       "Oneway (individual) effect Random Effect Model \n",
       "   (Swamy-Arora's transformation)\n",
       "\n",
       "Call:\n",
       "plm(formula = inv ~ value + capital, data = Grunfeld, model = \"random\")\n",
       "\n",
       "Balanced Panel: n = 10, T = 20, N = 200\n",
       "\n",
       "Effects:\n",
       "                  var std.dev share\n",
       "idiosyncratic 2784.46   52.77 0.282\n",
       "individual    7089.80   84.20 0.718\n",
       "theta: 0.8612\n",
       "\n",
       "Residuals:\n",
       "     Min.   1st Qu.    Median   3rd Qu.      Max. \n",
       "-177.6063  -19.7350    4.6851   19.5105  252.8743 \n",
       "\n",
       "Coefficients:\n",
       "              Estimate Std. Error z-value Pr(>|z|)    \n",
       "(Intercept) -57.834415  28.898935 -2.0013  0.04536 *  \n",
       "value         0.109781   0.010493 10.4627  < 2e-16 ***\n",
       "capital       0.308113   0.017180 17.9339  < 2e-16 ***\n",
       "---\n",
       "Signif. codes:  0 ‘***’ 0.001 ‘**’ 0.01 ‘*’ 0.05 ‘.’ 0.1 ‘ ’ 1\n",
       "\n",
       "Total Sum of Squares:    2381400\n",
       "Residual Sum of Squares: 548900\n",
       "R-Squared:      0.7695\n",
       "Adj. R-Squared: 0.76716\n",
       "Chisq: 657.674 on 2 DF, p-value: < 2.22e-16"
      ]
     },
     "metadata": {},
     "output_type": "display_data"
    }
   ],
   "source": [
    "grun.re <- plm(inv~value+capital, data = Grunfeld, model = \"random\")\n",
    "summary(grun.re)"
   ]
  }
 ],
 "metadata": {
  "kernelspec": {
   "display_name": "R",
   "language": "R",
   "name": "ir"
  },
  "language_info": {
   "codemirror_mode": "r",
   "file_extension": ".r",
   "mimetype": "text/x-r-source",
   "name": "R",
   "pygments_lexer": "r",
   "version": "3.6.1"
  }
 },
 "nbformat": 4,
 "nbformat_minor": 4
}

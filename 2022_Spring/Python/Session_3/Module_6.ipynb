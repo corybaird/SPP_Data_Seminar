{
 "cells": [
  {
   "cell_type": "markdown",
   "id": "editorial-perfume",
   "metadata": {},
   "source": [
    "# Session 3-- Functions & downloading\n",
    "\n",
    "# Module 6-- Downloading\n",
    "\n",
    "\n",
    "- Module 5: Functions\n",
    "    - Notes (Current page)\n",
    "    - Video\n",
    "\n",
    "- Module 6: Downloading\n",
    "    - Notes\n",
    "    - Video"
   ]
  },
  {
   "cell_type": "code",
   "execution_count": 1,
   "id": "advanced-wayne",
   "metadata": {},
   "outputs": [],
   "source": [
    "import pandas as pd"
   ]
  },
  {
   "cell_type": "markdown",
   "id": "satellite-round",
   "metadata": {},
   "source": [
    "# 1. Importing data"
   ]
  },
  {
   "cell_type": "markdown",
   "id": "dried-redhead",
   "metadata": {},
   "source": [
    "## 1.1 From local file"
   ]
  },
  {
   "cell_type": "code",
   "execution_count": 2,
   "id": "burning-demographic",
   "metadata": {},
   "outputs": [
    {
     "data": {
      "text/html": [
       "<div>\n",
       "<style scoped>\n",
       "    .dataframe tbody tr th:only-of-type {\n",
       "        vertical-align: middle;\n",
       "    }\n",
       "\n",
       "    .dataframe tbody tr th {\n",
       "        vertical-align: top;\n",
       "    }\n",
       "\n",
       "    .dataframe thead tr th {\n",
       "        text-align: left;\n",
       "    }\n",
       "</style>\n",
       "<table border=\"1\" class=\"dataframe\">\n",
       "  <thead>\n",
       "    <tr>\n",
       "      <th></th>\n",
       "      <th>Select characteristics</th>\n",
       "      <th>Total</th>\n",
       "      <th>Occupied without rent</th>\n",
       "      <th colspan=\"4\" halign=\"left\">Last month’s payment status</th>\n",
       "      <th>Did not report to tenure</th>\n",
       "    </tr>\n",
       "    <tr>\n",
       "      <th></th>\n",
       "      <th>Unnamed: 0_level_1</th>\n",
       "      <th>Unnamed: 1_level_1</th>\n",
       "      <th>Unnamed: 2_level_1</th>\n",
       "      <th>Yes</th>\n",
       "      <th>No</th>\n",
       "      <th>Rent was deferred</th>\n",
       "      <th>Did not report</th>\n",
       "      <th>Unnamed: 7_level_1</th>\n",
       "    </tr>\n",
       "  </thead>\n",
       "  <tbody>\n",
       "    <tr>\n",
       "      <th>0</th>\n",
       "      <td>NaN</td>\n",
       "      <td>NaN</td>\n",
       "      <td>NaN</td>\n",
       "      <td>NaN</td>\n",
       "      <td>NaN</td>\n",
       "      <td>NaN</td>\n",
       "      <td>NaN</td>\n",
       "      <td>NaN</td>\n",
       "    </tr>\n",
       "    <tr>\n",
       "      <th>1</th>\n",
       "      <td>Total</td>\n",
       "      <td>1143622</td>\n",
       "      <td>32760</td>\n",
       "      <td>937610</td>\n",
       "      <td>160916</td>\n",
       "      <td>6899</td>\n",
       "      <td>5436</td>\n",
       "      <td>422491</td>\n",
       "    </tr>\n",
       "  </tbody>\n",
       "</table>\n",
       "</div>"
      ],
      "text/plain": [
       "  Select characteristics              Total Occupied without rent  \\\n",
       "      Unnamed: 0_level_1 Unnamed: 1_level_1    Unnamed: 2_level_1   \n",
       "0                    NaN                NaN                   NaN   \n",
       "1                  Total            1143622                 32760   \n",
       "\n",
       "  Last month’s payment status                                           \\\n",
       "                          Yes      No Rent was deferred Did not report   \n",
       "0                         NaN     NaN               NaN            NaN   \n",
       "1                      937610  160916              6899           5436   \n",
       "\n",
       "  Did not report to tenure  \n",
       "        Unnamed: 7_level_1  \n",
       "0                      NaN  \n",
       "1                   422491  "
      ]
     },
     "execution_count": 2,
     "metadata": {},
     "output_type": "execute_result"
    }
   ],
   "source": [
    "df = pd.read_excel(\n",
    "    'Input/Boston_Metro_Area.xlsx',\n",
    "    header=[0,1])\n",
    "df.head(2)"
   ]
  },
  {
   "cell_type": "markdown",
   "id": "higher-genealogy",
   "metadata": {},
   "source": [
    "## 1.2 From github"
   ]
  },
  {
   "cell_type": "code",
   "execution_count": 3,
   "id": "sustained-cleaner",
   "metadata": {},
   "outputs": [
    {
     "data": {
      "text/html": [
       "<div>\n",
       "<style scoped>\n",
       "    .dataframe tbody tr th:only-of-type {\n",
       "        vertical-align: middle;\n",
       "    }\n",
       "\n",
       "    .dataframe tbody tr th {\n",
       "        vertical-align: top;\n",
       "    }\n",
       "\n",
       "    .dataframe thead th {\n",
       "        text-align: right;\n",
       "    }\n",
       "</style>\n",
       "<table border=\"1\" class=\"dataframe\">\n",
       "  <thead>\n",
       "    <tr style=\"text-align: right;\">\n",
       "      <th></th>\n",
       "      <th>Unnamed: 0</th>\n",
       "      <th>diagnosis</th>\n",
       "      <th>radius_mean</th>\n",
       "      <th>texture_mean</th>\n",
       "      <th>perimeter_mean</th>\n",
       "      <th>area_mean</th>\n",
       "      <th>smoothness_mean</th>\n",
       "      <th>compactness_mean</th>\n",
       "      <th>concavity_mean</th>\n",
       "      <th>concave points_mean</th>\n",
       "      <th>...</th>\n",
       "      <th>radius_worst</th>\n",
       "      <th>texture_worst</th>\n",
       "      <th>perimeter_worst</th>\n",
       "      <th>area_worst</th>\n",
       "      <th>smoothness_worst</th>\n",
       "      <th>compactness_worst</th>\n",
       "      <th>concavity_worst</th>\n",
       "      <th>concave points_worst</th>\n",
       "      <th>symmetry_worst</th>\n",
       "      <th>fractal_dimension_worst</th>\n",
       "    </tr>\n",
       "  </thead>\n",
       "  <tbody>\n",
       "    <tr>\n",
       "      <th>0</th>\n",
       "      <td>0</td>\n",
       "      <td>M</td>\n",
       "      <td>17.99</td>\n",
       "      <td>10.38</td>\n",
       "      <td>122.8</td>\n",
       "      <td>1001.0</td>\n",
       "      <td>0.11840</td>\n",
       "      <td>0.27760</td>\n",
       "      <td>0.3001</td>\n",
       "      <td>0.14710</td>\n",
       "      <td>...</td>\n",
       "      <td>25.38</td>\n",
       "      <td>17.33</td>\n",
       "      <td>184.6</td>\n",
       "      <td>2019.0</td>\n",
       "      <td>0.1622</td>\n",
       "      <td>0.6656</td>\n",
       "      <td>0.7119</td>\n",
       "      <td>0.2654</td>\n",
       "      <td>0.4601</td>\n",
       "      <td>0.11890</td>\n",
       "    </tr>\n",
       "    <tr>\n",
       "      <th>1</th>\n",
       "      <td>1</td>\n",
       "      <td>M</td>\n",
       "      <td>20.57</td>\n",
       "      <td>17.77</td>\n",
       "      <td>132.9</td>\n",
       "      <td>1326.0</td>\n",
       "      <td>0.08474</td>\n",
       "      <td>0.07864</td>\n",
       "      <td>0.0869</td>\n",
       "      <td>0.07017</td>\n",
       "      <td>...</td>\n",
       "      <td>24.99</td>\n",
       "      <td>23.41</td>\n",
       "      <td>158.8</td>\n",
       "      <td>1956.0</td>\n",
       "      <td>0.1238</td>\n",
       "      <td>0.1866</td>\n",
       "      <td>0.2416</td>\n",
       "      <td>0.1860</td>\n",
       "      <td>0.2750</td>\n",
       "      <td>0.08902</td>\n",
       "    </tr>\n",
       "    <tr>\n",
       "      <th>2</th>\n",
       "      <td>2</td>\n",
       "      <td>M</td>\n",
       "      <td>19.69</td>\n",
       "      <td>21.25</td>\n",
       "      <td>130.0</td>\n",
       "      <td>1203.0</td>\n",
       "      <td>0.10960</td>\n",
       "      <td>0.15990</td>\n",
       "      <td>0.1974</td>\n",
       "      <td>0.12790</td>\n",
       "      <td>...</td>\n",
       "      <td>23.57</td>\n",
       "      <td>25.53</td>\n",
       "      <td>152.5</td>\n",
       "      <td>1709.0</td>\n",
       "      <td>0.1444</td>\n",
       "      <td>0.4245</td>\n",
       "      <td>0.4504</td>\n",
       "      <td>0.2430</td>\n",
       "      <td>0.3613</td>\n",
       "      <td>0.08758</td>\n",
       "    </tr>\n",
       "  </tbody>\n",
       "</table>\n",
       "<p>3 rows × 32 columns</p>\n",
       "</div>"
      ],
      "text/plain": [
       "   Unnamed: 0 diagnosis  radius_mean  texture_mean  perimeter_mean  area_mean  \\\n",
       "0           0         M        17.99         10.38           122.8     1001.0   \n",
       "1           1         M        20.57         17.77           132.9     1326.0   \n",
       "2           2         M        19.69         21.25           130.0     1203.0   \n",
       "\n",
       "   smoothness_mean  compactness_mean  concavity_mean  concave points_mean  \\\n",
       "0          0.11840           0.27760          0.3001              0.14710   \n",
       "1          0.08474           0.07864          0.0869              0.07017   \n",
       "2          0.10960           0.15990          0.1974              0.12790   \n",
       "\n",
       "   ...  radius_worst  texture_worst  perimeter_worst  area_worst  \\\n",
       "0  ...         25.38          17.33            184.6      2019.0   \n",
       "1  ...         24.99          23.41            158.8      1956.0   \n",
       "2  ...         23.57          25.53            152.5      1709.0   \n",
       "\n",
       "   smoothness_worst  compactness_worst  concavity_worst  concave points_worst  \\\n",
       "0            0.1622             0.6656           0.7119                0.2654   \n",
       "1            0.1238             0.1866           0.2416                0.1860   \n",
       "2            0.1444             0.4245           0.4504                0.2430   \n",
       "\n",
       "   symmetry_worst  fractal_dimension_worst  \n",
       "0          0.4601                  0.11890  \n",
       "1          0.2750                  0.08902  \n",
       "2          0.3613                  0.08758  \n",
       "\n",
       "[3 rows x 32 columns]"
      ]
     },
     "execution_count": 3,
     "metadata": {},
     "output_type": "execute_result"
    }
   ],
   "source": [
    "url = 'https://raw.githubusercontent.com/milaan9/93_Python_Data_Analytics_Projects/main/007_Breast_Cancer_Prediction_with_ML/data/data_clean.csv'\n",
    "df = pd.read_csv(url)\n",
    "df.head(3)"
   ]
  },
  {
   "cell_type": "markdown",
   "id": "worst-tamil",
   "metadata": {},
   "source": [
    "## 1.3 From website"
   ]
  },
  {
   "cell_type": "code",
   "execution_count": 4,
   "id": "electoral-nickname",
   "metadata": {},
   "outputs": [
    {
     "data": {
      "text/html": [
       "<div>\n",
       "<style scoped>\n",
       "    .dataframe tbody tr th:only-of-type {\n",
       "        vertical-align: middle;\n",
       "    }\n",
       "\n",
       "    .dataframe tbody tr th {\n",
       "        vertical-align: top;\n",
       "    }\n",
       "\n",
       "    .dataframe thead th {\n",
       "        text-align: right;\n",
       "    }\n",
       "</style>\n",
       "<table border=\"1\" class=\"dataframe\">\n",
       "  <thead>\n",
       "    <tr style=\"text-align: right;\">\n",
       "      <th></th>\n",
       "      <th>year</th>\n",
       "      <th>country</th>\n",
       "      <th>iso</th>\n",
       "      <th>ifs</th>\n",
       "      <th>pop</th>\n",
       "      <th>rgdpmad</th>\n",
       "      <th>rgdppc</th>\n",
       "      <th>rconpc</th>\n",
       "      <th>gdp</th>\n",
       "      <th>iy</th>\n",
       "      <th>...</th>\n",
       "      <th>eq_capgain</th>\n",
       "      <th>eq_dp</th>\n",
       "      <th>eq_capgain_interp</th>\n",
       "      <th>eq_tr_interp</th>\n",
       "      <th>eq_dp_interp</th>\n",
       "      <th>bond_rate</th>\n",
       "      <th>eq_div_rtn</th>\n",
       "      <th>capital_tr</th>\n",
       "      <th>risky_tr</th>\n",
       "      <th>safe_tr</th>\n",
       "    </tr>\n",
       "  </thead>\n",
       "  <tbody>\n",
       "    <tr>\n",
       "      <th>0</th>\n",
       "      <td>1870</td>\n",
       "      <td>Australia</td>\n",
       "      <td>AUS</td>\n",
       "      <td>193</td>\n",
       "      <td>1775.0</td>\n",
       "      <td>3273.239437</td>\n",
       "      <td>13.836157</td>\n",
       "      <td>21.449734</td>\n",
       "      <td>208.78</td>\n",
       "      <td>0.109266</td>\n",
       "      <td>...</td>\n",
       "      <td>-0.070045</td>\n",
       "      <td>0.071417</td>\n",
       "      <td>NaN</td>\n",
       "      <td>NaN</td>\n",
       "      <td>NaN</td>\n",
       "      <td>0.049118</td>\n",
       "      <td>0.066415</td>\n",
       "      <td>NaN</td>\n",
       "      <td>NaN</td>\n",
       "      <td>NaN</td>\n",
       "    </tr>\n",
       "    <tr>\n",
       "      <th>1</th>\n",
       "      <td>1871</td>\n",
       "      <td>Australia</td>\n",
       "      <td>AUS</td>\n",
       "      <td>193</td>\n",
       "      <td>1675.0</td>\n",
       "      <td>3298.507463</td>\n",
       "      <td>13.936864</td>\n",
       "      <td>19.930801</td>\n",
       "      <td>211.56</td>\n",
       "      <td>0.104579</td>\n",
       "      <td>...</td>\n",
       "      <td>0.041654</td>\n",
       "      <td>0.065466</td>\n",
       "      <td>NaN</td>\n",
       "      <td>NaN</td>\n",
       "      <td>NaN</td>\n",
       "      <td>0.048446</td>\n",
       "      <td>0.068193</td>\n",
       "      <td>NaN</td>\n",
       "      <td>NaN</td>\n",
       "      <td>NaN</td>\n",
       "    </tr>\n",
       "  </tbody>\n",
       "</table>\n",
       "<p>2 rows × 57 columns</p>\n",
       "</div>"
      ],
      "text/plain": [
       "   year    country  iso  ifs     pop      rgdpmad     rgdppc     rconpc  \\\n",
       "0  1870  Australia  AUS  193  1775.0  3273.239437  13.836157  21.449734   \n",
       "1  1871  Australia  AUS  193  1675.0  3298.507463  13.936864  19.930801   \n",
       "\n",
       "      gdp        iy  ...  eq_capgain     eq_dp  eq_capgain_interp  \\\n",
       "0  208.78  0.109266  ...   -0.070045  0.071417                NaN   \n",
       "1  211.56  0.104579  ...    0.041654  0.065466                NaN   \n",
       "\n",
       "   eq_tr_interp  eq_dp_interp  bond_rate  eq_div_rtn  capital_tr  risky_tr  \\\n",
       "0           NaN           NaN   0.049118    0.066415         NaN       NaN   \n",
       "1           NaN           NaN   0.048446    0.068193         NaN       NaN   \n",
       "\n",
       "   safe_tr  \n",
       "0      NaN  \n",
       "1      NaN  \n",
       "\n",
       "[2 rows x 57 columns]"
      ]
     },
     "execution_count": 4,
     "metadata": {},
     "output_type": "execute_result"
    }
   ],
   "source": [
    "url = 'https://www.macrohistory.net/app/download/9834512569/JSTdatasetR5.xlsx?t=1641215586'\n",
    "df = pd.read_excel(url, sheet_name=1)\n",
    "df.head(2)"
   ]
  },
  {
   "cell_type": "markdown",
   "id": "material-labor",
   "metadata": {},
   "source": [
    "# 2. Libraries"
   ]
  },
  {
   "cell_type": "markdown",
   "id": "after-tsunami",
   "metadata": {},
   "source": [
    "## 2.1 wbgapi library"
   ]
  },
  {
   "cell_type": "code",
   "execution_count": 5,
   "id": "closing-juvenile",
   "metadata": {},
   "outputs": [],
   "source": [
    "import wbgapi as wb"
   ]
  },
  {
   "cell_type": "code",
   "execution_count": 6,
   "id": "north-flexibility",
   "metadata": {},
   "outputs": [],
   "source": [
    "data = [\n",
    "    'NE.TRD.GNFS.ZS', #Trade (% of GDP)\n",
    "    'NY.GDP.MKTP.CD', #GDP (current US$)\n",
    "    'SI.POV.GINI'# Gini index (World Bank estimate)\n",
    "]"
   ]
  },
  {
   "cell_type": "code",
   "execution_count": 7,
   "id": "sweet-processing",
   "metadata": {},
   "outputs": [
    {
     "data": {
      "text/html": [
       "<div>\n",
       "<style scoped>\n",
       "    .dataframe tbody tr th:only-of-type {\n",
       "        vertical-align: middle;\n",
       "    }\n",
       "\n",
       "    .dataframe tbody tr th {\n",
       "        vertical-align: top;\n",
       "    }\n",
       "\n",
       "    .dataframe thead th {\n",
       "        text-align: right;\n",
       "    }\n",
       "</style>\n",
       "<table border=\"1\" class=\"dataframe\">\n",
       "  <thead>\n",
       "    <tr style=\"text-align: right;\">\n",
       "      <th></th>\n",
       "      <th></th>\n",
       "      <th>YR2010</th>\n",
       "      <th>YR2011</th>\n",
       "      <th>YR2012</th>\n",
       "      <th>YR2013</th>\n",
       "      <th>YR2014</th>\n",
       "      <th>YR2015</th>\n",
       "      <th>YR2016</th>\n",
       "      <th>YR2017</th>\n",
       "      <th>YR2018</th>\n",
       "      <th>YR2019</th>\n",
       "    </tr>\n",
       "    <tr>\n",
       "      <th>economy</th>\n",
       "      <th>series</th>\n",
       "      <th></th>\n",
       "      <th></th>\n",
       "      <th></th>\n",
       "      <th></th>\n",
       "      <th></th>\n",
       "      <th></th>\n",
       "      <th></th>\n",
       "      <th></th>\n",
       "      <th></th>\n",
       "      <th></th>\n",
       "    </tr>\n",
       "  </thead>\n",
       "  <tbody>\n",
       "    <tr>\n",
       "      <th rowspan=\"2\" valign=\"top\">JPN</th>\n",
       "      <th>NE.TRD.GNFS.ZS</th>\n",
       "      <td>2.849847e+01</td>\n",
       "      <td>3.019496e+01</td>\n",
       "      <td>3.047091e+01</td>\n",
       "      <td>3.397877e+01</td>\n",
       "      <td>3.743143e+01</td>\n",
       "      <td>3.542741e+01</td>\n",
       "      <td>3.131025e+01</td>\n",
       "      <td>3.442321e+01</td>\n",
       "      <td>3.663893e+01</td>\n",
       "      <td>3.476098e+01</td>\n",
       "    </tr>\n",
       "    <tr>\n",
       "      <th>NY.GDP.MKTP.CD</th>\n",
       "      <td>5.759072e+12</td>\n",
       "      <td>6.233147e+12</td>\n",
       "      <td>6.272363e+12</td>\n",
       "      <td>5.212328e+12</td>\n",
       "      <td>4.896994e+12</td>\n",
       "      <td>4.444931e+12</td>\n",
       "      <td>5.003678e+12</td>\n",
       "      <td>4.930837e+12</td>\n",
       "      <td>5.036892e+12</td>\n",
       "      <td>5.148782e+12</td>\n",
       "    </tr>\n",
       "  </tbody>\n",
       "</table>\n",
       "</div>"
      ],
      "text/plain": [
       "                              YR2010        YR2011        YR2012  \\\n",
       "economy series                                                     \n",
       "JPN     NE.TRD.GNFS.ZS  2.849847e+01  3.019496e+01  3.047091e+01   \n",
       "        NY.GDP.MKTP.CD  5.759072e+12  6.233147e+12  6.272363e+12   \n",
       "\n",
       "                              YR2013        YR2014        YR2015  \\\n",
       "economy series                                                     \n",
       "JPN     NE.TRD.GNFS.ZS  3.397877e+01  3.743143e+01  3.542741e+01   \n",
       "        NY.GDP.MKTP.CD  5.212328e+12  4.896994e+12  4.444931e+12   \n",
       "\n",
       "                              YR2016        YR2017        YR2018        YR2019  \n",
       "economy series                                                                  \n",
       "JPN     NE.TRD.GNFS.ZS  3.131025e+01  3.442321e+01  3.663893e+01  3.476098e+01  \n",
       "        NY.GDP.MKTP.CD  5.003678e+12  4.930837e+12  5.036892e+12  5.148782e+12  "
      ]
     },
     "execution_count": 7,
     "metadata": {},
     "output_type": "execute_result"
    }
   ],
   "source": [
    "df = wb.data.DataFrame(\n",
    "    series = data, \n",
    "    economy = ['USA','JPN'], \n",
    "    time = range(2010, 2020))\n",
    "df.head(2)"
   ]
  },
  {
   "cell_type": "markdown",
   "id": "former-cycle",
   "metadata": {},
   "source": [
    "## 2.2 DB economics\n",
    "- https://db.nomics.world/UNCTAD"
   ]
  },
  {
   "cell_type": "code",
   "execution_count": 8,
   "id": "accomplished-ticket",
   "metadata": {},
   "outputs": [],
   "source": [
    "from dbnomics import fetch_series, fetch_series_by_api_link "
   ]
  },
  {
   "cell_type": "code",
   "execution_count": 9,
   "id": "dated-constraint",
   "metadata": {},
   "outputs": [
    {
     "data": {
      "text/html": [
       "<div>\n",
       "<style scoped>\n",
       "    .dataframe tbody tr th:only-of-type {\n",
       "        vertical-align: middle;\n",
       "    }\n",
       "\n",
       "    .dataframe tbody tr th {\n",
       "        vertical-align: top;\n",
       "    }\n",
       "\n",
       "    .dataframe thead th {\n",
       "        text-align: right;\n",
       "    }\n",
       "</style>\n",
       "<table border=\"1\" class=\"dataframe\">\n",
       "  <thead>\n",
       "    <tr style=\"text-align: right;\">\n",
       "      <th></th>\n",
       "      <th>@frequency</th>\n",
       "      <th>provider_code</th>\n",
       "      <th>dataset_code</th>\n",
       "      <th>dataset_name</th>\n",
       "      <th>series_code</th>\n",
       "      <th>series_name</th>\n",
       "      <th>original_period</th>\n",
       "      <th>period</th>\n",
       "      <th>original_value</th>\n",
       "      <th>value</th>\n",
       "      <th>frequency</th>\n",
       "      <th>economy</th>\n",
       "      <th>flow</th>\n",
       "      <th>measure</th>\n",
       "      <th>Frequency</th>\n",
       "      <th>Economy</th>\n",
       "      <th>Flow</th>\n",
       "      <th>Measure</th>\n",
       "    </tr>\n",
       "  </thead>\n",
       "  <tbody>\n",
       "    <tr>\n",
       "      <th>0</th>\n",
       "      <td>annual</td>\n",
       "      <td>UNCTAD</td>\n",
       "      <td>MTTGRA</td>\n",
       "      <td>Merchandise: Total trade growth rates, annual</td>\n",
       "      <td>A.exports.annual-average-growth-rate.acp-africa</td>\n",
       "      <td>Annual – ACP: Africa – Exports – Annual averag...</td>\n",
       "      <td>1981</td>\n",
       "      <td>1981-01-01</td>\n",
       "      <td>-20.562973</td>\n",
       "      <td>-20.562973</td>\n",
       "      <td>A</td>\n",
       "      <td>acp-africa</td>\n",
       "      <td>exports</td>\n",
       "      <td>annual-average-growth-rate</td>\n",
       "      <td>Annual</td>\n",
       "      <td>ACP: Africa</td>\n",
       "      <td>Exports</td>\n",
       "      <td>Annual average growth rate</td>\n",
       "    </tr>\n",
       "    <tr>\n",
       "      <th>1</th>\n",
       "      <td>annual</td>\n",
       "      <td>UNCTAD</td>\n",
       "      <td>MTTGRA</td>\n",
       "      <td>Merchandise: Total trade growth rates, annual</td>\n",
       "      <td>A.exports.annual-average-growth-rate.acp-africa</td>\n",
       "      <td>Annual – ACP: Africa – Exports – Annual averag...</td>\n",
       "      <td>1982</td>\n",
       "      <td>1982-01-01</td>\n",
       "      <td>-16.59465</td>\n",
       "      <td>-16.59465</td>\n",
       "      <td>A</td>\n",
       "      <td>acp-africa</td>\n",
       "      <td>exports</td>\n",
       "      <td>annual-average-growth-rate</td>\n",
       "      <td>Annual</td>\n",
       "      <td>ACP: Africa</td>\n",
       "      <td>Exports</td>\n",
       "      <td>Annual average growth rate</td>\n",
       "    </tr>\n",
       "  </tbody>\n",
       "</table>\n",
       "</div>"
      ],
      "text/plain": [
       "  @frequency provider_code dataset_code  \\\n",
       "0     annual        UNCTAD       MTTGRA   \n",
       "1     annual        UNCTAD       MTTGRA   \n",
       "\n",
       "                                    dataset_name  \\\n",
       "0  Merchandise: Total trade growth rates, annual   \n",
       "1  Merchandise: Total trade growth rates, annual   \n",
       "\n",
       "                                       series_code  \\\n",
       "0  A.exports.annual-average-growth-rate.acp-africa   \n",
       "1  A.exports.annual-average-growth-rate.acp-africa   \n",
       "\n",
       "                                         series_name original_period  \\\n",
       "0  Annual – ACP: Africa – Exports – Annual averag...            1981   \n",
       "1  Annual – ACP: Africa – Exports – Annual averag...            1982   \n",
       "\n",
       "      period original_value      value frequency     economy     flow  \\\n",
       "0 1981-01-01     -20.562973 -20.562973         A  acp-africa  exports   \n",
       "1 1982-01-01      -16.59465  -16.59465         A  acp-africa  exports   \n",
       "\n",
       "                      measure Frequency      Economy     Flow  \\\n",
       "0  annual-average-growth-rate    Annual  ACP: Africa  Exports   \n",
       "1  annual-average-growth-rate    Annual  ACP: Africa  Exports   \n",
       "\n",
       "                      Measure  \n",
       "0  Annual average growth rate  \n",
       "1  Annual average growth rate  "
      ]
     },
     "execution_count": 9,
     "metadata": {},
     "output_type": "execute_result"
    }
   ],
   "source": [
    "df = fetch_series(\"UNCTAD\", \"MTTGRA\",\n",
    "                  max_nb_series = 1000\n",
    "                 )\n",
    "df.head(2)"
   ]
  },
  {
   "cell_type": "code",
   "execution_count": 10,
   "id": "specific-value",
   "metadata": {},
   "outputs": [
    {
     "data": {
      "text/plain": [
       "array(['Annual – ACP: Africa – Exports – Annual average growth rate',\n",
       "       'Annual – ACP (African, Caribbean and Pacific Group of States) – Exports – Annual average growth rate',\n",
       "       'Annual – ACP: Caribbean – Exports – Annual average growth rate'],\n",
       "      dtype=object)"
      ]
     },
     "execution_count": 10,
     "metadata": {},
     "output_type": "execute_result"
    }
   ],
   "source": [
    "df.series_name.unique()[:3]"
   ]
  },
  {
   "cell_type": "markdown",
   "id": "clinical-haven",
   "metadata": {},
   "source": [
    "## 2.3 Pandasmx"
   ]
  },
  {
   "cell_type": "code",
   "execution_count": 11,
   "id": "passive-cooking",
   "metadata": {},
   "outputs": [
    {
     "name": "stderr",
     "output_type": "stream",
     "text": [
      "/Users/corybaird/opt/miniconda3/lib/python3.8/site-packages/pandasdmx/remote.py:11: RuntimeWarning: optional dependency requests_cache is not installed; cache options to Session() have no effect\n",
      "  warn(\n"
     ]
    }
   ],
   "source": [
    "import pandasdmx as pdsdmx"
   ]
  },
  {
   "cell_type": "code",
   "execution_count": 12,
   "id": "intended-kuwait",
   "metadata": {},
   "outputs": [
    {
     "data": {
      "text/html": [
       "<div>\n",
       "<style scoped>\n",
       "    .dataframe tbody tr th:only-of-type {\n",
       "        vertical-align: middle;\n",
       "    }\n",
       "\n",
       "    .dataframe tbody tr th {\n",
       "        vertical-align: top;\n",
       "    }\n",
       "\n",
       "    .dataframe thead th {\n",
       "        text-align: right;\n",
       "    }\n",
       "</style>\n",
       "<table border=\"1\" class=\"dataframe\">\n",
       "  <thead>\n",
       "    <tr style=\"text-align: right;\">\n",
       "      <th></th>\n",
       "      <th></th>\n",
       "      <th></th>\n",
       "      <th></th>\n",
       "      <th></th>\n",
       "      <th>value</th>\n",
       "    </tr>\n",
       "    <tr>\n",
       "      <th>LOCATION</th>\n",
       "      <th>SUBJECT</th>\n",
       "      <th>MEASURE</th>\n",
       "      <th>FREQUENCY</th>\n",
       "      <th>TIME_PERIOD</th>\n",
       "      <th></th>\n",
       "    </tr>\n",
       "  </thead>\n",
       "  <tbody>\n",
       "    <tr>\n",
       "      <th rowspan=\"2\" valign=\"top\">ARG</th>\n",
       "      <th rowspan=\"2\" valign=\"top\">CP010000</th>\n",
       "      <th rowspan=\"2\" valign=\"top\">GP</th>\n",
       "      <th rowspan=\"2\" valign=\"top\">A</th>\n",
       "      <th>2019</th>\n",
       "      <td>58.36288</td>\n",
       "    </tr>\n",
       "    <tr>\n",
       "      <th>2020</th>\n",
       "      <td>46.96305</td>\n",
       "    </tr>\n",
       "  </tbody>\n",
       "</table>\n",
       "</div>"
      ],
      "text/plain": [
       "                                                    value\n",
       "LOCATION SUBJECT  MEASURE FREQUENCY TIME_PERIOD          \n",
       "ARG      CP010000 GP      A         2019         58.36288\n",
       "                                    2020         46.96305"
      ]
     },
     "execution_count": 12,
     "metadata": {},
     "output_type": "execute_result"
    }
   ],
   "source": [
    "oecd = pdsdmx.Request('OECD')\n",
    "data_response = oecd.data(resource_id='PRICES_CPI', \n",
    "                          key='all?startTime=2019')\n",
    "df = data_response.write().to_frame()\n",
    "df.head(2)"
   ]
  },
  {
   "cell_type": "markdown",
   "id": "medium-theorem",
   "metadata": {},
   "source": [
    "# 3. API\n",
    "\n",
    "- Must register first"
   ]
  },
  {
   "cell_type": "markdown",
   "id": "understanding-feedback",
   "metadata": {},
   "source": [
    "## 3.1 FRED"
   ]
  },
  {
   "cell_type": "code",
   "execution_count": 13,
   "id": "moved-variable",
   "metadata": {},
   "outputs": [],
   "source": [
    "from fredapi import Fred\n",
    "fred = Fred(api_key='YOURKEY')"
   ]
  },
  {
   "cell_type": "code",
   "execution_count": 14,
   "id": "baking-spiritual",
   "metadata": {},
   "outputs": [
    {
     "data": {
      "text/plain": [
       "1947-01-01    2034.450\n",
       "1947-04-01    2029.024\n",
       "dtype: float64"
      ]
     },
     "execution_count": 14,
     "metadata": {},
     "output_type": "execute_result"
    }
   ],
   "source": [
    "df = fred.get_series('GDPC1')\n",
    "df.head(2)"
   ]
  },
  {
   "cell_type": "markdown",
   "id": "first-minister",
   "metadata": {},
   "source": [
    "### 3.1.1 Loop\n",
    "https://fred.stlouisfed.org/series/CANA"
   ]
  },
  {
   "cell_type": "code",
   "execution_count": 15,
   "id": "wrong-liechtenstein",
   "metadata": {},
   "outputs": [
    {
     "data": {
      "text/plain": [
       "1990-01-01    12491.6\n",
       "1990-02-01    12502.0\n",
       "dtype: float64"
      ]
     },
     "execution_count": 15,
     "metadata": {},
     "output_type": "execute_result"
    }
   ],
   "source": [
    "df = fred.get_series(\"CANA\")\n",
    "df.head(2)"
   ]
  },
  {
   "cell_type": "code",
   "execution_count": 16,
   "id": "economic-stranger",
   "metadata": {},
   "outputs": [],
   "source": [
    "import time\n",
    "master = []\n",
    "for state in ['CA','MN','TX','MD']:\n",
    "    series = fred.get_series(\"{}NA\".format(state))\n",
    "    series.name = 'TNF_'+state\n",
    "    master.append(series)\n",
    "    time.sleep(2)"
   ]
  },
  {
   "cell_type": "code",
   "execution_count": 17,
   "id": "senior-guess",
   "metadata": {},
   "outputs": [
    {
     "data": {
      "text/html": [
       "<div>\n",
       "<style scoped>\n",
       "    .dataframe tbody tr th:only-of-type {\n",
       "        vertical-align: middle;\n",
       "    }\n",
       "\n",
       "    .dataframe tbody tr th {\n",
       "        vertical-align: top;\n",
       "    }\n",
       "\n",
       "    .dataframe thead th {\n",
       "        text-align: right;\n",
       "    }\n",
       "</style>\n",
       "<table border=\"1\" class=\"dataframe\">\n",
       "  <thead>\n",
       "    <tr style=\"text-align: right;\">\n",
       "      <th></th>\n",
       "      <th>TNF_CA</th>\n",
       "      <th>TNF_MN</th>\n",
       "      <th>TNF_TX</th>\n",
       "      <th>TNF_MD</th>\n",
       "    </tr>\n",
       "  </thead>\n",
       "  <tbody>\n",
       "    <tr>\n",
       "      <th>1990-01-01</th>\n",
       "      <td>12491.6</td>\n",
       "      <td>2123.6</td>\n",
       "      <td>7026.9</td>\n",
       "      <td>2173.8</td>\n",
       "    </tr>\n",
       "    <tr>\n",
       "      <th>1990-02-01</th>\n",
       "      <td>12502.0</td>\n",
       "      <td>2129.7</td>\n",
       "      <td>7037.7</td>\n",
       "      <td>2185.7</td>\n",
       "    </tr>\n",
       "    <tr>\n",
       "      <th>1990-03-01</th>\n",
       "      <td>12502.0</td>\n",
       "      <td>2130.6</td>\n",
       "      <td>7057.3</td>\n",
       "      <td>2193.2</td>\n",
       "    </tr>\n",
       "  </tbody>\n",
       "</table>\n",
       "</div>"
      ],
      "text/plain": [
       "             TNF_CA  TNF_MN  TNF_TX  TNF_MD\n",
       "1990-01-01  12491.6  2123.6  7026.9  2173.8\n",
       "1990-02-01  12502.0  2129.7  7037.7  2185.7\n",
       "1990-03-01  12502.0  2130.6  7057.3  2193.2"
      ]
     },
     "execution_count": 17,
     "metadata": {},
     "output_type": "execute_result"
    }
   ],
   "source": [
    "df = pd.concat(master, axis=1)\n",
    "df.head(3)"
   ]
  },
  {
   "cell_type": "markdown",
   "id": "cathedral-survival",
   "metadata": {},
   "source": [
    "# 4. Download zip file directly to computer"
   ]
  },
  {
   "cell_type": "markdown",
   "id": "favorite-electricity",
   "metadata": {},
   "source": [
    "## 4.1 Download zip"
   ]
  },
  {
   "cell_type": "code",
   "execution_count": 18,
   "id": "prepared-level",
   "metadata": {},
   "outputs": [],
   "source": [
    "import requests, zipfile, io\n",
    "url = \"http://www.ennvih-mxfls.org/english/assets/hh02dta_b1.zip\"\n",
    "r = requests.get(url)"
   ]
  },
  {
   "cell_type": "markdown",
   "id": "fixed-fortune",
   "metadata": {},
   "source": [
    "## 4.2 Create new folder"
   ]
  },
  {
   "cell_type": "code",
   "execution_count": 20,
   "id": "logical-recovery",
   "metadata": {},
   "outputs": [],
   "source": [
    "import os\n",
    "#os.mkdir('zip_out')"
   ]
  },
  {
   "cell_type": "markdown",
   "id": "excessive-spirit",
   "metadata": {},
   "source": [
    "## 4.3 Unzip to new folder"
   ]
  },
  {
   "cell_type": "code",
   "execution_count": 21,
   "id": "impaired-fashion",
   "metadata": {},
   "outputs": [],
   "source": [
    "z = zipfile.ZipFile(io.BytesIO(r.content))\n",
    "z.extractall(\"zip_out\")"
   ]
  },
  {
   "cell_type": "markdown",
   "id": "close-promotion",
   "metadata": {},
   "source": [
    "## 4.4 Read with for loop"
   ]
  },
  {
   "cell_type": "code",
   "execution_count": 22,
   "id": "complex-charlotte",
   "metadata": {},
   "outputs": [
    {
     "data": {
      "text/plain": [
       "['i_portad.dta', 'i_cs1.dta', 'i_conpor.dta', 'i_cs.dta', 'i_ne.dta']"
      ]
     },
     "execution_count": 22,
     "metadata": {},
     "output_type": "execute_result"
    }
   ],
   "source": [
    "path = 'zip_out/hh02dta_b1/'\n",
    "files = os.listdir(path)\n",
    "files"
   ]
  },
  {
   "cell_type": "code",
   "execution_count": 23,
   "id": "quick-christmas",
   "metadata": {},
   "outputs": [
    {
     "data": {
      "text/html": [
       "<div>\n",
       "<style scoped>\n",
       "    .dataframe tbody tr th:only-of-type {\n",
       "        vertical-align: middle;\n",
       "    }\n",
       "\n",
       "    .dataframe tbody tr th {\n",
       "        vertical-align: top;\n",
       "    }\n",
       "\n",
       "    .dataframe thead th {\n",
       "        text-align: right;\n",
       "    }\n",
       "</style>\n",
       "<table border=\"1\" class=\"dataframe\">\n",
       "  <thead>\n",
       "    <tr style=\"text-align: right;\">\n",
       "      <th></th>\n",
       "      <th>ent</th>\n",
       "      <th>catorcena</th>\n",
       "      <th>folio</th>\n",
       "      <th>ls</th>\n",
       "      <th>rel</th>\n",
       "      <th>edad</th>\n",
       "    </tr>\n",
       "  </thead>\n",
       "  <tbody>\n",
       "    <tr>\n",
       "      <th>0</th>\n",
       "      <td>20.0</td>\n",
       "      <td>2.0</td>\n",
       "      <td>1000.0</td>\n",
       "      <td>2.0</td>\n",
       "      <td>20.0</td>\n",
       "      <td>35.0</td>\n",
       "    </tr>\n",
       "    <tr>\n",
       "      <th>1</th>\n",
       "      <td>20.0</td>\n",
       "      <td>2.0</td>\n",
       "      <td>2000.0</td>\n",
       "      <td>2.0</td>\n",
       "      <td>20.0</td>\n",
       "      <td>42.0</td>\n",
       "    </tr>\n",
       "  </tbody>\n",
       "</table>\n",
       "</div>"
      ],
      "text/plain": [
       "    ent  catorcena   folio   ls   rel  edad\n",
       "0  20.0        2.0  1000.0  2.0  20.0  35.0\n",
       "1  20.0        2.0  2000.0  2.0  20.0  42.0"
      ]
     },
     "execution_count": 23,
     "metadata": {},
     "output_type": "execute_result"
    }
   ],
   "source": [
    "df = pd.read_stata(path + 'i_portad.dta')\n",
    "df.head(2)"
   ]
  },
  {
   "cell_type": "code",
   "execution_count": 24,
   "id": "super-karma",
   "metadata": {},
   "outputs": [],
   "source": [
    "dfs = []\n",
    "for file in files:\n",
    "    df = pd.read_stata(path + 'i_portad.dta')\n",
    "    df['file_name'] = file\n",
    "    dfs.append(df)"
   ]
  },
  {
   "cell_type": "code",
   "execution_count": 25,
   "id": "supported-tracy",
   "metadata": {},
   "outputs": [
    {
     "data": {
      "text/html": [
       "<div>\n",
       "<style scoped>\n",
       "    .dataframe tbody tr th:only-of-type {\n",
       "        vertical-align: middle;\n",
       "    }\n",
       "\n",
       "    .dataframe tbody tr th {\n",
       "        vertical-align: top;\n",
       "    }\n",
       "\n",
       "    .dataframe thead th {\n",
       "        text-align: right;\n",
       "    }\n",
       "</style>\n",
       "<table border=\"1\" class=\"dataframe\">\n",
       "  <thead>\n",
       "    <tr style=\"text-align: right;\">\n",
       "      <th></th>\n",
       "      <th>ent</th>\n",
       "      <th>catorcena</th>\n",
       "      <th>folio</th>\n",
       "      <th>ls</th>\n",
       "      <th>rel</th>\n",
       "      <th>edad</th>\n",
       "      <th>file_name</th>\n",
       "    </tr>\n",
       "  </thead>\n",
       "  <tbody>\n",
       "    <tr>\n",
       "      <th>0</th>\n",
       "      <td>20.0</td>\n",
       "      <td>2.0</td>\n",
       "      <td>1000.0</td>\n",
       "      <td>2.0</td>\n",
       "      <td>20.0</td>\n",
       "      <td>35.0</td>\n",
       "      <td>i_portad.dta</td>\n",
       "    </tr>\n",
       "    <tr>\n",
       "      <th>1</th>\n",
       "      <td>20.0</td>\n",
       "      <td>2.0</td>\n",
       "      <td>2000.0</td>\n",
       "      <td>2.0</td>\n",
       "      <td>20.0</td>\n",
       "      <td>42.0</td>\n",
       "      <td>i_portad.dta</td>\n",
       "    </tr>\n",
       "  </tbody>\n",
       "</table>\n",
       "</div>"
      ],
      "text/plain": [
       "    ent  catorcena   folio   ls   rel  edad     file_name\n",
       "0  20.0        2.0  1000.0  2.0  20.0  35.0  i_portad.dta\n",
       "1  20.0        2.0  2000.0  2.0  20.0  42.0  i_portad.dta"
      ]
     },
     "execution_count": 25,
     "metadata": {},
     "output_type": "execute_result"
    }
   ],
   "source": [
    "df = pd.concat(dfs, axis=0)\n",
    "df.head(2)"
   ]
  },
  {
   "cell_type": "code",
   "execution_count": 26,
   "id": "brief-rider",
   "metadata": {},
   "outputs": [
    {
     "data": {
      "text/plain": [
       "array(['i_portad.dta', 'i_cs1.dta', 'i_conpor.dta', 'i_cs.dta',\n",
       "       'i_ne.dta'], dtype=object)"
      ]
     },
     "execution_count": 26,
     "metadata": {},
     "output_type": "execute_result"
    }
   ],
   "source": [
    "df.file_name.unique()"
   ]
  },
  {
   "cell_type": "markdown",
   "id": "played-thermal",
   "metadata": {},
   "source": [
    "# 5. Methods not covered\n",
    "## 5.1 JSON\n",
    "\n",
    "## 5.2 XML"
   ]
  },
  {
   "cell_type": "code",
   "execution_count": null,
   "id": "written-chemical",
   "metadata": {},
   "outputs": [],
   "source": []
  }
 ],
 "metadata": {
  "kernelspec": {
   "display_name": "Python 3",
   "language": "python",
   "name": "python3"
  },
  "language_info": {
   "codemirror_mode": {
    "name": "ipython",
    "version": 3
   },
   "file_extension": ".py",
   "mimetype": "text/x-python",
   "name": "python",
   "nbconvert_exporter": "python",
   "pygments_lexer": "ipython3",
   "version": "3.8.5"
  }
 },
 "nbformat": 4,
 "nbformat_minor": 5
}

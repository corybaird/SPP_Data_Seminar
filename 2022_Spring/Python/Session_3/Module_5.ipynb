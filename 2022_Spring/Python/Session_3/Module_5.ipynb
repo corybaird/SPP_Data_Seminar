{
 "cells": [
  {
   "cell_type": "markdown",
   "metadata": {},
   "source": [
    "# Session 3-- Functions & downloading\n",
    "\n",
    "# Module 5-- Functions\n",
    "\n",
    "\n",
    "- Module 5: Functions\n",
    "    - Notes (Current page)\n",
    "    - Video\n",
    "\n",
    "- Module 6: Downloading\n",
    "    - Notes\n",
    "    - Video"
   ]
  },
  {
   "cell_type": "markdown",
   "metadata": {},
   "source": [
    "# 1. Functions\n",
    "\n",
    "- Function intro: [link](https://www.datacamp.com/community/tutorials/functions-python-tutorial)"
   ]
  },
  {
   "cell_type": "markdown",
   "metadata": {},
   "source": [
    "## 1.1 Basic function"
   ]
  },
  {
   "cell_type": "code",
   "execution_count": 1,
   "metadata": {},
   "outputs": [],
   "source": [
    "def num_print(a):\n",
    "    return a"
   ]
  },
  {
   "cell_type": "code",
   "execution_count": 2,
   "metadata": {},
   "outputs": [
    {
     "data": {
      "text/plain": [
       "8"
      ]
     },
     "execution_count": 2,
     "metadata": {},
     "output_type": "execute_result"
    }
   ],
   "source": [
    "num_print(8)"
   ]
  },
  {
   "cell_type": "markdown",
   "metadata": {},
   "source": [
    "## 1.2 Multiple arguments"
   ]
  },
  {
   "cell_type": "code",
   "execution_count": 3,
   "metadata": {},
   "outputs": [],
   "source": [
    "def add_func(a,b,c):\n",
    "    print('This function adds')\n",
    "    final = a+b+c\n",
    "    return final"
   ]
  },
  {
   "cell_type": "code",
   "execution_count": 4,
   "metadata": {},
   "outputs": [
    {
     "name": "stdout",
     "output_type": "stream",
     "text": [
      "This function adds\n"
     ]
    },
    {
     "data": {
      "text/plain": [
       "40"
      ]
     },
     "execution_count": 4,
     "metadata": {},
     "output_type": "execute_result"
    }
   ],
   "source": [
    "add_func(10,20,10)"
   ]
  },
  {
   "cell_type": "code",
   "execution_count": 5,
   "metadata": {},
   "outputs": [],
   "source": [
    "def add_func(x,y,z):\n",
    "    final = x+y+z\n",
    "    return final"
   ]
  },
  {
   "cell_type": "code",
   "execution_count": 6,
   "metadata": {},
   "outputs": [
    {
     "data": {
      "text/plain": [
       "40"
      ]
     },
     "execution_count": 6,
     "metadata": {},
     "output_type": "execute_result"
    }
   ],
   "source": [
    "save = add_func(10,20,10)\n",
    "save"
   ]
  },
  {
   "cell_type": "markdown",
   "metadata": {},
   "source": [
    "## 1.3 Applied functions"
   ]
  },
  {
   "cell_type": "markdown",
   "metadata": {},
   "source": [
    "### 1.3.A Import data"
   ]
  },
  {
   "cell_type": "code",
   "execution_count": 7,
   "metadata": {},
   "outputs": [
    {
     "data": {
      "text/html": [
       "<div>\n",
       "<style scoped>\n",
       "    .dataframe tbody tr th:only-of-type {\n",
       "        vertical-align: middle;\n",
       "    }\n",
       "\n",
       "    .dataframe tbody tr th {\n",
       "        vertical-align: top;\n",
       "    }\n",
       "\n",
       "    .dataframe thead th {\n",
       "        text-align: right;\n",
       "    }\n",
       "</style>\n",
       "<table border=\"1\" class=\"dataframe\">\n",
       "  <thead>\n",
       "    <tr style=\"text-align: right;\">\n",
       "      <th></th>\n",
       "      <th>year</th>\n",
       "      <th>country</th>\n",
       "      <th>iso</th>\n",
       "      <th>ifs</th>\n",
       "      <th>pop</th>\n",
       "      <th>rgdpmad</th>\n",
       "      <th>rgdppc</th>\n",
       "      <th>rconpc</th>\n",
       "      <th>gdp</th>\n",
       "      <th>iy</th>\n",
       "      <th>...</th>\n",
       "      <th>eq_capgain</th>\n",
       "      <th>eq_dp</th>\n",
       "      <th>eq_capgain_interp</th>\n",
       "      <th>eq_tr_interp</th>\n",
       "      <th>eq_dp_interp</th>\n",
       "      <th>bond_rate</th>\n",
       "      <th>eq_div_rtn</th>\n",
       "      <th>capital_tr</th>\n",
       "      <th>risky_tr</th>\n",
       "      <th>safe_tr</th>\n",
       "    </tr>\n",
       "  </thead>\n",
       "  <tbody>\n",
       "    <tr>\n",
       "      <th>0</th>\n",
       "      <td>1870</td>\n",
       "      <td>Australia</td>\n",
       "      <td>AUS</td>\n",
       "      <td>193</td>\n",
       "      <td>1775.0</td>\n",
       "      <td>3273.239437</td>\n",
       "      <td>13.836157</td>\n",
       "      <td>21.449734</td>\n",
       "      <td>208.78</td>\n",
       "      <td>0.109266</td>\n",
       "      <td>...</td>\n",
       "      <td>-0.070045</td>\n",
       "      <td>0.071417</td>\n",
       "      <td>NaN</td>\n",
       "      <td>NaN</td>\n",
       "      <td>NaN</td>\n",
       "      <td>0.049118</td>\n",
       "      <td>0.066415</td>\n",
       "      <td>NaN</td>\n",
       "      <td>NaN</td>\n",
       "      <td>NaN</td>\n",
       "    </tr>\n",
       "    <tr>\n",
       "      <th>1</th>\n",
       "      <td>1871</td>\n",
       "      <td>Australia</td>\n",
       "      <td>AUS</td>\n",
       "      <td>193</td>\n",
       "      <td>1675.0</td>\n",
       "      <td>3298.507463</td>\n",
       "      <td>13.936864</td>\n",
       "      <td>19.930801</td>\n",
       "      <td>211.56</td>\n",
       "      <td>0.104579</td>\n",
       "      <td>...</td>\n",
       "      <td>0.041654</td>\n",
       "      <td>0.065466</td>\n",
       "      <td>NaN</td>\n",
       "      <td>NaN</td>\n",
       "      <td>NaN</td>\n",
       "      <td>0.048446</td>\n",
       "      <td>0.068193</td>\n",
       "      <td>NaN</td>\n",
       "      <td>NaN</td>\n",
       "      <td>NaN</td>\n",
       "    </tr>\n",
       "  </tbody>\n",
       "</table>\n",
       "<p>2 rows × 57 columns</p>\n",
       "</div>"
      ],
      "text/plain": [
       "   year    country  iso  ifs     pop      rgdpmad     rgdppc     rconpc  \\\n",
       "0  1870  Australia  AUS  193  1775.0  3273.239437  13.836157  21.449734   \n",
       "1  1871  Australia  AUS  193  1675.0  3298.507463  13.936864  19.930801   \n",
       "\n",
       "      gdp        iy  ...  eq_capgain     eq_dp  eq_capgain_interp  \\\n",
       "0  208.78  0.109266  ...   -0.070045  0.071417                NaN   \n",
       "1  211.56  0.104579  ...    0.041654  0.065466                NaN   \n",
       "\n",
       "   eq_tr_interp  eq_dp_interp  bond_rate  eq_div_rtn  capital_tr  risky_tr  \\\n",
       "0           NaN           NaN   0.049118    0.066415         NaN       NaN   \n",
       "1           NaN           NaN   0.048446    0.068193         NaN       NaN   \n",
       "\n",
       "   safe_tr  \n",
       "0      NaN  \n",
       "1      NaN  \n",
       "\n",
       "[2 rows x 57 columns]"
      ]
     },
     "execution_count": 7,
     "metadata": {},
     "output_type": "execute_result"
    }
   ],
   "source": [
    "import pandas as pd\n",
    "# Import data\n",
    "url = 'https://www.macrohistory.net/app/download/9834512569/JSTdatasetR5.xlsx?t=1641215586'\n",
    "df = pd.read_excel(url, sheet_name=1)\n",
    "df.head(2)"
   ]
  },
  {
   "cell_type": "markdown",
   "metadata": {},
   "source": [
    "### 1.3.1 Subset column\n",
    "<img src=\"Screenshots/subset_col.png\" width=500 length=500 />"
   ]
  },
  {
   "cell_type": "code",
   "execution_count": 8,
   "metadata": {},
   "outputs": [],
   "source": [
    "def sub_col(data_frame, col):\n",
    "    final = data_frame.loc[:, col]\n",
    "    return final"
   ]
  },
  {
   "cell_type": "code",
   "execution_count": 9,
   "metadata": {},
   "outputs": [
    {
     "data": {
      "text/html": [
       "<div>\n",
       "<style scoped>\n",
       "    .dataframe tbody tr th:only-of-type {\n",
       "        vertical-align: middle;\n",
       "    }\n",
       "\n",
       "    .dataframe tbody tr th {\n",
       "        vertical-align: top;\n",
       "    }\n",
       "\n",
       "    .dataframe thead th {\n",
       "        text-align: right;\n",
       "    }\n",
       "</style>\n",
       "<table border=\"1\" class=\"dataframe\">\n",
       "  <thead>\n",
       "    <tr style=\"text-align: right;\">\n",
       "      <th></th>\n",
       "      <th>country</th>\n",
       "      <th>pop</th>\n",
       "    </tr>\n",
       "  </thead>\n",
       "  <tbody>\n",
       "    <tr>\n",
       "      <th>0</th>\n",
       "      <td>Australia</td>\n",
       "      <td>1775.0</td>\n",
       "    </tr>\n",
       "    <tr>\n",
       "      <th>1</th>\n",
       "      <td>Australia</td>\n",
       "      <td>1675.0</td>\n",
       "    </tr>\n",
       "  </tbody>\n",
       "</table>\n",
       "</div>"
      ],
      "text/plain": [
       "     country     pop\n",
       "0  Australia  1775.0\n",
       "1  Australia  1675.0"
      ]
     },
     "execution_count": 9,
     "metadata": {},
     "output_type": "execute_result"
    }
   ],
   "source": [
    "df_sub = sub_col(df, ['country','pop'])\n",
    "df_sub.head(2)"
   ]
  },
  {
   "cell_type": "markdown",
   "metadata": {},
   "source": [
    "### 1.3.2 Subset row\n",
    "\n",
    "<img src=\"Screenshots/subset_row.svg\" width=500 length=500 />\n"
   ]
  },
  {
   "cell_type": "code",
   "execution_count": 10,
   "metadata": {},
   "outputs": [
    {
     "data": {
      "text/plain": [
       "array(['Australia', 'Belgium', 'Canada', 'Switzerland', 'Germany',\n",
       "       'Denmark', 'Spain', 'Finland', 'France', 'UK', 'Ireland', 'Italy',\n",
       "       'Japan', 'Netherlands', 'Norway', 'Portugal', 'Sweden', 'USA'],\n",
       "      dtype=object)"
      ]
     },
     "execution_count": 10,
     "metadata": {},
     "output_type": "execute_result"
    }
   ],
   "source": [
    "df.country.unique()"
   ]
  },
  {
   "cell_type": "code",
   "execution_count": 11,
   "metadata": {},
   "outputs": [],
   "source": [
    "def sub_country(data_frame, country):\n",
    "    mask = data_frame['country'] == country\n",
    "    res = df.loc[mask, ['country','year','pop']]\n",
    "    return res"
   ]
  },
  {
   "cell_type": "code",
   "execution_count": 12,
   "metadata": {},
   "outputs": [
    {
     "data": {
      "text/html": [
       "<div>\n",
       "<style scoped>\n",
       "    .dataframe tbody tr th:only-of-type {\n",
       "        vertical-align: middle;\n",
       "    }\n",
       "\n",
       "    .dataframe tbody tr th {\n",
       "        vertical-align: top;\n",
       "    }\n",
       "\n",
       "    .dataframe thead th {\n",
       "        text-align: right;\n",
       "    }\n",
       "</style>\n",
       "<table border=\"1\" class=\"dataframe\">\n",
       "  <thead>\n",
       "    <tr style=\"text-align: right;\">\n",
       "      <th></th>\n",
       "      <th>country</th>\n",
       "      <th>year</th>\n",
       "      <th>pop</th>\n",
       "    </tr>\n",
       "  </thead>\n",
       "  <tbody>\n",
       "    <tr>\n",
       "      <th>148</th>\n",
       "      <td>Belgium</td>\n",
       "      <td>1870</td>\n",
       "      <td>5096.0</td>\n",
       "    </tr>\n",
       "    <tr>\n",
       "      <th>149</th>\n",
       "      <td>Belgium</td>\n",
       "      <td>1871</td>\n",
       "      <td>5137.0</td>\n",
       "    </tr>\n",
       "  </tbody>\n",
       "</table>\n",
       "</div>"
      ],
      "text/plain": [
       "     country  year     pop\n",
       "148  Belgium  1870  5096.0\n",
       "149  Belgium  1871  5137.0"
      ]
     },
     "execution_count": 12,
     "metadata": {},
     "output_type": "execute_result"
    }
   ],
   "source": [
    "df_bel = sub_country(df, 'Belgium')\n",
    "df_bel.head(2)"
   ]
  },
  {
   "cell_type": "markdown",
   "metadata": {},
   "source": [
    "## 1.4 Subset data and pivot table"
   ]
  },
  {
   "cell_type": "code",
   "execution_count": 13,
   "metadata": {},
   "outputs": [],
   "source": [
    "def sub_pivot(data, countries):\n",
    "    country_list = countries\n",
    "    mask = data.country.isin(country_list) \n",
    "    res = data.loc[mask, ['country','pop','year']]\n",
    "    res = res.pivot_table(columns='country',index='year', values='pop')\n",
    "    return res"
   ]
  },
  {
   "cell_type": "code",
   "execution_count": 14,
   "metadata": {},
   "outputs": [
    {
     "data": {
      "text/html": [
       "<div>\n",
       "<style scoped>\n",
       "    .dataframe tbody tr th:only-of-type {\n",
       "        vertical-align: middle;\n",
       "    }\n",
       "\n",
       "    .dataframe tbody tr th {\n",
       "        vertical-align: top;\n",
       "    }\n",
       "\n",
       "    .dataframe thead th {\n",
       "        text-align: right;\n",
       "    }\n",
       "</style>\n",
       "<table border=\"1\" class=\"dataframe\">\n",
       "  <thead>\n",
       "    <tr style=\"text-align: right;\">\n",
       "      <th>country</th>\n",
       "      <th>Belgium</th>\n",
       "      <th>France</th>\n",
       "    </tr>\n",
       "    <tr>\n",
       "      <th>year</th>\n",
       "      <th></th>\n",
       "      <th></th>\n",
       "    </tr>\n",
       "  </thead>\n",
       "  <tbody>\n",
       "    <tr>\n",
       "      <th>1870</th>\n",
       "      <td>5096.0</td>\n",
       "      <td>38440.0</td>\n",
       "    </tr>\n",
       "    <tr>\n",
       "      <th>1871</th>\n",
       "      <td>5137.0</td>\n",
       "      <td>37731.0</td>\n",
       "    </tr>\n",
       "  </tbody>\n",
       "</table>\n",
       "</div>"
      ],
      "text/plain": [
       "country  Belgium   France\n",
       "year                     \n",
       "1870      5096.0  38440.0\n",
       "1871      5137.0  37731.0"
      ]
     },
     "execution_count": 14,
     "metadata": {},
     "output_type": "execute_result"
    }
   ],
   "source": [
    "sub_pivot(df, ['Belgium','France']).head(2)"
   ]
  },
  {
   "cell_type": "markdown",
   "metadata": {},
   "source": [
    "## 1.5 Show basic info"
   ]
  },
  {
   "cell_type": "code",
   "execution_count": 15,
   "metadata": {},
   "outputs": [],
   "source": [
    "def basics(data):\n",
    "    print('Head')\n",
    "    print(data.head(2))\n",
    "    print('')\n",
    "    print('Tail')\n",
    "    print(data.tail(2))\n",
    "    print('')\n",
    "    print('Columns')\n",
    "    print(data.columns[:3])\n",
    "    print('')\n",
    "    print('Info')\n",
    "    print(data.info())"
   ]
  },
  {
   "cell_type": "code",
   "execution_count": 16,
   "metadata": {},
   "outputs": [
    {
     "name": "stdout",
     "output_type": "stream",
     "text": [
      "Head\n",
      "     country     pop\n",
      "0  Australia  1775.0\n",
      "1  Australia  1675.0\n",
      "\n",
      "Tail\n",
      "     country            pop\n",
      "2662     USA  322705.239927\n",
      "2663     USA  324802.861426\n",
      "\n",
      "Columns\n",
      "Index(['country', 'pop'], dtype='object')\n",
      "\n",
      "Info\n",
      "<class 'pandas.core.frame.DataFrame'>\n",
      "RangeIndex: 2664 entries, 0 to 2663\n",
      "Data columns (total 2 columns):\n",
      " #   Column   Non-Null Count  Dtype  \n",
      "---  ------   --------------  -----  \n",
      " 0   country  2664 non-null   object \n",
      " 1   pop      2613 non-null   float64\n",
      "dtypes: float64(1), object(1)\n",
      "memory usage: 41.8+ KB\n",
      "None\n"
     ]
    }
   ],
   "source": [
    "basics(df_sub)"
   ]
  },
  {
   "cell_type": "markdown",
   "metadata": {},
   "source": [
    "## 1.6 Groupby and plot"
   ]
  },
  {
   "cell_type": "code",
   "execution_count": 17,
   "metadata": {},
   "outputs": [
    {
     "data": {
      "text/html": [
       "<div>\n",
       "<style scoped>\n",
       "    .dataframe tbody tr th:only-of-type {\n",
       "        vertical-align: middle;\n",
       "    }\n",
       "\n",
       "    .dataframe tbody tr th {\n",
       "        vertical-align: top;\n",
       "    }\n",
       "\n",
       "    .dataframe thead th {\n",
       "        text-align: right;\n",
       "    }\n",
       "</style>\n",
       "<table border=\"1\" class=\"dataframe\">\n",
       "  <thead>\n",
       "    <tr style=\"text-align: right;\">\n",
       "      <th></th>\n",
       "      <th>year</th>\n",
       "      <th>country</th>\n",
       "      <th>iso</th>\n",
       "      <th>ifs</th>\n",
       "      <th>pop</th>\n",
       "      <th>rgdpmad</th>\n",
       "      <th>rgdppc</th>\n",
       "      <th>rconpc</th>\n",
       "      <th>gdp</th>\n",
       "      <th>iy</th>\n",
       "      <th>...</th>\n",
       "      <th>eq_capgain</th>\n",
       "      <th>eq_dp</th>\n",
       "      <th>eq_capgain_interp</th>\n",
       "      <th>eq_tr_interp</th>\n",
       "      <th>eq_dp_interp</th>\n",
       "      <th>bond_rate</th>\n",
       "      <th>eq_div_rtn</th>\n",
       "      <th>capital_tr</th>\n",
       "      <th>risky_tr</th>\n",
       "      <th>safe_tr</th>\n",
       "    </tr>\n",
       "  </thead>\n",
       "  <tbody>\n",
       "    <tr>\n",
       "      <th>0</th>\n",
       "      <td>1870</td>\n",
       "      <td>Australia</td>\n",
       "      <td>AUS</td>\n",
       "      <td>193</td>\n",
       "      <td>1775.0</td>\n",
       "      <td>3273.239437</td>\n",
       "      <td>13.836157</td>\n",
       "      <td>21.449734</td>\n",
       "      <td>208.78</td>\n",
       "      <td>0.109266</td>\n",
       "      <td>...</td>\n",
       "      <td>-0.070045</td>\n",
       "      <td>0.071417</td>\n",
       "      <td>NaN</td>\n",
       "      <td>NaN</td>\n",
       "      <td>NaN</td>\n",
       "      <td>0.049118</td>\n",
       "      <td>0.066415</td>\n",
       "      <td>NaN</td>\n",
       "      <td>NaN</td>\n",
       "      <td>NaN</td>\n",
       "    </tr>\n",
       "    <tr>\n",
       "      <th>1</th>\n",
       "      <td>1871</td>\n",
       "      <td>Australia</td>\n",
       "      <td>AUS</td>\n",
       "      <td>193</td>\n",
       "      <td>1675.0</td>\n",
       "      <td>3298.507463</td>\n",
       "      <td>13.936864</td>\n",
       "      <td>19.930801</td>\n",
       "      <td>211.56</td>\n",
       "      <td>0.104579</td>\n",
       "      <td>...</td>\n",
       "      <td>0.041654</td>\n",
       "      <td>0.065466</td>\n",
       "      <td>NaN</td>\n",
       "      <td>NaN</td>\n",
       "      <td>NaN</td>\n",
       "      <td>0.048446</td>\n",
       "      <td>0.068193</td>\n",
       "      <td>NaN</td>\n",
       "      <td>NaN</td>\n",
       "      <td>NaN</td>\n",
       "    </tr>\n",
       "  </tbody>\n",
       "</table>\n",
       "<p>2 rows × 57 columns</p>\n",
       "</div>"
      ],
      "text/plain": [
       "   year    country  iso  ifs     pop      rgdpmad     rgdppc     rconpc  \\\n",
       "0  1870  Australia  AUS  193  1775.0  3273.239437  13.836157  21.449734   \n",
       "1  1871  Australia  AUS  193  1675.0  3298.507463  13.936864  19.930801   \n",
       "\n",
       "      gdp        iy  ...  eq_capgain     eq_dp  eq_capgain_interp  \\\n",
       "0  208.78  0.109266  ...   -0.070045  0.071417                NaN   \n",
       "1  211.56  0.104579  ...    0.041654  0.065466                NaN   \n",
       "\n",
       "   eq_tr_interp  eq_dp_interp  bond_rate  eq_div_rtn  capital_tr  risky_tr  \\\n",
       "0           NaN           NaN   0.049118    0.066415         NaN       NaN   \n",
       "1           NaN           NaN   0.048446    0.068193         NaN       NaN   \n",
       "\n",
       "   safe_tr  \n",
       "0      NaN  \n",
       "1      NaN  \n",
       "\n",
       "[2 rows x 57 columns]"
      ]
     },
     "execution_count": 17,
     "metadata": {},
     "output_type": "execute_result"
    }
   ],
   "source": [
    "df.head(2)"
   ]
  },
  {
   "cell_type": "code",
   "execution_count": 18,
   "metadata": {},
   "outputs": [],
   "source": [
    "def groupby_year(d, column_name, plot=False):\n",
    "    res = d.groupby('year')[column_name].sum()\n",
    "    if plot==True:\n",
    "        res.plot()\n",
    "    else:\n",
    "        return res"
   ]
  },
  {
   "cell_type": "code",
   "execution_count": 19,
   "metadata": {},
   "outputs": [
    {
     "data": {
      "image/png": "[encoded data removed]",
      "text/plain": [
       "<Figure size 432x288 with 1 Axes>"
      ]
     },
     "metadata": {
      "needs_background": "light"
     },
     "output_type": "display_data"
    }
   ],
   "source": [
    "groupby_year(df, 'pop', True)"
   ]
  },
  {
   "cell_type": "markdown",
   "metadata": {},
   "source": [
    "# 2. For loops"
   ]
  },
  {
   "cell_type": "markdown",
   "metadata": {},
   "source": [
    "## 2.1 For loop with list"
   ]
  },
  {
   "cell_type": "code",
   "execution_count": 20,
   "metadata": {},
   "outputs": [
    {
     "name": "stdout",
     "output_type": "stream",
     "text": [
      "France\n",
      "Italy\n"
     ]
    }
   ],
   "source": [
    "for country in ['France', 'Italy']:\n",
    "    print(country)"
   ]
  },
  {
   "cell_type": "code",
   "execution_count": 21,
   "metadata": {},
   "outputs": [
    {
     "name": "stdout",
     "output_type": "stream",
     "text": [
      "France_up\n",
      "Italy_up\n"
     ]
    }
   ],
   "source": [
    "for country in ['France', 'Italy']:\n",
    "    print(country + '_up')"
   ]
  },
  {
   "cell_type": "code",
   "execution_count": 22,
   "metadata": {},
   "outputs": [
    {
     "name": "stdout",
     "output_type": "stream",
     "text": [
      "Australia\n",
      "Belgium\n",
      "Canada\n",
      "Switzerland\n"
     ]
    }
   ],
   "source": [
    "country_list = df.country.unique()[:4]\n",
    "for c in country_list:\n",
    "    print(c)"
   ]
  },
  {
   "cell_type": "markdown",
   "metadata": {},
   "source": [
    "## 2.2 Apply to pandas"
   ]
  },
  {
   "cell_type": "code",
   "execution_count": 23,
   "metadata": {},
   "outputs": [
    {
     "name": "stdout",
     "output_type": "stream",
     "text": [
      "       country      pop\n",
      "130  Australia  19053.0\n",
      "\n",
      "     country      pop\n",
      "278  Belgium  10263.0\n",
      "\n",
      "    country      pop\n",
      "426  Canada  31100.0\n",
      "\n",
      "         country      pop\n",
      "574  Switzerland  7266.92\n",
      "\n"
     ]
    }
   ],
   "source": [
    "for country_name in country_list:\n",
    "    mask = (df.country == country_name) & (df.year == 2000)\n",
    "    res = df.loc[mask, ['country','pop']]\n",
    "    print(res)\n",
    "    print('')"
   ]
  },
  {
   "cell_type": "markdown",
   "metadata": {},
   "source": [
    "## 2.3 Plot"
   ]
  },
  {
   "cell_type": "code",
   "execution_count": 24,
   "metadata": {},
   "outputs": [],
   "source": [
    "import matplotlib.pyplot as plt"
   ]
  },
  {
   "cell_type": "code",
   "execution_count": 25,
   "metadata": {},
   "outputs": [
    {
     "data": {
      "image/png": "[encoded data removed]",
      "text/plain": [
       "<Figure size 432x288 with 1 Axes>"
      ]
     },
     "metadata": {
      "needs_background": "light"
     },
     "output_type": "display_data"
    },
    {
     "data": {
      "image/png": "[encoded data removed]",
      "text/plain": [
       "<Figure size 432x288 with 1 Axes>"
      ]
     },
     "metadata": {
      "needs_background": "light"
     },
     "output_type": "display_data"
    },
    {
     "data": {
      "image/png": "[encoded data removed]",
      "text/plain": [
       "<Figure size 432x288 with 1 Axes>"
      ]
     },
     "metadata": {
      "needs_background": "light"
     },
     "output_type": "display_data"
    },
    {
     "data": {
      "image/png": "[encoded data removed]",
      "text/plain": [
       "<Figure size 432x288 with 1 Axes>"
      ]
     },
     "metadata": {
      "needs_background": "light"
     },
     "output_type": "display_data"
    }
   ],
   "source": [
    "for country_name in country_list:\n",
    "    mask = (df.country == country_name) \n",
    "    res = df.loc[mask, ['country','year','pop']]\n",
    "    res = res.set_index('year')\n",
    "    res.plot()\n",
    "    plt.title(country_name)"
   ]
  },
  {
   "cell_type": "markdown",
   "metadata": {},
   "source": [
    "## 2.4 For loop with dictionary"
   ]
  },
  {
   "cell_type": "code",
   "execution_count": 26,
   "metadata": {},
   "outputs": [],
   "source": [
    "country_dict = {'Australia':'English', \n",
    " 'Belgium' : 'French', \n",
    " 'Canada':'English', \n",
    " 'Switzerland' : 'Italian'}"
   ]
  },
  {
   "cell_type": "code",
   "execution_count": 27,
   "metadata": {},
   "outputs": [
    {
     "name": "stdout",
     "output_type": "stream",
     "text": [
      "Australia English\n",
      "Belgium French\n",
      "Canada English\n",
      "Switzerland Italian\n"
     ]
    }
   ],
   "source": [
    "for country, lan in country_dict.items():\n",
    "    print(country, lan)"
   ]
  },
  {
   "cell_type": "code",
   "execution_count": 28,
   "metadata": {},
   "outputs": [
    {
     "data": {
      "image/png": "[encoded data removed]",
      "text/plain": [
       "<Figure size 432x288 with 1 Axes>"
      ]
     },
     "metadata": {
      "needs_background": "light"
     },
     "output_type": "display_data"
    },
    {
     "data": {
      "image/png": "[encoded data removed]",
      "text/plain": [
       "<Figure size 432x288 with 1 Axes>"
      ]
     },
     "metadata": {
      "needs_background": "light"
     },
     "output_type": "display_data"
    },
    {
     "data": {
      "image/png": "[encoded data removed]",
      "text/plain": [
       "<Figure size 432x288 with 1 Axes>"
      ]
     },
     "metadata": {
      "needs_background": "light"
     },
     "output_type": "display_data"
    },
    {
     "data": {
      "image/png": "[encoded data removed]",
      "text/plain": [
       "<Figure size 432x288 with 1 Axes>"
      ]
     },
     "metadata": {
      "needs_background": "light"
     },
     "output_type": "display_data"
    }
   ],
   "source": [
    "for country, lan in country_dict.items():\n",
    "    mask = (df.country == country) \n",
    "    res = df.loc[mask, ['country','year','pop']]\n",
    "    res = res.set_index('year')\n",
    "    res.plot()\n",
    "    plt.title(country + ':' + lan)"
   ]
  },
  {
   "cell_type": "markdown",
   "metadata": {},
   "source": [
    "## 2.5 For loop with local files"
   ]
  },
  {
   "cell_type": "code",
   "execution_count": 29,
   "metadata": {},
   "outputs": [
    {
     "data": {
      "text/plain": [
       "['Detroit_Metro_Area.xlsx',\n",
       " '.DS_Store',\n",
       " 'CA.xlsx',\n",
       " 'Boston_Metro_Area.xlsx',\n",
       " 'Folders']"
      ]
     },
     "execution_count": 29,
     "metadata": {},
     "output_type": "execute_result"
    }
   ],
   "source": [
    "import os\n",
    "os.listdir('Input/')"
   ]
  },
  {
   "cell_type": "code",
   "execution_count": 30,
   "metadata": {},
   "outputs": [],
   "source": [
    "files = ['Detroit_Metro_Area.xlsx',\n",
    "         'CA.xlsx', \n",
    "         'Boston_Metro_Area.xlsx',]"
   ]
  },
  {
   "cell_type": "code",
   "execution_count": 31,
   "metadata": {},
   "outputs": [
    {
     "data": {
      "text/html": [
       "<div>\n",
       "<style scoped>\n",
       "    .dataframe tbody tr th:only-of-type {\n",
       "        vertical-align: middle;\n",
       "    }\n",
       "\n",
       "    .dataframe tbody tr th {\n",
       "        vertical-align: top;\n",
       "    }\n",
       "\n",
       "    .dataframe thead th {\n",
       "        text-align: right;\n",
       "    }\n",
       "</style>\n",
       "<table border=\"1\" class=\"dataframe\">\n",
       "  <thead>\n",
       "    <tr style=\"text-align: right;\">\n",
       "      <th></th>\n",
       "      <th>Select characteristics</th>\n",
       "      <th>Total</th>\n",
       "      <th>Occupied without rent</th>\n",
       "      <th>Last month’s payment status</th>\n",
       "      <th>Unnamed: 4</th>\n",
       "      <th>Unnamed: 5</th>\n",
       "      <th>Unnamed: 6</th>\n",
       "      <th>Did not report to tenure</th>\n",
       "      <th>NEW_column</th>\n",
       "    </tr>\n",
       "  </thead>\n",
       "  <tbody>\n",
       "    <tr>\n",
       "      <th>0</th>\n",
       "      <td>NaN</td>\n",
       "      <td>Unnamed: 1_level_1</td>\n",
       "      <td>Unnamed: 2_level_1</td>\n",
       "      <td>Yes</td>\n",
       "      <td>No</td>\n",
       "      <td>Rent was deferred</td>\n",
       "      <td>Did not report</td>\n",
       "      <td>Unnamed: 7_level_1</td>\n",
       "      <td>Detroit_Metro_Area.xlsx</td>\n",
       "    </tr>\n",
       "    <tr>\n",
       "      <th>1</th>\n",
       "      <td>NaN</td>\n",
       "      <td>NaN</td>\n",
       "      <td>NaN</td>\n",
       "      <td>NaN</td>\n",
       "      <td>NaN</td>\n",
       "      <td>NaN</td>\n",
       "      <td>NaN</td>\n",
       "      <td>NaN</td>\n",
       "      <td>Detroit_Metro_Area.xlsx</td>\n",
       "    </tr>\n",
       "  </tbody>\n",
       "</table>\n",
       "</div>"
      ],
      "text/plain": [
       "  Select characteristics               Total Occupied without rent  \\\n",
       "0                    NaN  Unnamed: 1_level_1    Unnamed: 2_level_1   \n",
       "1                    NaN                 NaN                   NaN   \n",
       "\n",
       "  Last month’s payment status Unnamed: 4         Unnamed: 5      Unnamed: 6  \\\n",
       "0                         Yes         No  Rent was deferred  Did not report   \n",
       "1                         NaN        NaN                NaN             NaN   \n",
       "\n",
       "  Did not report to tenure               NEW_column  \n",
       "0       Unnamed: 7_level_1  Detroit_Metro_Area.xlsx  \n",
       "1                      NaN  Detroit_Metro_Area.xlsx  "
      ]
     },
     "execution_count": 31,
     "metadata": {},
     "output_type": "execute_result"
    }
   ],
   "source": [
    "dfs = []\n",
    "for file in files:\n",
    "    file_name = 'Input/' + file \n",
    "    data = pd.read_excel(file_name)\n",
    "    data['NEW_column'] = file\n",
    "    dfs.append(data)\n",
    "df_final = pd.concat(dfs, axis=0)\n",
    "df_final.head(2)"
   ]
  },
  {
   "cell_type": "markdown",
   "metadata": {},
   "source": [
    "# 3. If -- else"
   ]
  },
  {
   "cell_type": "markdown",
   "metadata": {},
   "source": [
    "## 3.A Basic"
   ]
  },
  {
   "cell_type": "code",
   "execution_count": 32,
   "metadata": {},
   "outputs": [
    {
     "name": "stdout",
     "output_type": "stream",
     "text": [
      "X is small\n"
     ]
    }
   ],
   "source": [
    "x = 3\n",
    "if x>4:\n",
    "    print('X is big')\n",
    "else:\n",
    "    print('X is small')"
   ]
  },
  {
   "cell_type": "markdown",
   "metadata": {},
   "source": [
    "## 3.1 Use with function"
   ]
  },
  {
   "cell_type": "code",
   "execution_count": 33,
   "metadata": {},
   "outputs": [],
   "source": [
    "def num_check(number):\n",
    "    if number>100:\n",
    "        print('This number is big')\n",
    "    if number<1:\n",
    "        print('This number is too small to be a real number')"
   ]
  },
  {
   "cell_type": "code",
   "execution_count": 34,
   "metadata": {},
   "outputs": [
    {
     "name": "stdout",
     "output_type": "stream",
     "text": [
      "This number is too small to be a real number\n"
     ]
    }
   ],
   "source": [
    "num_check(.5)"
   ]
  },
  {
   "cell_type": "code",
   "execution_count": 35,
   "metadata": {},
   "outputs": [
    {
     "name": "stdout",
     "output_type": "stream",
     "text": [
      "This number is big\n"
     ]
    }
   ],
   "source": [
    "num_check(200)"
   ]
  },
  {
   "cell_type": "markdown",
   "metadata": {},
   "source": [
    "## 3.2 Use with pandas"
   ]
  },
  {
   "cell_type": "code",
   "execution_count": 36,
   "metadata": {},
   "outputs": [
    {
     "name": "stdout",
     "output_type": "stream",
     "text": [
      "Australia\n",
      "USA\n"
     ]
    }
   ],
   "source": [
    "for country in df.country.unique():\n",
    "    if 'A' in country:\n",
    "        print(country)"
   ]
  },
  {
   "cell_type": "code",
   "execution_count": 37,
   "metadata": {},
   "outputs": [
    {
     "data": {
      "image/png": "[encoded data removed]",
      "text/plain": [
       "<Figure size 432x288 with 1 Axes>"
      ]
     },
     "metadata": {
      "needs_background": "light"
     },
     "output_type": "display_data"
    },
    {
     "data": {
      "image/png": "[encoded data removed]",
      "text/plain": [
       "<Figure size 432x288 with 1 Axes>"
      ]
     },
     "metadata": {
      "needs_background": "light"
     },
     "output_type": "display_data"
    }
   ],
   "source": [
    "for country_name in df.country.unique():\n",
    "    if 'A' in country_name:\n",
    "        mask = (df.country == country_name) \n",
    "        res = df.loc[mask, ['country','year','pop']]\n",
    "        res = res.set_index('year')\n",
    "        res.plot()\n",
    "        plt.title(country_name)"
   ]
  }
 ],
 "metadata": {
  "colab": {
   "collapsed_sections": [],
   "name": "Session_1_Notes.ipynb",
   "provenance": []
  },
  "kernelspec": {
   "display_name": "Python 3",
   "language": "python",
   "name": "python3"
  },
  "language_info": {
   "codemirror_mode": {
    "name": "ipython",
    "version": 3
   },
   "file_extension": ".py",
   "mimetype": "text/x-python",
   "name": "python",
   "nbconvert_exporter": "python",
   "pygments_lexer": "ipython3",
   "version": "3.8.5"
  }
 },
 "nbformat": 4,
 "nbformat_minor": 1
}

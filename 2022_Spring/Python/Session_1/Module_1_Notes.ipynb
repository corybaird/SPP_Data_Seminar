{
 "cells": [
  {
   "cell_type": "markdown",
   "metadata": {},
   "source": [
    "# Session 1-- Introduction to Python\n",
    "\n",
    "# Module 1--The basics of Python\n",
    "\n",
    "\n",
    "- Module 1 covers python basics\n",
    "    - Notes (Current page)\n",
    "    - Video\n",
    "\n",
    "- Module 2 covers downloading\n",
    "    - Notes\n",
    "    - Video\n"
   ]
  },
  {
   "cell_type": "markdown",
   "metadata": {},
   "source": [
    "## I.1 Running Python\n",
    "\n",
    "- Running python code \n",
    "    - Google's Colab software\n",
    "        - My recommendation for those just starting\n",
    "        - Colab can be launched for free from your google drive by clicking on the following button\n",
    "    - Jupyter notebook\n",
    "        - You can download this software as a part of Anaconda\n",
    "        - [Link](https://www.anaconda.com/products/individual)\n",
    "\n",
    "\n",
    "\n",
    "\n",
    "## I.2 Launching a colab notebook\n",
    "<img src=\"Screenshots/colab.png\" />\n"
   ]
  },
  {
   "cell_type": "markdown",
   "metadata": {},
   "source": [
    "## I.3 Colab basics\n",
    "\n",
    "- Run code:\n",
    "    - Press play button next to code line\n",
    "    - Shift + Return\n",
    "        - Short cut for macs\n",
    "        \n",
    "- Reset notebook\n",
    "    - Runtime -> Restart runtime\n",
    "    \n",
    "- Code versus text cells\n",
    "    - You cannot run code in a text cell!"
   ]
  },
  {
   "cell_type": "markdown",
   "metadata": {
    "id": "lZJSocNoccBa"
   },
   "source": [
    "# A. The basics:  Data types"
   ]
  },
  {
   "cell_type": "markdown",
   "metadata": {},
   "source": [
    "## A. Note for R-users\n",
    "\n",
    "- Python is in many ways similiar to R\n",
    "\n",
    "- Comment code: #\n",
    "- Some functions are exactly the same: print()\n",
    "- Saving an object requires you to write a name and set it equal to whatever object you are interested in saving\n",
    "- You must run the code in the correct order\n",
    "- We use libraries!"
   ]
  },
  {
   "cell_type": "code",
   "execution_count": null,
   "metadata": {},
   "outputs": [],
   "source": [
    "# This is a comment\n",
    "print('This is a print function')"
   ]
  },
  {
   "cell_type": "code",
   "execution_count": null,
   "metadata": {},
   "outputs": [],
   "source": [
    "print(saved_object)"
   ]
  },
  {
   "cell_type": "code",
   "execution_count": null,
   "metadata": {},
   "outputs": [],
   "source": [
    "saved_object = 'SPP'"
   ]
  },
  {
   "cell_type": "markdown",
   "metadata": {
    "id": "ZiqC4IL-ktTC"
   },
   "source": [
    "## A.1 Strings\n",
    "\n",
    "- Think of it as a piece data that has quotes\n",
    "- R-users: This is the same as in R!\n"
   ]
  },
  {
   "cell_type": "code",
   "execution_count": 6,
   "metadata": {
    "colab": {
     "base_uri": "https://localhost:8080/",
     "height": 35
    },
    "id": "UAf0XPb-iUM2",
    "outputId": "344dd3b2-5033-45e0-9b97-68657c62cea2"
   },
   "outputs": [
    {
     "name": "stdout",
     "output_type": "stream",
     "text": [
      "Python is cool\n"
     ]
    }
   ],
   "source": [
    "my_str = 'Python is cool'\n",
    "print(my_str)"
   ]
  },
  {
   "cell_type": "markdown",
   "metadata": {},
   "source": [
    "### A.1.1 This function can tell us what type our object is"
   ]
  },
  {
   "cell_type": "code",
   "execution_count": 7,
   "metadata": {
    "colab": {
     "base_uri": "https://localhost:8080/"
    },
    "id": "B3s9suIHk8D2",
    "outputId": "3bc4b241-ca00-4917-a249-ded3b5919727"
   },
   "outputs": [
    {
     "data": {
      "text/plain": [
       "str"
      ]
     },
     "execution_count": 7,
     "metadata": {},
     "output_type": "execute_result"
    }
   ],
   "source": [
    "type(my_str)"
   ]
  },
  {
   "cell_type": "markdown",
   "metadata": {},
   "source": [
    "### A.1.2 Overwriting"
   ]
  },
  {
   "cell_type": "code",
   "execution_count": null,
   "metadata": {},
   "outputs": [],
   "source": [
    "my_str = 'Python is NOT cool'\n",
    "my_str"
   ]
  },
  {
   "cell_type": "markdown",
   "metadata": {},
   "source": [
    "## A.2 Integers/Float"
   ]
  },
  {
   "cell_type": "code",
   "execution_count": 11,
   "metadata": {},
   "outputs": [
    {
     "data": {
      "text/plain": [
       "int"
      ]
     },
     "execution_count": 11,
     "metadata": {},
     "output_type": "execute_result"
    }
   ],
   "source": [
    "my_num = 100\n",
    "type(my_num)"
   ]
  },
  {
   "cell_type": "code",
   "execution_count": 12,
   "metadata": {},
   "outputs": [
    {
     "data": {
      "text/plain": [
       "float"
      ]
     },
     "execution_count": 12,
     "metadata": {},
     "output_type": "execute_result"
    }
   ],
   "source": [
    "my_num = 100.9483859390942949\n",
    "type(my_num)"
   ]
  },
  {
   "cell_type": "markdown",
   "metadata": {
    "id": "q1oDWOVLjx1b"
   },
   "source": [
    "# B. Lists\n",
    "\n",
    "- Lists can be made up of strings or numbers\n",
    "- Spacing is not necessarily important!"
   ]
  },
  {
   "cell_type": "code",
   "execution_count": 19,
   "metadata": {
    "colab": {
     "base_uri": "https://localhost:8080/"
    },
    "id": "7pTxflLyjlrM",
    "outputId": "7f589893-4a78-4f05-8328-ae7ec2c2dd8c"
   },
   "outputs": [
    {
     "data": {
      "text/plain": [
       "['Python', 'R', 'Stata', 'Excel']"
      ]
     },
     "execution_count": 19,
     "metadata": {},
     "output_type": "execute_result"
    }
   ],
   "source": [
    "my_list = ['Python', 'R', 'Stata', 'Excel']\n",
    "\n",
    "my_list"
   ]
  },
  {
   "cell_type": "code",
   "execution_count": 20,
   "metadata": {
    "colab": {
     "base_uri": "https://localhost:8080/"
    },
    "id": "oguFCNv9jqeo",
    "outputId": "3667d2e4-97ad-4c96-b9fc-73d3e6e7dc9a"
   },
   "outputs": [
    {
     "data": {
      "text/plain": [
       "list"
      ]
     },
     "execution_count": 20,
     "metadata": {},
     "output_type": "execute_result"
    }
   ],
   "source": [
    "my_list = [3, \n",
    "           5,\n",
    "           9,\n",
    "           11]\n",
    "type(my_list)"
   ]
  },
  {
   "cell_type": "markdown",
   "metadata": {
    "id": "WJzjgo0Vj-Qm"
   },
   "source": [
    "## B.1 Indexing\n",
    "\n",
    "### B.1.1 Selecting first element\n",
    "#### IMPORTANT: Numbering always begins with zero\n"
   ]
  },
  {
   "cell_type": "code",
   "execution_count": 21,
   "metadata": {
    "colab": {
     "base_uri": "https://localhost:8080/",
     "height": 35
    },
    "id": "Hb4wgtATj0Ye",
    "outputId": "113c3120-9e76-4b4c-956e-dab7c62c1ccb"
   },
   "outputs": [
    {
     "data": {
      "text/plain": [
       "'Python'"
      ]
     },
     "execution_count": 21,
     "metadata": {},
     "output_type": "execute_result"
    }
   ],
   "source": [
    "my_list = ['Python', 'R', 'Stata', 'Excel']\n",
    "\n",
    "my_list[0]"
   ]
  },
  {
   "cell_type": "markdown",
   "metadata": {},
   "source": [
    "### B.1.2 Select range of elements\n",
    "\n",
    "#### IMPORTANT: the final element is NOT INCLUSIVE\n"
   ]
  },
  {
   "cell_type": "code",
   "execution_count": 23,
   "metadata": {},
   "outputs": [
    {
     "data": {
      "text/plain": [
       "['Python', 'R']"
      ]
     },
     "execution_count": 23,
     "metadata": {},
     "output_type": "execute_result"
    }
   ],
   "source": [
    "# This selects the zeroth, and first elements BUT NOT THE 2nd element\n",
    "my_list[0:2]"
   ]
  },
  {
   "cell_type": "markdown",
   "metadata": {},
   "source": [
    "# 1. Introduction to Pandas\n",
    "\n",
    "### For R users: Pandas is similar to DPLYR!\n",
    "\n",
    "In general we use it to:\n",
    "\n",
    "- Manipulate data (Today's topic)\n",
    "- Viusualize our data (graphing etc.)\n",
    "- Download data directly from the internet\n",
    "- Build models (Regression, Machine learning, Neural Networks)"
   ]
  },
  {
   "cell_type": "markdown",
   "metadata": {},
   "source": [
    "## 1.A We must import the library before using!\n",
    "- Again this is similar to R\n",
    "- However unlike R: in order to use the functions (in general) we have to use an acronym to access the functions"
   ]
  },
  {
   "cell_type": "code",
   "execution_count": 26,
   "metadata": {},
   "outputs": [],
   "source": [
    "import pandas as pd"
   ]
  },
  {
   "cell_type": "markdown",
   "metadata": {
    "id": "BihFzDSGccBd"
   },
   "source": [
    "## 1.1 Import data\n",
    "- pd.read_stata\n",
    "- pd.read_csv\n",
    "- pd.read_excel"
   ]
  },
  {
   "cell_type": "code",
   "execution_count": 30,
   "metadata": {},
   "outputs": [],
   "source": [
    "url = 'https://raw.githubusercontent.com/corybaird/SPP_Data_Seminar/main/2021_Fall/R/Session_1/vote.csv'\n",
    "df = pd.read_csv(url)"
   ]
  },
  {
   "cell_type": "code",
   "execution_count": 31,
   "metadata": {
    "colab": {
     "base_uri": "https://localhost:8080/"
    },
    "id": "JE03EB3CoMEn",
    "outputId": "bb2ee45d-52f3-4472-e146-1b01b6f650ad"
   },
   "outputs": [
    {
     "data": {
      "text/plain": [
       "pandas.core.frame.DataFrame"
      ]
     },
     "execution_count": 31,
     "metadata": {},
     "output_type": "execute_result"
    }
   ],
   "source": [
    "type(df)"
   ]
  },
  {
   "cell_type": "markdown",
   "metadata": {
    "id": "fBtP0RfVccBe"
   },
   "source": [
    "#  2. Data basics\n",
    "## 2.1 Show datatype, obs, etc\n"
   ]
  },
  {
   "cell_type": "code",
   "execution_count": 32,
   "metadata": {
    "colab": {
     "base_uri": "https://localhost:8080/"
    },
    "id": "9hfLNbtcccBf",
    "outputId": "a309d011-9061-4898-8d2b-c2c0cc5f07ff"
   },
   "outputs": [
    {
     "name": "stdout",
     "output_type": "stream",
     "text": [
      "<class 'pandas.core.frame.DataFrame'>\n",
      "RangeIndex: 1502 entries, 0 to 1501\n",
      "Data columns (total 6 columns):\n",
      " #   Column     Non-Null Count  Dtype \n",
      "---  ------     --------------  ----- \n",
      " 0   state      1502 non-null   object\n",
      " 1   vote       1502 non-null   int64 \n",
      " 2   income     1502 non-null   int64 \n",
      " 3   education  1502 non-null   int64 \n",
      " 4   age        1502 non-null   int64 \n",
      " 5   sex        1502 non-null   int64 \n",
      "dtypes: int64(5), object(1)\n",
      "memory usage: 70.5+ KB\n"
     ]
    }
   ],
   "source": [
    "df.info()"
   ]
  },
  {
   "cell_type": "markdown",
   "metadata": {
    "id": "WIMUveTsccBf"
   },
   "source": [
    "## 2.2 Head, tail\n"
   ]
  },
  {
   "cell_type": "code",
   "execution_count": 33,
   "metadata": {
    "colab": {
     "base_uri": "https://localhost:8080/",
     "height": 176
    },
    "id": "d4FONhnxccBg",
    "outputId": "aad3b05d-00f4-42fe-972c-473d900ced9b"
   },
   "outputs": [
    {
     "data": {
      "text/html": [
       "<div>\n",
       "<style scoped>\n",
       "    .dataframe tbody tr th:only-of-type {\n",
       "        vertical-align: middle;\n",
       "    }\n",
       "\n",
       "    .dataframe tbody tr th {\n",
       "        vertical-align: top;\n",
       "    }\n",
       "\n",
       "    .dataframe thead th {\n",
       "        text-align: right;\n",
       "    }\n",
       "</style>\n",
       "<table border=\"1\" class=\"dataframe\">\n",
       "  <thead>\n",
       "    <tr style=\"text-align: right;\">\n",
       "      <th></th>\n",
       "      <th>state</th>\n",
       "      <th>vote</th>\n",
       "      <th>income</th>\n",
       "      <th>education</th>\n",
       "      <th>age</th>\n",
       "      <th>sex</th>\n",
       "    </tr>\n",
       "  </thead>\n",
       "  <tbody>\n",
       "    <tr>\n",
       "      <th>0</th>\n",
       "      <td>AR</td>\n",
       "      <td>1</td>\n",
       "      <td>9</td>\n",
       "      <td>2</td>\n",
       "      <td>73</td>\n",
       "      <td>0</td>\n",
       "    </tr>\n",
       "    <tr>\n",
       "      <th>1</th>\n",
       "      <td>AR</td>\n",
       "      <td>1</td>\n",
       "      <td>11</td>\n",
       "      <td>2</td>\n",
       "      <td>24</td>\n",
       "      <td>0</td>\n",
       "    </tr>\n",
       "  </tbody>\n",
       "</table>\n",
       "</div>"
      ],
      "text/plain": [
       "  state  vote  income  education  age  sex\n",
       "0    AR     1       9          2   73    0\n",
       "1    AR     1      11          2   24    0"
      ]
     },
     "execution_count": 33,
     "metadata": {},
     "output_type": "execute_result"
    }
   ],
   "source": [
    "df.head(2)"
   ]
  },
  {
   "cell_type": "code",
   "execution_count": 34,
   "metadata": {
    "colab": {
     "base_uri": "https://localhost:8080/",
     "height": 176
    },
    "id": "Yq5j0Oj5ccBg",
    "outputId": "a662c989-74ad-4606-b00a-014d16a55d92"
   },
   "outputs": [
    {
     "data": {
      "text/html": [
       "<div>\n",
       "<style scoped>\n",
       "    .dataframe tbody tr th:only-of-type {\n",
       "        vertical-align: middle;\n",
       "    }\n",
       "\n",
       "    .dataframe tbody tr th {\n",
       "        vertical-align: top;\n",
       "    }\n",
       "\n",
       "    .dataframe thead th {\n",
       "        text-align: right;\n",
       "    }\n",
       "</style>\n",
       "<table border=\"1\" class=\"dataframe\">\n",
       "  <thead>\n",
       "    <tr style=\"text-align: right;\">\n",
       "      <th></th>\n",
       "      <th>state</th>\n",
       "      <th>vote</th>\n",
       "      <th>income</th>\n",
       "      <th>education</th>\n",
       "      <th>age</th>\n",
       "      <th>sex</th>\n",
       "    </tr>\n",
       "  </thead>\n",
       "  <tbody>\n",
       "    <tr>\n",
       "      <th>1500</th>\n",
       "      <td>SC</td>\n",
       "      <td>1</td>\n",
       "      <td>9</td>\n",
       "      <td>1</td>\n",
       "      <td>36</td>\n",
       "      <td>1</td>\n",
       "    </tr>\n",
       "    <tr>\n",
       "      <th>1501</th>\n",
       "      <td>SC</td>\n",
       "      <td>1</td>\n",
       "      <td>8</td>\n",
       "      <td>1</td>\n",
       "      <td>120</td>\n",
       "      <td>1</td>\n",
       "    </tr>\n",
       "  </tbody>\n",
       "</table>\n",
       "</div>"
      ],
      "text/plain": [
       "     state  vote  income  education  age  sex\n",
       "1500    SC     1       9          1   36    1\n",
       "1501    SC     1       8          1  120    1"
      ]
     },
     "execution_count": 34,
     "metadata": {},
     "output_type": "execute_result"
    }
   ],
   "source": [
    "df.tail(2)"
   ]
  },
  {
   "cell_type": "markdown",
   "metadata": {
    "id": "W_2N08-2ccBh"
   },
   "source": [
    "## 2.3 Descriptive stats"
   ]
  },
  {
   "cell_type": "code",
   "execution_count": 35,
   "metadata": {
    "colab": {
     "base_uri": "https://localhost:8080/",
     "height": 399
    },
    "id": "pcR67dURccBh",
    "outputId": "9e1d6eb7-b6ad-43cd-d399-60fa6c1a465f"
   },
   "outputs": [
    {
     "data": {
      "text/html": [
       "<div>\n",
       "<style scoped>\n",
       "    .dataframe tbody tr th:only-of-type {\n",
       "        vertical-align: middle;\n",
       "    }\n",
       "\n",
       "    .dataframe tbody tr th {\n",
       "        vertical-align: top;\n",
       "    }\n",
       "\n",
       "    .dataframe thead th {\n",
       "        text-align: right;\n",
       "    }\n",
       "</style>\n",
       "<table border=\"1\" class=\"dataframe\">\n",
       "  <thead>\n",
       "    <tr style=\"text-align: right;\">\n",
       "      <th></th>\n",
       "      <th>vote</th>\n",
       "      <th>income</th>\n",
       "      <th>education</th>\n",
       "      <th>age</th>\n",
       "      <th>sex</th>\n",
       "    </tr>\n",
       "  </thead>\n",
       "  <tbody>\n",
       "    <tr>\n",
       "      <th>count</th>\n",
       "      <td>1502.000000</td>\n",
       "      <td>1502.000000</td>\n",
       "      <td>1502.000000</td>\n",
       "      <td>1502.000000</td>\n",
       "      <td>1502.000000</td>\n",
       "    </tr>\n",
       "    <tr>\n",
       "      <th>mean</th>\n",
       "      <td>0.855526</td>\n",
       "      <td>12.061252</td>\n",
       "      <td>2.649800</td>\n",
       "      <td>49.278961</td>\n",
       "      <td>0.559254</td>\n",
       "    </tr>\n",
       "    <tr>\n",
       "      <th>std</th>\n",
       "      <td>0.351687</td>\n",
       "      <td>4.256935</td>\n",
       "      <td>1.021356</td>\n",
       "      <td>17.591828</td>\n",
       "      <td>0.496642</td>\n",
       "    </tr>\n",
       "    <tr>\n",
       "      <th>min</th>\n",
       "      <td>0.000000</td>\n",
       "      <td>4.000000</td>\n",
       "      <td>1.000000</td>\n",
       "      <td>5.000000</td>\n",
       "      <td>0.000000</td>\n",
       "    </tr>\n",
       "    <tr>\n",
       "      <th>25%</th>\n",
       "      <td>1.000000</td>\n",
       "      <td>9.000000</td>\n",
       "      <td>2.000000</td>\n",
       "      <td>36.000000</td>\n",
       "      <td>0.000000</td>\n",
       "    </tr>\n",
       "    <tr>\n",
       "      <th>50%</th>\n",
       "      <td>1.000000</td>\n",
       "      <td>13.000000</td>\n",
       "      <td>3.000000</td>\n",
       "      <td>49.000000</td>\n",
       "      <td>1.000000</td>\n",
       "    </tr>\n",
       "    <tr>\n",
       "      <th>75%</th>\n",
       "      <td>1.000000</td>\n",
       "      <td>16.000000</td>\n",
       "      <td>4.000000</td>\n",
       "      <td>62.000000</td>\n",
       "      <td>1.000000</td>\n",
       "    </tr>\n",
       "    <tr>\n",
       "      <th>max</th>\n",
       "      <td>1.000000</td>\n",
       "      <td>17.000000</td>\n",
       "      <td>4.000000</td>\n",
       "      <td>120.000000</td>\n",
       "      <td>1.000000</td>\n",
       "    </tr>\n",
       "  </tbody>\n",
       "</table>\n",
       "</div>"
      ],
      "text/plain": [
       "              vote       income    education          age          sex\n",
       "count  1502.000000  1502.000000  1502.000000  1502.000000  1502.000000\n",
       "mean      0.855526    12.061252     2.649800    49.278961     0.559254\n",
       "std       0.351687     4.256935     1.021356    17.591828     0.496642\n",
       "min       0.000000     4.000000     1.000000     5.000000     0.000000\n",
       "25%       1.000000     9.000000     2.000000    36.000000     0.000000\n",
       "50%       1.000000    13.000000     3.000000    49.000000     1.000000\n",
       "75%       1.000000    16.000000     4.000000    62.000000     1.000000\n",
       "max       1.000000    17.000000     4.000000   120.000000     1.000000"
      ]
     },
     "execution_count": 35,
     "metadata": {},
     "output_type": "execute_result"
    }
   ],
   "source": [
    "df.describe()"
   ]
  },
  {
   "cell_type": "markdown",
   "metadata": {
    "id": "bRZ3oCjnccBh"
   },
   "source": [
    "## 2.4 Column names"
   ]
  },
  {
   "cell_type": "code",
   "execution_count": 36,
   "metadata": {
    "colab": {
     "base_uri": "https://localhost:8080/"
    },
    "id": "a1SvzWtPpm1F",
    "outputId": "04b58c90-56d8-4139-9bb6-153ae80060b7"
   },
   "outputs": [
    {
     "data": {
      "text/plain": [
       "Index(['state', 'vote', 'income', 'education', 'age', 'sex'], dtype='object')"
      ]
     },
     "execution_count": 36,
     "metadata": {},
     "output_type": "execute_result"
    }
   ],
   "source": [
    " df.columns"
   ]
  },
  {
   "cell_type": "code",
   "execution_count": 38,
   "metadata": {},
   "outputs": [],
   "source": [
    "columns = df.columns"
   ]
  },
  {
   "cell_type": "markdown",
   "metadata": {
    "id": "r5UTmekWccBh"
   },
   "source": [
    "### 2.4.1 Manipulating lists"
   ]
  },
  {
   "cell_type": "code",
   "execution_count": 39,
   "metadata": {
    "colab": {
     "base_uri": "https://localhost:8080/"
    },
    "id": "DQzDMXeRccBh",
    "outputId": "51aaf7f3-b87c-4d2d-863e-61071277609e"
   },
   "outputs": [
    {
     "data": {
      "text/plain": [
       "Index(['vote', 'income'], dtype='object')"
      ]
     },
     "execution_count": 39,
     "metadata": {},
     "output_type": "execute_result"
    }
   ],
   "source": [
    "# The second element to the third element\n",
    "columns[1:3] # Second element in slice is not inclusive"
   ]
  },
  {
   "cell_type": "code",
   "execution_count": 40,
   "metadata": {
    "colab": {
     "base_uri": "https://localhost:8080/"
    },
    "id": "n9_gsszFccBi",
    "outputId": "b13ea12f-178f-4f4e-f619-efae052af84d"
   },
   "outputs": [
    {
     "data": {
      "text/plain": [
       "Index(['state', 'vote'], dtype='object')"
      ]
     },
     "execution_count": 40,
     "metadata": {},
     "output_type": "execute_result"
    }
   ],
   "source": [
    "# Indexing starts at zero\n",
    "columns[0:2]"
   ]
  },
  {
   "cell_type": "code",
   "execution_count": 41,
   "metadata": {
    "colab": {
     "base_uri": "https://localhost:8080/"
    },
    "id": "28O4SP3jccBi",
    "outputId": "91c558f6-d251-48d8-ebac-fdc4352efcc0"
   },
   "outputs": [
    {
     "data": {
      "text/plain": [
       "Index(['age', 'sex'], dtype='object')"
      ]
     },
     "execution_count": 41,
     "metadata": {},
     "output_type": "execute_result"
    }
   ],
   "source": [
    "columns[-2:]"
   ]
  },
  {
   "cell_type": "markdown",
   "metadata": {},
   "source": [
    "## 2.5 Select column"
   ]
  },
  {
   "cell_type": "code",
   "execution_count": 44,
   "metadata": {},
   "outputs": [
    {
     "data": {
      "text/plain": [
       "0    AR\n",
       "1    AR\n",
       "Name: state, dtype: object"
      ]
     },
     "execution_count": 44,
     "metadata": {},
     "output_type": "execute_result"
    }
   ],
   "source": [
    "df['state'].head(2)"
   ]
  },
  {
   "cell_type": "code",
   "execution_count": 45,
   "metadata": {},
   "outputs": [
    {
     "data": {
      "text/plain": [
       "0    AR\n",
       "1    AR\n",
       "Name: state, dtype: object"
      ]
     },
     "execution_count": 45,
     "metadata": {},
     "output_type": "execute_result"
    }
   ],
   "source": [
    "df.state.head(2)"
   ]
  },
  {
   "cell_type": "markdown",
   "metadata": {},
   "source": [
    "# 3. Bonus material\n",
    "\n",
    "## 3.1 Importing directly from a website\n",
    "\n",
    "\n",
    "<img src=\"Screenshots/Import.png\" />\n",
    "\n"
   ]
  },
  {
   "cell_type": "code",
   "execution_count": 46,
   "metadata": {},
   "outputs": [
    {
     "data": {
      "text/html": [
       "<div>\n",
       "<style scoped>\n",
       "    .dataframe tbody tr th:only-of-type {\n",
       "        vertical-align: middle;\n",
       "    }\n",
       "\n",
       "    .dataframe tbody tr th {\n",
       "        vertical-align: top;\n",
       "    }\n",
       "\n",
       "    .dataframe thead th {\n",
       "        text-align: right;\n",
       "    }\n",
       "</style>\n",
       "<table border=\"1\" class=\"dataframe\">\n",
       "  <thead>\n",
       "    <tr style=\"text-align: right;\">\n",
       "      <th></th>\n",
       "      <th>year</th>\n",
       "      <th>country</th>\n",
       "      <th>iso</th>\n",
       "      <th>ifs</th>\n",
       "      <th>pop</th>\n",
       "      <th>rgdpmad</th>\n",
       "      <th>rgdppc</th>\n",
       "      <th>rconpc</th>\n",
       "      <th>gdp</th>\n",
       "      <th>iy</th>\n",
       "      <th>...</th>\n",
       "      <th>eq_capgain</th>\n",
       "      <th>eq_dp</th>\n",
       "      <th>eq_capgain_interp</th>\n",
       "      <th>eq_tr_interp</th>\n",
       "      <th>eq_dp_interp</th>\n",
       "      <th>bond_rate</th>\n",
       "      <th>eq_div_rtn</th>\n",
       "      <th>capital_tr</th>\n",
       "      <th>risky_tr</th>\n",
       "      <th>safe_tr</th>\n",
       "    </tr>\n",
       "  </thead>\n",
       "  <tbody>\n",
       "    <tr>\n",
       "      <th>0</th>\n",
       "      <td>1870</td>\n",
       "      <td>Australia</td>\n",
       "      <td>AUS</td>\n",
       "      <td>193</td>\n",
       "      <td>1775.0</td>\n",
       "      <td>3273.239437</td>\n",
       "      <td>13.836157</td>\n",
       "      <td>21.449734</td>\n",
       "      <td>208.78</td>\n",
       "      <td>0.109266</td>\n",
       "      <td>...</td>\n",
       "      <td>-0.070045</td>\n",
       "      <td>0.071417</td>\n",
       "      <td>NaN</td>\n",
       "      <td>NaN</td>\n",
       "      <td>NaN</td>\n",
       "      <td>0.049118</td>\n",
       "      <td>0.066415</td>\n",
       "      <td>NaN</td>\n",
       "      <td>NaN</td>\n",
       "      <td>NaN</td>\n",
       "    </tr>\n",
       "    <tr>\n",
       "      <th>1</th>\n",
       "      <td>1871</td>\n",
       "      <td>Australia</td>\n",
       "      <td>AUS</td>\n",
       "      <td>193</td>\n",
       "      <td>1675.0</td>\n",
       "      <td>3298.507463</td>\n",
       "      <td>13.936864</td>\n",
       "      <td>19.930801</td>\n",
       "      <td>211.56</td>\n",
       "      <td>0.104579</td>\n",
       "      <td>...</td>\n",
       "      <td>0.041654</td>\n",
       "      <td>0.065466</td>\n",
       "      <td>NaN</td>\n",
       "      <td>NaN</td>\n",
       "      <td>NaN</td>\n",
       "      <td>0.048446</td>\n",
       "      <td>0.068193</td>\n",
       "      <td>NaN</td>\n",
       "      <td>NaN</td>\n",
       "      <td>NaN</td>\n",
       "    </tr>\n",
       "    <tr>\n",
       "      <th>2</th>\n",
       "      <td>1872</td>\n",
       "      <td>Australia</td>\n",
       "      <td>AUS</td>\n",
       "      <td>193</td>\n",
       "      <td>1722.0</td>\n",
       "      <td>3553.426249</td>\n",
       "      <td>15.044247</td>\n",
       "      <td>21.085006</td>\n",
       "      <td>227.40</td>\n",
       "      <td>0.130438</td>\n",
       "      <td>...</td>\n",
       "      <td>0.108945</td>\n",
       "      <td>0.062997</td>\n",
       "      <td>NaN</td>\n",
       "      <td>NaN</td>\n",
       "      <td>NaN</td>\n",
       "      <td>0.047373</td>\n",
       "      <td>0.069861</td>\n",
       "      <td>NaN</td>\n",
       "      <td>NaN</td>\n",
       "      <td>NaN</td>\n",
       "    </tr>\n",
       "    <tr>\n",
       "      <th>3</th>\n",
       "      <td>1873</td>\n",
       "      <td>Australia</td>\n",
       "      <td>AUS</td>\n",
       "      <td>193</td>\n",
       "      <td>1769.0</td>\n",
       "      <td>3823.629169</td>\n",
       "      <td>16.219443</td>\n",
       "      <td>23.254910</td>\n",
       "      <td>266.54</td>\n",
       "      <td>0.124986</td>\n",
       "      <td>...</td>\n",
       "      <td>0.083086</td>\n",
       "      <td>0.064484</td>\n",
       "      <td>NaN</td>\n",
       "      <td>NaN</td>\n",
       "      <td>NaN</td>\n",
       "      <td>0.046720</td>\n",
       "      <td>0.069842</td>\n",
       "      <td>NaN</td>\n",
       "      <td>NaN</td>\n",
       "      <td>NaN</td>\n",
       "    </tr>\n",
       "  </tbody>\n",
       "</table>\n",
       "<p>4 rows × 57 columns</p>\n",
       "</div>"
      ],
      "text/plain": [
       "   year    country  iso  ifs     pop      rgdpmad     rgdppc     rconpc  \\\n",
       "0  1870  Australia  AUS  193  1775.0  3273.239437  13.836157  21.449734   \n",
       "1  1871  Australia  AUS  193  1675.0  3298.507463  13.936864  19.930801   \n",
       "2  1872  Australia  AUS  193  1722.0  3553.426249  15.044247  21.085006   \n",
       "3  1873  Australia  AUS  193  1769.0  3823.629169  16.219443  23.254910   \n",
       "\n",
       "      gdp        iy  ...  eq_capgain     eq_dp  eq_capgain_interp  \\\n",
       "0  208.78  0.109266  ...   -0.070045  0.071417                NaN   \n",
       "1  211.56  0.104579  ...    0.041654  0.065466                NaN   \n",
       "2  227.40  0.130438  ...    0.108945  0.062997                NaN   \n",
       "3  266.54  0.124986  ...    0.083086  0.064484                NaN   \n",
       "\n",
       "   eq_tr_interp  eq_dp_interp  bond_rate  eq_div_rtn  capital_tr  risky_tr  \\\n",
       "0           NaN           NaN   0.049118    0.066415         NaN       NaN   \n",
       "1           NaN           NaN   0.048446    0.068193         NaN       NaN   \n",
       "2           NaN           NaN   0.047373    0.069861         NaN       NaN   \n",
       "3           NaN           NaN   0.046720    0.069842         NaN       NaN   \n",
       "\n",
       "   safe_tr  \n",
       "0      NaN  \n",
       "1      NaN  \n",
       "2      NaN  \n",
       "3      NaN  \n",
       "\n",
       "[4 rows x 57 columns]"
      ]
     },
     "execution_count": 46,
     "metadata": {},
     "output_type": "execute_result"
    }
   ],
   "source": [
    "url = 'https://www.macrohistory.net/app/download/9834512569/JSTdatasetR5.xlsx?t=1641215586'\n",
    "# Note this is a different function than we used before!\n",
    "# This function is read_excel instead of read_csv\n",
    "df = pd.read_excel(url, \n",
    "                   sheet_name = 1\n",
    "                  )\n",
    "df.head(4)"
   ]
  },
  {
   "cell_type": "markdown",
   "metadata": {},
   "source": [
    "## 3.2 Scraping HTML"
   ]
  },
  {
   "cell_type": "code",
   "execution_count": 49,
   "metadata": {},
   "outputs": [
    {
     "data": {
      "text/html": [
       "<div>\n",
       "<style scoped>\n",
       "    .dataframe tbody tr th:only-of-type {\n",
       "        vertical-align: middle;\n",
       "    }\n",
       "\n",
       "    .dataframe tbody tr th {\n",
       "        vertical-align: top;\n",
       "    }\n",
       "\n",
       "    .dataframe thead tr th {\n",
       "        text-align: left;\n",
       "    }\n",
       "</style>\n",
       "<table border=\"1\" class=\"dataframe\">\n",
       "  <thead>\n",
       "    <tr>\n",
       "      <th></th>\n",
       "      <th>City[a]</th>\n",
       "      <th>Country</th>\n",
       "      <th>UN 2018 population estimates[b]</th>\n",
       "      <th colspan=\"4\" halign=\"left\">City proper[c]</th>\n",
       "      <th colspan=\"3\" halign=\"left\">Metropolitan area[d]</th>\n",
       "      <th colspan=\"3\" halign=\"left\">Urban area[8]</th>\n",
       "    </tr>\n",
       "    <tr>\n",
       "      <th></th>\n",
       "      <th>City[a]</th>\n",
       "      <th>Country</th>\n",
       "      <th>UN 2018 population estimates[b]</th>\n",
       "      <th>Definition</th>\n",
       "      <th>Population</th>\n",
       "      <th>Area(km2)</th>\n",
       "      <th>Density(/km2)</th>\n",
       "      <th>Population</th>\n",
       "      <th>Area(km2)</th>\n",
       "      <th>Density(/km2)</th>\n",
       "      <th>Population</th>\n",
       "      <th>Area(km2)</th>\n",
       "      <th>Density(/km2)</th>\n",
       "    </tr>\n",
       "  </thead>\n",
       "  <tbody>\n",
       "    <tr>\n",
       "      <th>0</th>\n",
       "      <td>NaN</td>\n",
       "      <td>NaN</td>\n",
       "      <td>NaN</td>\n",
       "      <td>NaN</td>\n",
       "      <td>NaN</td>\n",
       "      <td>NaN</td>\n",
       "      <td>NaN</td>\n",
       "      <td>NaN</td>\n",
       "      <td>NaN</td>\n",
       "      <td>NaN</td>\n",
       "      <td>NaN</td>\n",
       "      <td>NaN</td>\n",
       "      <td>NaN</td>\n",
       "    </tr>\n",
       "    <tr>\n",
       "      <th>1</th>\n",
       "      <td>Tōkyō</td>\n",
       "      <td>Japan</td>\n",
       "      <td>37400068.0</td>\n",
       "      <td>Metropolis prefecture</td>\n",
       "      <td>13515271.0</td>\n",
       "      <td>2191.0</td>\n",
       "      <td>6,169[13]</td>\n",
       "      <td>37274000</td>\n",
       "      <td>13452.0</td>\n",
       "      <td>2,771[14]</td>\n",
       "      <td>39105000</td>\n",
       "      <td>8231.0</td>\n",
       "      <td>4,751[e]</td>\n",
       "    </tr>\n",
       "    <tr>\n",
       "      <th>2</th>\n",
       "      <td>Delhi</td>\n",
       "      <td>India</td>\n",
       "      <td>28514000.0</td>\n",
       "      <td>Capital City</td>\n",
       "      <td>16753235.0</td>\n",
       "      <td>1484.0</td>\n",
       "      <td>11,289[15]</td>\n",
       "      <td>29000000</td>\n",
       "      <td>3483.0</td>\n",
       "      <td>8,326[16]</td>\n",
       "      <td>31870000</td>\n",
       "      <td>2233.0</td>\n",
       "      <td>14,272[f]</td>\n",
       "    </tr>\n",
       "    <tr>\n",
       "      <th>3</th>\n",
       "      <td>Shanghai</td>\n",
       "      <td>China</td>\n",
       "      <td>25582000.0</td>\n",
       "      <td>Municipality</td>\n",
       "      <td>24870895.0</td>\n",
       "      <td>6341.0</td>\n",
       "      <td>3,922[17][18]</td>\n",
       "      <td>NaN</td>\n",
       "      <td>NaN</td>\n",
       "      <td>NaN</td>\n",
       "      <td>22118000</td>\n",
       "      <td>4069.0</td>\n",
       "      <td>5,436[g]</td>\n",
       "    </tr>\n",
       "    <tr>\n",
       "      <th>4</th>\n",
       "      <td>São Paulo</td>\n",
       "      <td>Brazil</td>\n",
       "      <td>21650000.0</td>\n",
       "      <td>Municipality</td>\n",
       "      <td>12252023.0</td>\n",
       "      <td>1521.0</td>\n",
       "      <td>8,055[19]</td>\n",
       "      <td>21734682</td>\n",
       "      <td>7947.0</td>\n",
       "      <td>2,735[20]</td>\n",
       "      <td>22495000</td>\n",
       "      <td>3237.0</td>\n",
       "      <td>6,949[h]</td>\n",
       "    </tr>\n",
       "  </tbody>\n",
       "</table>\n",
       "</div>"
      ],
      "text/plain": [
       "     City[a] Country UN 2018 population estimates[b]         City proper[c]  \\\n",
       "     City[a] Country UN 2018 population estimates[b]             Definition   \n",
       "0        NaN     NaN                             NaN                    NaN   \n",
       "1      Tōkyō   Japan                      37400068.0  Metropolis prefecture   \n",
       "2      Delhi   India                      28514000.0           Capital City   \n",
       "3   Shanghai   China                      25582000.0           Municipality   \n",
       "4  São Paulo  Brazil                      21650000.0           Municipality   \n",
       "\n",
       "                                       Metropolitan area[d]            \\\n",
       "   Population Area(km2)  Density(/km2)           Population Area(km2)   \n",
       "0         NaN       NaN            NaN                  NaN       NaN   \n",
       "1  13515271.0    2191.0      6,169[13]             37274000   13452.0   \n",
       "2  16753235.0    1484.0     11,289[15]             29000000    3483.0   \n",
       "3  24870895.0    6341.0  3,922[17][18]                  NaN       NaN   \n",
       "4  12252023.0    1521.0      8,055[19]             21734682    7947.0   \n",
       "\n",
       "                Urban area[8]                          \n",
       "  Density(/km2)    Population Area(km2) Density(/km2)  \n",
       "0           NaN           NaN       NaN           NaN  \n",
       "1     2,771[14]      39105000    8231.0      4,751[e]  \n",
       "2     8,326[16]      31870000    2233.0     14,272[f]  \n",
       "3           NaN      22118000    4069.0      5,436[g]  \n",
       "4     2,735[20]      22495000    3237.0      6,949[h]  "
      ]
     },
     "execution_count": 49,
     "metadata": {},
     "output_type": "execute_result"
    }
   ],
   "source": [
    "url = 'https://en.wikipedia.org/wiki/List_of_largest_cities'\n",
    "df = pd.read_html(url)\n",
    "df[1].head(5)"
   ]
  },
  {
   "cell_type": "code",
   "execution_count": null,
   "metadata": {},
   "outputs": [],
   "source": []
  }
 ],
 "metadata": {
  "colab": {
   "collapsed_sections": [],
   "name": "Session_1_Notes.ipynb",
   "provenance": []
  },
  "kernelspec": {
   "display_name": "Python 3",
   "language": "python",
   "name": "python3"
  },
  "language_info": {
   "codemirror_mode": {
    "name": "ipython",
    "version": 3
   },
   "file_extension": ".py",
   "mimetype": "text/x-python",
   "name": "python",
   "nbconvert_exporter": "python",
   "pygments_lexer": "ipython3",
   "version": "3.8.5"
  }
 },
 "nbformat": 4,
 "nbformat_minor": 1
}

{
 "cells": [
  {
   "cell_type": "markdown",
   "id": "peaceful-bicycle",
   "metadata": {},
   "source": [
    "# Session 2-- Download and Graph"
   ]
  },
  {
   "cell_type": "markdown",
   "id": "hybrid-plastic",
   "metadata": {},
   "source": [
    "## Module 3: Download & Graph intro"
   ]
  },
  {
   "cell_type": "markdown",
   "id": "atmospheric-biotechnology",
   "metadata": {},
   "source": [
    "## A. Import libraries"
   ]
  },
  {
   "cell_type": "code",
   "execution_count": 1,
   "id": "higher-mustang",
   "metadata": {},
   "outputs": [],
   "source": [
    "import pandas as pd\n",
    "import matplotlib.pyplot as plt"
   ]
  },
  {
   "cell_type": "markdown",
   "id": "appreciated-dubai",
   "metadata": {},
   "source": [
    "## B. Import data"
   ]
  },
  {
   "cell_type": "markdown",
   "id": "prescription-preparation",
   "metadata": {},
   "source": [
    "### B.1.1 Import from github\n",
    "\n",
    "### Click on the raw button then copy the url\n",
    "\n",
    "<img src=\"Screenshots/Github.png\" />\n",
    "\n"
   ]
  },
  {
   "cell_type": "code",
   "execution_count": 2,
   "id": "empty-scale",
   "metadata": {},
   "outputs": [
    {
     "data": {
      "text/html": [
       "<div>\n",
       "<style scoped>\n",
       "    .dataframe tbody tr th:only-of-type {\n",
       "        vertical-align: middle;\n",
       "    }\n",
       "\n",
       "    .dataframe tbody tr th {\n",
       "        vertical-align: top;\n",
       "    }\n",
       "\n",
       "    .dataframe thead th {\n",
       "        text-align: right;\n",
       "    }\n",
       "</style>\n",
       "<table border=\"1\" class=\"dataframe\">\n",
       "  <thead>\n",
       "    <tr style=\"text-align: right;\">\n",
       "      <th></th>\n",
       "      <th>country</th>\n",
       "      <th>placename</th>\n",
       "      <th>frequency</th>\n",
       "      <th>start_date</th>\n",
       "      <th>end_date</th>\n",
       "      <th>year</th>\n",
       "      <th>month</th>\n",
       "      <th>week</th>\n",
       "      <th>deaths</th>\n",
       "      <th>expected_deaths</th>\n",
       "      <th>excess_deaths</th>\n",
       "      <th>baseline</th>\n",
       "    </tr>\n",
       "  </thead>\n",
       "  <tbody>\n",
       "    <tr>\n",
       "      <th>0</th>\n",
       "      <td>Austria</td>\n",
       "      <td>NaN</td>\n",
       "      <td>weekly</td>\n",
       "      <td>2020-01-06</td>\n",
       "      <td>2020-01-12</td>\n",
       "      <td>2020</td>\n",
       "      <td>1</td>\n",
       "      <td>2.0</td>\n",
       "      <td>1702</td>\n",
       "      <td>1806.0</td>\n",
       "      <td>-104.0</td>\n",
       "      <td>2015-2019 historical data</td>\n",
       "    </tr>\n",
       "    <tr>\n",
       "      <th>1</th>\n",
       "      <td>Austria</td>\n",
       "      <td>NaN</td>\n",
       "      <td>weekly</td>\n",
       "      <td>2020-01-13</td>\n",
       "      <td>2020-01-19</td>\n",
       "      <td>2020</td>\n",
       "      <td>1</td>\n",
       "      <td>3.0</td>\n",
       "      <td>1797</td>\n",
       "      <td>1819.0</td>\n",
       "      <td>-22.0</td>\n",
       "      <td>2015-2019 historical data</td>\n",
       "    </tr>\n",
       "    <tr>\n",
       "      <th>2</th>\n",
       "      <td>Austria</td>\n",
       "      <td>NaN</td>\n",
       "      <td>weekly</td>\n",
       "      <td>2020-01-20</td>\n",
       "      <td>2020-01-26</td>\n",
       "      <td>2020</td>\n",
       "      <td>1</td>\n",
       "      <td>4.0</td>\n",
       "      <td>1779</td>\n",
       "      <td>1831.0</td>\n",
       "      <td>-52.0</td>\n",
       "      <td>2015-2019 historical data</td>\n",
       "    </tr>\n",
       "  </tbody>\n",
       "</table>\n",
       "</div>"
      ],
      "text/plain": [
       "   country placename frequency  start_date    end_date  year  month  week  \\\n",
       "0  Austria       NaN    weekly  2020-01-06  2020-01-12  2020      1   2.0   \n",
       "1  Austria       NaN    weekly  2020-01-13  2020-01-19  2020      1   3.0   \n",
       "2  Austria       NaN    weekly  2020-01-20  2020-01-26  2020      1   4.0   \n",
       "\n",
       "   deaths  expected_deaths  excess_deaths                   baseline  \n",
       "0    1702           1806.0         -104.0  2015-2019 historical data  \n",
       "1    1797           1819.0          -22.0  2015-2019 historical data  \n",
       "2    1779           1831.0          -52.0  2015-2019 historical data  "
      ]
     },
     "execution_count": 2,
     "metadata": {},
     "output_type": "execute_result"
    }
   ],
   "source": [
    "url = 'https://raw.githubusercontent.com/nytimes/covid-19-data/master/excess-deaths/deaths.csv'\n",
    "df = pd.read_csv(url)\n",
    "df.head(3)"
   ]
  },
  {
   "cell_type": "markdown",
   "id": "tired-connectivity",
   "metadata": {},
   "source": [
    "# 1. Graphing\n",
    "\n",
    "## 1.A Select only Austria"
   ]
  },
  {
   "cell_type": "code",
   "execution_count": 6,
   "id": "periodic-hands",
   "metadata": {},
   "outputs": [
    {
     "data": {
      "text/plain": [
       "array(['Austria', 'Belgium', 'Bolivia', 'Brazil', 'Chile', 'Colombia',\n",
       "       'Czech Republic', 'Denmark', 'Ecuador', 'Finland', 'France',\n",
       "       'Germany', 'Hungary', 'Ireland', 'Israel', 'Turkey', 'Italy',\n",
       "       'Indonesia', 'Mexico', 'Russia', 'India', 'Netherlands', 'Norway',\n",
       "       'Peru', 'Poland', 'Portugal', 'South Africa', 'South Korea',\n",
       "       'Spain', 'Sweden', 'Switzerland', 'Thailand', 'Japan',\n",
       "       'United Kingdom', 'United States'], dtype=object)"
      ]
     },
     "execution_count": 6,
     "metadata": {},
     "output_type": "execute_result"
    }
   ],
   "source": [
    "df.country.unique()"
   ]
  },
  {
   "cell_type": "code",
   "execution_count": 7,
   "id": "intimate-adaptation",
   "metadata": {},
   "outputs": [
    {
     "data": {
      "text/html": [
       "<div>\n",
       "<style scoped>\n",
       "    .dataframe tbody tr th:only-of-type {\n",
       "        vertical-align: middle;\n",
       "    }\n",
       "\n",
       "    .dataframe tbody tr th {\n",
       "        vertical-align: top;\n",
       "    }\n",
       "\n",
       "    .dataframe thead th {\n",
       "        text-align: right;\n",
       "    }\n",
       "</style>\n",
       "<table border=\"1\" class=\"dataframe\">\n",
       "  <thead>\n",
       "    <tr style=\"text-align: right;\">\n",
       "      <th></th>\n",
       "      <th>country</th>\n",
       "      <th>placename</th>\n",
       "      <th>frequency</th>\n",
       "      <th>start_date</th>\n",
       "      <th>end_date</th>\n",
       "      <th>year</th>\n",
       "      <th>month</th>\n",
       "      <th>week</th>\n",
       "      <th>deaths</th>\n",
       "      <th>expected_deaths</th>\n",
       "      <th>excess_deaths</th>\n",
       "      <th>baseline</th>\n",
       "    </tr>\n",
       "  </thead>\n",
       "  <tbody>\n",
       "    <tr>\n",
       "      <th>0</th>\n",
       "      <td>Austria</td>\n",
       "      <td>NaN</td>\n",
       "      <td>weekly</td>\n",
       "      <td>2020-01-06</td>\n",
       "      <td>2020-01-12</td>\n",
       "      <td>2020</td>\n",
       "      <td>1</td>\n",
       "      <td>2.0</td>\n",
       "      <td>1702</td>\n",
       "      <td>1806.0</td>\n",
       "      <td>-104.0</td>\n",
       "      <td>2015-2019 historical data</td>\n",
       "    </tr>\n",
       "    <tr>\n",
       "      <th>1</th>\n",
       "      <td>Austria</td>\n",
       "      <td>NaN</td>\n",
       "      <td>weekly</td>\n",
       "      <td>2020-01-13</td>\n",
       "      <td>2020-01-19</td>\n",
       "      <td>2020</td>\n",
       "      <td>1</td>\n",
       "      <td>3.0</td>\n",
       "      <td>1797</td>\n",
       "      <td>1819.0</td>\n",
       "      <td>-22.0</td>\n",
       "      <td>2015-2019 historical data</td>\n",
       "    </tr>\n",
       "    <tr>\n",
       "      <th>2</th>\n",
       "      <td>Austria</td>\n",
       "      <td>NaN</td>\n",
       "      <td>weekly</td>\n",
       "      <td>2020-01-20</td>\n",
       "      <td>2020-01-26</td>\n",
       "      <td>2020</td>\n",
       "      <td>1</td>\n",
       "      <td>4.0</td>\n",
       "      <td>1779</td>\n",
       "      <td>1831.0</td>\n",
       "      <td>-52.0</td>\n",
       "      <td>2015-2019 historical data</td>\n",
       "    </tr>\n",
       "  </tbody>\n",
       "</table>\n",
       "</div>"
      ],
      "text/plain": [
       "   country placename frequency  start_date    end_date  year  month  week  \\\n",
       "0  Austria       NaN    weekly  2020-01-06  2020-01-12  2020      1   2.0   \n",
       "1  Austria       NaN    weekly  2020-01-13  2020-01-19  2020      1   3.0   \n",
       "2  Austria       NaN    weekly  2020-01-20  2020-01-26  2020      1   4.0   \n",
       "\n",
       "   deaths  expected_deaths  excess_deaths                   baseline  \n",
       "0    1702           1806.0         -104.0  2015-2019 historical data  \n",
       "1    1797           1819.0          -22.0  2015-2019 historical data  \n",
       "2    1779           1831.0          -52.0  2015-2019 historical data  "
      ]
     },
     "execution_count": 7,
     "metadata": {},
     "output_type": "execute_result"
    }
   ],
   "source": [
    "mask = df.country=='Austria'\n",
    "df_a = df.loc[mask, :]\n",
    "df_a.head(3)"
   ]
  },
  {
   "cell_type": "markdown",
   "id": "tamil-august",
   "metadata": {},
   "source": [
    "## 1.B Select only certain columns"
   ]
  },
  {
   "cell_type": "code",
   "execution_count": 8,
   "id": "indirect-louisiana",
   "metadata": {},
   "outputs": [
    {
     "data": {
      "text/html": [
       "<div>\n",
       "<style scoped>\n",
       "    .dataframe tbody tr th:only-of-type {\n",
       "        vertical-align: middle;\n",
       "    }\n",
       "\n",
       "    .dataframe tbody tr th {\n",
       "        vertical-align: top;\n",
       "    }\n",
       "\n",
       "    .dataframe thead th {\n",
       "        text-align: right;\n",
       "    }\n",
       "</style>\n",
       "<table border=\"1\" class=\"dataframe\">\n",
       "  <thead>\n",
       "    <tr style=\"text-align: right;\">\n",
       "      <th></th>\n",
       "      <th>start_date</th>\n",
       "      <th>excess_deaths</th>\n",
       "    </tr>\n",
       "  </thead>\n",
       "  <tbody>\n",
       "    <tr>\n",
       "      <th>0</th>\n",
       "      <td>2020-01-06</td>\n",
       "      <td>-104.0</td>\n",
       "    </tr>\n",
       "    <tr>\n",
       "      <th>1</th>\n",
       "      <td>2020-01-13</td>\n",
       "      <td>-22.0</td>\n",
       "    </tr>\n",
       "  </tbody>\n",
       "</table>\n",
       "</div>"
      ],
      "text/plain": [
       "   start_date  excess_deaths\n",
       "0  2020-01-06         -104.0\n",
       "1  2020-01-13          -22.0"
      ]
     },
     "execution_count": 8,
     "metadata": {},
     "output_type": "execute_result"
    }
   ],
   "source": [
    "df_a = df_a.loc[:, ['start_date','excess_deaths']]\n",
    "df_a.head(2)"
   ]
  },
  {
   "cell_type": "markdown",
   "id": "equal-utilization",
   "metadata": {},
   "source": [
    "## 1.1 Set index"
   ]
  },
  {
   "cell_type": "markdown",
   "id": "chinese-briefs",
   "metadata": {},
   "source": [
    "### 1.1.A Quick explainer on indexing"
   ]
  },
  {
   "cell_type": "code",
   "execution_count": 10,
   "id": "atlantic-antarctica",
   "metadata": {},
   "outputs": [
    {
     "data": {
      "text/plain": [
       "Int64Index([0, 1, 2, 3, 4], dtype='int64')"
      ]
     },
     "execution_count": 10,
     "metadata": {},
     "output_type": "execute_result"
    }
   ],
   "source": [
    "df_a.index[:3]"
   ]
  },
  {
   "cell_type": "markdown",
   "id": "former-grant",
   "metadata": {},
   "source": [
    "### 1.1.1 Convert index"
   ]
  },
  {
   "cell_type": "code",
   "execution_count": 11,
   "id": "impressive-cylinder",
   "metadata": {},
   "outputs": [
    {
     "data": {
      "text/html": [
       "<div>\n",
       "<style scoped>\n",
       "    .dataframe tbody tr th:only-of-type {\n",
       "        vertical-align: middle;\n",
       "    }\n",
       "\n",
       "    .dataframe tbody tr th {\n",
       "        vertical-align: top;\n",
       "    }\n",
       "\n",
       "    .dataframe thead th {\n",
       "        text-align: right;\n",
       "    }\n",
       "</style>\n",
       "<table border=\"1\" class=\"dataframe\">\n",
       "  <thead>\n",
       "    <tr style=\"text-align: right;\">\n",
       "      <th></th>\n",
       "      <th>excess_deaths</th>\n",
       "    </tr>\n",
       "    <tr>\n",
       "      <th>start_date</th>\n",
       "      <th></th>\n",
       "    </tr>\n",
       "  </thead>\n",
       "  <tbody>\n",
       "    <tr>\n",
       "      <th>2020-01-06</th>\n",
       "      <td>-104.0</td>\n",
       "    </tr>\n",
       "    <tr>\n",
       "      <th>2020-01-13</th>\n",
       "      <td>-22.0</td>\n",
       "    </tr>\n",
       "  </tbody>\n",
       "</table>\n",
       "</div>"
      ],
      "text/plain": [
       "            excess_deaths\n",
       "start_date               \n",
       "2020-01-06         -104.0\n",
       "2020-01-13          -22.0"
      ]
     },
     "execution_count": 11,
     "metadata": {},
     "output_type": "execute_result"
    }
   ],
   "source": [
    "df_a = df_a.set_index('start_date')\n",
    "df_a.head(2)"
   ]
  },
  {
   "cell_type": "code",
   "execution_count": 13,
   "id": "chicken-swift",
   "metadata": {},
   "outputs": [
    {
     "data": {
      "text/plain": [
       "Index(['2020-01-06', '2020-01-13', '2020-01-20'], dtype='object', name='start_date')"
      ]
     },
     "execution_count": 13,
     "metadata": {},
     "output_type": "execute_result"
    }
   ],
   "source": [
    "df_a.index[:3]"
   ]
  },
  {
   "cell_type": "markdown",
   "id": "packed-blues",
   "metadata": {},
   "source": [
    "## 1.2 Line plot"
   ]
  },
  {
   "cell_type": "code",
   "execution_count": 14,
   "id": "unknown-mistress",
   "metadata": {},
   "outputs": [
    {
     "data": {
      "text/plain": [
       "<AxesSubplot:xlabel='start_date'>"
      ]
     },
     "execution_count": 14,
     "metadata": {},
     "output_type": "execute_result"
    },
    {
     "data": {
      "image/png": "[encoded data removed]",
      "text/plain": [
       "<Figure size 432x288 with 1 Axes>"
      ]
     },
     "metadata": {
      "needs_background": "light"
     },
     "output_type": "display_data"
    }
   ],
   "source": [
    "df_a.plot()"
   ]
  },
  {
   "cell_type": "markdown",
   "id": "adequate-mountain",
   "metadata": {},
   "source": [
    "# 2. Plot multiple countries"
   ]
  },
  {
   "cell_type": "markdown",
   "id": "confused-secondary",
   "metadata": {},
   "source": [
    "## 2.A Select two countries"
   ]
  },
  {
   "cell_type": "code",
   "execution_count": 24,
   "id": "subsequent-parcel",
   "metadata": {},
   "outputs": [
    {
     "data": {
      "text/plain": [
       "array(['Austria', 'Belgium', 'Bolivia', 'Brazil', 'Chile', 'Colombia',\n",
       "       'Czech Republic', 'Denmark', 'Ecuador', 'Finland', 'France',\n",
       "       'Germany', 'Hungary', 'Ireland', 'Israel', 'Turkey', 'Italy',\n",
       "       'Indonesia', 'Mexico', 'Russia', 'India', 'Netherlands', 'Norway',\n",
       "       'Peru', 'Poland', 'Portugal', 'South Africa', 'South Korea',\n",
       "       'Spain', 'Sweden', 'Switzerland', 'Thailand', 'Japan',\n",
       "       'United Kingdom', 'United States'], dtype=object)"
      ]
     },
     "execution_count": 24,
     "metadata": {},
     "output_type": "execute_result"
    }
   ],
   "source": [
    "df.country.unique()"
   ]
  },
  {
   "cell_type": "code",
   "execution_count": 45,
   "id": "racial-estonia",
   "metadata": {},
   "outputs": [
    {
     "data": {
      "text/html": [
       "<div>\n",
       "<style scoped>\n",
       "    .dataframe tbody tr th:only-of-type {\n",
       "        vertical-align: middle;\n",
       "    }\n",
       "\n",
       "    .dataframe tbody tr th {\n",
       "        vertical-align: top;\n",
       "    }\n",
       "\n",
       "    .dataframe thead th {\n",
       "        text-align: right;\n",
       "    }\n",
       "</style>\n",
       "<table border=\"1\" class=\"dataframe\">\n",
       "  <thead>\n",
       "    <tr style=\"text-align: right;\">\n",
       "      <th></th>\n",
       "      <th>start_date</th>\n",
       "      <th>country</th>\n",
       "      <th>excess_deaths</th>\n",
       "    </tr>\n",
       "  </thead>\n",
       "  <tbody>\n",
       "    <tr>\n",
       "      <th>2009</th>\n",
       "      <td>2020-01-06</td>\n",
       "      <td>Finland</td>\n",
       "      <td>-87.0</td>\n",
       "    </tr>\n",
       "    <tr>\n",
       "      <th>2010</th>\n",
       "      <td>2020-01-13</td>\n",
       "      <td>Finland</td>\n",
       "      <td>-71.0</td>\n",
       "    </tr>\n",
       "  </tbody>\n",
       "</table>\n",
       "</div>"
      ],
      "text/plain": [
       "      start_date  country  excess_deaths\n",
       "2009  2020-01-06  Finland          -87.0\n",
       "2010  2020-01-13  Finland          -71.0"
      ]
     },
     "execution_count": 45,
     "metadata": {},
     "output_type": "execute_result"
    }
   ],
   "source": [
    "countries = ['France','Finland']\n",
    "mask = df.country.isin(countries)\n",
    "df_sub = df.loc[mask, ['start_date','country','excess_deaths']]\n",
    "df_sub.head(2)"
   ]
  },
  {
   "cell_type": "markdown",
   "id": "numerical-content",
   "metadata": {},
   "source": [
    "### 2.A.1 Show unique countries"
   ]
  },
  {
   "cell_type": "code",
   "execution_count": 46,
   "id": "distinguished-warner",
   "metadata": {},
   "outputs": [
    {
     "data": {
      "text/plain": [
       "array(['Finland', 'France'], dtype=object)"
      ]
     },
     "execution_count": 46,
     "metadata": {},
     "output_type": "execute_result"
    }
   ],
   "source": [
    "df_sub.country.unique()"
   ]
  },
  {
   "cell_type": "markdown",
   "id": "impressive-idaho",
   "metadata": {},
   "source": [
    "## 2.1 Pivot table"
   ]
  },
  {
   "cell_type": "code",
   "execution_count": 49,
   "id": "fuzzy-corrections",
   "metadata": {},
   "outputs": [
    {
     "data": {
      "text/html": [
       "<div>\n",
       "<style scoped>\n",
       "    .dataframe tbody tr th:only-of-type {\n",
       "        vertical-align: middle;\n",
       "    }\n",
       "\n",
       "    .dataframe tbody tr th {\n",
       "        vertical-align: top;\n",
       "    }\n",
       "\n",
       "    .dataframe thead th {\n",
       "        text-align: right;\n",
       "    }\n",
       "</style>\n",
       "<table border=\"1\" class=\"dataframe\">\n",
       "  <thead>\n",
       "    <tr style=\"text-align: right;\">\n",
       "      <th>country</th>\n",
       "      <th>Finland</th>\n",
       "      <th>France</th>\n",
       "    </tr>\n",
       "    <tr>\n",
       "      <th>start_date</th>\n",
       "      <th></th>\n",
       "      <th></th>\n",
       "    </tr>\n",
       "  </thead>\n",
       "  <tbody>\n",
       "    <tr>\n",
       "      <th>2020-01-06</th>\n",
       "      <td>-87.0</td>\n",
       "      <td>-271.0</td>\n",
       "    </tr>\n",
       "    <tr>\n",
       "      <th>2020-01-13</th>\n",
       "      <td>-71.0</td>\n",
       "      <td>-857.0</td>\n",
       "    </tr>\n",
       "    <tr>\n",
       "      <th>2020-01-20</th>\n",
       "      <td>-73.0</td>\n",
       "      <td>-1090.0</td>\n",
       "    </tr>\n",
       "  </tbody>\n",
       "</table>\n",
       "</div>"
      ],
      "text/plain": [
       "country     Finland  France\n",
       "start_date                 \n",
       "2020-01-06    -87.0  -271.0\n",
       "2020-01-13    -71.0  -857.0\n",
       "2020-01-20    -73.0 -1090.0"
      ]
     },
     "execution_count": 49,
     "metadata": {},
     "output_type": "execute_result"
    }
   ],
   "source": [
    "df_sub = df_sub.pivot_table(\n",
    "    columns='country', \n",
    "    index='start_date', \n",
    "    values='excess_deaths')\n",
    "df_sub.head(3)"
   ]
  },
  {
   "cell_type": "code",
   "execution_count": 51,
   "id": "forty-ministry",
   "metadata": {},
   "outputs": [
    {
     "data": {
      "text/plain": [
       "Index(['2020-01-06', '2020-01-13', '2020-01-20'], dtype='object', name='start_date')"
      ]
     },
     "execution_count": 51,
     "metadata": {},
     "output_type": "execute_result"
    }
   ],
   "source": [
    "df_sub.index[:3]"
   ]
  },
  {
   "cell_type": "code",
   "execution_count": 74,
   "id": "fifth-differential",
   "metadata": {},
   "outputs": [
    {
     "data": {
      "text/plain": [
       "<matplotlib.legend.Legend at 0x7ff7583beca0>"
      ]
     },
     "execution_count": 74,
     "metadata": {},
     "output_type": "execute_result"
    },
    {
     "data": {
      "image/png": "[encoded data removed]",
      "text/plain": [
       "<Figure size 432x288 with 1 Axes>"
      ]
     },
     "metadata": {
      "needs_background": "light"
     },
     "output_type": "display_data"
    }
   ],
   "source": [
    "df_sub.plot()\n",
    "plt.title('This is a title')\n",
    "plt.xlabel('Date')\n",
    "plt.ylabel('Excess deaths')\n",
    "plt.legend(loc='upper center', ncol=2)"
   ]
  },
  {
   "cell_type": "markdown",
   "id": "dated-liechtenstein",
   "metadata": {},
   "source": [
    "# 3. Bar chart"
   ]
  },
  {
   "cell_type": "markdown",
   "id": "alien-russia",
   "metadata": {},
   "source": [
    "## 3.1 Subset data"
   ]
  },
  {
   "cell_type": "code",
   "execution_count": 54,
   "id": "likely-absolute",
   "metadata": {},
   "outputs": [
    {
     "data": {
      "text/plain": [
       "array(['2020-01-06', '2020-01-13', '2020-01-20'], dtype=object)"
      ]
     },
     "execution_count": 54,
     "metadata": {},
     "output_type": "execute_result"
    }
   ],
   "source": [
    "df.start_date.unique()[:3]"
   ]
  },
  {
   "cell_type": "code",
   "execution_count": 57,
   "id": "premium-harvard",
   "metadata": {},
   "outputs": [
    {
     "data": {
      "text/html": [
       "<div>\n",
       "<style scoped>\n",
       "    .dataframe tbody tr th:only-of-type {\n",
       "        vertical-align: middle;\n",
       "    }\n",
       "\n",
       "    .dataframe tbody tr th {\n",
       "        vertical-align: top;\n",
       "    }\n",
       "\n",
       "    .dataframe thead th {\n",
       "        text-align: right;\n",
       "    }\n",
       "</style>\n",
       "<table border=\"1\" class=\"dataframe\">\n",
       "  <thead>\n",
       "    <tr style=\"text-align: right;\">\n",
       "      <th></th>\n",
       "      <th>country</th>\n",
       "      <th>excess_deaths</th>\n",
       "    </tr>\n",
       "  </thead>\n",
       "  <tbody>\n",
       "    <tr>\n",
       "      <th>1</th>\n",
       "      <td>Austria</td>\n",
       "      <td>-22.0</td>\n",
       "    </tr>\n",
       "    <tr>\n",
       "      <th>559</th>\n",
       "      <td>Belgium</td>\n",
       "      <td>-114.0</td>\n",
       "    </tr>\n",
       "    <tr>\n",
       "      <th>1015</th>\n",
       "      <td>Chile</td>\n",
       "      <td>72.0</td>\n",
       "    </tr>\n",
       "  </tbody>\n",
       "</table>\n",
       "</div>"
      ],
      "text/plain": [
       "      country  excess_deaths\n",
       "1     Austria          -22.0\n",
       "559   Belgium         -114.0\n",
       "1015    Chile           72.0"
      ]
     },
     "execution_count": 57,
     "metadata": {},
     "output_type": "execute_result"
    }
   ],
   "source": [
    "mask = df.start_date=='2020-01-13'\n",
    "df_bar = df.loc[mask, ['country','excess_deaths']]\n",
    "df_bar.head(3)"
   ]
  },
  {
   "cell_type": "markdown",
   "id": "magnetic-alexandria",
   "metadata": {},
   "source": [
    "## 3.2 set index"
   ]
  },
  {
   "cell_type": "code",
   "execution_count": 59,
   "id": "editorial-clear",
   "metadata": {},
   "outputs": [
    {
     "data": {
      "text/html": [
       "<div>\n",
       "<style scoped>\n",
       "    .dataframe tbody tr th:only-of-type {\n",
       "        vertical-align: middle;\n",
       "    }\n",
       "\n",
       "    .dataframe tbody tr th {\n",
       "        vertical-align: top;\n",
       "    }\n",
       "\n",
       "    .dataframe thead th {\n",
       "        text-align: right;\n",
       "    }\n",
       "</style>\n",
       "<table border=\"1\" class=\"dataframe\">\n",
       "  <thead>\n",
       "    <tr style=\"text-align: right;\">\n",
       "      <th></th>\n",
       "      <th>excess_deaths</th>\n",
       "    </tr>\n",
       "    <tr>\n",
       "      <th>country</th>\n",
       "      <th></th>\n",
       "    </tr>\n",
       "  </thead>\n",
       "  <tbody>\n",
       "    <tr>\n",
       "      <th>Austria</th>\n",
       "      <td>-22.0</td>\n",
       "    </tr>\n",
       "    <tr>\n",
       "      <th>Belgium</th>\n",
       "      <td>-114.0</td>\n",
       "    </tr>\n",
       "    <tr>\n",
       "      <th>Chile</th>\n",
       "      <td>72.0</td>\n",
       "    </tr>\n",
       "  </tbody>\n",
       "</table>\n",
       "</div>"
      ],
      "text/plain": [
       "         excess_deaths\n",
       "country               \n",
       "Austria          -22.0\n",
       "Belgium         -114.0\n",
       "Chile             72.0"
      ]
     },
     "execution_count": 59,
     "metadata": {},
     "output_type": "execute_result"
    }
   ],
   "source": [
    "df_bar = df_bar.set_index('country')\n",
    "df_bar.head(3)"
   ]
  },
  {
   "cell_type": "markdown",
   "id": "loved-worse",
   "metadata": {},
   "source": [
    "### 3.2.1 Reset index"
   ]
  },
  {
   "cell_type": "code",
   "execution_count": 60,
   "id": "divided-elite",
   "metadata": {},
   "outputs": [
    {
     "data": {
      "text/plain": [
       "RangeIndex(start=0, stop=3, step=1)"
      ]
     },
     "execution_count": 60,
     "metadata": {},
     "output_type": "execute_result"
    }
   ],
   "source": [
    "df_bar = df_bar.reset_index()\n",
    "df_bar.index[:3]"
   ]
  },
  {
   "cell_type": "code",
   "execution_count": 61,
   "id": "assured-copyright",
   "metadata": {},
   "outputs": [
    {
     "data": {
      "text/html": [
       "<div>\n",
       "<style scoped>\n",
       "    .dataframe tbody tr th:only-of-type {\n",
       "        vertical-align: middle;\n",
       "    }\n",
       "\n",
       "    .dataframe tbody tr th {\n",
       "        vertical-align: top;\n",
       "    }\n",
       "\n",
       "    .dataframe thead th {\n",
       "        text-align: right;\n",
       "    }\n",
       "</style>\n",
       "<table border=\"1\" class=\"dataframe\">\n",
       "  <thead>\n",
       "    <tr style=\"text-align: right;\">\n",
       "      <th></th>\n",
       "      <th>excess_deaths</th>\n",
       "    </tr>\n",
       "    <tr>\n",
       "      <th>country</th>\n",
       "      <th></th>\n",
       "    </tr>\n",
       "  </thead>\n",
       "  <tbody>\n",
       "    <tr>\n",
       "      <th>Austria</th>\n",
       "      <td>-22.0</td>\n",
       "    </tr>\n",
       "    <tr>\n",
       "      <th>Belgium</th>\n",
       "      <td>-114.0</td>\n",
       "    </tr>\n",
       "    <tr>\n",
       "      <th>Chile</th>\n",
       "      <td>72.0</td>\n",
       "    </tr>\n",
       "  </tbody>\n",
       "</table>\n",
       "</div>"
      ],
      "text/plain": [
       "         excess_deaths\n",
       "country               \n",
       "Austria          -22.0\n",
       "Belgium         -114.0\n",
       "Chile             72.0"
      ]
     },
     "execution_count": 61,
     "metadata": {},
     "output_type": "execute_result"
    }
   ],
   "source": [
    "df_bar = df_bar.set_index('country')\n",
    "df_bar.head(3)"
   ]
  },
  {
   "cell_type": "markdown",
   "id": "extra-soccer",
   "metadata": {},
   "source": [
    "## 3.3 Plot"
   ]
  },
  {
   "cell_type": "code",
   "execution_count": 64,
   "id": "another-alcohol",
   "metadata": {},
   "outputs": [
    {
     "data": {
      "text/plain": [
       "Text(0, 0.5, 'Excess deaths')"
      ]
     },
     "execution_count": 64,
     "metadata": {},
     "output_type": "execute_result"
    },
    {
     "data": {
      "image/png": "[encoded data removed]",
      "text/plain": [
       "<Figure size 432x288 with 1 Axes>"
      ]
     },
     "metadata": {
      "needs_background": "light"
     },
     "output_type": "display_data"
    }
   ],
   "source": [
    "df_bar.plot(kind='bar')\n",
    "plt.title('This is a title')\n",
    "plt.xlabel('Country')\n",
    "plt.ylabel('Excess deaths')"
   ]
  },
  {
   "cell_type": "markdown",
   "id": "prerequisite-emission",
   "metadata": {},
   "source": [
    "# 4. Resampling"
   ]
  },
  {
   "cell_type": "markdown",
   "id": "terminal-platinum",
   "metadata": {},
   "source": [
    "## 4.1 Import data"
   ]
  },
  {
   "cell_type": "code",
   "execution_count": 83,
   "id": "changing-illinois",
   "metadata": {},
   "outputs": [
    {
     "data": {
      "text/html": [
       "<div>\n",
       "<style scoped>\n",
       "    .dataframe tbody tr th:only-of-type {\n",
       "        vertical-align: middle;\n",
       "    }\n",
       "\n",
       "    .dataframe tbody tr th {\n",
       "        vertical-align: top;\n",
       "    }\n",
       "\n",
       "    .dataframe thead th {\n",
       "        text-align: right;\n",
       "    }\n",
       "</style>\n",
       "<table border=\"1\" class=\"dataframe\">\n",
       "  <thead>\n",
       "    <tr style=\"text-align: right;\">\n",
       "      <th></th>\n",
       "      <th>state</th>\n",
       "      <th>fips</th>\n",
       "      <th>cases</th>\n",
       "      <th>deaths</th>\n",
       "    </tr>\n",
       "    <tr>\n",
       "      <th>date</th>\n",
       "      <th></th>\n",
       "      <th></th>\n",
       "      <th></th>\n",
       "      <th></th>\n",
       "    </tr>\n",
       "  </thead>\n",
       "  <tbody>\n",
       "    <tr>\n",
       "      <th>2020-01-21</th>\n",
       "      <td>Washington</td>\n",
       "      <td>53</td>\n",
       "      <td>1</td>\n",
       "      <td>0</td>\n",
       "    </tr>\n",
       "    <tr>\n",
       "      <th>2020-01-22</th>\n",
       "      <td>Washington</td>\n",
       "      <td>53</td>\n",
       "      <td>1</td>\n",
       "      <td>0</td>\n",
       "    </tr>\n",
       "    <tr>\n",
       "      <th>2020-01-23</th>\n",
       "      <td>Washington</td>\n",
       "      <td>53</td>\n",
       "      <td>1</td>\n",
       "      <td>0</td>\n",
       "    </tr>\n",
       "  </tbody>\n",
       "</table>\n",
       "</div>"
      ],
      "text/plain": [
       "                 state  fips  cases  deaths\n",
       "date                                       \n",
       "2020-01-21  Washington    53      1       0\n",
       "2020-01-22  Washington    53      1       0\n",
       "2020-01-23  Washington    53      1       0"
      ]
     },
     "execution_count": 83,
     "metadata": {},
     "output_type": "execute_result"
    }
   ],
   "source": [
    "url = 'https://raw.githubusercontent.com/nytimes/covid-19-data/master/us-states.csv'\n",
    "df_nyt = pd.read_csv(url, parse_dates=True, index_col='date')\n",
    "df_nyt.head(3)"
   ]
  },
  {
   "cell_type": "markdown",
   "id": "optimum-poverty",
   "metadata": {},
   "source": [
    "## 4.2 Drop columns"
   ]
  },
  {
   "cell_type": "code",
   "execution_count": 84,
   "id": "amino-privacy",
   "metadata": {},
   "outputs": [
    {
     "data": {
      "text/html": [
       "<div>\n",
       "<style scoped>\n",
       "    .dataframe tbody tr th:only-of-type {\n",
       "        vertical-align: middle;\n",
       "    }\n",
       "\n",
       "    .dataframe tbody tr th {\n",
       "        vertical-align: top;\n",
       "    }\n",
       "\n",
       "    .dataframe thead th {\n",
       "        text-align: right;\n",
       "    }\n",
       "</style>\n",
       "<table border=\"1\" class=\"dataframe\">\n",
       "  <thead>\n",
       "    <tr style=\"text-align: right;\">\n",
       "      <th></th>\n",
       "      <th>state</th>\n",
       "      <th>cases</th>\n",
       "      <th>deaths</th>\n",
       "    </tr>\n",
       "    <tr>\n",
       "      <th>date</th>\n",
       "      <th></th>\n",
       "      <th></th>\n",
       "      <th></th>\n",
       "    </tr>\n",
       "  </thead>\n",
       "  <tbody>\n",
       "    <tr>\n",
       "      <th>2020-01-21</th>\n",
       "      <td>Washington</td>\n",
       "      <td>1</td>\n",
       "      <td>0</td>\n",
       "    </tr>\n",
       "    <tr>\n",
       "      <th>2020-01-22</th>\n",
       "      <td>Washington</td>\n",
       "      <td>1</td>\n",
       "      <td>0</td>\n",
       "    </tr>\n",
       "  </tbody>\n",
       "</table>\n",
       "</div>"
      ],
      "text/plain": [
       "                 state  cases  deaths\n",
       "date                                 \n",
       "2020-01-21  Washington      1       0\n",
       "2020-01-22  Washington      1       0"
      ]
     },
     "execution_count": 84,
     "metadata": {},
     "output_type": "execute_result"
    }
   ],
   "source": [
    "df_nyt_case = df_nyt.drop(['fips'], axis=1)\n",
    "df_nyt_case.head(2)"
   ]
  },
  {
   "cell_type": "markdown",
   "id": "aboriginal-credits",
   "metadata": {},
   "source": [
    "## 4.3 Reset index"
   ]
  },
  {
   "cell_type": "code",
   "execution_count": 85,
   "id": "ordered-solid",
   "metadata": {},
   "outputs": [
    {
     "data": {
      "text/html": [
       "<div>\n",
       "<style scoped>\n",
       "    .dataframe tbody tr th:only-of-type {\n",
       "        vertical-align: middle;\n",
       "    }\n",
       "\n",
       "    .dataframe tbody tr th {\n",
       "        vertical-align: top;\n",
       "    }\n",
       "\n",
       "    .dataframe thead th {\n",
       "        text-align: right;\n",
       "    }\n",
       "</style>\n",
       "<table border=\"1\" class=\"dataframe\">\n",
       "  <thead>\n",
       "    <tr style=\"text-align: right;\">\n",
       "      <th></th>\n",
       "      <th>date</th>\n",
       "      <th>state</th>\n",
       "      <th>cases</th>\n",
       "      <th>deaths</th>\n",
       "    </tr>\n",
       "  </thead>\n",
       "  <tbody>\n",
       "    <tr>\n",
       "      <th>0</th>\n",
       "      <td>2020-01-21</td>\n",
       "      <td>Washington</td>\n",
       "      <td>1</td>\n",
       "      <td>0</td>\n",
       "    </tr>\n",
       "    <tr>\n",
       "      <th>1</th>\n",
       "      <td>2020-01-22</td>\n",
       "      <td>Washington</td>\n",
       "      <td>1</td>\n",
       "      <td>0</td>\n",
       "    </tr>\n",
       "  </tbody>\n",
       "</table>\n",
       "</div>"
      ],
      "text/plain": [
       "        date       state  cases  deaths\n",
       "0 2020-01-21  Washington      1       0\n",
       "1 2020-01-22  Washington      1       0"
      ]
     },
     "execution_count": 85,
     "metadata": {},
     "output_type": "execute_result"
    }
   ],
   "source": [
    "df_nyt_case = df_nyt_case.reset_index()\n",
    "df_nyt_case.head(2)"
   ]
  },
  {
   "cell_type": "markdown",
   "id": "promising-swedish",
   "metadata": {},
   "source": [
    "## 4.4 Pivot table"
   ]
  },
  {
   "cell_type": "code",
   "execution_count": 87,
   "id": "sensitive-synthetic",
   "metadata": {},
   "outputs": [
    {
     "data": {
      "text/html": [
       "<div>\n",
       "<style scoped>\n",
       "    .dataframe tbody tr th:only-of-type {\n",
       "        vertical-align: middle;\n",
       "    }\n",
       "\n",
       "    .dataframe tbody tr th {\n",
       "        vertical-align: top;\n",
       "    }\n",
       "\n",
       "    .dataframe thead th {\n",
       "        text-align: right;\n",
       "    }\n",
       "</style>\n",
       "<table border=\"1\" class=\"dataframe\">\n",
       "  <thead>\n",
       "    <tr style=\"text-align: right;\">\n",
       "      <th>state</th>\n",
       "      <th>Alabama</th>\n",
       "      <th>Alaska</th>\n",
       "      <th>American Samoa</th>\n",
       "      <th>Arizona</th>\n",
       "      <th>Arkansas</th>\n",
       "      <th>California</th>\n",
       "      <th>Colorado</th>\n",
       "      <th>Connecticut</th>\n",
       "      <th>Delaware</th>\n",
       "      <th>District of Columbia</th>\n",
       "      <th>...</th>\n",
       "      <th>Tennessee</th>\n",
       "      <th>Texas</th>\n",
       "      <th>Utah</th>\n",
       "      <th>Vermont</th>\n",
       "      <th>Virgin Islands</th>\n",
       "      <th>Virginia</th>\n",
       "      <th>Washington</th>\n",
       "      <th>West Virginia</th>\n",
       "      <th>Wisconsin</th>\n",
       "      <th>Wyoming</th>\n",
       "    </tr>\n",
       "    <tr>\n",
       "      <th>date</th>\n",
       "      <th></th>\n",
       "      <th></th>\n",
       "      <th></th>\n",
       "      <th></th>\n",
       "      <th></th>\n",
       "      <th></th>\n",
       "      <th></th>\n",
       "      <th></th>\n",
       "      <th></th>\n",
       "      <th></th>\n",
       "      <th></th>\n",
       "      <th></th>\n",
       "      <th></th>\n",
       "      <th></th>\n",
       "      <th></th>\n",
       "      <th></th>\n",
       "      <th></th>\n",
       "      <th></th>\n",
       "      <th></th>\n",
       "      <th></th>\n",
       "      <th></th>\n",
       "    </tr>\n",
       "  </thead>\n",
       "  <tbody>\n",
       "    <tr>\n",
       "      <th>2020-01-21</th>\n",
       "      <td>NaN</td>\n",
       "      <td>NaN</td>\n",
       "      <td>NaN</td>\n",
       "      <td>NaN</td>\n",
       "      <td>NaN</td>\n",
       "      <td>NaN</td>\n",
       "      <td>NaN</td>\n",
       "      <td>NaN</td>\n",
       "      <td>NaN</td>\n",
       "      <td>NaN</td>\n",
       "      <td>...</td>\n",
       "      <td>NaN</td>\n",
       "      <td>NaN</td>\n",
       "      <td>NaN</td>\n",
       "      <td>NaN</td>\n",
       "      <td>NaN</td>\n",
       "      <td>NaN</td>\n",
       "      <td>1.0</td>\n",
       "      <td>NaN</td>\n",
       "      <td>NaN</td>\n",
       "      <td>NaN</td>\n",
       "    </tr>\n",
       "    <tr>\n",
       "      <th>2020-01-22</th>\n",
       "      <td>NaN</td>\n",
       "      <td>NaN</td>\n",
       "      <td>NaN</td>\n",
       "      <td>NaN</td>\n",
       "      <td>NaN</td>\n",
       "      <td>NaN</td>\n",
       "      <td>NaN</td>\n",
       "      <td>NaN</td>\n",
       "      <td>NaN</td>\n",
       "      <td>NaN</td>\n",
       "      <td>...</td>\n",
       "      <td>NaN</td>\n",
       "      <td>NaN</td>\n",
       "      <td>NaN</td>\n",
       "      <td>NaN</td>\n",
       "      <td>NaN</td>\n",
       "      <td>NaN</td>\n",
       "      <td>1.0</td>\n",
       "      <td>NaN</td>\n",
       "      <td>NaN</td>\n",
       "      <td>NaN</td>\n",
       "    </tr>\n",
       "  </tbody>\n",
       "</table>\n",
       "<p>2 rows × 56 columns</p>\n",
       "</div>"
      ],
      "text/plain": [
       "state       Alabama  Alaska  American Samoa  Arizona  Arkansas  California  \\\n",
       "date                                                                         \n",
       "2020-01-21      NaN     NaN             NaN      NaN       NaN         NaN   \n",
       "2020-01-22      NaN     NaN             NaN      NaN       NaN         NaN   \n",
       "\n",
       "state       Colorado  Connecticut  Delaware  District of Columbia  ...  \\\n",
       "date                                                               ...   \n",
       "2020-01-21       NaN          NaN       NaN                   NaN  ...   \n",
       "2020-01-22       NaN          NaN       NaN                   NaN  ...   \n",
       "\n",
       "state       Tennessee  Texas  Utah  Vermont  Virgin Islands  Virginia  \\\n",
       "date                                                                    \n",
       "2020-01-21        NaN    NaN   NaN      NaN             NaN       NaN   \n",
       "2020-01-22        NaN    NaN   NaN      NaN             NaN       NaN   \n",
       "\n",
       "state       Washington  West Virginia  Wisconsin  Wyoming  \n",
       "date                                                       \n",
       "2020-01-21         1.0            NaN        NaN      NaN  \n",
       "2020-01-22         1.0            NaN        NaN      NaN  \n",
       "\n",
       "[2 rows x 56 columns]"
      ]
     },
     "execution_count": 87,
     "metadata": {},
     "output_type": "execute_result"
    }
   ],
   "source": [
    "df_nyt_case = df_nyt_case.pivot_table(index='date', \n",
    "                        columns='state', \n",
    "                        values='cases')\n",
    "df_nyt_case.head(2)"
   ]
  },
  {
   "cell_type": "markdown",
   "id": "complete-cover",
   "metadata": {},
   "source": [
    "## 4.5 Drop nas"
   ]
  },
  {
   "cell_type": "code",
   "execution_count": 89,
   "id": "adequate-privilege",
   "metadata": {},
   "outputs": [
    {
     "data": {
      "text/html": [
       "<div>\n",
       "<style scoped>\n",
       "    .dataframe tbody tr th:only-of-type {\n",
       "        vertical-align: middle;\n",
       "    }\n",
       "\n",
       "    .dataframe tbody tr th {\n",
       "        vertical-align: top;\n",
       "    }\n",
       "\n",
       "    .dataframe thead th {\n",
       "        text-align: right;\n",
       "    }\n",
       "</style>\n",
       "<table border=\"1\" class=\"dataframe\">\n",
       "  <thead>\n",
       "    <tr style=\"text-align: right;\">\n",
       "      <th>state</th>\n",
       "      <th>Alabama</th>\n",
       "      <th>Alaska</th>\n",
       "      <th>American Samoa</th>\n",
       "      <th>Arizona</th>\n",
       "      <th>Arkansas</th>\n",
       "      <th>California</th>\n",
       "      <th>Colorado</th>\n",
       "      <th>Connecticut</th>\n",
       "      <th>Delaware</th>\n",
       "      <th>District of Columbia</th>\n",
       "      <th>...</th>\n",
       "      <th>Tennessee</th>\n",
       "      <th>Texas</th>\n",
       "      <th>Utah</th>\n",
       "      <th>Vermont</th>\n",
       "      <th>Virgin Islands</th>\n",
       "      <th>Virginia</th>\n",
       "      <th>Washington</th>\n",
       "      <th>West Virginia</th>\n",
       "      <th>Wisconsin</th>\n",
       "      <th>Wyoming</th>\n",
       "    </tr>\n",
       "    <tr>\n",
       "      <th>date</th>\n",
       "      <th></th>\n",
       "      <th></th>\n",
       "      <th></th>\n",
       "      <th></th>\n",
       "      <th></th>\n",
       "      <th></th>\n",
       "      <th></th>\n",
       "      <th></th>\n",
       "      <th></th>\n",
       "      <th></th>\n",
       "      <th></th>\n",
       "      <th></th>\n",
       "      <th></th>\n",
       "      <th></th>\n",
       "      <th></th>\n",
       "      <th></th>\n",
       "      <th></th>\n",
       "      <th></th>\n",
       "      <th></th>\n",
       "      <th></th>\n",
       "      <th></th>\n",
       "    </tr>\n",
       "  </thead>\n",
       "  <tbody>\n",
       "    <tr>\n",
       "      <th>2021-09-22</th>\n",
       "      <td>778549.0</td>\n",
       "      <td>103795.0</td>\n",
       "      <td>1.0</td>\n",
       "      <td>1072863.0</td>\n",
       "      <td>488316.0</td>\n",
       "      <td>4677452.0</td>\n",
       "      <td>660023.0</td>\n",
       "      <td>386672.0</td>\n",
       "      <td>129231.0</td>\n",
       "      <td>59849.0</td>\n",
       "      <td>...</td>\n",
       "      <td>1172596.0</td>\n",
       "      <td>3972002.0</td>\n",
       "      <td>497521.0</td>\n",
       "      <td>32079.0</td>\n",
       "      <td>6557.0</td>\n",
       "      <td>843212.0</td>\n",
       "      <td>635636.0</td>\n",
       "      <td>227506.0</td>\n",
       "      <td>787194.0</td>\n",
       "      <td>86594.0</td>\n",
       "    </tr>\n",
       "    <tr>\n",
       "      <th>2021-09-23</th>\n",
       "      <td>781915.0</td>\n",
       "      <td>105110.0</td>\n",
       "      <td>1.0</td>\n",
       "      <td>1075876.0</td>\n",
       "      <td>489856.0</td>\n",
       "      <td>4687178.0</td>\n",
       "      <td>662451.0</td>\n",
       "      <td>387263.0</td>\n",
       "      <td>129874.0</td>\n",
       "      <td>60018.0</td>\n",
       "      <td>...</td>\n",
       "      <td>1176400.0</td>\n",
       "      <td>3982646.0</td>\n",
       "      <td>499120.0</td>\n",
       "      <td>32368.0</td>\n",
       "      <td>6557.0</td>\n",
       "      <td>846979.0</td>\n",
       "      <td>640094.0</td>\n",
       "      <td>228983.0</td>\n",
       "      <td>790787.0</td>\n",
       "      <td>87351.0</td>\n",
       "    </tr>\n",
       "    <tr>\n",
       "      <th>2021-09-24</th>\n",
       "      <td>784484.0</td>\n",
       "      <td>106888.0</td>\n",
       "      <td>1.0</td>\n",
       "      <td>1078874.0</td>\n",
       "      <td>491221.0</td>\n",
       "      <td>4694673.0</td>\n",
       "      <td>664010.0</td>\n",
       "      <td>387733.0</td>\n",
       "      <td>130444.0</td>\n",
       "      <td>60205.0</td>\n",
       "      <td>...</td>\n",
       "      <td>1181691.0</td>\n",
       "      <td>3999392.0</td>\n",
       "      <td>500792.0</td>\n",
       "      <td>32610.0</td>\n",
       "      <td>6557.0</td>\n",
       "      <td>849865.0</td>\n",
       "      <td>643183.0</td>\n",
       "      <td>231668.0</td>\n",
       "      <td>793981.0</td>\n",
       "      <td>87866.0</td>\n",
       "    </tr>\n",
       "  </tbody>\n",
       "</table>\n",
       "<p>3 rows × 56 columns</p>\n",
       "</div>"
      ],
      "text/plain": [
       "state        Alabama    Alaska  American Samoa    Arizona  Arkansas  \\\n",
       "date                                                                  \n",
       "2021-09-22  778549.0  103795.0             1.0  1072863.0  488316.0   \n",
       "2021-09-23  781915.0  105110.0             1.0  1075876.0  489856.0   \n",
       "2021-09-24  784484.0  106888.0             1.0  1078874.0  491221.0   \n",
       "\n",
       "state       California  Colorado  Connecticut  Delaware  District of Columbia  \\\n",
       "date                                                                            \n",
       "2021-09-22   4677452.0  660023.0     386672.0  129231.0               59849.0   \n",
       "2021-09-23   4687178.0  662451.0     387263.0  129874.0               60018.0   \n",
       "2021-09-24   4694673.0  664010.0     387733.0  130444.0               60205.0   \n",
       "\n",
       "state       ...  Tennessee      Texas      Utah  Vermont  Virgin Islands  \\\n",
       "date        ...                                                            \n",
       "2021-09-22  ...  1172596.0  3972002.0  497521.0  32079.0          6557.0   \n",
       "2021-09-23  ...  1176400.0  3982646.0  499120.0  32368.0          6557.0   \n",
       "2021-09-24  ...  1181691.0  3999392.0  500792.0  32610.0          6557.0   \n",
       "\n",
       "state       Virginia  Washington  West Virginia  Wisconsin  Wyoming  \n",
       "date                                                                 \n",
       "2021-09-22  843212.0    635636.0       227506.0   787194.0  86594.0  \n",
       "2021-09-23  846979.0    640094.0       228983.0   790787.0  87351.0  \n",
       "2021-09-24  849865.0    643183.0       231668.0   793981.0  87866.0  \n",
       "\n",
       "[3 rows x 56 columns]"
      ]
     },
     "execution_count": 89,
     "metadata": {},
     "output_type": "execute_result"
    }
   ],
   "source": [
    "df_nyt_case = df_nyt_case.dropna()\n",
    "df_nyt_case.head(3)"
   ]
  },
  {
   "cell_type": "markdown",
   "id": "medical-brooklyn",
   "metadata": {},
   "source": [
    "## 4.6 Resample by year"
   ]
  },
  {
   "cell_type": "code",
   "execution_count": 92,
   "id": "pregnant-tuition",
   "metadata": {},
   "outputs": [
    {
     "data": {
      "text/html": [
       "<div>\n",
       "<style scoped>\n",
       "    .dataframe tbody tr th:only-of-type {\n",
       "        vertical-align: middle;\n",
       "    }\n",
       "\n",
       "    .dataframe tbody tr th {\n",
       "        vertical-align: top;\n",
       "    }\n",
       "\n",
       "    .dataframe thead th {\n",
       "        text-align: right;\n",
       "    }\n",
       "</style>\n",
       "<table border=\"1\" class=\"dataframe\">\n",
       "  <thead>\n",
       "    <tr style=\"text-align: right;\">\n",
       "      <th>state</th>\n",
       "      <th>Alabama</th>\n",
       "      <th>Alaska</th>\n",
       "      <th>American Samoa</th>\n",
       "      <th>Arizona</th>\n",
       "      <th>Arkansas</th>\n",
       "      <th>California</th>\n",
       "      <th>Colorado</th>\n",
       "      <th>Connecticut</th>\n",
       "      <th>Delaware</th>\n",
       "      <th>District of Columbia</th>\n",
       "      <th>...</th>\n",
       "      <th>Tennessee</th>\n",
       "      <th>Texas</th>\n",
       "      <th>Utah</th>\n",
       "      <th>Vermont</th>\n",
       "      <th>Virgin Islands</th>\n",
       "      <th>Virginia</th>\n",
       "      <th>Washington</th>\n",
       "      <th>West Virginia</th>\n",
       "      <th>Wisconsin</th>\n",
       "      <th>Wyoming</th>\n",
       "    </tr>\n",
       "    <tr>\n",
       "      <th>date</th>\n",
       "      <th></th>\n",
       "      <th></th>\n",
       "      <th></th>\n",
       "      <th></th>\n",
       "      <th></th>\n",
       "      <th></th>\n",
       "      <th></th>\n",
       "      <th></th>\n",
       "      <th></th>\n",
       "      <th></th>\n",
       "      <th></th>\n",
       "      <th></th>\n",
       "      <th></th>\n",
       "      <th></th>\n",
       "      <th></th>\n",
       "      <th></th>\n",
       "      <th></th>\n",
       "      <th></th>\n",
       "      <th></th>\n",
       "      <th></th>\n",
       "      <th></th>\n",
       "    </tr>\n",
       "  </thead>\n",
       "  <tbody>\n",
       "    <tr>\n",
       "      <th>2021-12-31</th>\n",
       "      <td>84164032.0</td>\n",
       "      <td>14003883.0</td>\n",
       "      <td>101.0</td>\n",
       "      <td>122564066.0</td>\n",
       "      <td>52565636.0</td>\n",
       "      <td>504395829.0</td>\n",
       "      <td>78901295.0</td>\n",
       "      <td>42282863.0</td>\n",
       "      <td>15050525.0</td>\n",
       "      <td>6779376.0</td>\n",
       "      <td>...</td>\n",
       "      <td>127861110.0</td>\n",
       "      <td>430672634.0</td>\n",
       "      <td>57332107.0</td>\n",
       "      <td>4570129.0</td>\n",
       "      <td>739746.0</td>\n",
       "      <td>95643036.0</td>\n",
       "      <td>75118838.0</td>\n",
       "      <td>28298051.0</td>\n",
       "      <td>93989524.0</td>\n",
       "      <td>10562337.0</td>\n",
       "    </tr>\n",
       "    <tr>\n",
       "      <th>2022-12-31</th>\n",
       "      <td>31392824.0</td>\n",
       "      <td>5409630.0</td>\n",
       "      <td>30.0</td>\n",
       "      <td>48152385.0</td>\n",
       "      <td>20186466.0</td>\n",
       "      <td>207976847.0</td>\n",
       "      <td>33156444.0</td>\n",
       "      <td>18814968.0</td>\n",
       "      <td>6626182.0</td>\n",
       "      <td>3568576.0</td>\n",
       "      <td>...</td>\n",
       "      <td>47582370.0</td>\n",
       "      <td>163476079.0</td>\n",
       "      <td>22802848.0</td>\n",
       "      <td>2594747.0</td>\n",
       "      <td>388445.0</td>\n",
       "      <td>40486827.0</td>\n",
       "      <td>31995505.0</td>\n",
       "      <td>11557759.0</td>\n",
       "      <td>39679666.0</td>\n",
       "      <td>3858375.0</td>\n",
       "    </tr>\n",
       "  </tbody>\n",
       "</table>\n",
       "<p>2 rows × 56 columns</p>\n",
       "</div>"
      ],
      "text/plain": [
       "state          Alabama      Alaska  American Samoa      Arizona    Arkansas  \\\n",
       "date                                                                          \n",
       "2021-12-31  84164032.0  14003883.0           101.0  122564066.0  52565636.0   \n",
       "2022-12-31  31392824.0   5409630.0            30.0   48152385.0  20186466.0   \n",
       "\n",
       "state        California    Colorado  Connecticut    Delaware  \\\n",
       "date                                                           \n",
       "2021-12-31  504395829.0  78901295.0   42282863.0  15050525.0   \n",
       "2022-12-31  207976847.0  33156444.0   18814968.0   6626182.0   \n",
       "\n",
       "state       District of Columbia  ...    Tennessee        Texas        Utah  \\\n",
       "date                              ...                                         \n",
       "2021-12-31             6779376.0  ...  127861110.0  430672634.0  57332107.0   \n",
       "2022-12-31             3568576.0  ...   47582370.0  163476079.0  22802848.0   \n",
       "\n",
       "state         Vermont  Virgin Islands    Virginia  Washington  West Virginia  \\\n",
       "date                                                                           \n",
       "2021-12-31  4570129.0        739746.0  95643036.0  75118838.0     28298051.0   \n",
       "2022-12-31  2594747.0        388445.0  40486827.0  31995505.0     11557759.0   \n",
       "\n",
       "state        Wisconsin     Wyoming  \n",
       "date                                \n",
       "2021-12-31  93989524.0  10562337.0  \n",
       "2022-12-31  39679666.0   3858375.0  \n",
       "\n",
       "[2 rows x 56 columns]"
      ]
     },
     "execution_count": 92,
     "metadata": {},
     "output_type": "execute_result"
    }
   ],
   "source": [
    "df_nyt_case = df_nyt_case.resample('A').sum()\n",
    "df_nyt_case"
   ]
  },
  {
   "cell_type": "markdown",
   "id": "protecting-lodge",
   "metadata": {},
   "source": [
    "## 4.7 Transpose"
   ]
  },
  {
   "cell_type": "code",
   "execution_count": 100,
   "id": "annoying-feelings",
   "metadata": {},
   "outputs": [
    {
     "data": {
      "text/html": [
       "<div>\n",
       "<style scoped>\n",
       "    .dataframe tbody tr th:only-of-type {\n",
       "        vertical-align: middle;\n",
       "    }\n",
       "\n",
       "    .dataframe tbody tr th {\n",
       "        vertical-align: top;\n",
       "    }\n",
       "\n",
       "    .dataframe thead th {\n",
       "        text-align: right;\n",
       "    }\n",
       "</style>\n",
       "<table border=\"1\" class=\"dataframe\">\n",
       "  <thead>\n",
       "    <tr style=\"text-align: right;\">\n",
       "      <th></th>\n",
       "      <th>2021</th>\n",
       "      <th>2022</th>\n",
       "    </tr>\n",
       "    <tr>\n",
       "      <th>state</th>\n",
       "      <th></th>\n",
       "      <th></th>\n",
       "    </tr>\n",
       "  </thead>\n",
       "  <tbody>\n",
       "    <tr>\n",
       "      <th>Alabama</th>\n",
       "      <td>84164032.0</td>\n",
       "      <td>31392824.0</td>\n",
       "    </tr>\n",
       "    <tr>\n",
       "      <th>Alaska</th>\n",
       "      <td>14003883.0</td>\n",
       "      <td>5409630.0</td>\n",
       "    </tr>\n",
       "  </tbody>\n",
       "</table>\n",
       "</div>"
      ],
      "text/plain": [
       "               2021        2022\n",
       "state                          \n",
       "Alabama  84164032.0  31392824.0\n",
       "Alaska   14003883.0   5409630.0"
      ]
     },
     "execution_count": 100,
     "metadata": {},
     "output_type": "execute_result"
    }
   ],
   "source": [
    "df_nyt_case = df_nyt_case.transpose()\n",
    "df_nyt_case.columns = ['2021', '2022']\n",
    "df_nyt_case.head(2)"
   ]
  },
  {
   "cell_type": "markdown",
   "id": "statewide-kingdom",
   "metadata": {},
   "source": [
    "## 4.8 Scatter"
   ]
  },
  {
   "cell_type": "code",
   "execution_count": 104,
   "id": "historical-anniversary",
   "metadata": {},
   "outputs": [
    {
     "data": {
      "text/plain": [
       "<matplotlib.collections.PathCollection at 0x7ff769100eb0>"
      ]
     },
     "execution_count": 104,
     "metadata": {},
     "output_type": "execute_result"
    },
    {
     "data": {
      "image/png": "[encoded data removed]",
      "text/plain": [
       "<Figure size 432x288 with 1 Axes>"
      ]
     },
     "metadata": {
      "needs_background": "light"
     },
     "output_type": "display_data"
    }
   ],
   "source": [
    "plt.scatter(x = '2021', \n",
    "            y = '2022', ,\n",
    "            data = df_nyt_case)"
   ]
  },
  {
   "cell_type": "markdown",
   "id": "angry-vatican",
   "metadata": {},
   "source": [
    "# 5. Advanced "
   ]
  },
  {
   "cell_type": "code",
   "execution_count": 105,
   "id": "southeast-freight",
   "metadata": {},
   "outputs": [
    {
     "data": {
      "text/html": [
       "<div>\n",
       "<style scoped>\n",
       "    .dataframe tbody tr th:only-of-type {\n",
       "        vertical-align: middle;\n",
       "    }\n",
       "\n",
       "    .dataframe tbody tr th {\n",
       "        vertical-align: top;\n",
       "    }\n",
       "\n",
       "    .dataframe thead th {\n",
       "        text-align: right;\n",
       "    }\n",
       "</style>\n",
       "<table border=\"1\" class=\"dataframe\">\n",
       "  <thead>\n",
       "    <tr style=\"text-align: right;\">\n",
       "      <th></th>\n",
       "      <th>1st</th>\n",
       "      <th>2nd</th>\n",
       "      <th>3rd</th>\n",
       "      <th>4th</th>\n",
       "    </tr>\n",
       "  </thead>\n",
       "  <tbody>\n",
       "    <tr>\n",
       "      <th>1997-01-01</th>\n",
       "      <td>NaN</td>\n",
       "      <td>NaN</td>\n",
       "      <td>NaN</td>\n",
       "      <td>NaN</td>\n",
       "    </tr>\n",
       "    <tr>\n",
       "      <th>1997-02-01</th>\n",
       "      <td>NaN</td>\n",
       "      <td>NaN</td>\n",
       "      <td>NaN</td>\n",
       "      <td>NaN</td>\n",
       "    </tr>\n",
       "  </tbody>\n",
       "</table>\n",
       "</div>"
      ],
      "text/plain": [
       "            1st  2nd  3rd  4th\n",
       "1997-01-01  NaN  NaN  NaN  NaN\n",
       "1997-02-01  NaN  NaN  NaN  NaN"
      ]
     },
     "execution_count": 105,
     "metadata": {},
     "output_type": "execute_result"
    }
   ],
   "source": [
    "url = 'https://www.atlantafed.org/-/media/documents/datafiles/chcs/wage-growth-tracker/wage-growth-data.xlsx'\n",
    "wage = pd.read_excel(url, \n",
    "                     sheet_name='Average Wage Quartile', \n",
    "                     header=2, \n",
    "                     index_col=0,\n",
    "                     usecols=[0,1,2,3,4]\n",
    "                    )\n",
    "\n",
    "wage = wage.replace('.','NaN')\n",
    "wage.head(2)"
   ]
  },
  {
   "cell_type": "code",
   "execution_count": 106,
   "id": "listed-realtor",
   "metadata": {},
   "outputs": [
    {
     "data": {
      "text/plain": [
       "Text(0.5, 1.0, 'Wages for lowest earners (1st quartile) are rising faster than other groups')"
      ]
     },
     "execution_count": 106,
     "metadata": {},
     "output_type": "execute_result"
    },
    {
     "data": {
      "image/png": "[encoded data removed]",
      "text/plain": [
       "<Figure size 432x288 with 1 Axes>"
      ]
     },
     "metadata": {
      "needs_background": "light"
     },
     "output_type": "display_data"
    }
   ],
   "source": [
    "ax =wage['1998':].plot()\n",
    "plt.legend(loc='lower center', bbox_to_anchor=(0.5, -0.2), ncol=4, shadow=True, fancybox=True)\n",
    "plt.xlabel('')\n",
    "plt.ylabel(r'12-month wage growth')\n",
    "ax.axhline(0, color='red')\n",
    "\n",
    "plt.title('Wages for lowest earners (1st quartile) are rising faster than other groups')\n"
   ]
  },
  {
   "cell_type": "code",
   "execution_count": null,
   "id": "historic-ottawa",
   "metadata": {},
   "outputs": [],
   "source": []
  }
 ],
 "metadata": {
  "kernelspec": {
   "display_name": "Python 3",
   "language": "python",
   "name": "python3"
  },
  "language_info": {
   "codemirror_mode": {
    "name": "ipython",
    "version": 3
   },
   "file_extension": ".py",
   "mimetype": "text/x-python",
   "name": "python",
   "nbconvert_exporter": "python",
   "pygments_lexer": "ipython3",
   "version": "3.8.5"
  }
 },
 "nbformat": 4,
 "nbformat_minor": 5
}

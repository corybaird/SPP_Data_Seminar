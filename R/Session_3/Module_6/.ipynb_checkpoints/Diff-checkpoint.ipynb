{
 "cells": [
  {
   "cell_type": "markdown",
   "metadata": {},
   "source": [
    "# Session 2"
   ]
  },
  {
   "cell_type": "markdown",
   "metadata": {},
   "source": [
    "## A.1 Import libraries"
   ]
  },
  {
   "cell_type": "code",
   "execution_count": 48,
   "metadata": {},
   "outputs": [],
   "source": [
    "## Step 1\n",
    "#install.packages('dplyr')\n",
    "#install.packages('ggplot2')\n",
    "\n",
    "# Step 2\n",
    "library(ggplot2)\n",
    "library(dplyr)"
   ]
  },
  {
   "cell_type": "markdown",
   "metadata": {},
   "source": [
    "## A.2 Import data"
   ]
  },
  {
   "cell_type": "code",
   "execution_count": 2,
   "metadata": {},
   "outputs": [
    {
     "data": {
      "text/html": [
       "<table>\n",
       "<thead><tr><th scope=col>mpg</th><th scope=col>cyl</th><th scope=col>disp</th><th scope=col>hp</th><th scope=col>drat</th><th scope=col>wt</th><th scope=col>qsec</th><th scope=col>vs</th><th scope=col>am</th><th scope=col>gear</th><th scope=col>carb</th></tr></thead>\n",
       "<tbody>\n",
       "\t<tr><td>21   </td><td>6    </td><td>160  </td><td>110  </td><td>3.9  </td><td>2.620</td><td>16.46</td><td>0    </td><td>1    </td><td>4    </td><td>4    </td></tr>\n",
       "\t<tr><td>21   </td><td>6    </td><td>160  </td><td>110  </td><td>3.9  </td><td>2.875</td><td>17.02</td><td>0    </td><td>1    </td><td>4    </td><td>4    </td></tr>\n",
       "</tbody>\n",
       "</table>\n"
      ],
      "text/latex": [
       "\\begin{tabular}{r|lllllllllll}\n",
       " mpg & cyl & disp & hp & drat & wt & qsec & vs & am & gear & carb\\\\\n",
       "\\hline\n",
       "\t 21    & 6     & 160   & 110   & 3.9   & 2.620 & 16.46 & 0     & 1     & 4     & 4    \\\\\n",
       "\t 21    & 6     & 160   & 110   & 3.9   & 2.875 & 17.02 & 0     & 1     & 4     & 4    \\\\\n",
       "\\end{tabular}\n"
      ],
      "text/markdown": [
       "\n",
       "| mpg | cyl | disp | hp | drat | wt | qsec | vs | am | gear | carb |\n",
       "|---|---|---|---|---|---|---|---|---|---|---|\n",
       "| 21    | 6     | 160   | 110   | 3.9   | 2.620 | 16.46 | 0     | 1     | 4     | 4     |\n",
       "| 21    | 6     | 160   | 110   | 3.9   | 2.875 | 17.02 | 0     | 1     | 4     | 4     |\n",
       "\n"
      ],
      "text/plain": [
       "  mpg cyl disp hp  drat wt    qsec  vs am gear carb\n",
       "1 21  6   160  110 3.9  2.620 16.46 0  1  4    4   \n",
       "2 21  6   160  110 3.9  2.875 17.02 0  1  4    4   "
      ]
     },
     "metadata": {},
     "output_type": "display_data"
    }
   ],
   "source": [
    "mtcars = as_tibble(mtcars)\n",
    "mtcars %>% head(2)"
   ]
  },
  {
   "cell_type": "markdown",
   "metadata": {},
   "source": [
    "# 1. OLS regression"
   ]
  },
  {
   "cell_type": "markdown",
   "metadata": {},
   "source": [
    "## 1.1 OLS: Built-in package lm\n",
    "- lm(Y~ X, data=DATAFRAME)\n",
    "\n",
    "### 1.1.1 Regression summary"
   ]
  },
  {
   "cell_type": "code",
   "execution_count": 3,
   "metadata": {},
   "outputs": [
    {
     "name": "stdout",
     "output_type": "stream",
     "text": [
      "\n",
      "Call:\n",
      "lm(formula = mpg ~ wt, data = mtcars)\n",
      "\n",
      "Residuals:\n",
      "    Min      1Q  Median      3Q     Max \n",
      "-4.5432 -2.3647 -0.1252  1.4096  6.8727 \n",
      "\n",
      "Coefficients:\n",
      "            Estimate Std. Error t value Pr(>|t|)    \n",
      "(Intercept)  37.2851     1.8776  19.858  < 2e-16 ***\n",
      "wt           -5.3445     0.5591  -9.559 1.29e-10 ***\n",
      "---\n",
      "Signif. codes:  0 ‘***’ 0.001 ‘**’ 0.01 ‘*’ 0.05 ‘.’ 0.1 ‘ ’ 1\n",
      "\n",
      "Residual standard error: 3.046 on 30 degrees of freedom\n",
      "Multiple R-squared:  0.7528,\tAdjusted R-squared:  0.7446 \n",
      "F-statistic: 91.38 on 1 and 30 DF,  p-value: 1.294e-10\n",
      "\n"
     ]
    }
   ],
   "source": [
    "linear_reg = lm(mpg ~ wt, data=mtcars)\n",
    "\n",
    "print(summary(linear_reg))"
   ]
  },
  {
   "cell_type": "markdown",
   "metadata": {},
   "source": [
    "#### 1.1.1.1 Acessing coefficients from summary"
   ]
  },
  {
   "cell_type": "code",
   "execution_count": 4,
   "metadata": {},
   "outputs": [
    {
     "data": {
      "text/html": [
       "<table>\n",
       "<thead><tr><th></th><th scope=col>Estimate</th><th scope=col>Std. Error</th><th scope=col>t value</th><th scope=col>Pr(&gt;|t|)</th></tr></thead>\n",
       "<tbody>\n",
       "\t<tr><th scope=row>(Intercept)</th><td>37.285126   </td><td>1.877627    </td><td>19.857575   </td><td>8.241799e-19</td></tr>\n",
       "\t<tr><th scope=row>wt</th><td>-5.344472   </td><td>0.559101    </td><td>-9.559044   </td><td>1.293959e-10</td></tr>\n",
       "</tbody>\n",
       "</table>\n"
      ],
      "text/latex": [
       "\\begin{tabular}{r|llll}\n",
       "  & Estimate & Std. Error & t value & Pr(>\\textbar{}t\\textbar{})\\\\\n",
       "\\hline\n",
       "\t(Intercept) & 37.285126    & 1.877627     & 19.857575    & 8.241799e-19\\\\\n",
       "\twt & -5.344472    & 0.559101     & -9.559044    & 1.293959e-10\\\\\n",
       "\\end{tabular}\n"
      ],
      "text/markdown": [
       "\n",
       "| <!--/--> | Estimate | Std. Error | t value | Pr(>|t|) |\n",
       "|---|---|---|---|---|\n",
       "| (Intercept) | 37.285126    | 1.877627     | 19.857575    | 8.241799e-19 |\n",
       "| wt | -5.344472    | 0.559101     | -9.559044    | 1.293959e-10 |\n",
       "\n"
      ],
      "text/plain": [
       "            Estimate  Std. Error t value   Pr(>|t|)    \n",
       "(Intercept) 37.285126 1.877627   19.857575 8.241799e-19\n",
       "wt          -5.344472 0.559101   -9.559044 1.293959e-10"
      ]
     },
     "metadata": {},
     "output_type": "display_data"
    }
   ],
   "source": [
    "linear_reg_summary = summary(linear_reg)\n",
    "\n",
    "linear_reg_summary$coefficients"
   ]
  },
  {
   "cell_type": "code",
   "execution_count": 5,
   "metadata": {},
   "outputs": [
    {
     "name": "stdout",
     "output_type": "stream",
     "text": [
      "[1] \"F-stat\"\n"
     ]
    },
    {
     "data": {
      "text/html": [
       "<dl class=dl-horizontal>\n",
       "\t<dt>value</dt>\n",
       "\t\t<dd>91.3753250037618</dd>\n",
       "\t<dt>numdf</dt>\n",
       "\t\t<dd>1</dd>\n",
       "\t<dt>dendf</dt>\n",
       "\t\t<dd>30</dd>\n",
       "</dl>\n"
      ],
      "text/latex": [
       "\\begin{description*}\n",
       "\\item[value] 91.3753250037618\n",
       "\\item[numdf] 1\n",
       "\\item[dendf] 30\n",
       "\\end{description*}\n"
      ],
      "text/markdown": [
       "value\n",
       ":   91.3753250037618numdf\n",
       ":   1dendf\n",
       ":   30\n",
       "\n"
      ],
      "text/plain": [
       "   value    numdf    dendf \n",
       "91.37533  1.00000 30.00000 "
      ]
     },
     "metadata": {},
     "output_type": "display_data"
    },
    {
     "name": "stdout",
     "output_type": "stream",
     "text": [
      "[1] \"R-sq: 0.752832793658264\"\n"
     ]
    }
   ],
   "source": [
    "print('F-stat')\n",
    "linear_reg_summary$fstatistic\n",
    "\n",
    "print(paste('R-sq:', linear_reg_summary$r.squared, sep=' '))"
   ]
  },
  {
   "cell_type": "markdown",
   "metadata": {},
   "source": [
    "#### 1.1.1.2 Accessing specific coefficients"
   ]
  },
  {
   "cell_type": "code",
   "execution_count": 6,
   "metadata": {},
   "outputs": [
    {
     "data": {
      "text/html": [
       "-5.34447157272268"
      ],
      "text/latex": [
       "-5.34447157272268"
      ],
      "text/markdown": [
       "-5.34447157272268"
      ],
      "text/plain": [
       "[1] -5.344472"
      ]
     },
     "metadata": {},
     "output_type": "display_data"
    }
   ],
   "source": [
    "\n",
    "#linear_reg_summary$coefficients[\"wt\",\"Std. Error\"] #Std. errors\n",
    "\n",
    "#linear_reg_summary$coefficients[\"wt\",\"t value\"] #T-value\n",
    "\n",
    "beta1_lm = linear_reg_summary$coefficients[\"wt\",\"Estimate\"] #Beta \n",
    "\n",
    "beta1_lm"
   ]
  },
  {
   "cell_type": "markdown",
   "metadata": {},
   "source": [
    "### 1.1.2 Residuals"
   ]
  },
  {
   "cell_type": "code",
   "execution_count": 7,
   "metadata": {},
   "outputs": [],
   "source": [
    "#linear_reg$fitted.values #Yhat\n",
    "#linear_reg$coefficients #coefficients\n",
    "#linear_reg$residuals #Residuals"
   ]
  },
  {
   "cell_type": "code",
   "execution_count": 8,
   "metadata": {},
   "outputs": [
    {
     "data": {
      "text/html": [
       "<table>\n",
       "<thead><tr><th scope=col>wt</th><th scope=col>y</th><th scope=col>residu</th><th scope=col>predicted_y</th></tr></thead>\n",
       "<tbody>\n",
       "\t<tr><td>2.620     </td><td>21.0      </td><td>-2.2826106</td><td>23.28261  </td></tr>\n",
       "\t<tr><td>2.875     </td><td>21.0      </td><td>-0.9197704</td><td>21.91977  </td></tr>\n",
       "\t<tr><td>2.320     </td><td>22.8      </td><td>-2.0859521</td><td>24.88595  </td></tr>\n",
       "\t<tr><td>3.215     </td><td>21.4      </td><td> 1.2973499</td><td>20.10265  </td></tr>\n",
       "\t<tr><td>3.440     </td><td>18.7      </td><td>-0.2001440</td><td>18.90014  </td></tr>\n",
       "</tbody>\n",
       "</table>\n"
      ],
      "text/latex": [
       "\\begin{tabular}{r|llll}\n",
       " wt & y & residu & predicted\\_y\\\\\n",
       "\\hline\n",
       "\t 2.620      & 21.0       & -2.2826106 & 23.28261  \\\\\n",
       "\t 2.875      & 21.0       & -0.9197704 & 21.91977  \\\\\n",
       "\t 2.320      & 22.8       & -2.0859521 & 24.88595  \\\\\n",
       "\t 3.215      & 21.4       &  1.2973499 & 20.10265  \\\\\n",
       "\t 3.440      & 18.7       & -0.2001440 & 18.90014  \\\\\n",
       "\\end{tabular}\n"
      ],
      "text/markdown": [
       "\n",
       "| wt | y | residu | predicted_y |\n",
       "|---|---|---|---|\n",
       "| 2.620      | 21.0       | -2.2826106 | 23.28261   |\n",
       "| 2.875      | 21.0       | -0.9197704 | 21.91977   |\n",
       "| 2.320      | 22.8       | -2.0859521 | 24.88595   |\n",
       "| 3.215      | 21.4       |  1.2973499 | 20.10265   |\n",
       "| 3.440      | 18.7       | -0.2001440 | 18.90014   |\n",
       "\n"
      ],
      "text/plain": [
       "  wt    y    residu     predicted_y\n",
       "1 2.620 21.0 -2.2826106 23.28261   \n",
       "2 2.875 21.0 -0.9197704 21.91977   \n",
       "3 2.320 22.8 -2.0859521 24.88595   \n",
       "4 3.215 21.4  1.2973499 20.10265   \n",
       "5 3.440 18.7 -0.2001440 18.90014   "
      ]
     },
     "metadata": {},
     "output_type": "display_data"
    }
   ],
   "source": [
    "df_model = mtcars  %>% select(wt,mpg)\n",
    "\n",
    "df_model = df_model  %>% \n",
    "rename('y' = mpg) %>% \n",
    "mutate(residu = linear_reg$residuals,\n",
    "       predicted_y = linear_reg$fitted.values) \n",
    "\n",
    "df_model %>% head(5)"
   ]
  },
  {
   "cell_type": "markdown",
   "metadata": {},
   "source": [
    "#### 1.1.2.1 Plot regression residuals\n"
   ]
  },
  {
   "cell_type": "code",
   "execution_count": 9,
   "metadata": {},
   "outputs": [
    {
     "data": {
      "image/png": "[encoded data removed]",
      "text/plain": [
       "plot without title"
      ]
     },
     "metadata": {},
     "output_type": "display_data"
    }
   ],
   "source": [
    "#predicted_y == yhat\n",
    "df_model  %>% ggplot(aes(y, predicted_y))+ geom_point()"
   ]
  },
  {
   "cell_type": "markdown",
   "metadata": {},
   "source": [
    "## 1.2 OLS: Using matrix algebra\n",
    "\n",
    "- See this [tutorial](https://nbviewer.jupyter.org/github/corybaird/2019_fall_phd/blob/master/Regression.ipynb) I made for more on the mathmatics underpinning regression"
   ]
  },
  {
   "cell_type": "markdown",
   "metadata": {},
   "source": [
    "### 1.2.1 Create matrices for X and Y values"
   ]
  },
  {
   "cell_type": "code",
   "execution_count": 10,
   "metadata": {},
   "outputs": [],
   "source": [
    "X = as.matrix(mtcars %>% select(wt)) \n",
    "X = cbind(X,rep(1,length(X))) #Add constant/intercept\n",
    "colnames(X)[2] <- \"Intercept\" #Name intercept\n",
    "Y = as.matrix(mtcars %>% select(mpg))"
   ]
  },
  {
   "cell_type": "markdown",
   "metadata": {},
   "source": [
    "### 1.2.2 Calculate $\\beta$ with matrix algebra\n",
    "\n",
    "$y= x\\hat\\beta \\Rightarrow \\hat\\beta = (x\\prime x)^{-1}x\\prime y$\n",
    "\n",
    "\n",
    "Matrix algebra notes:\n",
    "- t() = transpose\n",
    "- %*% = dot product\n",
    "- solve() = inverse"
   ]
  },
  {
   "cell_type": "code",
   "execution_count": 11,
   "metadata": {},
   "outputs": [
    {
     "name": "stdout",
     "output_type": "stream",
     "text": [
      "                mpg\n",
      "wt        -5.344472\n",
      "Intercept 37.285126\n"
     ]
    }
   ],
   "source": [
    "A = solve(t(X)%*%X)\n",
    "bhat_hand = A  %*% t(X) %*% Y \n",
    "print(bhat_hand)"
   ]
  },
  {
   "cell_type": "markdown",
   "metadata": {},
   "source": [
    "### 1.2.3 Calculate $\\beta$ with covariance"
   ]
  },
  {
   "cell_type": "markdown",
   "metadata": {},
   "source": [
    "$$\n",
    "\\hat\\beta = \\frac{\\sum(x_t-\\bar x_t)(y_t-\\bar y)}{\\sum(x_t-\\bar x)^2}=\\frac{Cov(x_i,y_i)}{Var(x_i)}\n",
    "$$"
   ]
  },
  {
   "cell_type": "code",
   "execution_count": 12,
   "metadata": {},
   "outputs": [
    {
     "data": {
      "text/html": [
       "-5.34447157272268"
      ],
      "text/latex": [
       "-5.34447157272268"
      ],
      "text/markdown": [
       "-5.34447157272268"
      ],
      "text/plain": [
       "[1] -5.344472"
      ]
     },
     "metadata": {},
     "output_type": "display_data"
    }
   ],
   "source": [
    "cov(Y, X)['mpg','wt']/var(X)['wt','wt'] "
   ]
  },
  {
   "cell_type": "markdown",
   "metadata": {},
   "source": [
    "# 2. Regression diagnostics\n",
    "\n",
    "- [lmtest package](http://math.furman.edu/~dcs/courses/math47/R/library/lmtest/html/00Index.html)"
   ]
  },
  {
   "cell_type": "code",
   "execution_count": 49,
   "metadata": {},
   "outputs": [],
   "source": [
    "#Step 1\n",
    "#install.packages('lmtest')\n",
    "\n",
    "#Step 2\n",
    "library(lmtest)"
   ]
  },
  {
   "cell_type": "markdown",
   "metadata": {},
   "source": [
    "## 2.1 Breusch pagan: test for heteroskedasticity\n",
    "\n",
    "- If any of $\\delta$ are different than zero other than $\\delta_0$ then there is heteroscedasticity\n"
   ]
  },
  {
   "cell_type": "code",
   "execution_count": 14,
   "metadata": {},
   "outputs": [
    {
     "data": {
      "text/plain": [
       "\n",
       "\tstudentized Breusch-Pagan test\n",
       "\n",
       "data:  linear_reg\n",
       "BP = 0.040438, df = 1, p-value = 0.8406\n"
      ]
     },
     "metadata": {},
     "output_type": "display_data"
    }
   ],
   "source": [
    "linear_reg = lm(mpg ~ wt, data=mtcars)\n",
    "bptest(linear_reg)"
   ]
  },
  {
   "cell_type": "code",
   "execution_count": 15,
   "metadata": {},
   "outputs": [],
   "source": [
    "diagnostics <- function(regression) {\n",
    "    bp_res = bptest(linear_reg)$p.value\n",
    "    if (bp_res<.1){\n",
    "        print(paste(\"P-value\", round(bp_res,3)))\n",
    "        print(\"Reject null. Thus there is evidence of heteroskedasticity\")\n",
    "    }\n",
    "    else{\n",
    "        print(paste(\"P-value\", round(bp_res,3)))\n",
    "        print(\"Cannot reject null. No evidence of heteroskedasticity\")\n",
    "    } \n",
    "}"
   ]
  },
  {
   "cell_type": "code",
   "execution_count": 16,
   "metadata": {},
   "outputs": [
    {
     "name": "stdout",
     "output_type": "stream",
     "text": [
      "[1] \"P-value 0.841\"\n",
      "[1] \"Cannot reject null. No evidence of heteroskedasticity\"\n"
     ]
    }
   ],
   "source": [
    "diagnostics(linear_reg)"
   ]
  },
  {
   "cell_type": "markdown",
   "metadata": {},
   "source": [
    "## 2.2  DW test: test for serial correlation\n",
    "\n",
    "Serial correlation occurs when:\n",
    "- Important variable is omitted\n",
    "- Functional misspecification\n",
    "- Measurement error in independent variable\n",
    "\n",
    "This statistic will always be between 0 and 4.\n",
    "- Inidication of no serial correlation: the test statistic equals 2.\n",
    "- The closer to 0 the statistic, the more evidence for positive serial correlation.\n",
    "- The closer to 4, the more evidence for negative serial correlation."
   ]
  },
  {
   "cell_type": "code",
   "execution_count": 17,
   "metadata": {},
   "outputs": [
    {
     "data": {
      "text/plain": [
       "\n",
       "\tDurbin-Watson test\n",
       "\n",
       "data:  linear_reg\n",
       "DW = 1.2517, p-value = 0.0102\n",
       "alternative hypothesis: true autocorrelation is greater than 0\n"
      ]
     },
     "metadata": {},
     "output_type": "display_data"
    }
   ],
   "source": [
    "dwtest(linear_reg)"
   ]
  },
  {
   "cell_type": "markdown",
   "metadata": {},
   "source": [
    "## 2.3 Functional misspecification\n",
    "\n",
    "- If our model is correctly specified T-test of $\\gamma_1$ should not be rejected\n",
    "- If we reject the null then there is functional misspecfication"
   ]
  },
  {
   "cell_type": "code",
   "execution_count": 18,
   "metadata": {},
   "outputs": [
    {
     "data": {
      "text/plain": [
       "\n",
       "\tRESET test\n",
       "\n",
       "data:  linear_reg\n",
       "RESET = 5.1315, df1 = 2, df2 = 28, p-value = 0.01263\n"
      ]
     },
     "metadata": {},
     "output_type": "display_data"
    }
   ],
   "source": [
    "resettest(linear_reg)"
   ]
  },
  {
   "cell_type": "markdown",
   "metadata": {},
   "source": [
    "## 2.4 Introduction to functions"
   ]
  },
  {
   "cell_type": "markdown",
   "metadata": {},
   "source": [
    "### 2.4.1 Function: square numbers"
   ]
  },
  {
   "cell_type": "code",
   "execution_count": 19,
   "metadata": {},
   "outputs": [],
   "source": [
    "square = function(a){\n",
    "    solution = a^2\n",
    "    return (solution)\n",
    "}"
   ]
  },
  {
   "cell_type": "code",
   "execution_count": 20,
   "metadata": {},
   "outputs": [
    {
     "data": {
      "text/html": [
       "16"
      ],
      "text/latex": [
       "16"
      ],
      "text/markdown": [
       "16"
      ],
      "text/plain": [
       "[1] 16"
      ]
     },
     "metadata": {},
     "output_type": "display_data"
    }
   ],
   "source": [
    "square(4)"
   ]
  },
  {
   "cell_type": "markdown",
   "metadata": {},
   "source": [
    "### 2.4.2 Function: add two numbers"
   ]
  },
  {
   "cell_type": "code",
   "execution_count": 21,
   "metadata": {},
   "outputs": [],
   "source": [
    "add_numbers = function(a,b){\n",
    "    solution = (a^2)+b\n",
    "    return (solution)\n",
    "}"
   ]
  },
  {
   "cell_type": "code",
   "execution_count": 22,
   "metadata": {},
   "outputs": [
    {
     "data": {
      "text/html": [
       "7"
      ],
      "text/latex": [
       "7"
      ],
      "text/markdown": [
       "7"
      ],
      "text/plain": [
       "[1] 7"
      ]
     },
     "metadata": {},
     "output_type": "display_data"
    }
   ],
   "source": [
    "add_numbers(2,3)"
   ]
  },
  {
   "cell_type": "markdown",
   "metadata": {},
   "source": [
    "### 2.4.3 Function: using if and else"
   ]
  },
  {
   "cell_type": "code",
   "execution_count": 23,
   "metadata": {},
   "outputs": [],
   "source": [
    "number_test = function(a,b,c) { \n",
    "    print('You can print anything you want inside functions')\n",
    "    solution1 = a+b\n",
    "    solution = solution1-c\n",
    "    print(paste(\"The solution is:\", solution))\n",
    "    if (solution>100){\n",
    "        print('Big numbers are lame')\n",
    "    }\n",
    "    else{\n",
    "        print('Small numbers are cool')\n",
    "    }\n",
    "}"
   ]
  },
  {
   "cell_type": "code",
   "execution_count": 24,
   "metadata": {},
   "outputs": [
    {
     "name": "stdout",
     "output_type": "stream",
     "text": [
      "[1] \"You can print anything you want inside functions\"\n",
      "[1] \"The solution is: -2\"\n",
      "[1] \"Small numbers are cool\"\n"
     ]
    }
   ],
   "source": [
    "number_test(1,2,5)"
   ]
  },
  {
   "cell_type": "markdown",
   "metadata": {},
   "source": [
    "### 2.4.4 Function: BP, DW and RESET Test "
   ]
  },
  {
   "cell_type": "code",
   "execution_count": 25,
   "metadata": {},
   "outputs": [],
   "source": [
    "diagnostics = function(regression) { \n",
    "    #BP-test\n",
    "    print('-------')\n",
    "    print('BP-Test')\n",
    "    bp_res = bptest(linear_reg)$p.value\n",
    "    if (bp_res<.1){\n",
    "        print(paste(\"P-value\", round(bp_res,3)))\n",
    "        print(\"Reject null. Thus there is evidence of heteroskedasticity\")\n",
    "    }\n",
    "    else{\n",
    "        print(paste(\"P-value\", round(bp_res,3)))\n",
    "        print(\"Cannot reject null. No evidence of heteroskedasticity\")\n",
    "    }\n",
    "    #DW-test\n",
    "    print('-------')\n",
    "    print('DW-Test')\n",
    "    dw_res = dwtest(linear_reg)$p.value\n",
    "    if (dw_res<.1){\n",
    "        print(paste(\"P-value\", round(dw_res,3)))\n",
    "        print(\"Reject null. Thus there is evidence of serial correlation\")\n",
    "    }\n",
    "    else{\n",
    "        print(paste(\"P-value\", round(bp_res,3)))\n",
    "        print(\"Cannot reject null. No evidence of serial correlation\")\n",
    "    } \n",
    "    #Ramsey Reset test\n",
    "    print('-------')\n",
    "    print('Rest-Test')\n",
    "    ram_res = resettest(linear_reg)$p.value\n",
    "    if (ram_res<.1){\n",
    "        print(paste(\"P-value\", round(ram_res,3)))\n",
    "        print(\"Reject null. Thus there is evidence of misspecification\")\n",
    "    }\n",
    "    else{\n",
    "        print(paste(\"P-value\", round(ram_res,3)))\n",
    "        print(\"Cannot reject null. No evidence of  misspecification\")\n",
    "    } \n",
    "}"
   ]
  },
  {
   "cell_type": "code",
   "execution_count": 26,
   "metadata": {},
   "outputs": [
    {
     "name": "stdout",
     "output_type": "stream",
     "text": [
      "[1] \"-------\"\n",
      "[1] \"BP-Test\"\n",
      "[1] \"P-value 0.841\"\n",
      "[1] \"Cannot reject null. No evidence of heteroskedasticity\"\n",
      "[1] \"-------\"\n",
      "[1] \"DW-Test\"\n",
      "[1] \"P-value 0.01\"\n",
      "[1] \"Reject null. Thus there is evidence of serial correlation\"\n",
      "[1] \"-------\"\n",
      "[1] \"Rest-Test\"\n",
      "[1] \"P-value 0.013\"\n",
      "[1] \"Reject null. Thus there is evidence of misspecification\"\n"
     ]
    }
   ],
   "source": [
    "diagnostics(linear_reg)"
   ]
  },
  {
   "cell_type": "markdown",
   "metadata": {},
   "source": [
    "## 3. Other regression models"
   ]
  },
  {
   "cell_type": "markdown",
   "metadata": {},
   "source": [
    "## 3.1 Robust S.E. regression"
   ]
  },
  {
   "cell_type": "code",
   "execution_count": 50,
   "metadata": {},
   "outputs": [],
   "source": [
    "library(MASS)"
   ]
  },
  {
   "cell_type": "code",
   "execution_count": 28,
   "metadata": {},
   "outputs": [
    {
     "data": {
      "text/plain": [
       "\n",
       "Call: rlm(formula = mpg ~ wt, data = mtcars)\n",
       "Residuals:\n",
       "     Min       1Q   Median       3Q      Max \n",
       "-4.29431 -2.06044  0.08458  1.73940  7.21287 \n",
       "\n",
       "Coefficients:\n",
       "            Value   Std. Error t value\n",
       "(Intercept) 36.7379  1.8730    19.6143\n",
       "wt          -5.2503  0.5577    -9.4138\n",
       "\n",
       "Residual standard error: 3.056 on 30 degrees of freedom"
      ]
     },
     "metadata": {},
     "output_type": "display_data"
    }
   ],
   "source": [
    "summary(rlm(mpg ~ wt, mtcars))"
   ]
  },
  {
   "cell_type": "markdown",
   "metadata": {},
   "source": [
    "## 3.2 Fixed effects\n",
    "- [plm package](https://cran.r-project.org/web/packages/plm/plm.pdf)"
   ]
  },
  {
   "cell_type": "code",
   "execution_count": 51,
   "metadata": {},
   "outputs": [],
   "source": [
    "library(plm)"
   ]
  },
  {
   "cell_type": "code",
   "execution_count": 30,
   "metadata": {},
   "outputs": [
    {
     "data": {
      "text/html": [
       "<table>\n",
       "<thead><tr><th scope=col>firm</th><th scope=col>year</th><th scope=col>inv</th><th scope=col>value</th><th scope=col>capital</th></tr></thead>\n",
       "<tbody>\n",
       "\t<tr><td>1     </td><td>1935  </td><td>317.6 </td><td>3078.5</td><td>  2.8 </td></tr>\n",
       "\t<tr><td>1     </td><td>1936  </td><td>391.8 </td><td>4661.7</td><td> 52.6 </td></tr>\n",
       "\t<tr><td>1     </td><td>1937  </td><td>410.6 </td><td>5387.1</td><td>156.9 </td></tr>\n",
       "</tbody>\n",
       "</table>\n"
      ],
      "text/latex": [
       "\\begin{tabular}{r|lllll}\n",
       " firm & year & inv & value & capital\\\\\n",
       "\\hline\n",
       "\t 1      & 1935   & 317.6  & 3078.5 &   2.8 \\\\\n",
       "\t 1      & 1936   & 391.8  & 4661.7 &  52.6 \\\\\n",
       "\t 1      & 1937   & 410.6  & 5387.1 & 156.9 \\\\\n",
       "\\end{tabular}\n"
      ],
      "text/markdown": [
       "\n",
       "| firm | year | inv | value | capital |\n",
       "|---|---|---|---|---|\n",
       "| 1      | 1935   | 317.6  | 3078.5 |   2.8  |\n",
       "| 1      | 1936   | 391.8  | 4661.7 |  52.6  |\n",
       "| 1      | 1937   | 410.6  | 5387.1 | 156.9  |\n",
       "\n"
      ],
      "text/plain": [
       "  firm year inv   value  capital\n",
       "1 1    1935 317.6 3078.5   2.8  \n",
       "2 1    1936 391.8 4661.7  52.6  \n",
       "3 1    1937 410.6 5387.1 156.9  "
      ]
     },
     "metadata": {},
     "output_type": "display_data"
    }
   ],
   "source": [
    "data(\"Grunfeld\", package=\"plm\")\n",
    "Grunfeld  %>% head(3)"
   ]
  },
  {
   "cell_type": "markdown",
   "metadata": {},
   "source": [
    "### 3.2.1 Fixed effects: Individual fixed effects"
   ]
  },
  {
   "cell_type": "code",
   "execution_count": 31,
   "metadata": {},
   "outputs": [
    {
     "data": {
      "text/html": [
       "<table>\n",
       "<thead><tr><th></th><th scope=col>Estimate</th><th scope=col>Std. Error</th><th scope=col>t-value</th><th scope=col>Pr(&gt;|t|)</th></tr></thead>\n",
       "<tbody>\n",
       "\t<tr><th scope=row>value</th><td>0.1101238   </td><td>0.01185669  </td><td> 9.287901   </td><td>3.921108e-17</td></tr>\n",
       "\t<tr><th scope=row>capital</th><td>0.3100653   </td><td>0.01735450  </td><td>17.866564   </td><td>2.220007e-42</td></tr>\n",
       "</tbody>\n",
       "</table>\n"
      ],
      "text/latex": [
       "\\begin{tabular}{r|llll}\n",
       "  & Estimate & Std. Error & t-value & Pr(>\\textbar{}t\\textbar{})\\\\\n",
       "\\hline\n",
       "\tvalue & 0.1101238    & 0.01185669   &  9.287901    & 3.921108e-17\\\\\n",
       "\tcapital & 0.3100653    & 0.01735450   & 17.866564    & 2.220007e-42\\\\\n",
       "\\end{tabular}\n"
      ],
      "text/markdown": [
       "\n",
       "| <!--/--> | Estimate | Std. Error | t-value | Pr(>|t|) |\n",
       "|---|---|---|---|---|\n",
       "| value | 0.1101238    | 0.01185669   |  9.287901    | 3.921108e-17 |\n",
       "| capital | 0.3100653    | 0.01735450   | 17.866564    | 2.220007e-42 |\n",
       "\n"
      ],
      "text/plain": [
       "        Estimate  Std. Error t-value   Pr(>|t|)    \n",
       "value   0.1101238 0.01185669  9.287901 3.921108e-17\n",
       "capital 0.3100653 0.01735450 17.866564 2.220007e-42"
      ]
     },
     "metadata": {},
     "output_type": "display_data"
    }
   ],
   "source": [
    "grun.fe <- plm(inv~value+capital, index=c('firm','year'), data = Grunfeld, model = \"within\")\n",
    "summary(grun.fe)$coefficients"
   ]
  },
  {
   "cell_type": "markdown",
   "metadata": {},
   "source": [
    "### 3.2.2 Fixed effects: Individual AND time fixed effects"
   ]
  },
  {
   "cell_type": "code",
   "execution_count": 32,
   "metadata": {},
   "outputs": [
    {
     "data": {
      "text/html": [
       "<table>\n",
       "<thead><tr><th></th><th scope=col>Estimate</th><th scope=col>Std. Error</th><th scope=col>t-value</th><th scope=col>Pr(&gt;|t|)</th></tr></thead>\n",
       "<tbody>\n",
       "\t<tr><th scope=row>value</th><td>0.1177159   </td><td>0.01375128  </td><td> 8.560354   </td><td>6.652575e-15</td></tr>\n",
       "\t<tr><th scope=row>capital</th><td>0.3579163   </td><td>0.02271901  </td><td>15.754043   </td><td>5.453066e-35</td></tr>\n",
       "</tbody>\n",
       "</table>\n"
      ],
      "text/latex": [
       "\\begin{tabular}{r|llll}\n",
       "  & Estimate & Std. Error & t-value & Pr(>\\textbar{}t\\textbar{})\\\\\n",
       "\\hline\n",
       "\tvalue & 0.1177159    & 0.01375128   &  8.560354    & 6.652575e-15\\\\\n",
       "\tcapital & 0.3579163    & 0.02271901   & 15.754043    & 5.453066e-35\\\\\n",
       "\\end{tabular}\n"
      ],
      "text/markdown": [
       "\n",
       "| <!--/--> | Estimate | Std. Error | t-value | Pr(>|t|) |\n",
       "|---|---|---|---|---|\n",
       "| value | 0.1177159    | 0.01375128   |  8.560354    | 6.652575e-15 |\n",
       "| capital | 0.3579163    | 0.02271901   | 15.754043    | 5.453066e-35 |\n",
       "\n"
      ],
      "text/plain": [
       "        Estimate  Std. Error t-value   Pr(>|t|)    \n",
       "value   0.1177159 0.01375128  8.560354 6.652575e-15\n",
       "capital 0.3579163 0.02271901 15.754043 5.453066e-35"
      ]
     },
     "metadata": {},
     "output_type": "display_data"
    }
   ],
   "source": [
    "#Method 1: factor(year)\n",
    "grun.fe <- plm(inv~value+capital+factor(year), index=c('firm','year'), data = Grunfeld, model = \"within\")\n",
    "\n",
    "#Method 2: effect='twoways'\n",
    "grun.fe <- plm(inv~value+capital, index=c('firm','year'), data = Grunfeld, model = \"within\", effect='twoways')\n",
    "summary(grun.fe)$coefficients"
   ]
  },
  {
   "cell_type": "markdown",
   "metadata": {},
   "source": [
    "## 3.3 Standard errors"
   ]
  },
  {
   "cell_type": "markdown",
   "metadata": {},
   "source": [
    "## 3.3.1 Baseline standard error"
   ]
  },
  {
   "cell_type": "code",
   "execution_count": 33,
   "metadata": {},
   "outputs": [
    {
     "data": {
      "text/html": [
       "<table>\n",
       "<thead><tr><th></th><th scope=col>Estimate</th><th scope=col>Std. Error</th><th scope=col>t-value</th><th scope=col>Pr(&gt;|t|)</th></tr></thead>\n",
       "<tbody>\n",
       "\t<tr><th scope=row>value</th><td>0.1177159   </td><td>0.01375128  </td><td> 8.560354   </td><td>6.652575e-15</td></tr>\n",
       "\t<tr><th scope=row>capital</th><td>0.3579163   </td><td>0.02271901  </td><td>15.754043   </td><td>5.453066e-35</td></tr>\n",
       "</tbody>\n",
       "</table>\n"
      ],
      "text/latex": [
       "\\begin{tabular}{r|llll}\n",
       "  & Estimate & Std. Error & t-value & Pr(>\\textbar{}t\\textbar{})\\\\\n",
       "\\hline\n",
       "\tvalue & 0.1177159    & 0.01375128   &  8.560354    & 6.652575e-15\\\\\n",
       "\tcapital & 0.3579163    & 0.02271901   & 15.754043    & 5.453066e-35\\\\\n",
       "\\end{tabular}\n"
      ],
      "text/markdown": [
       "\n",
       "| <!--/--> | Estimate | Std. Error | t-value | Pr(>|t|) |\n",
       "|---|---|---|---|---|\n",
       "| value | 0.1177159    | 0.01375128   |  8.560354    | 6.652575e-15 |\n",
       "| capital | 0.3579163    | 0.02271901   | 15.754043    | 5.453066e-35 |\n",
       "\n"
      ],
      "text/plain": [
       "        Estimate  Std. Error t-value   Pr(>|t|)    \n",
       "value   0.1177159 0.01375128  8.560354 6.652575e-15\n",
       "capital 0.3579163 0.02271901 15.754043 5.453066e-35"
      ]
     },
     "metadata": {},
     "output_type": "display_data"
    }
   ],
   "source": [
    "summary(grun.fe)$coefficients"
   ]
  },
  {
   "cell_type": "markdown",
   "metadata": {},
   "source": [
    "### 3.3.2 Clustered standard error"
   ]
  },
  {
   "cell_type": "code",
   "execution_count": 34,
   "metadata": {},
   "outputs": [
    {
     "data": {
      "text/plain": [
       "\n",
       "t test of coefficients:\n",
       "\n",
       "        Estimate Std. Error t value  Pr(>|t|)    \n",
       "value   0.117716   0.009712  12.121 < 2.2e-16 ***\n",
       "capital 0.357916   0.042931   8.337 2.552e-14 ***\n",
       "---\n",
       "Signif. codes:  0 ‘***’ 0.001 ‘**’ 0.01 ‘*’ 0.05 ‘.’ 0.1 ‘ ’ 1\n"
      ]
     },
     "metadata": {},
     "output_type": "display_data"
    }
   ],
   "source": [
    "coeftest(grun.fe, vcovHC(grun.fe, type = 'HC0', cluster = c('group','time')))"
   ]
  },
  {
   "cell_type": "markdown",
   "metadata": {},
   "source": [
    "## 3.4 Random effects"
   ]
  },
  {
   "cell_type": "code",
   "execution_count": 35,
   "metadata": {},
   "outputs": [
    {
     "data": {
      "text/html": [
       "<table>\n",
       "<thead><tr><th></th><th scope=col>Estimate</th><th scope=col>Std. Error</th><th scope=col>z-value</th><th scope=col>Pr(&gt;|z|)</th></tr></thead>\n",
       "<tbody>\n",
       "\t<tr><th scope=row>(Intercept)</th><td>-57.8344149 </td><td>28.89893526 </td><td>-2.001265   </td><td>4.536389e-02</td></tr>\n",
       "\t<tr><th scope=row>value</th><td>  0.1097812 </td><td> 0.01049266 </td><td>10.462658   </td><td>1.282075e-25</td></tr>\n",
       "\t<tr><th scope=row>capital</th><td>  0.3081130 </td><td> 0.01718047 </td><td>17.933910   </td><td>6.410879e-72</td></tr>\n",
       "</tbody>\n",
       "</table>\n"
      ],
      "text/latex": [
       "\\begin{tabular}{r|llll}\n",
       "  & Estimate & Std. Error & z-value & Pr(>\\textbar{}z\\textbar{})\\\\\n",
       "\\hline\n",
       "\t(Intercept) & -57.8344149  & 28.89893526  & -2.001265    & 4.536389e-02\\\\\n",
       "\tvalue &   0.1097812  &  0.01049266  & 10.462658    & 1.282075e-25\\\\\n",
       "\tcapital &   0.3081130  &  0.01718047  & 17.933910    & 6.410879e-72\\\\\n",
       "\\end{tabular}\n"
      ],
      "text/markdown": [
       "\n",
       "| <!--/--> | Estimate | Std. Error | z-value | Pr(>|z|) |\n",
       "|---|---|---|---|---|\n",
       "| (Intercept) | -57.8344149  | 28.89893526  | -2.001265    | 4.536389e-02 |\n",
       "| value |   0.1097812  |  0.01049266  | 10.462658    | 1.282075e-25 |\n",
       "| capital |   0.3081130  |  0.01718047  | 17.933910    | 6.410879e-72 |\n",
       "\n"
      ],
      "text/plain": [
       "            Estimate    Std. Error  z-value   Pr(>|z|)    \n",
       "(Intercept) -57.8344149 28.89893526 -2.001265 4.536389e-02\n",
       "value         0.1097812  0.01049266 10.462658 1.282075e-25\n",
       "capital       0.3081130  0.01718047 17.933910 6.410879e-72"
      ]
     },
     "metadata": {},
     "output_type": "display_data"
    }
   ],
   "source": [
    "grun.re <- plm(inv~value+capital,index=c('firm','year'), data = Grunfeld, model = \"random\")\n",
    "summary(grun.re)$coefficients"
   ]
  },
  {
   "cell_type": "markdown",
   "metadata": {},
   "source": [
    "### 3.4.1 Robust standard errors"
   ]
  },
  {
   "cell_type": "code",
   "execution_count": 36,
   "metadata": {},
   "outputs": [
    {
     "data": {
      "text/plain": [
       "\n",
       "t test of coefficients:\n",
       "\n",
       "              Estimate Std. Error t value  Pr(>|t|)    \n",
       "(Intercept) -57.834415  23.449626 -2.4663   0.01451 *  \n",
       "value         0.109781   0.012984  8.4551 6.186e-15 ***\n",
       "capital       0.308113   0.051889  5.9379 1.284e-08 ***\n",
       "---\n",
       "Signif. codes:  0 ‘***’ 0.001 ‘**’ 0.01 ‘*’ 0.05 ‘.’ 0.1 ‘ ’ 1\n"
      ]
     },
     "metadata": {},
     "output_type": "display_data"
    }
   ],
   "source": [
    "coeftest(grun.re, vcovHC(grun.re, type = 'HC0', cluster = c('group','time')))"
   ]
  },
  {
   "cell_type": "markdown",
   "metadata": {},
   "source": [
    "### 3.4 More info on clustered standard errors\n",
    "- [Tutorial](http://rforpublichealth.blogspot.com/2014/10/easy-clustered-standard-errors-in-r.html)\n",
    "\n",
    "- [Code](https://stackoverflow.com/questions/33155638/clustered-standard-errors-in-r-using-plm-with-fixed-effects)\n",
    "\n",
    "- [Compare R and STATA clustered SE](http://www.richard-bluhm.com/clustered-ses-in-r-and-stata-2/)\n"
   ]
  },
  {
   "cell_type": "markdown",
   "metadata": {},
   "source": [
    "## 3.5 [Logistic regression](https://www.rdocumentation.org/packages/stats/versions/3.6.2/topics/glm#:~:text=glm%20is%20used%20to%20fit,description%20of%20the%20error%20distribution.)"
   ]
  },
  {
   "cell_type": "code",
   "execution_count": 37,
   "metadata": {},
   "outputs": [
    {
     "data": {
      "text/html": [
       "<table>\n",
       "<thead><tr><th scope=col>mpg</th><th scope=col>cyl</th><th scope=col>disp</th><th scope=col>hp</th><th scope=col>drat</th><th scope=col>wt</th><th scope=col>qsec</th><th scope=col>vs</th><th scope=col>am</th><th scope=col>gear</th><th scope=col>carb</th></tr></thead>\n",
       "<tbody>\n",
       "\t<tr><td>21   </td><td>6    </td><td>160  </td><td>110  </td><td>3.9  </td><td>2.620</td><td>16.46</td><td>0    </td><td>1    </td><td>4    </td><td>4    </td></tr>\n",
       "\t<tr><td>21   </td><td>6    </td><td>160  </td><td>110  </td><td>3.9  </td><td>2.875</td><td>17.02</td><td>0    </td><td>1    </td><td>4    </td><td>4    </td></tr>\n",
       "</tbody>\n",
       "</table>\n"
      ],
      "text/latex": [
       "\\begin{tabular}{r|lllllllllll}\n",
       " mpg & cyl & disp & hp & drat & wt & qsec & vs & am & gear & carb\\\\\n",
       "\\hline\n",
       "\t 21    & 6     & 160   & 110   & 3.9   & 2.620 & 16.46 & 0     & 1     & 4     & 4    \\\\\n",
       "\t 21    & 6     & 160   & 110   & 3.9   & 2.875 & 17.02 & 0     & 1     & 4     & 4    \\\\\n",
       "\\end{tabular}\n"
      ],
      "text/markdown": [
       "\n",
       "| mpg | cyl | disp | hp | drat | wt | qsec | vs | am | gear | carb |\n",
       "|---|---|---|---|---|---|---|---|---|---|---|\n",
       "| 21    | 6     | 160   | 110   | 3.9   | 2.620 | 16.46 | 0     | 1     | 4     | 4     |\n",
       "| 21    | 6     | 160   | 110   | 3.9   | 2.875 | 17.02 | 0     | 1     | 4     | 4     |\n",
       "\n"
      ],
      "text/plain": [
       "  mpg cyl disp hp  drat wt    qsec  vs am gear carb\n",
       "1 21  6   160  110 3.9  2.620 16.46 0  1  4    4   \n",
       "2 21  6   160  110 3.9  2.875 17.02 0  1  4    4   "
      ]
     },
     "metadata": {},
     "output_type": "display_data"
    }
   ],
   "source": [
    "mtcars %>% head(2)"
   ]
  },
  {
   "cell_type": "code",
   "execution_count": 38,
   "metadata": {},
   "outputs": [
    {
     "data": {
      "text/plain": [
       "\n",
       "Call:\n",
       "glm(formula = am ~ cyl + disp + drat + mpg, family = \"binomial\", \n",
       "    data = mtcars)\n",
       "\n",
       "Deviance Residuals: \n",
       "     Min        1Q    Median        3Q       Max  \n",
       "-1.81690  -0.34097  -0.04864   0.17467   1.74918  \n",
       "\n",
       "Coefficients:\n",
       "             Estimate Std. Error z value Pr(>|z|)  \n",
       "(Intercept) -45.47048   22.84741  -1.990   0.0466 *\n",
       "cyl           2.36515    1.33387   1.773   0.0762 .\n",
       "disp         -0.01922    0.01739  -1.105   0.2692  \n",
       "drat          6.22298    2.91299   2.136   0.0327 *\n",
       "mpg           0.60124    0.47441   1.267   0.2050  \n",
       "---\n",
       "Signif. codes:  0 ‘***’ 0.001 ‘**’ 0.01 ‘*’ 0.05 ‘.’ 0.1 ‘ ’ 1\n",
       "\n",
       "(Dispersion parameter for binomial family taken to be 1)\n",
       "\n",
       "    Null deviance: 43.230  on 31  degrees of freedom\n",
       "Residual deviance: 15.676  on 27  degrees of freedom\n",
       "AIC: 25.676\n",
       "\n",
       "Number of Fisher Scoring iterations: 7\n"
      ]
     },
     "metadata": {},
     "output_type": "display_data"
    }
   ],
   "source": [
    "summary(glm(am~ cyl+disp+drat+mpg, family='binomial', mtcars))"
   ]
  },
  {
   "cell_type": "markdown",
   "metadata": {},
   "source": [
    "# 4. Machine Learning: Supervised learning"
   ]
  },
  {
   "cell_type": "code",
   "execution_count": 52,
   "metadata": {},
   "outputs": [],
   "source": [
    "# Step 1\n",
    "#install.packages('caret')\n",
    "\n",
    "# Step 2\n",
    "library(caret)"
   ]
  },
  {
   "cell_type": "code",
   "execution_count": 40,
   "metadata": {},
   "outputs": [
    {
     "data": {
      "text/html": [
       "<table>\n",
       "<thead><tr><th scope=col>city</th><th scope=col>zip</th><th scope=col>beds</th><th scope=col>baths</th><th scope=col>sqft</th><th scope=col>type</th><th scope=col>price</th><th scope=col>latitude</th><th scope=col>longitude</th><th scope=col>ID</th></tr></thead>\n",
       "<tbody>\n",
       "\t<tr><td>SACRAMENTO </td><td>z95838     </td><td>2          </td><td>1          </td><td> 836       </td><td>Residential</td><td>59222      </td><td>38.63191   </td><td>-121.4349  </td><td>1          </td></tr>\n",
       "\t<tr><td>SACRAMENTO </td><td>z95823     </td><td>3          </td><td>1          </td><td>1167       </td><td>Residential</td><td>68212      </td><td>38.47890   </td><td>-121.4310  </td><td>2          </td></tr>\n",
       "\t<tr><td>SACRAMENTO </td><td>z95815     </td><td>2          </td><td>1          </td><td> 796       </td><td>Residential</td><td>68880      </td><td>38.61830   </td><td>-121.4438  </td><td>3          </td></tr>\n",
       "</tbody>\n",
       "</table>\n"
      ],
      "text/latex": [
       "\\begin{tabular}{r|llllllllll}\n",
       " city & zip & beds & baths & sqft & type & price & latitude & longitude & ID\\\\\n",
       "\\hline\n",
       "\t SACRAMENTO  & z95838      & 2           & 1           &  836        & Residential & 59222       & 38.63191    & -121.4349   & 1          \\\\\n",
       "\t SACRAMENTO  & z95823      & 3           & 1           & 1167        & Residential & 68212       & 38.47890    & -121.4310   & 2          \\\\\n",
       "\t SACRAMENTO  & z95815      & 2           & 1           &  796        & Residential & 68880       & 38.61830    & -121.4438   & 3          \\\\\n",
       "\\end{tabular}\n"
      ],
      "text/markdown": [
       "\n",
       "| city | zip | beds | baths | sqft | type | price | latitude | longitude | ID |\n",
       "|---|---|---|---|---|---|---|---|---|---|\n",
       "| SACRAMENTO  | z95838      | 2           | 1           |  836        | Residential | 59222       | 38.63191    | -121.4349   | 1           |\n",
       "| SACRAMENTO  | z95823      | 3           | 1           | 1167        | Residential | 68212       | 38.47890    | -121.4310   | 2           |\n",
       "| SACRAMENTO  | z95815      | 2           | 1           |  796        | Residential | 68880       | 38.61830    | -121.4438   | 3           |\n",
       "\n"
      ],
      "text/plain": [
       "  city       zip    beds baths sqft type        price latitude longitude ID\n",
       "1 SACRAMENTO z95838 2    1      836 Residential 59222 38.63191 -121.4349 1 \n",
       "2 SACRAMENTO z95823 3    1     1167 Residential 68212 38.47890 -121.4310 2 \n",
       "3 SACRAMENTO z95815 2    1      796 Residential 68880 38.61830 -121.4438 3 "
      ]
     },
     "metadata": {},
     "output_type": "display_data"
    }
   ],
   "source": [
    "data(Sacramento)\n",
    "house_df = Sacramento %>% as_tibble()\n",
    "house_df  = house_df %>% mutate(ID = row_number())\n",
    "house_df %>% head(3)"
   ]
  },
  {
   "cell_type": "markdown",
   "metadata": {},
   "source": [
    "## 4.1 Compare baseline regression to train-test regression\n"
   ]
  },
  {
   "cell_type": "markdown",
   "metadata": {},
   "source": [
    "### 4.1.1. Baseline regression"
   ]
  },
  {
   "cell_type": "code",
   "execution_count": 41,
   "metadata": {},
   "outputs": [],
   "source": [
    "model = lm(price ~ beds+baths+sqft, data=house_df)"
   ]
  },
  {
   "cell_type": "markdown",
   "metadata": {},
   "source": [
    "#### 4.1.1.1 Evaluate model by calculating RMSE\n",
    "- https://en.wikipedia.org/wiki/Root-mean-square_deviation"
   ]
  },
  {
   "cell_type": "code",
   "execution_count": 42,
   "metadata": {},
   "outputs": [],
   "source": [
    "rmse = function(acutal, predicted){\n",
    "    error = predicted - acutal\n",
    "    rmse = sqrt(mean(error^2))\n",
    "    return(rmse)\n",
    "}"
   ]
  },
  {
   "cell_type": "markdown",
   "metadata": {},
   "source": [
    "#### 4.1.1.2 Actual data=price , Predicted data=fitted.values"
   ]
  },
  {
   "cell_type": "code",
   "execution_count": 43,
   "metadata": {},
   "outputs": [
    {
     "data": {
      "text/html": [
       "82436.6067424843"
      ],
      "text/latex": [
       "82436.6067424843"
      ],
      "text/markdown": [
       "82436.6067424843"
      ],
      "text/plain": [
       "[1] 82436.61"
      ]
     },
     "metadata": {},
     "output_type": "display_data"
    }
   ],
   "source": [
    "rmse(house_df$price, model$fitted.values)"
   ]
  },
  {
   "cell_type": "markdown",
   "metadata": {},
   "source": [
    "### 4.1.2 Train-test regression"
   ]
  },
  {
   "cell_type": "code",
   "execution_count": 44,
   "metadata": {},
   "outputs": [
    {
     "data": {
      "text/html": [
       "<table>\n",
       "<thead><tr><th scope=col>city</th><th scope=col>zip</th><th scope=col>beds</th><th scope=col>baths</th><th scope=col>sqft</th><th scope=col>type</th><th scope=col>price</th><th scope=col>latitude</th><th scope=col>longitude</th><th scope=col>ID</th></tr></thead>\n",
       "<tbody>\n",
       "\t<tr><td>SACRAMENTO </td><td>z95822     </td><td>2          </td><td>2          </td><td> 990       </td><td>Residential</td><td> 66500     </td><td>38.49350   </td><td>-121.4753  </td><td>561        </td></tr>\n",
       "\t<tr><td>CARMICHAEL </td><td>z95608     </td><td>2          </td><td>2          </td><td>1598       </td><td>Residential</td><td>484000     </td><td>38.60275   </td><td>-121.3293  </td><td>321        </td></tr>\n",
       "</tbody>\n",
       "</table>\n"
      ],
      "text/latex": [
       "\\begin{tabular}{r|llllllllll}\n",
       " city & zip & beds & baths & sqft & type & price & latitude & longitude & ID\\\\\n",
       "\\hline\n",
       "\t SACRAMENTO  & z95822      & 2           & 2           &  990        & Residential &  66500      & 38.49350    & -121.4753   & 561        \\\\\n",
       "\t CARMICHAEL  & z95608      & 2           & 2           & 1598        & Residential & 484000      & 38.60275    & -121.3293   & 321        \\\\\n",
       "\\end{tabular}\n"
      ],
      "text/markdown": [
       "\n",
       "| city | zip | beds | baths | sqft | type | price | latitude | longitude | ID |\n",
       "|---|---|---|---|---|---|---|---|---|---|\n",
       "| SACRAMENTO  | z95822      | 2           | 2           |  990        | Residential |  66500      | 38.49350    | -121.4753   | 561         |\n",
       "| CARMICHAEL  | z95608      | 2           | 2           | 1598        | Residential | 484000      | 38.60275    | -121.3293   | 321         |\n",
       "\n"
      ],
      "text/plain": [
       "  city       zip    beds baths sqft type        price  latitude longitude ID \n",
       "1 SACRAMENTO z95822 2    2      990 Residential  66500 38.49350 -121.4753 561\n",
       "2 CARMICHAEL z95608 2    2     1598 Residential 484000 38.60275 -121.3293 321"
      ]
     },
     "metadata": {},
     "output_type": "display_data"
    }
   ],
   "source": [
    "set.seed(42)\n",
    "\n",
    "train = house_df  %>% sample_frac(.8)\n",
    "train %>% head(2)"
   ]
  },
  {
   "cell_type": "code",
   "execution_count": 45,
   "metadata": {},
   "outputs": [
    {
     "data": {
      "text/html": [
       "<table>\n",
       "<thead><tr><th scope=col>city</th><th scope=col>zip</th><th scope=col>beds</th><th scope=col>baths</th><th scope=col>sqft</th><th scope=col>type</th><th scope=col>price</th><th scope=col>latitude</th><th scope=col>longitude</th><th scope=col>ID</th></tr></thead>\n",
       "<tbody>\n",
       "\t<tr><td>SACRAMENTO </td><td>z95824     </td><td>2          </td><td>1          </td><td> 797       </td><td>Residential</td><td>81900      </td><td>38.51947   </td><td>-121.4358  </td><td>5          </td></tr>\n",
       "\t<tr><td>SACRAMENTO </td><td>z95841     </td><td>3          </td><td>1          </td><td>1122       </td><td>Condo      </td><td>89921      </td><td>38.66260   </td><td>-121.3278  </td><td>6          </td></tr>\n",
       "</tbody>\n",
       "</table>\n"
      ],
      "text/latex": [
       "\\begin{tabular}{r|llllllllll}\n",
       " city & zip & beds & baths & sqft & type & price & latitude & longitude & ID\\\\\n",
       "\\hline\n",
       "\t SACRAMENTO  & z95824      & 2           & 1           &  797        & Residential & 81900       & 38.51947    & -121.4358   & 5          \\\\\n",
       "\t SACRAMENTO  & z95841      & 3           & 1           & 1122        & Condo       & 89921       & 38.66260    & -121.3278   & 6          \\\\\n",
       "\\end{tabular}\n"
      ],
      "text/markdown": [
       "\n",
       "| city | zip | beds | baths | sqft | type | price | latitude | longitude | ID |\n",
       "|---|---|---|---|---|---|---|---|---|---|\n",
       "| SACRAMENTO  | z95824      | 2           | 1           |  797        | Residential | 81900       | 38.51947    | -121.4358   | 5           |\n",
       "| SACRAMENTO  | z95841      | 3           | 1           | 1122        | Condo       | 89921       | 38.66260    | -121.3278   | 6           |\n",
       "\n"
      ],
      "text/plain": [
       "  city       zip    beds baths sqft type        price latitude longitude ID\n",
       "1 SACRAMENTO z95824 2    1      797 Residential 81900 38.51947 -121.4358 5 \n",
       "2 SACRAMENTO z95841 3    1     1122 Condo       89921 38.66260 -121.3278 6 "
      ]
     },
     "metadata": {},
     "output_type": "display_data"
    }
   ],
   "source": [
    "test = house_df[-train$ID,]\n",
    "test %>% head(2)"
   ]
  },
  {
   "cell_type": "code",
   "execution_count": 46,
   "metadata": {},
   "outputs": [
    {
     "data": {
      "text/html": [
       "86595.1675340323"
      ],
      "text/latex": [
       "86595.1675340323"
      ],
      "text/markdown": [
       "86595.1675340323"
      ],
      "text/plain": [
       "[1] 86595.17"
      ]
     },
     "metadata": {},
     "output_type": "display_data"
    }
   ],
   "source": [
    "model = lm(price ~ beds+baths+sqft, data=train)\n",
    "\n",
    "p = predict(model, test)\n",
    "\n",
    "rmse(p, test$price)"
   ]
  },
  {
   "cell_type": "markdown",
   "metadata": {},
   "source": [
    "## 4.2 Cross validation\n",
    "- More information on the following [blog post](https://medium.com/the-owl/k-fold-cross-validation-in-keras-3ec4a3a00538)\n",
    "\n",
    "<img src= https://miro.medium.com/max/601/1*PdwlCactbJf8F8C7sP-3gw.png>"
   ]
  },
  {
   "cell_type": "code",
   "execution_count": 47,
   "metadata": {},
   "outputs": [
    {
     "data": {
      "text/plain": [
       "Linear Regression \n",
       "\n",
       "932 samples\n",
       "  3 predictor\n",
       "\n",
       "No pre-processing\n",
       "Resampling: Cross-Validated (10 fold) \n",
       "Summary of sample sizes: 840, 839, 837, 838, 840, 838, ... \n",
       "Resampling results:\n",
       "\n",
       "  RMSE      Rsquared   MAE     \n",
       "  82523.46  0.6070828  60606.13\n",
       "\n",
       "Tuning parameter 'intercept' was held constant at a value of TRUE"
      ]
     },
     "metadata": {},
     "output_type": "display_data"
    }
   ],
   "source": [
    "model <- train(\n",
    "  price ~ beds+baths+sqft, \n",
    "    data=house_df,\n",
    "  method = \"lm\",\n",
    "  trControl = trainControl(\n",
    "    method = \"cv\", \n",
    "    number = 10,\n",
    "    verboseIter = FALSE\n",
    "  )\n",
    ")\n",
    "model"
   ]
  }
 ],
 "metadata": {
  "kernelspec": {
   "display_name": "R [conda env:r_env]",
   "language": "R",
   "name": "conda-env-r_env-r"
  },
  "language_info": {
   "codemirror_mode": "r",
   "file_extension": ".r",
   "mimetype": "text/x-r-source",
   "name": "R",
   "pygments_lexer": "r",
   "version": "3.6.1"
  }
 },
 "nbformat": 4,
 "nbformat_minor": 4
}

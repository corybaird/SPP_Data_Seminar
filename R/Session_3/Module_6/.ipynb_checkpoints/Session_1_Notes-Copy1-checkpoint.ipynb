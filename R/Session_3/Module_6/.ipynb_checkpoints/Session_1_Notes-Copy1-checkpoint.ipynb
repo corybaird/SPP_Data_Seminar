{
 "cells": [
  {
   "cell_type": "markdown",
   "metadata": {},
   "source": [
    "# A.1 Working with data in R\n",
    "\n",
    "### A.1.1 What are the other advantages of using R?\n",
    "- We can be lazy and use the thousands of free libraries to easily:\n",
    "    - Easily manipulate data (Today's topic)\n",
    "    - Download data directly from the internet\n",
    "    - Viusualize our data (graphing etc.)\n",
    "    - Build models (Regression, Machine learning, Neural Networks)\n",
    "    \n",
    "    \n",
    "- You have all used libraries before, perhaps without knowing it!\n",
    "    - This is done in R in two steps: \n",
    "        1. install.packages(\"Package name\") Downloads package\n",
    "        2. library(Package name) Imports package\n",
    "\n",
    "### A.1.2 What is a Data Frame? \n",
    "- Think of it as an excel sheet with data\n",
    "- In many cases:\n",
    "    - Rows are observations (e.g. people, households, countries, time)\n",
    "    - Columns are variables (e.g. GDP, life expectancy)\n",
    "        \n",
    "\n",
    "\n",
    "### A.1.3 What applications can I use to run R?\n",
    "R is not a software, it is a coding language! So there are multiple applications which can run R in\n",
    "\n",
    "### A.1.3.1 R-studio cloud!\n",
    "- Many students get frustrated because there are sometimes bugs which prevent the software from running smoothly\n",
    "- R-studio cloud takes the hassle out of the setup of r-studio and allows for us to focus on learning R!\n",
    "\n",
    "### A.1.3.2 R-studio software for your machine [link]((https://rstudio.com/products/rstudio/download/))\n",
    "\n",
    "#### For those who want to use r in Jupyter notebook (what this tutorial is written in).\n",
    "\n",
    "- [Computer download: Anaconda software](https://www.anaconda.com/)\n",
    "- Cloud services\n",
    "    - [R-studio cloud](https://rstudio.cloud/)\n",
    "    - [Azure cloud](https://notebooks.azure.com/)\n",
    "        "
   ]
  },
  {
   "cell_type": "markdown",
   "metadata": {},
   "source": [
    "## A.2 R-studio basics\n",
    "### - Tutorial can be found at this [link](https://nbviewer.jupyter.org/github/corybaird/PLCY_610_public/blob/master/Discussion_sections/Disc1_Intro/Disc1_intro.ipynb)"
   ]
  },
  {
   "cell_type": "markdown",
   "metadata": {},
   "source": [
    "## A.3 Import data and libraries"
   ]
  },
  {
   "cell_type": "markdown",
   "metadata": {},
   "source": [
    "### A.3.1 Import libraries"
   ]
  },
  {
   "cell_type": "code",
   "execution_count": 3,
   "metadata": {},
   "outputs": [],
   "source": [
    "# Step 1\n",
    "\n",
    "#install.packages('dplyr')\n",
    "#install.packages('gapminder')\n",
    "\n",
    "#Step 2\n",
    "\n",
    "library('dplyr')\n",
    "library('gapminder')"
   ]
  },
  {
   "cell_type": "markdown",
   "metadata": {},
   "source": [
    "### A.3.2 Import data"
   ]
  },
  {
   "cell_type": "code",
   "execution_count": 6,
   "metadata": {},
   "outputs": [
    {
     "data": {
      "text/html": [
       "<table>\n",
       "<thead><tr><th scope=col>country</th><th scope=col>continent</th><th scope=col>year</th><th scope=col>lifeExp</th><th scope=col>pop</th><th scope=col>gdpPercap</th></tr></thead>\n",
       "<tbody>\n",
       "\t<tr><td>Afghanistan</td><td>Asia       </td><td>1952       </td><td>28.801     </td><td>8425333    </td><td>779.4453   </td></tr>\n",
       "\t<tr><td>Afghanistan</td><td>Asia       </td><td>1957       </td><td>30.332     </td><td>9240934    </td><td>820.8530   </td></tr>\n",
       "</tbody>\n",
       "</table>\n"
      ],
      "text/latex": [
       "\\begin{tabular}{r|llllll}\n",
       " country & continent & year & lifeExp & pop & gdpPercap\\\\\n",
       "\\hline\n",
       "\t Afghanistan & Asia        & 1952        & 28.801      & 8425333     & 779.4453   \\\\\n",
       "\t Afghanistan & Asia        & 1957        & 30.332      & 9240934     & 820.8530   \\\\\n",
       "\\end{tabular}\n"
      ],
      "text/markdown": [
       "\n",
       "| country | continent | year | lifeExp | pop | gdpPercap |\n",
       "|---|---|---|---|---|---|\n",
       "| Afghanistan | Asia        | 1952        | 28.801      | 8425333     | 779.4453    |\n",
       "| Afghanistan | Asia        | 1957        | 30.332      | 9240934     | 820.8530    |\n",
       "\n"
      ],
      "text/plain": [
       "  country     continent year lifeExp pop     gdpPercap\n",
       "1 Afghanistan Asia      1952 28.801  8425333 779.4453 \n",
       "2 Afghanistan Asia      1957 30.332  9240934 820.8530 "
      ]
     },
     "metadata": {},
     "output_type": "display_data"
    }
   ],
   "source": [
    "gapminder %>% head(2)"
   ]
  },
  {
   "cell_type": "markdown",
   "metadata": {},
   "source": [
    "# 1. DPLYR review\n",
    "- This is meant to be a brief review\n",
    "- If you want to see longer DPLYR notes please check out this other [notebook](https://nbviewer.jupyter.org/github/corybaird/PLCY_610_public/blob/master/Reference_materials/Tutorials_R_Stata_Python/R/W1_DPLYR/W1_DPLYR_code.ipynb) I created"
   ]
  },
  {
   "cell_type": "markdown",
   "metadata": {},
   "source": [
    "## 1.1 Select"
   ]
  },
  {
   "cell_type": "code",
   "execution_count": 8,
   "metadata": {},
   "outputs": [
    {
     "data": {
      "text/html": [
       "<table>\n",
       "<thead><tr><th scope=col>country</th><th scope=col>year</th><th scope=col>gdpPercap</th></tr></thead>\n",
       "<tbody>\n",
       "\t<tr><td>Afghanistan</td><td>1952       </td><td>779.4453   </td></tr>\n",
       "\t<tr><td>Afghanistan</td><td>1957       </td><td>820.8530   </td></tr>\n",
       "\t<tr><td>Afghanistan</td><td>1962       </td><td>853.1007   </td></tr>\n",
       "</tbody>\n",
       "</table>\n"
      ],
      "text/latex": [
       "\\begin{tabular}{r|lll}\n",
       " country & year & gdpPercap\\\\\n",
       "\\hline\n",
       "\t Afghanistan & 1952        & 779.4453   \\\\\n",
       "\t Afghanistan & 1957        & 820.8530   \\\\\n",
       "\t Afghanistan & 1962        & 853.1007   \\\\\n",
       "\\end{tabular}\n"
      ],
      "text/markdown": [
       "\n",
       "| country | year | gdpPercap |\n",
       "|---|---|---|\n",
       "| Afghanistan | 1952        | 779.4453    |\n",
       "| Afghanistan | 1957        | 820.8530    |\n",
       "| Afghanistan | 1962        | 853.1007    |\n",
       "\n"
      ],
      "text/plain": [
       "  country     year gdpPercap\n",
       "1 Afghanistan 1952 779.4453 \n",
       "2 Afghanistan 1957 820.8530 \n",
       "3 Afghanistan 1962 853.1007 "
      ]
     },
     "metadata": {},
     "output_type": "display_data"
    }
   ],
   "source": [
    "gapminder %>% \n",
    "select(country, year, gdpPercap) %>% \n",
    "head(3)"
   ]
  },
  {
   "cell_type": "markdown",
   "metadata": {},
   "source": [
    "## 1.2 Filter"
   ]
  },
  {
   "cell_type": "markdown",
   "metadata": {},
   "source": [
    "### 1.2.1 Filter by 1 condition"
   ]
  },
  {
   "cell_type": "code",
   "execution_count": 13,
   "metadata": {},
   "outputs": [
    {
     "data": {
      "text/html": [
       "<table>\n",
       "<thead><tr><th scope=col>country</th><th scope=col>continent</th><th scope=col>year</th><th scope=col>lifeExp</th><th scope=col>pop</th><th scope=col>gdpPercap</th></tr></thead>\n",
       "<tbody>\n",
       "\t<tr><td>Afghanistan</td><td>Asia       </td><td>2007       </td><td>43.828     </td><td>31889923   </td><td> 974.5803  </td></tr>\n",
       "\t<tr><td>Albania    </td><td>Europe     </td><td>2007       </td><td>76.423     </td><td> 3600523   </td><td>5937.0295  </td></tr>\n",
       "</tbody>\n",
       "</table>\n"
      ],
      "text/latex": [
       "\\begin{tabular}{r|llllll}\n",
       " country & continent & year & lifeExp & pop & gdpPercap\\\\\n",
       "\\hline\n",
       "\t Afghanistan & Asia        & 2007        & 43.828      & 31889923    &  974.5803  \\\\\n",
       "\t Albania     & Europe      & 2007        & 76.423      &  3600523    & 5937.0295  \\\\\n",
       "\\end{tabular}\n"
      ],
      "text/markdown": [
       "\n",
       "| country | continent | year | lifeExp | pop | gdpPercap |\n",
       "|---|---|---|---|---|---|\n",
       "| Afghanistan | Asia        | 2007        | 43.828      | 31889923    |  974.5803   |\n",
       "| Albania     | Europe      | 2007        | 76.423      |  3600523    | 5937.0295   |\n",
       "\n"
      ],
      "text/plain": [
       "  country     continent year lifeExp pop      gdpPercap\n",
       "1 Afghanistan Asia      2007 43.828  31889923  974.5803\n",
       "2 Albania     Europe    2007 76.423   3600523 5937.0295"
      ]
     },
     "metadata": {},
     "output_type": "display_data"
    }
   ],
   "source": [
    "gapminder %>% \n",
    "filter(year==2007) %>% \n",
    "head(2)"
   ]
  },
  {
   "cell_type": "markdown",
   "metadata": {},
   "source": [
    "### 1.2.2 Filter by 2 conditions"
   ]
  },
  {
   "cell_type": "code",
   "execution_count": 14,
   "metadata": {},
   "outputs": [
    {
     "data": {
      "text/html": [
       "<table>\n",
       "<thead><tr><th scope=col>country</th><th scope=col>continent</th><th scope=col>year</th><th scope=col>lifeExp</th><th scope=col>pop</th><th scope=col>gdpPercap</th></tr></thead>\n",
       "<tbody>\n",
       "\t<tr><td>Afghanistan</td><td>Asia       </td><td>1992       </td><td>41.674     </td><td>16317921   </td><td>649.3414   </td></tr>\n",
       "\t<tr><td>Afghanistan</td><td>Asia       </td><td>1997       </td><td>41.763     </td><td>22227415   </td><td>635.3414   </td></tr>\n",
       "</tbody>\n",
       "</table>\n"
      ],
      "text/latex": [
       "\\begin{tabular}{r|llllll}\n",
       " country & continent & year & lifeExp & pop & gdpPercap\\\\\n",
       "\\hline\n",
       "\t Afghanistan & Asia        & 1992        & 41.674      & 16317921    & 649.3414   \\\\\n",
       "\t Afghanistan & Asia        & 1997        & 41.763      & 22227415    & 635.3414   \\\\\n",
       "\\end{tabular}\n"
      ],
      "text/markdown": [
       "\n",
       "| country | continent | year | lifeExp | pop | gdpPercap |\n",
       "|---|---|---|---|---|---|\n",
       "| Afghanistan | Asia        | 1992        | 41.674      | 16317921    | 649.3414    |\n",
       "| Afghanistan | Asia        | 1997        | 41.763      | 22227415    | 635.3414    |\n",
       "\n"
      ],
      "text/plain": [
       "  country     continent year lifeExp pop      gdpPercap\n",
       "1 Afghanistan Asia      1992 41.674  16317921 649.3414 \n",
       "2 Afghanistan Asia      1997 41.763  22227415 635.3414 "
      ]
     },
     "metadata": {},
     "output_type": "display_data"
    }
   ],
   "source": [
    "gapminder %>% \n",
    "filter(year>1990 & year<2007) %>% \n",
    "head(2)"
   ]
  },
  {
   "cell_type": "markdown",
   "metadata": {},
   "source": [
    "## 1.3 Mutate"
   ]
  },
  {
   "cell_type": "code",
   "execution_count": 16,
   "metadata": {},
   "outputs": [
    {
     "data": {
      "text/html": [
       "<table>\n",
       "<thead><tr><th scope=col>country</th><th scope=col>continent</th><th scope=col>year</th><th scope=col>lifeExp</th><th scope=col>pop</th><th scope=col>gdpPercap</th><th scope=col>gdp_log</th></tr></thead>\n",
       "<tbody>\n",
       "\t<tr><td>Afghanistan</td><td>Asia       </td><td>1952       </td><td>28.801     </td><td> 8425333   </td><td>779.4453   </td><td>6.658583   </td></tr>\n",
       "\t<tr><td>Afghanistan</td><td>Asia       </td><td>1957       </td><td>30.332     </td><td> 9240934   </td><td>820.8530   </td><td>6.710344   </td></tr>\n",
       "\t<tr><td>Afghanistan</td><td>Asia       </td><td>1962       </td><td>31.997     </td><td>10267083   </td><td>853.1007   </td><td>6.748878   </td></tr>\n",
       "</tbody>\n",
       "</table>\n"
      ],
      "text/latex": [
       "\\begin{tabular}{r|lllllll}\n",
       " country & continent & year & lifeExp & pop & gdpPercap & gdp\\_log\\\\\n",
       "\\hline\n",
       "\t Afghanistan & Asia        & 1952        & 28.801      &  8425333    & 779.4453    & 6.658583   \\\\\n",
       "\t Afghanistan & Asia        & 1957        & 30.332      &  9240934    & 820.8530    & 6.710344   \\\\\n",
       "\t Afghanistan & Asia        & 1962        & 31.997      & 10267083    & 853.1007    & 6.748878   \\\\\n",
       "\\end{tabular}\n"
      ],
      "text/markdown": [
       "\n",
       "| country | continent | year | lifeExp | pop | gdpPercap | gdp_log |\n",
       "|---|---|---|---|---|---|---|\n",
       "| Afghanistan | Asia        | 1952        | 28.801      |  8425333    | 779.4453    | 6.658583    |\n",
       "| Afghanistan | Asia        | 1957        | 30.332      |  9240934    | 820.8530    | 6.710344    |\n",
       "| Afghanistan | Asia        | 1962        | 31.997      | 10267083    | 853.1007    | 6.748878    |\n",
       "\n"
      ],
      "text/plain": [
       "  country     continent year lifeExp pop      gdpPercap gdp_log \n",
       "1 Afghanistan Asia      1952 28.801   8425333 779.4453  6.658583\n",
       "2 Afghanistan Asia      1957 30.332   9240934 820.8530  6.710344\n",
       "3 Afghanistan Asia      1962 31.997  10267083 853.1007  6.748878"
      ]
     },
     "metadata": {},
     "output_type": "display_data"
    }
   ],
   "source": [
    "gapminder %>% \n",
    "mutate(gdp_log = log(gdpPercap)) %>% \n",
    "head(3)"
   ]
  },
  {
   "cell_type": "markdown",
   "metadata": {},
   "source": [
    "## 1.4 Summarise\n",
    "- See list of functions under the \"useful functions\" header [here]"
   ]
  },
  {
   "cell_type": "code",
   "execution_count": 18,
   "metadata": {},
   "outputs": [
    {
     "data": {
      "text/html": [
       "<table>\n",
       "<thead><tr><th scope=col>mean_pop</th><th scope=col>median_pop</th></tr></thead>\n",
       "<tbody>\n",
       "\t<tr><td>29601212</td><td>7023596 </td></tr>\n",
       "</tbody>\n",
       "</table>\n"
      ],
      "text/latex": [
       "\\begin{tabular}{r|ll}\n",
       " mean\\_pop & median\\_pop\\\\\n",
       "\\hline\n",
       "\t 29601212 & 7023596 \\\\\n",
       "\\end{tabular}\n"
      ],
      "text/markdown": [
       "\n",
       "| mean_pop | median_pop |\n",
       "|---|---|\n",
       "| 29601212 | 7023596  |\n",
       "\n"
      ],
      "text/plain": [
       "  mean_pop median_pop\n",
       "1 29601212 7023596   "
      ]
     },
     "metadata": {},
     "output_type": "display_data"
    }
   ],
   "source": [
    "gapminder  %>% \n",
    "summarise(mean_pop = mean(pop),\n",
    "         median_pop = median(pop))"
   ]
  },
  {
   "cell_type": "markdown",
   "metadata": {},
   "source": [
    "### 1.4.1 Summarise & Filter\n",
    "- Chain two functions"
   ]
  },
  {
   "cell_type": "code",
   "execution_count": 22,
   "metadata": {},
   "outputs": [
    {
     "data": {
      "text/html": [
       "<table>\n",
       "<thead><tr><th scope=col>mean_pop</th></tr></thead>\n",
       "<tbody>\n",
       "\t<tr><td>44021220</td></tr>\n",
       "</tbody>\n",
       "</table>\n"
      ],
      "text/latex": [
       "\\begin{tabular}{r|l}\n",
       " mean\\_pop\\\\\n",
       "\\hline\n",
       "\t 44021220\\\\\n",
       "\\end{tabular}\n"
      ],
      "text/markdown": [
       "\n",
       "| mean_pop |\n",
       "|---|\n",
       "| 44021220 |\n",
       "\n"
      ],
      "text/plain": [
       "  mean_pop\n",
       "1 44021220"
      ]
     },
     "metadata": {},
     "output_type": "display_data"
    }
   ],
   "source": [
    "gapminder  %>% \n",
    "filter(year==2007) %>% \n",
    "summarise(mean_pop = mean(pop))"
   ]
  },
  {
   "cell_type": "markdown",
   "metadata": {},
   "source": [
    "## 1.5 Groupby"
   ]
  },
  {
   "cell_type": "code",
   "execution_count": 23,
   "metadata": {},
   "outputs": [
    {
     "data": {
      "text/html": [
       "<table>\n",
       "<thead><tr><th scope=col>continent</th><th scope=col>mean_gdp</th></tr></thead>\n",
       "<tbody>\n",
       "\t<tr><td>Africa   </td><td> 2193.755</td></tr>\n",
       "\t<tr><td>Americas </td><td> 7136.110</td></tr>\n",
       "\t<tr><td>Asia     </td><td> 7902.150</td></tr>\n",
       "\t<tr><td>Europe   </td><td>14469.476</td></tr>\n",
       "\t<tr><td>Oceania  </td><td>18621.609</td></tr>\n",
       "</tbody>\n",
       "</table>\n"
      ],
      "text/latex": [
       "\\begin{tabular}{r|ll}\n",
       " continent & mean\\_gdp\\\\\n",
       "\\hline\n",
       "\t Africa    &  2193.755\\\\\n",
       "\t Americas  &  7136.110\\\\\n",
       "\t Asia      &  7902.150\\\\\n",
       "\t Europe    & 14469.476\\\\\n",
       "\t Oceania   & 18621.609\\\\\n",
       "\\end{tabular}\n"
      ],
      "text/markdown": [
       "\n",
       "| continent | mean_gdp |\n",
       "|---|---|\n",
       "| Africa    |  2193.755 |\n",
       "| Americas  |  7136.110 |\n",
       "| Asia      |  7902.150 |\n",
       "| Europe    | 14469.476 |\n",
       "| Oceania   | 18621.609 |\n",
       "\n"
      ],
      "text/plain": [
       "  continent mean_gdp \n",
       "1 Africa     2193.755\n",
       "2 Americas   7136.110\n",
       "3 Asia       7902.150\n",
       "4 Europe    14469.476\n",
       "5 Oceania   18621.609"
      ]
     },
     "metadata": {},
     "output_type": "display_data"
    }
   ],
   "source": [
    "gapminder  %>%\n",
    "group_by(continent) %>% \n",
    "summarise(mean_gdp = mean(gdpPercap))"
   ]
  },
  {
   "cell_type": "markdown",
   "metadata": {},
   "source": [
    "# 2. Data check"
   ]
  },
  {
   "cell_type": "markdown",
   "metadata": {},
   "source": [
    "## 2.1 Data types: str(DF_NAME)"
   ]
  },
  {
   "cell_type": "code",
   "execution_count": 24,
   "metadata": {},
   "outputs": [
    {
     "name": "stdout",
     "output_type": "stream",
     "text": [
      "Classes ‘tbl_df’, ‘tbl’ and 'data.frame':\t1704 obs. of  6 variables:\n",
      " $ country  : Factor w/ 142 levels \"Afghanistan\",..: 1 1 1 1 1 1 1 1 1 1 ...\n",
      " $ continent: Factor w/ 5 levels \"Africa\",\"Americas\",..: 3 3 3 3 3 3 3 3 3 3 ...\n",
      " $ year     : int  1952 1957 1962 1967 1972 1977 1982 1987 1992 1997 ...\n",
      " $ lifeExp  : num  28.8 30.3 32 34 36.1 ...\n",
      " $ pop      : int  8425333 9240934 10267083 11537966 13079460 14880372 12881816 13867957 16317921 22227415 ...\n",
      " $ gdpPercap: num  779 821 853 836 740 ...\n"
     ]
    }
   ],
   "source": [
    "str(gapminder)"
   ]
  },
  {
   "cell_type": "markdown",
   "metadata": {},
   "source": [
    "## 2.2 Summary stats: summary(DF_NAME)"
   ]
  },
  {
   "cell_type": "code",
   "execution_count": 25,
   "metadata": {},
   "outputs": [
    {
     "data": {
      "text/plain": [
       "        country        continent        year         lifeExp     \n",
       " Afghanistan:  12   Africa  :624   Min.   :1952   Min.   :23.60  \n",
       " Albania    :  12   Americas:300   1st Qu.:1966   1st Qu.:48.20  \n",
       " Algeria    :  12   Asia    :396   Median :1980   Median :60.71  \n",
       " Angola     :  12   Europe  :360   Mean   :1980   Mean   :59.47  \n",
       " Argentina  :  12   Oceania : 24   3rd Qu.:1993   3rd Qu.:70.85  \n",
       " Australia  :  12                  Max.   :2007   Max.   :82.60  \n",
       " (Other)    :1632                                                \n",
       "      pop              gdpPercap       \n",
       " Min.   :6.001e+04   Min.   :   241.2  \n",
       " 1st Qu.:2.794e+06   1st Qu.:  1202.1  \n",
       " Median :7.024e+06   Median :  3531.8  \n",
       " Mean   :2.960e+07   Mean   :  7215.3  \n",
       " 3rd Qu.:1.959e+07   3rd Qu.:  9325.5  \n",
       " Max.   :1.319e+09   Max.   :113523.1  \n",
       "                                       "
      ]
     },
     "metadata": {},
     "output_type": "display_data"
    }
   ],
   "source": [
    "summary(gapminder)"
   ]
  },
  {
   "cell_type": "markdown",
   "metadata": {},
   "source": [
    "## 2.3 Check for NA: is.na()"
   ]
  },
  {
   "cell_type": "code",
   "execution_count": 27,
   "metadata": {},
   "outputs": [
    {
     "data": {
      "text/html": [
       "FALSE"
      ],
      "text/latex": [
       "FALSE"
      ],
      "text/markdown": [
       "FALSE"
      ],
      "text/plain": [
       "[1] FALSE"
      ]
     },
     "metadata": {},
     "output_type": "display_data"
    }
   ],
   "source": [
    "gapminder %>% \n",
    "is.na() %>% \n",
    "any()"
   ]
  },
  {
   "cell_type": "markdown",
   "metadata": {},
   "source": [
    "## 2.4 Drop na: na.omit()\n",
    "\n",
    "- Add na then drop"
   ]
  },
  {
   "cell_type": "markdown",
   "metadata": {},
   "source": [
    "### 2.4.1 Add na observations in the last row"
   ]
  },
  {
   "cell_type": "code",
   "execution_count": 42,
   "metadata": {},
   "outputs": [
    {
     "data": {
      "text/html": [
       "<table>\n",
       "<thead><tr><th scope=col>country</th><th scope=col>continent</th><th scope=col>year</th><th scope=col>lifeExp</th><th scope=col>pop</th><th scope=col>gdpPercap</th></tr></thead>\n",
       "<tbody>\n",
       "\t<tr><td>NA</td><td>NA</td><td>NA</td><td>NA</td><td>NA</td><td>NA</td></tr>\n",
       "\t<tr><td>NA</td><td>NA</td><td>NA</td><td>NA</td><td>NA</td><td>NA</td></tr>\n",
       "</tbody>\n",
       "</table>\n"
      ],
      "text/latex": [
       "\\begin{tabular}{r|llllll}\n",
       " country & continent & year & lifeExp & pop & gdpPercap\\\\\n",
       "\\hline\n",
       "\t NA & NA & NA & NA & NA & NA\\\\\n",
       "\t NA & NA & NA & NA & NA & NA\\\\\n",
       "\\end{tabular}\n"
      ],
      "text/markdown": [
       "\n",
       "| country | continent | year | lifeExp | pop | gdpPercap |\n",
       "|---|---|---|---|---|---|\n",
       "| NA | NA | NA | NA | NA | NA |\n",
       "| NA | NA | NA | NA | NA | NA |\n",
       "\n"
      ],
      "text/plain": [
       "  country continent year lifeExp pop gdpPercap\n",
       "1 NA      NA        NA   NA      NA  NA       \n",
       "2 NA      NA        NA   NA      NA  NA       "
      ]
     },
     "metadata": {},
     "output_type": "display_data"
    }
   ],
   "source": [
    "# Adds NA row at the bottom of dataset\n",
    "gapminder = gapminder %>% rbind(c(NA,NA, NA, NA, NA, NA))\n",
    "gapminder %>% tail(2)"
   ]
  },
  {
   "cell_type": "markdown",
   "metadata": {},
   "source": [
    "### 2.4.2 Re-check for na"
   ]
  },
  {
   "cell_type": "code",
   "execution_count": 46,
   "metadata": {},
   "outputs": [
    {
     "data": {
      "text/html": [
       "TRUE"
      ],
      "text/latex": [
       "TRUE"
      ],
      "text/markdown": [
       "TRUE"
      ],
      "text/plain": [
       "[1] TRUE"
      ]
     },
     "metadata": {},
     "output_type": "display_data"
    }
   ],
   "source": [
    "gapminder %>% \n",
    "is.na() %>% \n",
    "any()"
   ]
  },
  {
   "cell_type": "markdown",
   "metadata": {},
   "source": [
    "### 2.4.3 na.omit()"
   ]
  },
  {
   "cell_type": "code",
   "execution_count": 45,
   "metadata": {},
   "outputs": [
    {
     "data": {
      "text/html": [
       "<table>\n",
       "<thead><tr><th scope=col>country</th><th scope=col>continent</th><th scope=col>year</th><th scope=col>lifeExp</th><th scope=col>pop</th><th scope=col>gdpPercap</th></tr></thead>\n",
       "<tbody>\n",
       "\t<tr><td>Zimbabwe</td><td>Africa  </td><td>2002    </td><td>39.989  </td><td>11926563</td><td>672.0386</td></tr>\n",
       "\t<tr><td>Zimbabwe</td><td>Africa  </td><td>2007    </td><td>43.487  </td><td>12311143</td><td>469.7093</td></tr>\n",
       "</tbody>\n",
       "</table>\n"
      ],
      "text/latex": [
       "\\begin{tabular}{r|llllll}\n",
       " country & continent & year & lifeExp & pop & gdpPercap\\\\\n",
       "\\hline\n",
       "\t Zimbabwe & Africa   & 2002     & 39.989   & 11926563 & 672.0386\\\\\n",
       "\t Zimbabwe & Africa   & 2007     & 43.487   & 12311143 & 469.7093\\\\\n",
       "\\end{tabular}\n"
      ],
      "text/markdown": [
       "\n",
       "| country | continent | year | lifeExp | pop | gdpPercap |\n",
       "|---|---|---|---|---|---|\n",
       "| Zimbabwe | Africa   | 2002     | 39.989   | 11926563 | 672.0386 |\n",
       "| Zimbabwe | Africa   | 2007     | 43.487   | 12311143 | 469.7093 |\n",
       "\n"
      ],
      "text/plain": [
       "  country  continent year lifeExp pop      gdpPercap\n",
       "1 Zimbabwe Africa    2002 39.989  11926563 672.0386 \n",
       "2 Zimbabwe Africa    2007 43.487  12311143 469.7093 "
      ]
     },
     "metadata": {},
     "output_type": "display_data"
    }
   ],
   "source": [
    "gapminder %>% \n",
    "na.omit() %>% tail(2)"
   ]
  },
  {
   "cell_type": "markdown",
   "metadata": {},
   "source": [
    "# 3. Data manipulation"
   ]
  },
  {
   "cell_type": "markdown",
   "metadata": {},
   "source": [
    "## 3.1 Dummy variable"
   ]
  },
  {
   "cell_type": "code",
   "execution_count": 50,
   "metadata": {},
   "outputs": [
    {
     "data": {
      "text/html": [
       "<table>\n",
       "<thead><tr><th scope=col>country</th><th scope=col>continent</th><th scope=col>year</th><th scope=col>lifeExp</th><th scope=col>pop</th><th scope=col>gdpPercap</th></tr></thead>\n",
       "<tbody>\n",
       "\t<tr><td>Afghanistan</td><td>Asia       </td><td>2007       </td><td>43.828     </td><td>31889923   </td><td>  974.5803 </td></tr>\n",
       "\t<tr><td>Albania    </td><td>Europe     </td><td>2007       </td><td>76.423     </td><td> 3600523   </td><td> 5937.0295 </td></tr>\n",
       "\t<tr><td>Algeria    </td><td>Africa     </td><td>2007       </td><td>72.301     </td><td>33333216   </td><td> 6223.3675 </td></tr>\n",
       "\t<tr><td>Angola     </td><td>Africa     </td><td>2007       </td><td>42.731     </td><td>12420476   </td><td> 4797.2313 </td></tr>\n",
       "\t<tr><td>Argentina  </td><td>Americas   </td><td>2007       </td><td>75.320     </td><td>40301927   </td><td>12779.3796 </td></tr>\n",
       "</tbody>\n",
       "</table>\n"
      ],
      "text/latex": [
       "\\begin{tabular}{r|llllll}\n",
       " country & continent & year & lifeExp & pop & gdpPercap\\\\\n",
       "\\hline\n",
       "\t Afghanistan & Asia        & 2007        & 43.828      & 31889923    &   974.5803 \\\\\n",
       "\t Albania     & Europe      & 2007        & 76.423      &  3600523    &  5937.0295 \\\\\n",
       "\t Algeria     & Africa      & 2007        & 72.301      & 33333216    &  6223.3675 \\\\\n",
       "\t Angola      & Africa      & 2007        & 42.731      & 12420476    &  4797.2313 \\\\\n",
       "\t Argentina   & Americas    & 2007        & 75.320      & 40301927    & 12779.3796 \\\\\n",
       "\\end{tabular}\n"
      ],
      "text/markdown": [
       "\n",
       "| country | continent | year | lifeExp | pop | gdpPercap |\n",
       "|---|---|---|---|---|---|\n",
       "| Afghanistan | Asia        | 2007        | 43.828      | 31889923    |   974.5803  |\n",
       "| Albania     | Europe      | 2007        | 76.423      |  3600523    |  5937.0295  |\n",
       "| Algeria     | Africa      | 2007        | 72.301      | 33333216    |  6223.3675  |\n",
       "| Angola      | Africa      | 2007        | 42.731      | 12420476    |  4797.2313  |\n",
       "| Argentina   | Americas    | 2007        | 75.320      | 40301927    | 12779.3796  |\n",
       "\n"
      ],
      "text/plain": [
       "  country     continent year lifeExp pop      gdpPercap \n",
       "1 Afghanistan Asia      2007 43.828  31889923   974.5803\n",
       "2 Albania     Europe    2007 76.423   3600523  5937.0295\n",
       "3 Algeria     Africa    2007 72.301  33333216  6223.3675\n",
       "4 Angola      Africa    2007 42.731  12420476  4797.2313\n",
       "5 Argentina   Americas  2007 75.320  40301927 12779.3796"
      ]
     },
     "metadata": {},
     "output_type": "display_data"
    }
   ],
   "source": [
    "gapminder_2007 = gapminder %>% filter(year==2007)\n",
    "gapminder_2007 %>% head(5)"
   ]
  },
  {
   "cell_type": "markdown",
   "metadata": {},
   "source": [
    "### 3.1.1 Add dummy for high-income countries"
   ]
  },
  {
   "cell_type": "code",
   "execution_count": 53,
   "metadata": {},
   "outputs": [],
   "source": [
    "gapminder_2007 = gapminder_2007 %>% \n",
    "mutate(highinc_dummy = as.numeric(gdpPercap>10000))"
   ]
  },
  {
   "cell_type": "code",
   "execution_count": 54,
   "metadata": {},
   "outputs": [
    {
     "data": {
      "text/html": [
       "<table>\n",
       "<thead><tr><th scope=col>country</th><th scope=col>continent</th><th scope=col>year</th><th scope=col>lifeExp</th><th scope=col>pop</th><th scope=col>gdpPercap</th><th scope=col>highinc_dummy</th></tr></thead>\n",
       "<tbody>\n",
       "\t<tr><td>Afghanistan</td><td>Asia       </td><td>2007       </td><td>43.828     </td><td>31889923   </td><td> 974.5803  </td><td>0          </td></tr>\n",
       "\t<tr><td>Albania    </td><td>Europe     </td><td>2007       </td><td>76.423     </td><td> 3600523   </td><td>5937.0295  </td><td>0          </td></tr>\n",
       "</tbody>\n",
       "</table>\n"
      ],
      "text/latex": [
       "\\begin{tabular}{r|lllllll}\n",
       " country & continent & year & lifeExp & pop & gdpPercap & highinc\\_dummy\\\\\n",
       "\\hline\n",
       "\t Afghanistan & Asia        & 2007        & 43.828      & 31889923    &  974.5803   & 0          \\\\\n",
       "\t Albania     & Europe      & 2007        & 76.423      &  3600523    & 5937.0295   & 0          \\\\\n",
       "\\end{tabular}\n"
      ],
      "text/markdown": [
       "\n",
       "| country | continent | year | lifeExp | pop | gdpPercap | highinc_dummy |\n",
       "|---|---|---|---|---|---|---|\n",
       "| Afghanistan | Asia        | 2007        | 43.828      | 31889923    |  974.5803   | 0           |\n",
       "| Albania     | Europe      | 2007        | 76.423      |  3600523    | 5937.0295   | 0           |\n",
       "\n"
      ],
      "text/plain": [
       "  country     continent year lifeExp pop      gdpPercap highinc_dummy\n",
       "1 Afghanistan Asia      2007 43.828  31889923  974.5803 0            \n",
       "2 Albania     Europe    2007 76.423   3600523 5937.0295 0            "
      ]
     },
     "metadata": {},
     "output_type": "display_data"
    }
   ],
   "source": [
    "gapminder_2007  %>% head(2)"
   ]
  },
  {
   "cell_type": "markdown",
   "metadata": {},
   "source": [
    "### 3.1.2 Dummies are useful for summary stats"
   ]
  },
  {
   "cell_type": "code",
   "execution_count": 80,
   "metadata": {},
   "outputs": [
    {
     "data": {
      "text/html": [
       "<table>\n",
       "<thead><tr><th scope=col>highinc_dummy</th><th scope=col>gdp_mean</th><th scope=col>pop_mean</th></tr></thead>\n",
       "<tbody>\n",
       "\t<tr><td>0        </td><td> 3397.524</td><td>54947339 </td></tr>\n",
       "\t<tr><td>1        </td><td>25177.557</td><td>26215692 </td></tr>\n",
       "</tbody>\n",
       "</table>\n"
      ],
      "text/latex": [
       "\\begin{tabular}{r|lll}\n",
       " highinc\\_dummy & gdp\\_mean & pop\\_mean\\\\\n",
       "\\hline\n",
       "\t 0         &  3397.524 & 54947339 \\\\\n",
       "\t 1         & 25177.557 & 26215692 \\\\\n",
       "\\end{tabular}\n"
      ],
      "text/markdown": [
       "\n",
       "| highinc_dummy | gdp_mean | pop_mean |\n",
       "|---|---|---|\n",
       "| 0         |  3397.524 | 54947339  |\n",
       "| 1         | 25177.557 | 26215692  |\n",
       "\n"
      ],
      "text/plain": [
       "  highinc_dummy gdp_mean  pop_mean\n",
       "1 0              3397.524 54947339\n",
       "2 1             25177.557 26215692"
      ]
     },
     "metadata": {},
     "output_type": "display_data"
    }
   ],
   "source": [
    "gapminder_2007  %>% \n",
    "group_by(highinc_dummy) %>% \n",
    "summarise(gdp_mean = mean(gdpPercap),\n",
    "         pop_mean = mean(pop))"
   ]
  },
  {
   "cell_type": "markdown",
   "metadata": {},
   "source": [
    "## 3.2 Mapping values"
   ]
  },
  {
   "cell_type": "code",
   "execution_count": 60,
   "metadata": {},
   "outputs": [
    {
     "data": {
      "text/html": [
       "<table>\n",
       "<thead><tr><th scope=col>country</th><th scope=col>continent</th><th scope=col>year</th><th scope=col>lifeExp</th><th scope=col>pop</th><th scope=col>gdpPercap</th><th scope=col>highinc_dummy</th><th scope=col>highinc_dummy_factor</th></tr></thead>\n",
       "<tbody>\n",
       "\t<tr><td>Zambia   </td><td>Africa   </td><td>2007     </td><td>42.384   </td><td>11746035 </td><td>1271.2116</td><td>0        </td><td>Low      </td></tr>\n",
       "\t<tr><td>Zimbabwe </td><td>Africa   </td><td>2007     </td><td>43.487   </td><td>12311143 </td><td> 469.7093</td><td>0        </td><td>Low      </td></tr>\n",
       "</tbody>\n",
       "</table>\n"
      ],
      "text/latex": [
       "\\begin{tabular}{r|llllllll}\n",
       " country & continent & year & lifeExp & pop & gdpPercap & highinc\\_dummy & highinc\\_dummy\\_factor\\\\\n",
       "\\hline\n",
       "\t Zambia    & Africa    & 2007      & 42.384    & 11746035  & 1271.2116 & 0         & Low      \\\\\n",
       "\t Zimbabwe  & Africa    & 2007      & 43.487    & 12311143  &  469.7093 & 0         & Low      \\\\\n",
       "\\end{tabular}\n"
      ],
      "text/markdown": [
       "\n",
       "| country | continent | year | lifeExp | pop | gdpPercap | highinc_dummy | highinc_dummy_factor |\n",
       "|---|---|---|---|---|---|---|---|\n",
       "| Zambia    | Africa    | 2007      | 42.384    | 11746035  | 1271.2116 | 0         | Low       |\n",
       "| Zimbabwe  | Africa    | 2007      | 43.487    | 12311143  |  469.7093 | 0         | Low       |\n",
       "\n"
      ],
      "text/plain": [
       "  country  continent year lifeExp pop      gdpPercap highinc_dummy\n",
       "1 Zambia   Africa    2007 42.384  11746035 1271.2116 0            \n",
       "2 Zimbabwe Africa    2007 43.487  12311143  469.7093 0            \n",
       "  highinc_dummy_factor\n",
       "1 Low                 \n",
       "2 Low                 "
      ]
     },
     "metadata": {},
     "output_type": "display_data"
    }
   ],
   "source": [
    "gapminder_2007  %>% \n",
    "mutate(highinc_dummy_factor = recode(highinc_dummy, '0'='Low', '1'='High')) %>% \n",
    "tail(2)"
   ]
  },
  {
   "cell_type": "markdown",
   "metadata": {},
   "source": [
    "## 3.3 Cut-off dummies"
   ]
  },
  {
   "cell_type": "code",
   "execution_count": 75,
   "metadata": {},
   "outputs": [
    {
     "data": {
      "text/html": [
       "<ol class=list-inline>\n",
       "\t<li>40</li>\n",
       "\t<li>50</li>\n",
       "\t<li>60</li>\n",
       "\t<li>70</li>\n",
       "\t<li>80</li>\n",
       "\t<li>90</li>\n",
       "\t<li>100</li>\n",
       "</ol>\n"
      ],
      "text/latex": [
       "\\begin{enumerate*}\n",
       "\\item 40\n",
       "\\item 50\n",
       "\\item 60\n",
       "\\item 70\n",
       "\\item 80\n",
       "\\item 90\n",
       "\\item 100\n",
       "\\end{enumerate*}\n"
      ],
      "text/markdown": [
       "1. 40\n",
       "2. 50\n",
       "3. 60\n",
       "4. 70\n",
       "5. 80\n",
       "6. 90\n",
       "7. 100\n",
       "\n",
       "\n"
      ],
      "text/plain": [
       "[1]  40  50  60  70  80  90 100"
      ]
     },
     "metadata": {},
     "output_type": "display_data"
    }
   ],
   "source": [
    "cutoffs = c(seq(40, 100, by = 10))\n",
    "cutoffs"
   ]
  },
  {
   "cell_type": "code",
   "execution_count": 76,
   "metadata": {},
   "outputs": [],
   "source": [
    "gapminder_2007 = gapminder_2007  %>% \n",
    "mutate(cut_variable = cut(gapminder_2007$lifeExp, cutoffs, include.lowest=TRUE))"
   ]
  },
  {
   "cell_type": "code",
   "execution_count": 77,
   "metadata": {},
   "outputs": [
    {
     "data": {
      "text/html": [
       "<table>\n",
       "<thead><tr><th scope=col>country</th><th scope=col>continent</th><th scope=col>year</th><th scope=col>lifeExp</th><th scope=col>pop</th><th scope=col>gdpPercap</th><th scope=col>highinc_dummy</th><th scope=col>cut_variable</th></tr></thead>\n",
       "<tbody>\n",
       "\t<tr><td>Afghanistan</td><td>Asia       </td><td>2007       </td><td>43.828     </td><td>31889923   </td><td> 974.5803  </td><td>0          </td><td>[40,50]    </td></tr>\n",
       "\t<tr><td>Albania    </td><td>Europe     </td><td>2007       </td><td>76.423     </td><td> 3600523   </td><td>5937.0295  </td><td>0          </td><td>(70,80]    </td></tr>\n",
       "\t<tr><td>Algeria    </td><td>Africa     </td><td>2007       </td><td>72.301     </td><td>33333216   </td><td>6223.3675  </td><td>0          </td><td>(70,80]    </td></tr>\n",
       "</tbody>\n",
       "</table>\n"
      ],
      "text/latex": [
       "\\begin{tabular}{r|llllllll}\n",
       " country & continent & year & lifeExp & pop & gdpPercap & highinc\\_dummy & cut\\_variable\\\\\n",
       "\\hline\n",
       "\t Afghanistan & Asia        & 2007        & 43.828      & 31889923    &  974.5803   & 0           & {[}40,50{]}\\\\\n",
       "\t Albania     & Europe      & 2007        & 76.423      &  3600523    & 5937.0295   & 0           & (70,80{]}  \\\\\n",
       "\t Algeria     & Africa      & 2007        & 72.301      & 33333216    & 6223.3675   & 0           & (70,80{]}  \\\\\n",
       "\\end{tabular}\n"
      ],
      "text/markdown": [
       "\n",
       "| country | continent | year | lifeExp | pop | gdpPercap | highinc_dummy | cut_variable |\n",
       "|---|---|---|---|---|---|---|---|\n",
       "| Afghanistan | Asia        | 2007        | 43.828      | 31889923    |  974.5803   | 0           | [40,50]     |\n",
       "| Albania     | Europe      | 2007        | 76.423      |  3600523    | 5937.0295   | 0           | (70,80]     |\n",
       "| Algeria     | Africa      | 2007        | 72.301      | 33333216    | 6223.3675   | 0           | (70,80]     |\n",
       "\n"
      ],
      "text/plain": [
       "  country     continent year lifeExp pop      gdpPercap highinc_dummy\n",
       "1 Afghanistan Asia      2007 43.828  31889923  974.5803 0            \n",
       "2 Albania     Europe    2007 76.423   3600523 5937.0295 0            \n",
       "3 Algeria     Africa    2007 72.301  33333216 6223.3675 0            \n",
       "  cut_variable\n",
       "1 [40,50]     \n",
       "2 (70,80]     \n",
       "3 (70,80]     "
      ]
     },
     "metadata": {},
     "output_type": "display_data"
    }
   ],
   "source": [
    "gapminder_2007 %>% head(3)"
   ]
  },
  {
   "cell_type": "code",
   "execution_count": 78,
   "metadata": {},
   "outputs": [
    {
     "name": "stderr",
     "output_type": "stream",
     "text": [
      "Warning message:\n",
      "“Factor `cut_variable` contains implicit NA, consider using `forcats::fct_explicit_na`”"
     ]
    },
    {
     "data": {
      "text/html": [
       "<table>\n",
       "<thead><tr><th scope=col>cut_variable</th><th scope=col>mean_gdp</th></tr></thead>\n",
       "<tbody>\n",
       "\t<tr><td>[40,50]  </td><td> 1586.257</td></tr>\n",
       "\t<tr><td>(50,60]  </td><td> 3078.872</td></tr>\n",
       "\t<tr><td>(60,70]  </td><td> 2869.655</td></tr>\n",
       "\t<tr><td>(70,80]  </td><td>15258.397</td></tr>\n",
       "\t<tr><td>(80,90]  </td><td>33662.222</td></tr>\n",
       "\t<tr><td>NA       </td><td> 4513.481</td></tr>\n",
       "</tbody>\n",
       "</table>\n"
      ],
      "text/latex": [
       "\\begin{tabular}{r|ll}\n",
       " cut\\_variable & mean\\_gdp\\\\\n",
       "\\hline\n",
       "\t {[}40,50{]} &  1586.257  \\\\\n",
       "\t (50,60{]} &  3078.872\\\\\n",
       "\t (60,70{]} &  2869.655\\\\\n",
       "\t (70,80{]} & 15258.397\\\\\n",
       "\t (80,90{]} & 33662.222\\\\\n",
       "\t NA        &  4513.481\\\\\n",
       "\\end{tabular}\n"
      ],
      "text/markdown": [
       "\n",
       "| cut_variable | mean_gdp |\n",
       "|---|---|\n",
       "| [40,50]   |  1586.257 |\n",
       "| (50,60]   |  3078.872 |\n",
       "| (60,70]   |  2869.655 |\n",
       "| (70,80]   | 15258.397 |\n",
       "| (80,90]   | 33662.222 |\n",
       "| NA        |  4513.481 |\n",
       "\n"
      ],
      "text/plain": [
       "  cut_variable mean_gdp \n",
       "1 [40,50]       1586.257\n",
       "2 (50,60]       3078.872\n",
       "3 (60,70]       2869.655\n",
       "4 (70,80]      15258.397\n",
       "5 (80,90]      33662.222\n",
       "6 NA            4513.481"
      ]
     },
     "metadata": {},
     "output_type": "display_data"
    }
   ],
   "source": [
    "gapminder_2007 %>% \n",
    "group_by(cut_variable) %>% \n",
    "summarise(mean_gdp = mean(gdpPercap))"
   ]
  },
  {
   "cell_type": "markdown",
   "metadata": {},
   "source": [
    "# 4. Misc"
   ]
  },
  {
   "cell_type": "markdown",
   "metadata": {},
   "source": [
    "## 4.1 Rename column"
   ]
  },
  {
   "cell_type": "code",
   "execution_count": 84,
   "metadata": {},
   "outputs": [
    {
     "data": {
      "text/html": [
       "<table>\n",
       "<thead><tr><th scope=col>country</th><th scope=col>continent</th><th scope=col>year</th><th scope=col>lifeExp</th><th scope=col>pop</th><th scope=col>gdp</th><th scope=col>highinc_dummy</th><th scope=col>cut_variable</th></tr></thead>\n",
       "<tbody>\n",
       "\t<tr><td>Afghanistan</td><td>Asia       </td><td>2007       </td><td>43.828     </td><td>31889923   </td><td> 974.5803  </td><td>0          </td><td>[40,50]    </td></tr>\n",
       "\t<tr><td>Albania    </td><td>Europe     </td><td>2007       </td><td>76.423     </td><td> 3600523   </td><td>5937.0295  </td><td>0          </td><td>(70,80]    </td></tr>\n",
       "</tbody>\n",
       "</table>\n"
      ],
      "text/latex": [
       "\\begin{tabular}{r|llllllll}\n",
       " country & continent & year & lifeExp & pop & gdp & highinc\\_dummy & cut\\_variable\\\\\n",
       "\\hline\n",
       "\t Afghanistan & Asia        & 2007        & 43.828      & 31889923    &  974.5803   & 0           & {[}40,50{]}\\\\\n",
       "\t Albania     & Europe      & 2007        & 76.423      &  3600523    & 5937.0295   & 0           & (70,80{]}  \\\\\n",
       "\\end{tabular}\n"
      ],
      "text/markdown": [
       "\n",
       "| country | continent | year | lifeExp | pop | gdp | highinc_dummy | cut_variable |\n",
       "|---|---|---|---|---|---|---|---|\n",
       "| Afghanistan | Asia        | 2007        | 43.828      | 31889923    |  974.5803   | 0           | [40,50]     |\n",
       "| Albania     | Europe      | 2007        | 76.423      |  3600523    | 5937.0295   | 0           | (70,80]     |\n",
       "\n"
      ],
      "text/plain": [
       "  country     continent year lifeExp pop      gdp       highinc_dummy\n",
       "1 Afghanistan Asia      2007 43.828  31889923  974.5803 0            \n",
       "2 Albania     Europe    2007 76.423   3600523 5937.0295 0            \n",
       "  cut_variable\n",
       "1 [40,50]     \n",
       "2 (70,80]     "
      ]
     },
     "metadata": {},
     "output_type": "display_data"
    }
   ],
   "source": [
    "gapminder_2007  %>% rename('gdp'='gdpPercap') %>% head(2)"
   ]
  },
  {
   "cell_type": "markdown",
   "metadata": {},
   "source": [
    "## 4.2 Unique"
   ]
  },
  {
   "cell_type": "code",
   "execution_count": 88,
   "metadata": {},
   "outputs": [
    {
     "data": {
      "text/html": [
       "<table>\n",
       "<thead><tr><th scope=col>continent</th></tr></thead>\n",
       "<tbody>\n",
       "\t<tr><td>Asia    </td></tr>\n",
       "\t<tr><td>Europe  </td></tr>\n",
       "\t<tr><td>Africa  </td></tr>\n",
       "\t<tr><td>Americas</td></tr>\n",
       "\t<tr><td>Oceania </td></tr>\n",
       "</tbody>\n",
       "</table>\n"
      ],
      "text/latex": [
       "\\begin{tabular}{r|l}\n",
       " continent\\\\\n",
       "\\hline\n",
       "\t Asia    \\\\\n",
       "\t Europe  \\\\\n",
       "\t Africa  \\\\\n",
       "\t Americas\\\\\n",
       "\t Oceania \\\\\n",
       "\\end{tabular}\n"
      ],
      "text/markdown": [
       "\n",
       "| continent |\n",
       "|---|\n",
       "| Asia     |\n",
       "| Europe   |\n",
       "| Africa   |\n",
       "| Americas |\n",
       "| Oceania  |\n",
       "\n"
      ],
      "text/plain": [
       "  continent\n",
       "1 Asia     \n",
       "2 Europe   \n",
       "3 Africa   \n",
       "4 Americas \n",
       "5 Oceania  "
      ]
     },
     "metadata": {},
     "output_type": "display_data"
    }
   ],
   "source": [
    "gapminder_2007 %>% \n",
    "select(continent) %>% \n",
    "unique()"
   ]
  },
  {
   "cell_type": "markdown",
   "metadata": {},
   "source": [
    "## 4.3 Table(row, column)"
   ]
  },
  {
   "cell_type": "code",
   "execution_count": 90,
   "metadata": {},
   "outputs": [
    {
     "data": {
      "text/html": [
       "<table>\n",
       "<thead><tr><th scope=col>country</th><th scope=col>polity2</th><th scope=col>gdp</th><th scope=col>regime</th><th scope=col>wealth</th></tr></thead>\n",
       "<tbody>\n",
       "\t<tr><td>US    </td><td>10    </td><td>18054 </td><td>3     </td><td>3     </td></tr>\n",
       "\t<tr><td>CANADA</td><td>10    </td><td>17173 </td><td>3     </td><td>3     </td></tr>\n",
       "</tbody>\n",
       "</table>\n"
      ],
      "text/latex": [
       "\\begin{tabular}{r|lllll}\n",
       " country & polity2 & gdp & regime & wealth\\\\\n",
       "\\hline\n",
       "\t US     & 10     & 18054  & 3      & 3     \\\\\n",
       "\t CANADA & 10     & 17173  & 3      & 3     \\\\\n",
       "\\end{tabular}\n"
      ],
      "text/markdown": [
       "\n",
       "| country | polity2 | gdp | regime | wealth |\n",
       "|---|---|---|---|---|\n",
       "| US     | 10     | 18054  | 3      | 3      |\n",
       "| CANADA | 10     | 17173  | 3      | 3      |\n",
       "\n"
      ],
      "text/plain": [
       "  country polity2 gdp   regime wealth\n",
       "1 US      10      18054 3      3     \n",
       "2 CANADA  10      17173 3      3     "
      ]
     },
     "metadata": {},
     "output_type": "display_data"
    }
   ],
   "source": [
    "df_polity = read.csv('https://raw.githubusercontent.com/corybaird/PLCY_610_public/master/Discussion_sections/Disc4_PS2/demo.csv')\n",
    "df_polity %>% head(2)"
   ]
  },
  {
   "cell_type": "markdown",
   "metadata": {},
   "source": [
    "### 4.3.1 Freq table"
   ]
  },
  {
   "cell_type": "code",
   "execution_count": 94,
   "metadata": {},
   "outputs": [
    {
     "data": {
      "text/plain": [
       "      regime\n",
       "wealth  1  2  3\n",
       "     1 26  5  6\n",
       "     2  6 15 20\n",
       "     3  0  1 26"
      ]
     },
     "metadata": {},
     "output_type": "display_data"
    }
   ],
   "source": [
    "freq_table = df_polity %>% select(wealth, regime) %>% table()\n",
    "freq_table"
   ]
  },
  {
   "cell_type": "code",
   "execution_count": 95,
   "metadata": {},
   "outputs": [
    {
     "data": {
      "text/plain": [
       "          regime\n",
       "wealth     Regime 1 Regime 2 Regime 3\n",
       "  Wealth 1       26        5        6\n",
       "  Wealth 2        6       15       20\n",
       "  Wealth 3        0        1       26"
      ]
     },
     "metadata": {},
     "output_type": "display_data"
    }
   ],
   "source": [
    "rownames(freq_table) = c('Wealth 1', 'Wealth 2', 'Wealth 3')\n",
    "colnames(freq_table) = c('Regime 1', 'Regime 2', 'Regime 3')\n",
    "freq_table "
   ]
  },
  {
   "cell_type": "markdown",
   "metadata": {},
   "source": [
    "### 4.3.2 Prop.table"
   ]
  },
  {
   "cell_type": "code",
   "execution_count": 96,
   "metadata": {},
   "outputs": [
    {
     "data": {
      "text/plain": [
       "          regime\n",
       "wealth       Regime 1   Regime 2   Regime 3\n",
       "  Wealth 1 0.24761905 0.04761905 0.05714286\n",
       "  Wealth 2 0.05714286 0.14285714 0.19047619\n",
       "  Wealth 3 0.00000000 0.00952381 0.24761905"
      ]
     },
     "metadata": {},
     "output_type": "display_data"
    }
   ],
   "source": [
    "prop.table(freq_table)"
   ]
  },
  {
   "cell_type": "markdown",
   "metadata": {},
   "source": [
    "## 4.4 Filter list"
   ]
  },
  {
   "cell_type": "code",
   "execution_count": 97,
   "metadata": {},
   "outputs": [
    {
     "data": {
      "text/html": [
       "<table>\n",
       "<thead><tr><th scope=col>country</th><th scope=col>continent</th><th scope=col>year</th><th scope=col>lifeExp</th><th scope=col>pop</th><th scope=col>gdpPercap</th><th scope=col>highinc_dummy</th><th scope=col>cut_variable</th></tr></thead>\n",
       "<tbody>\n",
       "\t<tr><td>Albania </td><td>Europe  </td><td>2007    </td><td>76.423  </td><td> 3600523</td><td> 5937.03</td><td>0       </td><td>(70,80] </td></tr>\n",
       "\t<tr><td>Belgium </td><td>Europe  </td><td>2007    </td><td>79.441  </td><td>10392226</td><td>33692.61</td><td>1       </td><td>(70,80] </td></tr>\n",
       "\t<tr><td>France  </td><td>Europe  </td><td>2007    </td><td>80.657  </td><td>61083916</td><td>30470.02</td><td>1       </td><td>(80,90] </td></tr>\n",
       "\t<tr><td>Italy   </td><td>Europe  </td><td>2007    </td><td>80.546  </td><td>58147733</td><td>28569.72</td><td>1       </td><td>(80,90] </td></tr>\n",
       "</tbody>\n",
       "</table>\n"
      ],
      "text/latex": [
       "\\begin{tabular}{r|llllllll}\n",
       " country & continent & year & lifeExp & pop & gdpPercap & highinc\\_dummy & cut\\_variable\\\\\n",
       "\\hline\n",
       "\t Albania   & Europe    & 2007      & 76.423    &  3600523  &  5937.03  & 0         & (70,80{]}\\\\\n",
       "\t Belgium   & Europe    & 2007      & 79.441    & 10392226  & 33692.61  & 1         & (70,80{]}\\\\\n",
       "\t France    & Europe    & 2007      & 80.657    & 61083916  & 30470.02  & 1         & (80,90{]}\\\\\n",
       "\t Italy     & Europe    & 2007      & 80.546    & 58147733  & 28569.72  & 1         & (80,90{]}\\\\\n",
       "\\end{tabular}\n"
      ],
      "text/markdown": [
       "\n",
       "| country | continent | year | lifeExp | pop | gdpPercap | highinc_dummy | cut_variable |\n",
       "|---|---|---|---|---|---|---|---|\n",
       "| Albania  | Europe   | 2007     | 76.423   |  3600523 |  5937.03 | 0        | (70,80]  |\n",
       "| Belgium  | Europe   | 2007     | 79.441   | 10392226 | 33692.61 | 1        | (70,80]  |\n",
       "| France   | Europe   | 2007     | 80.657   | 61083916 | 30470.02 | 1        | (80,90]  |\n",
       "| Italy    | Europe   | 2007     | 80.546   | 58147733 | 28569.72 | 1        | (80,90]  |\n",
       "\n"
      ],
      "text/plain": [
       "  country continent year lifeExp pop      gdpPercap highinc_dummy cut_variable\n",
       "1 Albania Europe    2007 76.423   3600523  5937.03  0             (70,80]     \n",
       "2 Belgium Europe    2007 79.441  10392226 33692.61  1             (70,80]     \n",
       "3 France  Europe    2007 80.657  61083916 30470.02  1             (80,90]     \n",
       "4 Italy   Europe    2007 80.546  58147733 28569.72  1             (80,90]     "
      ]
     },
     "metadata": {},
     "output_type": "display_data"
    }
   ],
   "source": [
    "country_list = c('Albania', 'Italy', 'France', 'Belgium')\n",
    "gapminder_2007  %>% filter(country %in% country_list)"
   ]
  },
  {
   "cell_type": "markdown",
   "metadata": {},
   "source": [
    "## 4.5 Case when"
   ]
  },
  {
   "cell_type": "code",
   "execution_count": 131,
   "metadata": {},
   "outputs": [
    {
     "data": {
      "text/html": [
       "<table>\n",
       "<thead><tr><th scope=col>country</th><th scope=col>continent</th><th scope=col>year</th><th scope=col>lifeExp</th><th scope=col>pop</th><th scope=col>gdpPercap</th><th scope=col>highinc_dummy</th><th scope=col>cut_variable</th><th scope=col>language</th></tr></thead>\n",
       "<tbody>\n",
       "\t<tr><td>Italy         </td><td>Europe        </td><td>2007          </td><td>80.546        </td><td>58147733      </td><td>28569.72      </td><td>1             </td><td>(80,90]       </td><td>Italian       </td></tr>\n",
       "\t<tr><td>Spain         </td><td>Europe        </td><td>2007          </td><td>80.941        </td><td>40448191      </td><td>28821.06      </td><td>1             </td><td>(80,90]       </td><td>Spanish       </td></tr>\n",
       "\t<tr><td>United Kingdom</td><td>Europe        </td><td>2007          </td><td>79.425        </td><td>60776238      </td><td>33203.26      </td><td>1             </td><td>(70,80]       </td><td>English       </td></tr>\n",
       "</tbody>\n",
       "</table>\n"
      ],
      "text/latex": [
       "\\begin{tabular}{r|lllllllll}\n",
       " country & continent & year & lifeExp & pop & gdpPercap & highinc\\_dummy & cut\\_variable & language\\\\\n",
       "\\hline\n",
       "\t Italy          & Europe         & 2007           & 80.546         & 58147733       & 28569.72       & 1              & (80,90{]}      & Italian       \\\\\n",
       "\t Spain          & Europe         & 2007           & 80.941         & 40448191       & 28821.06       & 1              & (80,90{]}      & Spanish       \\\\\n",
       "\t United Kingdom & Europe         & 2007           & 79.425         & 60776238       & 33203.26       & 1              & (70,80{]}      & English       \\\\\n",
       "\\end{tabular}\n"
      ],
      "text/markdown": [
       "\n",
       "| country | continent | year | lifeExp | pop | gdpPercap | highinc_dummy | cut_variable | language |\n",
       "|---|---|---|---|---|---|---|---|---|\n",
       "| Italy          | Europe         | 2007           | 80.546         | 58147733       | 28569.72       | 1              | (80,90]        | Italian        |\n",
       "| Spain          | Europe         | 2007           | 80.941         | 40448191       | 28821.06       | 1              | (80,90]        | Spanish        |\n",
       "| United Kingdom | Europe         | 2007           | 79.425         | 60776238       | 33203.26       | 1              | (70,80]        | English        |\n",
       "\n"
      ],
      "text/plain": [
       "  country        continent year lifeExp pop      gdpPercap highinc_dummy\n",
       "1 Italy          Europe    2007 80.546  58147733 28569.72  1            \n",
       "2 Spain          Europe    2007 80.941  40448191 28821.06  1            \n",
       "3 United Kingdom Europe    2007 79.425  60776238 33203.26  1            \n",
       "  cut_variable language\n",
       "1 (80,90]      Italian \n",
       "2 (80,90]      Spanish \n",
       "3 (70,80]      English "
      ]
     },
     "metadata": {},
     "output_type": "display_data"
    }
   ],
   "source": [
    "spanish_country_list = c('Spain', 'Argentina', 'Mexico','Chile')\n",
    "\n",
    "gapminder_2007 %>% \n",
    "mutate(language = case_when(country=='Spain'~'Spanish', \n",
    "                           country=='Italy' ~ 'Italian', \n",
    "                           country=='United Kingdom'~'English')) %>% na.omit()"
   ]
  },
  {
   "cell_type": "markdown",
   "metadata": {},
   "source": [
    "## 4.6 Count"
   ]
  },
  {
   "cell_type": "code",
   "execution_count": 132,
   "metadata": {},
   "outputs": [
    {
     "data": {
      "text/html": [
       "<table>\n",
       "<thead><tr><th scope=col>highinc_dummy</th><th scope=col>n</th></tr></thead>\n",
       "<tbody>\n",
       "\t<tr><td>0 </td><td>88</td></tr>\n",
       "\t<tr><td>1 </td><td>54</td></tr>\n",
       "</tbody>\n",
       "</table>\n"
      ],
      "text/latex": [
       "\\begin{tabular}{r|ll}\n",
       " highinc\\_dummy & n\\\\\n",
       "\\hline\n",
       "\t 0  & 88\\\\\n",
       "\t 1  & 54\\\\\n",
       "\\end{tabular}\n"
      ],
      "text/markdown": [
       "\n",
       "| highinc_dummy | n |\n",
       "|---|---|\n",
       "| 0  | 88 |\n",
       "| 1  | 54 |\n",
       "\n"
      ],
      "text/plain": [
       "  highinc_dummy n \n",
       "1 0             88\n",
       "2 1             54"
      ]
     },
     "metadata": {},
     "output_type": "display_data"
    }
   ],
   "source": [
    "gapminder_2007  %>% count(highinc_dummy)"
   ]
  },
  {
   "cell_type": "markdown",
   "metadata": {},
   "source": [
    "## 4.7 Export data"
   ]
  },
  {
   "cell_type": "code",
   "execution_count": null,
   "metadata": {},
   "outputs": [],
   "source": [
    "#gapminder_2007 %>% write.csv('FILENAME.csv')\n",
    "#gapminder_2007 %>% write.xlsx('FILENAME.xlsx')"
   ]
  },
  {
   "cell_type": "markdown",
   "metadata": {},
   "source": [
    "# 5. Merge"
   ]
  },
  {
   "cell_type": "markdown",
   "metadata": {},
   "source": [
    "## 5.1 Merge rows"
   ]
  },
  {
   "cell_type": "code",
   "execution_count": 103,
   "metadata": {},
   "outputs": [
    {
     "data": {
      "text/html": [
       "<table>\n",
       "<thead><tr><th scope=col>country</th><th scope=col>continent</th><th scope=col>year</th><th scope=col>lifeExp</th><th scope=col>pop</th><th scope=col>gdpPercap</th><th scope=col>highinc_dummy</th><th scope=col>cut_variable</th></tr></thead>\n",
       "<tbody>\n",
       "\t<tr><td>Afghanistan</td><td>Asia       </td><td>2007       </td><td>43.828     </td><td>31889923   </td><td> 974.5803  </td><td>0          </td><td>[40,50]    </td></tr>\n",
       "\t<tr><td>Albania    </td><td>Europe     </td><td>2007       </td><td>76.423     </td><td> 3600523   </td><td>5937.0295  </td><td>0          </td><td>(70,80]    </td></tr>\n",
       "\t<tr><td>Algeria    </td><td>Africa     </td><td>2007       </td><td>72.301     </td><td>33333216   </td><td>6223.3675  </td><td>0          </td><td>(70,80]    </td></tr>\n",
       "</tbody>\n",
       "</table>\n"
      ],
      "text/latex": [
       "\\begin{tabular}{r|llllllll}\n",
       " country & continent & year & lifeExp & pop & gdpPercap & highinc\\_dummy & cut\\_variable\\\\\n",
       "\\hline\n",
       "\t Afghanistan & Asia        & 2007        & 43.828      & 31889923    &  974.5803   & 0           & {[}40,50{]}\\\\\n",
       "\t Albania     & Europe      & 2007        & 76.423      &  3600523    & 5937.0295   & 0           & (70,80{]}  \\\\\n",
       "\t Algeria     & Africa      & 2007        & 72.301      & 33333216    & 6223.3675   & 0           & (70,80{]}  \\\\\n",
       "\\end{tabular}\n"
      ],
      "text/markdown": [
       "\n",
       "| country | continent | year | lifeExp | pop | gdpPercap | highinc_dummy | cut_variable |\n",
       "|---|---|---|---|---|---|---|---|\n",
       "| Afghanistan | Asia        | 2007        | 43.828      | 31889923    |  974.5803   | 0           | [40,50]     |\n",
       "| Albania     | Europe      | 2007        | 76.423      |  3600523    | 5937.0295   | 0           | (70,80]     |\n",
       "| Algeria     | Africa      | 2007        | 72.301      | 33333216    | 6223.3675   | 0           | (70,80]     |\n",
       "\n"
      ],
      "text/plain": [
       "  country     continent year lifeExp pop      gdpPercap highinc_dummy\n",
       "1 Afghanistan Asia      2007 43.828  31889923  974.5803 0            \n",
       "2 Albania     Europe    2007 76.423   3600523 5937.0295 0            \n",
       "3 Algeria     Africa    2007 72.301  33333216 6223.3675 0            \n",
       "  cut_variable\n",
       "1 [40,50]     \n",
       "2 (70,80]     \n",
       "3 (70,80]     "
      ]
     },
     "metadata": {},
     "output_type": "display_data"
    }
   ],
   "source": [
    "df_1 = gapminder_2007[1:3, ]\n",
    "df_1"
   ]
  },
  {
   "cell_type": "code",
   "execution_count": 105,
   "metadata": {},
   "outputs": [
    {
     "data": {
      "text/html": [
       "<table>\n",
       "<thead><tr><th scope=col>country</th><th scope=col>continent</th><th scope=col>year</th><th scope=col>lifeExp</th><th scope=col>pop</th><th scope=col>gdpPercap</th><th scope=col>highinc_dummy</th><th scope=col>cut_variable</th></tr></thead>\n",
       "<tbody>\n",
       "\t<tr><td>Argentina</td><td>Americas </td><td>2007     </td><td>75.320   </td><td>40301927 </td><td>12779.38 </td><td>1        </td><td>(70,80]  </td></tr>\n",
       "\t<tr><td>Australia</td><td>Oceania  </td><td>2007     </td><td>81.235   </td><td>20434176 </td><td>34435.37 </td><td>1        </td><td>(80,90]  </td></tr>\n",
       "\t<tr><td>Austria  </td><td>Europe   </td><td>2007     </td><td>79.829   </td><td> 8199783 </td><td>36126.49 </td><td>1        </td><td>(70,80]  </td></tr>\n",
       "</tbody>\n",
       "</table>\n"
      ],
      "text/latex": [
       "\\begin{tabular}{r|llllllll}\n",
       " country & continent & year & lifeExp & pop & gdpPercap & highinc\\_dummy & cut\\_variable\\\\\n",
       "\\hline\n",
       "\t Argentina & Americas  & 2007      & 75.320    & 40301927  & 12779.38  & 1         & (70,80{]}\\\\\n",
       "\t Australia & Oceania   & 2007      & 81.235    & 20434176  & 34435.37  & 1         & (80,90{]}\\\\\n",
       "\t Austria   & Europe    & 2007      & 79.829    &  8199783  & 36126.49  & 1         & (70,80{]}\\\\\n",
       "\\end{tabular}\n"
      ],
      "text/markdown": [
       "\n",
       "| country | continent | year | lifeExp | pop | gdpPercap | highinc_dummy | cut_variable |\n",
       "|---|---|---|---|---|---|---|---|\n",
       "| Argentina | Americas  | 2007      | 75.320    | 40301927  | 12779.38  | 1         | (70,80]   |\n",
       "| Australia | Oceania   | 2007      | 81.235    | 20434176  | 34435.37  | 1         | (80,90]   |\n",
       "| Austria   | Europe    | 2007      | 79.829    |  8199783  | 36126.49  | 1         | (70,80]   |\n",
       "\n"
      ],
      "text/plain": [
       "  country   continent year lifeExp pop      gdpPercap highinc_dummy\n",
       "1 Argentina Americas  2007 75.320  40301927 12779.38  1            \n",
       "2 Australia Oceania   2007 81.235  20434176 34435.37  1            \n",
       "3 Austria   Europe    2007 79.829   8199783 36126.49  1            \n",
       "  cut_variable\n",
       "1 (70,80]     \n",
       "2 (80,90]     \n",
       "3 (70,80]     "
      ]
     },
     "metadata": {},
     "output_type": "display_data"
    }
   ],
   "source": [
    "df_2 = gapminder_2007[5:7, ]\n",
    "df_2"
   ]
  },
  {
   "cell_type": "markdown",
   "metadata": {},
   "source": [
    "### 5.1.1 rbind"
   ]
  },
  {
   "cell_type": "code",
   "execution_count": 106,
   "metadata": {},
   "outputs": [
    {
     "data": {
      "text/html": [
       "<table>\n",
       "<thead><tr><th scope=col>country</th><th scope=col>continent</th><th scope=col>year</th><th scope=col>lifeExp</th><th scope=col>pop</th><th scope=col>gdpPercap</th><th scope=col>highinc_dummy</th><th scope=col>cut_variable</th></tr></thead>\n",
       "<tbody>\n",
       "\t<tr><td>Afghanistan</td><td>Asia       </td><td>2007       </td><td>43.828     </td><td>31889923   </td><td>  974.5803 </td><td>0          </td><td>[40,50]    </td></tr>\n",
       "\t<tr><td>Albania    </td><td>Europe     </td><td>2007       </td><td>76.423     </td><td> 3600523   </td><td> 5937.0295 </td><td>0          </td><td>(70,80]    </td></tr>\n",
       "\t<tr><td>Algeria    </td><td>Africa     </td><td>2007       </td><td>72.301     </td><td>33333216   </td><td> 6223.3675 </td><td>0          </td><td>(70,80]    </td></tr>\n",
       "\t<tr><td>Argentina  </td><td>Americas   </td><td>2007       </td><td>75.320     </td><td>40301927   </td><td>12779.3796 </td><td>1          </td><td>(70,80]    </td></tr>\n",
       "\t<tr><td>Australia  </td><td>Oceania    </td><td>2007       </td><td>81.235     </td><td>20434176   </td><td>34435.3674 </td><td>1          </td><td>(80,90]    </td></tr>\n",
       "\t<tr><td>Austria    </td><td>Europe     </td><td>2007       </td><td>79.829     </td><td> 8199783   </td><td>36126.4927 </td><td>1          </td><td>(70,80]    </td></tr>\n",
       "</tbody>\n",
       "</table>\n"
      ],
      "text/latex": [
       "\\begin{tabular}{r|llllllll}\n",
       " country & continent & year & lifeExp & pop & gdpPercap & highinc\\_dummy & cut\\_variable\\\\\n",
       "\\hline\n",
       "\t Afghanistan & Asia        & 2007        & 43.828      & 31889923    &   974.5803  & 0           & {[}40,50{]}\\\\\n",
       "\t Albania     & Europe      & 2007        & 76.423      &  3600523    &  5937.0295  & 0           & (70,80{]}  \\\\\n",
       "\t Algeria     & Africa      & 2007        & 72.301      & 33333216    &  6223.3675  & 0           & (70,80{]}  \\\\\n",
       "\t Argentina   & Americas    & 2007        & 75.320      & 40301927    & 12779.3796  & 1           & (70,80{]}  \\\\\n",
       "\t Australia   & Oceania     & 2007        & 81.235      & 20434176    & 34435.3674  & 1           & (80,90{]}  \\\\\n",
       "\t Austria     & Europe      & 2007        & 79.829      &  8199783    & 36126.4927  & 1           & (70,80{]}  \\\\\n",
       "\\end{tabular}\n"
      ],
      "text/markdown": [
       "\n",
       "| country | continent | year | lifeExp | pop | gdpPercap | highinc_dummy | cut_variable |\n",
       "|---|---|---|---|---|---|---|---|\n",
       "| Afghanistan | Asia        | 2007        | 43.828      | 31889923    |   974.5803  | 0           | [40,50]     |\n",
       "| Albania     | Europe      | 2007        | 76.423      |  3600523    |  5937.0295  | 0           | (70,80]     |\n",
       "| Algeria     | Africa      | 2007        | 72.301      | 33333216    |  6223.3675  | 0           | (70,80]     |\n",
       "| Argentina   | Americas    | 2007        | 75.320      | 40301927    | 12779.3796  | 1           | (70,80]     |\n",
       "| Australia   | Oceania     | 2007        | 81.235      | 20434176    | 34435.3674  | 1           | (80,90]     |\n",
       "| Austria     | Europe      | 2007        | 79.829      |  8199783    | 36126.4927  | 1           | (70,80]     |\n",
       "\n"
      ],
      "text/plain": [
       "  country     continent year lifeExp pop      gdpPercap  highinc_dummy\n",
       "1 Afghanistan Asia      2007 43.828  31889923   974.5803 0            \n",
       "2 Albania     Europe    2007 76.423   3600523  5937.0295 0            \n",
       "3 Algeria     Africa    2007 72.301  33333216  6223.3675 0            \n",
       "4 Argentina   Americas  2007 75.320  40301927 12779.3796 1            \n",
       "5 Australia   Oceania   2007 81.235  20434176 34435.3674 1            \n",
       "6 Austria     Europe    2007 79.829   8199783 36126.4927 1            \n",
       "  cut_variable\n",
       "1 [40,50]     \n",
       "2 (70,80]     \n",
       "3 (70,80]     \n",
       "4 (70,80]     \n",
       "5 (80,90]     \n",
       "6 (70,80]     "
      ]
     },
     "metadata": {},
     "output_type": "display_data"
    }
   ],
   "source": [
    "rbind(df_1, df_2)"
   ]
  },
  {
   "cell_type": "markdown",
   "metadata": {},
   "source": [
    "## 5.2 Merge columns"
   ]
  },
  {
   "cell_type": "code",
   "execution_count": 114,
   "metadata": {},
   "outputs": [
    {
     "data": {
      "text/html": [
       "<table>\n",
       "<thead><tr><th scope=col>year</th><th scope=col>lifeExp</th></tr></thead>\n",
       "<tbody>\n",
       "\t<tr><td>2007  </td><td>43.828</td></tr>\n",
       "\t<tr><td>2007  </td><td>76.423</td></tr>\n",
       "\t<tr><td>2007  </td><td>72.301</td></tr>\n",
       "</tbody>\n",
       "</table>\n"
      ],
      "text/latex": [
       "\\begin{tabular}{r|ll}\n",
       " year & lifeExp\\\\\n",
       "\\hline\n",
       "\t 2007   & 43.828\\\\\n",
       "\t 2007   & 76.423\\\\\n",
       "\t 2007   & 72.301\\\\\n",
       "\\end{tabular}\n"
      ],
      "text/markdown": [
       "\n",
       "| year | lifeExp |\n",
       "|---|---|\n",
       "| 2007   | 43.828 |\n",
       "| 2007   | 76.423 |\n",
       "| 2007   | 72.301 |\n",
       "\n"
      ],
      "text/plain": [
       "  year lifeExp\n",
       "1 2007 43.828 \n",
       "2 2007 76.423 \n",
       "3 2007 72.301 "
      ]
     },
     "metadata": {},
     "output_type": "display_data"
    },
    {
     "data": {
      "text/html": [
       "<table>\n",
       "<thead><tr><th scope=col>continent</th><th scope=col>country</th></tr></thead>\n",
       "<tbody>\n",
       "\t<tr><td>Americas </td><td>Argentina</td></tr>\n",
       "\t<tr><td>Oceania  </td><td>Australia</td></tr>\n",
       "\t<tr><td>Europe   </td><td>Austria  </td></tr>\n",
       "</tbody>\n",
       "</table>\n"
      ],
      "text/latex": [
       "\\begin{tabular}{r|ll}\n",
       " continent & country\\\\\n",
       "\\hline\n",
       "\t Americas  & Argentina\\\\\n",
       "\t Oceania   & Australia\\\\\n",
       "\t Europe    & Austria  \\\\\n",
       "\\end{tabular}\n"
      ],
      "text/markdown": [
       "\n",
       "| continent | country |\n",
       "|---|---|\n",
       "| Americas  | Argentina |\n",
       "| Oceania   | Australia |\n",
       "| Europe    | Austria   |\n",
       "\n"
      ],
      "text/plain": [
       "  continent country  \n",
       "1 Americas  Argentina\n",
       "2 Oceania   Australia\n",
       "3 Europe    Austria  "
      ]
     },
     "metadata": {},
     "output_type": "display_data"
    }
   ],
   "source": [
    "df_1 = gapminder_2007[1:3, c('year','lifeExp')]\n",
    "df_1\n",
    "df_2 = gapminder_2007[5:7, c('continent','country')]\n",
    "df_2"
   ]
  },
  {
   "cell_type": "code",
   "execution_count": 110,
   "metadata": {},
   "outputs": [
    {
     "data": {
      "text/html": [
       "<table>\n",
       "<thead><tr><th scope=col>year</th><th scope=col>lifeExp</th><th scope=col>continent</th><th scope=col>country</th></tr></thead>\n",
       "<tbody>\n",
       "\t<tr><td>2007     </td><td>43.828   </td><td>Americas </td><td>Argentina</td></tr>\n",
       "\t<tr><td>2007     </td><td>76.423   </td><td>Oceania  </td><td>Australia</td></tr>\n",
       "\t<tr><td>2007     </td><td>72.301   </td><td>Europe   </td><td>Austria  </td></tr>\n",
       "</tbody>\n",
       "</table>\n"
      ],
      "text/latex": [
       "\\begin{tabular}{r|llll}\n",
       " year & lifeExp & continent & country\\\\\n",
       "\\hline\n",
       "\t 2007      & 43.828    & Americas  & Argentina\\\\\n",
       "\t 2007      & 76.423    & Oceania   & Australia\\\\\n",
       "\t 2007      & 72.301    & Europe    & Austria  \\\\\n",
       "\\end{tabular}\n"
      ],
      "text/markdown": [
       "\n",
       "| year | lifeExp | continent | country |\n",
       "|---|---|---|---|\n",
       "| 2007      | 43.828    | Americas  | Argentina |\n",
       "| 2007      | 76.423    | Oceania   | Australia |\n",
       "| 2007      | 72.301    | Europe    | Austria   |\n",
       "\n"
      ],
      "text/plain": [
       "  year lifeExp continent country  \n",
       "1 2007 43.828  Americas  Argentina\n",
       "2 2007 76.423  Oceania   Australia\n",
       "3 2007 72.301  Europe    Austria  "
      ]
     },
     "metadata": {},
     "output_type": "display_data"
    }
   ],
   "source": [
    "cbind(df_1, df_2)"
   ]
  },
  {
   "cell_type": "markdown",
   "metadata": {},
   "source": [
    "## 5.3 Merge rows and columns"
   ]
  },
  {
   "cell_type": "markdown",
   "metadata": {},
   "source": [
    "### 5.3.1 Case data"
   ]
  },
  {
   "cell_type": "code",
   "execution_count": 115,
   "metadata": {},
   "outputs": [
    {
     "data": {
      "text/html": [
       "<table>\n",
       "<thead><tr><th scope=col>date</th><th scope=col>county</th><th scope=col>state</th><th scope=col>fips</th><th scope=col>cases</th><th scope=col>deaths</th></tr></thead>\n",
       "<tbody>\n",
       "\t<tr><td>2020-01-21</td><td>Snohomish </td><td>Washington</td><td>53061     </td><td>1         </td><td>0         </td></tr>\n",
       "\t<tr><td>2020-01-22</td><td>Snohomish </td><td>Washington</td><td>53061     </td><td>1         </td><td>0         </td></tr>\n",
       "\t<tr><td>2020-01-23</td><td>Snohomish </td><td>Washington</td><td>53061     </td><td>1         </td><td>0         </td></tr>\n",
       "</tbody>\n",
       "</table>\n"
      ],
      "text/latex": [
       "\\begin{tabular}{r|llllll}\n",
       " date & county & state & fips & cases & deaths\\\\\n",
       "\\hline\n",
       "\t 2020-01-21 & Snohomish  & Washington & 53061      & 1          & 0         \\\\\n",
       "\t 2020-01-22 & Snohomish  & Washington & 53061      & 1          & 0         \\\\\n",
       "\t 2020-01-23 & Snohomish  & Washington & 53061      & 1          & 0         \\\\\n",
       "\\end{tabular}\n"
      ],
      "text/markdown": [
       "\n",
       "| date | county | state | fips | cases | deaths |\n",
       "|---|---|---|---|---|---|\n",
       "| 2020-01-21 | Snohomish  | Washington | 53061      | 1          | 0          |\n",
       "| 2020-01-22 | Snohomish  | Washington | 53061      | 1          | 0          |\n",
       "| 2020-01-23 | Snohomish  | Washington | 53061      | 1          | 0          |\n",
       "\n"
      ],
      "text/plain": [
       "  date       county    state      fips  cases deaths\n",
       "1 2020-01-21 Snohomish Washington 53061 1     0     \n",
       "2 2020-01-22 Snohomish Washington 53061 1     0     \n",
       "3 2020-01-23 Snohomish Washington 53061 1     0     "
      ]
     },
     "metadata": {},
     "output_type": "display_data"
    }
   ],
   "source": [
    "url = 'https://raw.githubusercontent.com/nytimes/covid-19-data/master/us-counties.csv'\n",
    "nyt_cases_df = read.csv(url)\n",
    "nyt_cases_df  %>% head(3)"
   ]
  },
  {
   "cell_type": "markdown",
   "metadata": {},
   "source": [
    "### 5.3.2 Mask data"
   ]
  },
  {
   "cell_type": "code",
   "execution_count": 117,
   "metadata": {},
   "outputs": [
    {
     "data": {
      "text/html": [
       "<table>\n",
       "<thead><tr><th scope=col>COUNTYFP</th><th scope=col>NEVER</th><th scope=col>RARELY</th><th scope=col>SOMETIMES</th><th scope=col>FREQUENTLY</th><th scope=col>ALWAYS</th></tr></thead>\n",
       "<tbody>\n",
       "\t<tr><td>1001 </td><td>0.053</td><td>0.074</td><td>0.134</td><td>0.295</td><td>0.444</td></tr>\n",
       "\t<tr><td>1003 </td><td>0.083</td><td>0.059</td><td>0.098</td><td>0.323</td><td>0.436</td></tr>\n",
       "\t<tr><td>1005 </td><td>0.067</td><td>0.121</td><td>0.120</td><td>0.201</td><td>0.491</td></tr>\n",
       "</tbody>\n",
       "</table>\n"
      ],
      "text/latex": [
       "\\begin{tabular}{r|llllll}\n",
       " COUNTYFP & NEVER & RARELY & SOMETIMES & FREQUENTLY & ALWAYS\\\\\n",
       "\\hline\n",
       "\t 1001  & 0.053 & 0.074 & 0.134 & 0.295 & 0.444\\\\\n",
       "\t 1003  & 0.083 & 0.059 & 0.098 & 0.323 & 0.436\\\\\n",
       "\t 1005  & 0.067 & 0.121 & 0.120 & 0.201 & 0.491\\\\\n",
       "\\end{tabular}\n"
      ],
      "text/markdown": [
       "\n",
       "| COUNTYFP | NEVER | RARELY | SOMETIMES | FREQUENTLY | ALWAYS |\n",
       "|---|---|---|---|---|---|\n",
       "| 1001  | 0.053 | 0.074 | 0.134 | 0.295 | 0.444 |\n",
       "| 1003  | 0.083 | 0.059 | 0.098 | 0.323 | 0.436 |\n",
       "| 1005  | 0.067 | 0.121 | 0.120 | 0.201 | 0.491 |\n",
       "\n"
      ],
      "text/plain": [
       "  COUNTYFP NEVER RARELY SOMETIMES FREQUENTLY ALWAYS\n",
       "1 1001     0.053 0.074  0.134     0.295      0.444 \n",
       "2 1003     0.083 0.059  0.098     0.323      0.436 \n",
       "3 1005     0.067 0.121  0.120     0.201      0.491 "
      ]
     },
     "metadata": {},
     "output_type": "display_data"
    }
   ],
   "source": [
    "url = 'https://raw.githubusercontent.com/nytimes/covid-19-data/master/mask-use/mask-use-by-county.csv'\n",
    "nyt_mask_df = read.csv(url)\n",
    "nyt_mask_df %>% head(3)"
   ]
  },
  {
   "cell_type": "markdown",
   "metadata": {},
   "source": [
    "### 5.3.3 Merge"
   ]
  },
  {
   "cell_type": "markdown",
   "metadata": {},
   "source": [
    "#### 5.3.3.1 For the column merge on make sure the name is the same in both data sets"
   ]
  },
  {
   "cell_type": "code",
   "execution_count": 119,
   "metadata": {},
   "outputs": [
    {
     "data": {
      "text/html": [
       "<ol class=list-inline>\n",
       "\t<li>'fips'</li>\n",
       "\t<li>'NEVER'</li>\n",
       "\t<li>'RARELY'</li>\n",
       "\t<li>'SOMETIMES'</li>\n",
       "\t<li>'FREQUENTLY'</li>\n",
       "\t<li>'ALWAYS'</li>\n",
       "</ol>\n"
      ],
      "text/latex": [
       "\\begin{enumerate*}\n",
       "\\item 'fips'\n",
       "\\item 'NEVER'\n",
       "\\item 'RARELY'\n",
       "\\item 'SOMETIMES'\n",
       "\\item 'FREQUENTLY'\n",
       "\\item 'ALWAYS'\n",
       "\\end{enumerate*}\n"
      ],
      "text/markdown": [
       "1. 'fips'\n",
       "2. 'NEVER'\n",
       "3. 'RARELY'\n",
       "4. 'SOMETIMES'\n",
       "5. 'FREQUENTLY'\n",
       "6. 'ALWAYS'\n",
       "\n",
       "\n"
      ],
      "text/plain": [
       "[1] \"fips\"       \"NEVER\"      \"RARELY\"     \"SOMETIMES\"  \"FREQUENTLY\"\n",
       "[6] \"ALWAYS\"    "
      ]
     },
     "metadata": {},
     "output_type": "display_data"
    }
   ],
   "source": [
    "nyt_mask_df = nyt_mask_df %>% rename('fips'='COUNTYFP')\n",
    "nyt_mask_df %>% names()"
   ]
  },
  {
   "cell_type": "code",
   "execution_count": 121,
   "metadata": {},
   "outputs": [
    {
     "data": {
      "text/html": [
       "<table>\n",
       "<thead><tr><th scope=col>fips</th><th scope=col>date</th><th scope=col>county</th><th scope=col>state</th><th scope=col>cases</th><th scope=col>deaths</th><th scope=col>NEVER</th><th scope=col>RARELY</th><th scope=col>SOMETIMES</th><th scope=col>FREQUENTLY</th><th scope=col>ALWAYS</th></tr></thead>\n",
       "<tbody>\n",
       "\t<tr><td>1001      </td><td>2020-11-27</td><td>Autauga   </td><td>Alabama   </td><td>2716      </td><td>42        </td><td>0.053     </td><td>0.074     </td><td>0.134     </td><td>0.295     </td><td>0.444     </td></tr>\n",
       "\t<tr><td>1001      </td><td>2020-10-17</td><td>Autauga   </td><td>Alabama   </td><td>1983      </td><td>28        </td><td>0.053     </td><td>0.074     </td><td>0.134     </td><td>0.295     </td><td>0.444     </td></tr>\n",
       "\t<tr><td>1001      </td><td>2020-07-02</td><td>Autauga   </td><td>Alabama   </td><td> 561      </td><td>13        </td><td>0.053     </td><td>0.074     </td><td>0.134     </td><td>0.295     </td><td>0.444     </td></tr>\n",
       "\t<tr><td>1001      </td><td>2020-09-19</td><td>Autauga   </td><td>Alabama   </td><td>1673      </td><td>24        </td><td>0.053     </td><td>0.074     </td><td>0.134     </td><td>0.295     </td><td>0.444     </td></tr>\n",
       "\t<tr><td>1001      </td><td>2020-09-03</td><td>Autauga   </td><td>Alabama   </td><td>1466      </td><td>24        </td><td>0.053     </td><td>0.074     </td><td>0.134     </td><td>0.295     </td><td>0.444     </td></tr>\n",
       "\t<tr><td>1001      </td><td>2020-12-18</td><td>Autauga   </td><td>Alabama   </td><td>3647      </td><td>44        </td><td>0.053     </td><td>0.074     </td><td>0.134     </td><td>0.295     </td><td>0.444     </td></tr>\n",
       "\t<tr><td>1001      </td><td>2020-08-06</td><td>Autauga   </td><td>Alabama   </td><td>1096      </td><td>22        </td><td>0.053     </td><td>0.074     </td><td>0.134     </td><td>0.295     </td><td>0.444     </td></tr>\n",
       "\t<tr><td>1001      </td><td>2020-03-24</td><td>Autauga   </td><td>Alabama   </td><td>   1      </td><td> 0        </td><td>0.053     </td><td>0.074     </td><td>0.134     </td><td>0.295     </td><td>0.444     </td></tr>\n",
       "\t<tr><td>1001      </td><td>2020-08-19</td><td>Autauga   </td><td>Alabama   </td><td>1298      </td><td>23        </td><td>0.053     </td><td>0.074     </td><td>0.134     </td><td>0.295     </td><td>0.444     </td></tr>\n",
       "\t<tr><td>1001      </td><td>2020-10-27</td><td>Autauga   </td><td>Alabama   </td><td>2082      </td><td>31        </td><td>0.053     </td><td>0.074     </td><td>0.134     </td><td>0.295     </td><td>0.444     </td></tr>\n",
       "</tbody>\n",
       "</table>\n"
      ],
      "text/latex": [
       "\\begin{tabular}{r|lllllllllll}\n",
       " fips & date & county & state & cases & deaths & NEVER & RARELY & SOMETIMES & FREQUENTLY & ALWAYS\\\\\n",
       "\\hline\n",
       "\t 1001       & 2020-11-27 & Autauga    & Alabama    & 2716       & 42         & 0.053      & 0.074      & 0.134      & 0.295      & 0.444     \\\\\n",
       "\t 1001       & 2020-10-17 & Autauga    & Alabama    & 1983       & 28         & 0.053      & 0.074      & 0.134      & 0.295      & 0.444     \\\\\n",
       "\t 1001       & 2020-07-02 & Autauga    & Alabama    &  561       & 13         & 0.053      & 0.074      & 0.134      & 0.295      & 0.444     \\\\\n",
       "\t 1001       & 2020-09-19 & Autauga    & Alabama    & 1673       & 24         & 0.053      & 0.074      & 0.134      & 0.295      & 0.444     \\\\\n",
       "\t 1001       & 2020-09-03 & Autauga    & Alabama    & 1466       & 24         & 0.053      & 0.074      & 0.134      & 0.295      & 0.444     \\\\\n",
       "\t 1001       & 2020-12-18 & Autauga    & Alabama    & 3647       & 44         & 0.053      & 0.074      & 0.134      & 0.295      & 0.444     \\\\\n",
       "\t 1001       & 2020-08-06 & Autauga    & Alabama    & 1096       & 22         & 0.053      & 0.074      & 0.134      & 0.295      & 0.444     \\\\\n",
       "\t 1001       & 2020-03-24 & Autauga    & Alabama    &    1       &  0         & 0.053      & 0.074      & 0.134      & 0.295      & 0.444     \\\\\n",
       "\t 1001       & 2020-08-19 & Autauga    & Alabama    & 1298       & 23         & 0.053      & 0.074      & 0.134      & 0.295      & 0.444     \\\\\n",
       "\t 1001       & 2020-10-27 & Autauga    & Alabama    & 2082       & 31         & 0.053      & 0.074      & 0.134      & 0.295      & 0.444     \\\\\n",
       "\\end{tabular}\n"
      ],
      "text/markdown": [
       "\n",
       "| fips | date | county | state | cases | deaths | NEVER | RARELY | SOMETIMES | FREQUENTLY | ALWAYS |\n",
       "|---|---|---|---|---|---|---|---|---|---|---|\n",
       "| 1001       | 2020-11-27 | Autauga    | Alabama    | 2716       | 42         | 0.053      | 0.074      | 0.134      | 0.295      | 0.444      |\n",
       "| 1001       | 2020-10-17 | Autauga    | Alabama    | 1983       | 28         | 0.053      | 0.074      | 0.134      | 0.295      | 0.444      |\n",
       "| 1001       | 2020-07-02 | Autauga    | Alabama    |  561       | 13         | 0.053      | 0.074      | 0.134      | 0.295      | 0.444      |\n",
       "| 1001       | 2020-09-19 | Autauga    | Alabama    | 1673       | 24         | 0.053      | 0.074      | 0.134      | 0.295      | 0.444      |\n",
       "| 1001       | 2020-09-03 | Autauga    | Alabama    | 1466       | 24         | 0.053      | 0.074      | 0.134      | 0.295      | 0.444      |\n",
       "| 1001       | 2020-12-18 | Autauga    | Alabama    | 3647       | 44         | 0.053      | 0.074      | 0.134      | 0.295      | 0.444      |\n",
       "| 1001       | 2020-08-06 | Autauga    | Alabama    | 1096       | 22         | 0.053      | 0.074      | 0.134      | 0.295      | 0.444      |\n",
       "| 1001       | 2020-03-24 | Autauga    | Alabama    |    1       |  0         | 0.053      | 0.074      | 0.134      | 0.295      | 0.444      |\n",
       "| 1001       | 2020-08-19 | Autauga    | Alabama    | 1298       | 23         | 0.053      | 0.074      | 0.134      | 0.295      | 0.444      |\n",
       "| 1001       | 2020-10-27 | Autauga    | Alabama    | 2082       | 31         | 0.053      | 0.074      | 0.134      | 0.295      | 0.444      |\n",
       "\n"
      ],
      "text/plain": [
       "   fips date       county  state   cases deaths NEVER RARELY SOMETIMES\n",
       "1  1001 2020-11-27 Autauga Alabama 2716  42     0.053 0.074  0.134    \n",
       "2  1001 2020-10-17 Autauga Alabama 1983  28     0.053 0.074  0.134    \n",
       "3  1001 2020-07-02 Autauga Alabama  561  13     0.053 0.074  0.134    \n",
       "4  1001 2020-09-19 Autauga Alabama 1673  24     0.053 0.074  0.134    \n",
       "5  1001 2020-09-03 Autauga Alabama 1466  24     0.053 0.074  0.134    \n",
       "6  1001 2020-12-18 Autauga Alabama 3647  44     0.053 0.074  0.134    \n",
       "7  1001 2020-08-06 Autauga Alabama 1096  22     0.053 0.074  0.134    \n",
       "8  1001 2020-03-24 Autauga Alabama    1   0     0.053 0.074  0.134    \n",
       "9  1001 2020-08-19 Autauga Alabama 1298  23     0.053 0.074  0.134    \n",
       "10 1001 2020-10-27 Autauga Alabama 2082  31     0.053 0.074  0.134    \n",
       "   FREQUENTLY ALWAYS\n",
       "1  0.295      0.444 \n",
       "2  0.295      0.444 \n",
       "3  0.295      0.444 \n",
       "4  0.295      0.444 \n",
       "5  0.295      0.444 \n",
       "6  0.295      0.444 \n",
       "7  0.295      0.444 \n",
       "8  0.295      0.444 \n",
       "9  0.295      0.444 \n",
       "10 0.295      0.444 "
      ]
     },
     "metadata": {},
     "output_type": "display_data"
    }
   ],
   "source": [
    "merge(nyt_cases_df, nyt_mask_df, by='fips') %>% head(10)"
   ]
  },
  {
   "cell_type": "code",
   "execution_count": null,
   "metadata": {},
   "outputs": [],
   "source": []
  }
 ],
 "metadata": {
  "kernelspec": {
   "display_name": "R",
   "language": "R",
   "name": "ir"
  },
  "language_info": {
   "codemirror_mode": "r",
   "file_extension": ".r",
   "mimetype": "text/x-r-source",
   "name": "R",
   "pygments_lexer": "r",
   "version": "3.6.1"
  }
 },
 "nbformat": 4,
 "nbformat_minor": 4
}

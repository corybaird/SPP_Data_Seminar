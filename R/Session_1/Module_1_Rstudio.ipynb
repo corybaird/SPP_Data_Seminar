{
 "cells": [
  {
   "cell_type": "markdown",
   "metadata": {},
   "source": [
    "# Session 1--Rstudio and downloading (September 10th)\n",
    "\n",
    "\n",
    "## Session 1 is composed of 3 parts\n",
    "1. Module 1 covers Rstudio basics \n",
    "    - Current page\n",
    "2. Module 2 covers downloading \n",
    "    - [Link](https://github.com/corybaird/SPP_Data_Seminar/blob/main/R/Session_1/Module_2_Download.ipynb)\n",
    "3. Excercise to practice material covered in Modules 1 & 2\n",
    "    - [Link](https://github.com/corybaird/SPP_Data_Seminar/blob/main/R/Session_1/Session_1_Excercise.ipynb)\n",
    "\n",
    "\n",
    "\n",
    "# Module 1: Rstudio basics\n",
    "\n",
    "            \n",
    "\n",
    "\n"
   ]
  },
  {
   "cell_type": "markdown",
   "metadata": {},
   "source": [
    "# A.1 Working with data in R\n",
    "\n",
    "### A.1.1 What are the other advantages of using R?\n",
    "- We can be lazy and use the thousands of free libraries to easily:\n",
    "    - Easily manipulate data (Today's topic)\n",
    "    - Download data directly from the internet\n",
    "    - Viusualize our data (graphing etc.)\n",
    "    - Build models (Regression, Machine learning, Neural Networks)\n",
    "    \n",
    "    \n",
    "- You have all used libraries before, perhaps without knowing it!\n",
    "    - This is done in R in two steps: \n",
    "        1. install.packages(\"Package name\") Downloads package\n",
    "        2. library(Package name) Imports package\n",
    "\n",
    "### A.1.2 What is a Data Frame? \n",
    "- Think of it as an excel sheet with data\n",
    "- In many cases:\n",
    "    - Rows are observations (e.g. people, households, countries, time)\n",
    "    - Columns are variables (e.g. GDP, life expectancy)\n",
    "        \n",
    "\n",
    "\n",
    "### A.1.3 What applications can I use to run R?\n",
    "R is not a software, it is a coding language! So there are multiple applications which can run R in\n",
    "\n",
    "\n",
    "\n",
    "#### A.1.3.1 R with Rstudio on your computer \n",
    "- [link]((https://rstudio.com/products/rstudio/download/))\n",
    "\n",
    "#### A.1.3.2 R with Jupyter notebook (what this tutorial is written in)\n",
    "\n",
    "- Jupyter on your computer\n",
    "    - [Anaconda software](https://www.anaconda.com/)\n",
    "- Jupyter on the cloud\n",
    "    - [Google colab](https://colab.to/r)\n",
    "    - [R-studio cloud](https://rstudio.cloud/)\n",
    "    - [Azure cloud](https://notebooks.azure.com/)\n",
    "        "
   ]
  },
  {
   "cell_type": "markdown",
   "metadata": {},
   "source": [
    "# B. How to use R-studio cloud\n",
    "\n",
    "## B.1 After you sign up for an account and are added to the class this is what your R-studio cloud should look like"
   ]
  },
  {
   "cell_type": "markdown",
   "metadata": {},
   "source": [
    "![title](Images/Cloud_step_1.png)"
   ]
  },
  {
   "cell_type": "markdown",
   "metadata": {},
   "source": [
    "## B.2 Click the start button to launch your own version of the assignment\n",
    "- Note: You can make as many changes to these files as you want! \n",
    "    - Changes won't change the master file for other studnets\n",
    "\n",
    "![title](Images/Cloud_step_2.png)"
   ]
  },
  {
   "cell_type": "markdown",
   "metadata": {},
   "source": [
    "## B.3 You can return to the assignment at a later time with your code saved\n",
    "\n",
    "![title](Images/Cloud_step_3.png)"
   ]
  },
  {
   "cell_type": "markdown",
   "metadata": {},
   "source": [
    "## B.4 If you have a problem with your code then I can go into your files directly and check what is wrong\n",
    "- Note: Other students will not be able to see your work. Only the TAs\n",
    "\n",
    "![title](Images/Cloud_step_4.png)"
   ]
  },
  {
   "cell_type": "markdown",
   "metadata": {},
   "source": [
    "# R-studio. The very basics\n",
    "- Note this tutorial is not written in R-studio\n",
    "    - The r-studio code can be found in the same folder labeled Basic.r\n",
    "\n",
    "\n",
    "#### Starting R: Create new project and the screen below should show up"
   ]
  },
  {
   "cell_type": "markdown",
   "metadata": {},
   "source": [
    "## R.1 Launching R-studio\n",
    "- Always click the button to write code in an r file.\n",
    "- This will allow you to save your work\n",
    "- For those of you familiar with Stata it is similar to a do-file\n",
    "\n",
    "\n",
    "\n",
    "![title](Images/R_studio_1.png)"
   ]
  },
  {
   "cell_type": "markdown",
   "metadata": {},
   "source": [
    "## R.2 Running code\n",
    "- The code you run in the top will display below in the console\n",
    "- You run the code by highlighting it and clicking the run button\n",
    "    - The shortcut on mac is <kbd>Cmd</kbd>+<kbd>Return</kbd>\n",
    "\n",
    "\n",
    "![title](Images/R_studio_2.png)"
   ]
  },
  {
   "cell_type": "markdown",
   "metadata": {},
   "source": [
    "## R.3 Writing comments\n"
   ]
  },
  {
   "cell_type": "code",
   "execution_count": 1,
   "metadata": {},
   "outputs": [
    {
     "name": "stdout",
     "output_type": "stream",
     "text": [
      "[1] \"The commented code will display in the console but will not be read as code\"\n"
     ]
    }
   ],
   "source": [
    "#You can write comments by using the hashtag\n",
    "#Commented code will not be written\n",
    "\n",
    "print('The commented code will display in the console but will not be read as code')"
   ]
  },
  {
   "cell_type": "markdown",
   "metadata": {},
   "source": [
    "# 1. How to save data\n"
   ]
  },
  {
   "cell_type": "markdown",
   "metadata": {},
   "source": [
    "## 1.1 Saving text (a.k.a. string objects)\n",
    "\n",
    "- When creating any new object in R it cannot contain spaces\n",
    "- When you save a new object it will NOT display in the console!\n",
    "    - Instead it will display in the upper right section \"Environment\"\n",
    "\n",
    "![title](Images/R_studio_3.png)"
   ]
  },
  {
   "cell_type": "code",
   "execution_count": 2,
   "metadata": {},
   "outputs": [],
   "source": [
    "new_string = \"This is a string\""
   ]
  },
  {
   "cell_type": "markdown",
   "metadata": {},
   "source": [
    "### 1.1.1 Now print our object \"new_string\""
   ]
  },
  {
   "cell_type": "code",
   "execution_count": 3,
   "metadata": {},
   "outputs": [
    {
     "name": "stdout",
     "output_type": "stream",
     "text": [
      "[1] \"This is a string\"\n"
     ]
    }
   ],
   "source": [
    "#Use either print or simply type in the name of the object\n",
    "print(new_string)"
   ]
  },
  {
   "cell_type": "code",
   "execution_count": 4,
   "metadata": {},
   "outputs": [
    {
     "data": {
      "text/html": [
       "'This is a string'"
      ],
      "text/latex": [
       "'This is a string'"
      ],
      "text/markdown": [
       "'This is a string'"
      ],
      "text/plain": [
       "[1] \"This is a string\""
      ]
     },
     "metadata": {},
     "output_type": "display_data"
    }
   ],
   "source": [
    "new_string"
   ]
  },
  {
   "cell_type": "markdown",
   "metadata": {},
   "source": [
    "# 2. Import (save) excel data\n",
    "\n",
    "- The data should be in the same folder as you r-studio project\n",
    "    - Check the lower right coroner to see if a csv file is in the same folder\n",
    "- You can also import from other folders which we will discuss below\n",
    "\n",
    "![title](Images/R_studio_4.png)"
   ]
  },
  {
   "cell_type": "markdown",
   "metadata": {},
   "source": [
    "## 2.1 Read csv file\n",
    "- We will create a new object like we did for our string!\n",
    "- Remember that the object can be named anything you like as long as it does not have spaces!\n",
    "- The df means dataframe and is often used in R\n",
    "- The import will be succesfull if you can see a new object in the upper right environment panel\n",
    "\n",
    "Common mistake to avoid:\n",
    "- The name of the file must be in quotes and must have a .csv extension\n",
    "\n",
    "`Function:` read.csv(\"NAMEOFFILE.csv\")"
   ]
  },
  {
   "cell_type": "code",
   "execution_count": 2,
   "metadata": {},
   "outputs": [],
   "source": [
    "df = read.csv('vote.csv')"
   ]
  },
  {
   "cell_type": "markdown",
   "metadata": {},
   "source": [
    "### 2.1.1 Common mistake\n",
    "- If you do not set the name of the object it will read the file but not save!"
   ]
  },
  {
   "cell_type": "code",
   "execution_count": 3,
   "metadata": {},
   "outputs": [
    {
     "data": {
      "text/html": [
       "<table>\n",
       "<thead><tr><th scope=col>state</th><th scope=col>vote</th><th scope=col>income</th><th scope=col>education</th><th scope=col>age</th><th scope=col>sex</th></tr></thead>\n",
       "<tbody>\n",
       "\t<tr><td>AR</td><td>1 </td><td> 9</td><td>2 </td><td>73</td><td>0 </td></tr>\n",
       "\t<tr><td>AR</td><td>1 </td><td>11</td><td>2 </td><td>24</td><td>0 </td></tr>\n",
       "\t<tr><td>AR</td><td>0 </td><td>12</td><td>2 </td><td>24</td><td>1 </td></tr>\n",
       "\t<tr><td>AR</td><td>1 </td><td>16</td><td>4 </td><td>40</td><td>0 </td></tr>\n",
       "\t<tr><td>AR</td><td>1 </td><td>10</td><td>4 </td><td>85</td><td>1 </td></tr>\n",
       "\t<tr><td>AR</td><td>1 </td><td>12</td><td>3 </td><td>78</td><td>1 </td></tr>\n",
       "\t<tr><td>AR</td><td>0 </td><td>14</td><td>4 </td><td>31</td><td>0 </td></tr>\n",
       "\t<tr><td>AR</td><td>1 </td><td>10</td><td>1 </td><td>75</td><td>0 </td></tr>\n",
       "\t<tr><td>AR</td><td>1 </td><td>17</td><td>2 </td><td>54</td><td>0 </td></tr>\n",
       "\t<tr><td>AR</td><td>1 </td><td> 8</td><td>1 </td><td>78</td><td>0 </td></tr>\n",
       "\t<tr><td>AR</td><td>1 </td><td>15</td><td>3 </td><td>71</td><td>0 </td></tr>\n",
       "\t<tr><td>AR</td><td>1 </td><td>13</td><td>3 </td><td>40</td><td>1 </td></tr>\n",
       "\t<tr><td>AR</td><td>1 </td><td>10</td><td>2 </td><td>46</td><td>0 </td></tr>\n",
       "\t<tr><td>AR</td><td>1 </td><td> 9</td><td>2 </td><td>71</td><td>1 </td></tr>\n",
       "\t<tr><td>AR</td><td>1 </td><td> 5</td><td>2 </td><td>20</td><td>1 </td></tr>\n",
       "\t<tr><td>AR</td><td>1 </td><td>10</td><td>3 </td><td>60</td><td>0 </td></tr>\n",
       "\t<tr><td>AR</td><td>1 </td><td> 8</td><td>2 </td><td>45</td><td>0 </td></tr>\n",
       "\t<tr><td>AR</td><td>1 </td><td>14</td><td>1 </td><td>45</td><td>0 </td></tr>\n",
       "\t<tr><td>AR</td><td>1 </td><td>14</td><td>2 </td><td>20</td><td>1 </td></tr>\n",
       "\t<tr><td>AR</td><td>1 </td><td> 6</td><td>1 </td><td>77</td><td>0 </td></tr>\n",
       "\t<tr><td>AR</td><td>0 </td><td>17</td><td>2 </td><td>50</td><td>1 </td></tr>\n",
       "\t<tr><td>AR</td><td>1 </td><td>12</td><td>2 </td><td>65</td><td>0 </td></tr>\n",
       "\t<tr><td>AR</td><td>1 </td><td> 6</td><td>1 </td><td>84</td><td>1 </td></tr>\n",
       "\t<tr><td>AR</td><td>1 </td><td>13</td><td>2 </td><td>56</td><td>1 </td></tr>\n",
       "\t<tr><td>AR</td><td>1 </td><td> 7</td><td>1 </td><td>56</td><td>0 </td></tr>\n",
       "\t<tr><td>AR</td><td>1 </td><td>15</td><td>4 </td><td>44</td><td>0 </td></tr>\n",
       "\t<tr><td>AR</td><td>1 </td><td>16</td><td>2 </td><td>50</td><td>0 </td></tr>\n",
       "\t<tr><td>AR</td><td>1 </td><td> 8</td><td>2 </td><td>31</td><td>1 </td></tr>\n",
       "\t<tr><td>AR</td><td>1 </td><td>16</td><td>4 </td><td>64</td><td>0 </td></tr>\n",
       "\t<tr><td>AR</td><td>1 </td><td>10</td><td>1 </td><td>80</td><td>0 </td></tr>\n",
       "\t<tr><td>...</td><td>...</td><td>...</td><td>...</td><td>...</td><td>...</td></tr>\n",
       "\t<tr><td>SC </td><td>1  </td><td>11 </td><td>1  </td><td> 76</td><td>0  </td></tr>\n",
       "\t<tr><td>SC </td><td>0  </td><td> 9 </td><td>1  </td><td> 78</td><td>0  </td></tr>\n",
       "\t<tr><td>SC </td><td>1  </td><td>16 </td><td>4  </td><td> 37</td><td>1  </td></tr>\n",
       "\t<tr><td>SC </td><td>1  </td><td>15 </td><td>3  </td><td> 46</td><td>0  </td></tr>\n",
       "\t<tr><td>SC </td><td>1  </td><td>12 </td><td>2  </td><td> 26</td><td>1  </td></tr>\n",
       "\t<tr><td>SC </td><td>1  </td><td>17 </td><td>3  </td><td> 43</td><td>1  </td></tr>\n",
       "\t<tr><td>SC </td><td>0  </td><td>15 </td><td>2  </td><td> 36</td><td>1  </td></tr>\n",
       "\t<tr><td>SC </td><td>1  </td><td>16 </td><td>2  </td><td> 37</td><td>0  </td></tr>\n",
       "\t<tr><td>SC </td><td>1  </td><td>16 </td><td>4  </td><td> 50</td><td>1  </td></tr>\n",
       "\t<tr><td>SC </td><td>1  </td><td>17 </td><td>3  </td><td> 57</td><td>0  </td></tr>\n",
       "\t<tr><td>SC </td><td>1  </td><td> 5 </td><td>3  </td><td> 24</td><td>1  </td></tr>\n",
       "\t<tr><td>SC </td><td>1  </td><td>13 </td><td>3  </td><td> 19</td><td>1  </td></tr>\n",
       "\t<tr><td>SC </td><td>0  </td><td> 9 </td><td>3  </td><td> 51</td><td>1  </td></tr>\n",
       "\t<tr><td>SC </td><td>1  </td><td>13 </td><td>2  </td><td> 53</td><td>1  </td></tr>\n",
       "\t<tr><td>SC </td><td>1  </td><td>17 </td><td>4  </td><td> 48</td><td>1  </td></tr>\n",
       "\t<tr><td>SC </td><td>1  </td><td>17 </td><td>4  </td><td> 63</td><td>1  </td></tr>\n",
       "\t<tr><td>SC </td><td>0  </td><td> 9 </td><td>2  </td><td> 81</td><td>1  </td></tr>\n",
       "\t<tr><td>SC </td><td>1  </td><td>17 </td><td>2  </td><td> 35</td><td>0  </td></tr>\n",
       "\t<tr><td>SC </td><td>1  </td><td>10 </td><td>4  </td><td> 84</td><td>0  </td></tr>\n",
       "\t<tr><td>SC </td><td>1  </td><td>16 </td><td>2  </td><td> 57</td><td>0  </td></tr>\n",
       "\t<tr><td>SC </td><td>1  </td><td>11 </td><td>4  </td><td> 28</td><td>1  </td></tr>\n",
       "\t<tr><td>SC </td><td>0  </td><td> 8 </td><td>1  </td><td> 62</td><td>1  </td></tr>\n",
       "\t<tr><td>SC </td><td>1  </td><td> 5 </td><td>2  </td><td> 50</td><td>1  </td></tr>\n",
       "\t<tr><td>SC </td><td>1  </td><td>15 </td><td>2  </td><td> 51</td><td>1  </td></tr>\n",
       "\t<tr><td>SC </td><td>1  </td><td>17 </td><td>4  </td><td> 53</td><td>1  </td></tr>\n",
       "\t<tr><td>SC </td><td>1  </td><td>10 </td><td>2  </td><td> 24</td><td>0  </td></tr>\n",
       "\t<tr><td>SC </td><td>1  </td><td>12 </td><td>3  </td><td> 46</td><td>0  </td></tr>\n",
       "\t<tr><td>SC </td><td>0  </td><td>12 </td><td>1  </td><td> 79</td><td>1  </td></tr>\n",
       "\t<tr><td>SC </td><td>1  </td><td> 9 </td><td>1  </td><td> 36</td><td>1  </td></tr>\n",
       "\t<tr><td>SC </td><td>1  </td><td> 8 </td><td>1  </td><td>120</td><td>1  </td></tr>\n",
       "</tbody>\n",
       "</table>\n"
      ],
      "text/latex": [
       "\\begin{tabular}{r|llllll}\n",
       " state & vote & income & education & age & sex\\\\\n",
       "\\hline\n",
       "\t AR & 1  &  9 & 2  & 73 & 0 \\\\\n",
       "\t AR & 1  & 11 & 2  & 24 & 0 \\\\\n",
       "\t AR & 0  & 12 & 2  & 24 & 1 \\\\\n",
       "\t AR & 1  & 16 & 4  & 40 & 0 \\\\\n",
       "\t AR & 1  & 10 & 4  & 85 & 1 \\\\\n",
       "\t AR & 1  & 12 & 3  & 78 & 1 \\\\\n",
       "\t AR & 0  & 14 & 4  & 31 & 0 \\\\\n",
       "\t AR & 1  & 10 & 1  & 75 & 0 \\\\\n",
       "\t AR & 1  & 17 & 2  & 54 & 0 \\\\\n",
       "\t AR & 1  &  8 & 1  & 78 & 0 \\\\\n",
       "\t AR & 1  & 15 & 3  & 71 & 0 \\\\\n",
       "\t AR & 1  & 13 & 3  & 40 & 1 \\\\\n",
       "\t AR & 1  & 10 & 2  & 46 & 0 \\\\\n",
       "\t AR & 1  &  9 & 2  & 71 & 1 \\\\\n",
       "\t AR & 1  &  5 & 2  & 20 & 1 \\\\\n",
       "\t AR & 1  & 10 & 3  & 60 & 0 \\\\\n",
       "\t AR & 1  &  8 & 2  & 45 & 0 \\\\\n",
       "\t AR & 1  & 14 & 1  & 45 & 0 \\\\\n",
       "\t AR & 1  & 14 & 2  & 20 & 1 \\\\\n",
       "\t AR & 1  &  6 & 1  & 77 & 0 \\\\\n",
       "\t AR & 0  & 17 & 2  & 50 & 1 \\\\\n",
       "\t AR & 1  & 12 & 2  & 65 & 0 \\\\\n",
       "\t AR & 1  &  6 & 1  & 84 & 1 \\\\\n",
       "\t AR & 1  & 13 & 2  & 56 & 1 \\\\\n",
       "\t AR & 1  &  7 & 1  & 56 & 0 \\\\\n",
       "\t AR & 1  & 15 & 4  & 44 & 0 \\\\\n",
       "\t AR & 1  & 16 & 2  & 50 & 0 \\\\\n",
       "\t AR & 1  &  8 & 2  & 31 & 1 \\\\\n",
       "\t AR & 1  & 16 & 4  & 64 & 0 \\\\\n",
       "\t AR & 1  & 10 & 1  & 80 & 0 \\\\\n",
       "\t ... & ... & ... & ... & ... & ...\\\\\n",
       "\t SC  & 1   & 11  & 1   &  76 & 0  \\\\\n",
       "\t SC  & 0   &  9  & 1   &  78 & 0  \\\\\n",
       "\t SC  & 1   & 16  & 4   &  37 & 1  \\\\\n",
       "\t SC  & 1   & 15  & 3   &  46 & 0  \\\\\n",
       "\t SC  & 1   & 12  & 2   &  26 & 1  \\\\\n",
       "\t SC  & 1   & 17  & 3   &  43 & 1  \\\\\n",
       "\t SC  & 0   & 15  & 2   &  36 & 1  \\\\\n",
       "\t SC  & 1   & 16  & 2   &  37 & 0  \\\\\n",
       "\t SC  & 1   & 16  & 4   &  50 & 1  \\\\\n",
       "\t SC  & 1   & 17  & 3   &  57 & 0  \\\\\n",
       "\t SC  & 1   &  5  & 3   &  24 & 1  \\\\\n",
       "\t SC  & 1   & 13  & 3   &  19 & 1  \\\\\n",
       "\t SC  & 0   &  9  & 3   &  51 & 1  \\\\\n",
       "\t SC  & 1   & 13  & 2   &  53 & 1  \\\\\n",
       "\t SC  & 1   & 17  & 4   &  48 & 1  \\\\\n",
       "\t SC  & 1   & 17  & 4   &  63 & 1  \\\\\n",
       "\t SC  & 0   &  9  & 2   &  81 & 1  \\\\\n",
       "\t SC  & 1   & 17  & 2   &  35 & 0  \\\\\n",
       "\t SC  & 1   & 10  & 4   &  84 & 0  \\\\\n",
       "\t SC  & 1   & 16  & 2   &  57 & 0  \\\\\n",
       "\t SC  & 1   & 11  & 4   &  28 & 1  \\\\\n",
       "\t SC  & 0   &  8  & 1   &  62 & 1  \\\\\n",
       "\t SC  & 1   &  5  & 2   &  50 & 1  \\\\\n",
       "\t SC  & 1   & 15  & 2   &  51 & 1  \\\\\n",
       "\t SC  & 1   & 17  & 4   &  53 & 1  \\\\\n",
       "\t SC  & 1   & 10  & 2   &  24 & 0  \\\\\n",
       "\t SC  & 1   & 12  & 3   &  46 & 0  \\\\\n",
       "\t SC  & 0   & 12  & 1   &  79 & 1  \\\\\n",
       "\t SC  & 1   &  9  & 1   &  36 & 1  \\\\\n",
       "\t SC  & 1   &  8  & 1   & 120 & 1  \\\\\n",
       "\\end{tabular}\n"
      ],
      "text/markdown": [
       "\n",
       "| state | vote | income | education | age | sex |\n",
       "|---|---|---|---|---|---|\n",
       "| AR | 1  |  9 | 2  | 73 | 0  |\n",
       "| AR | 1  | 11 | 2  | 24 | 0  |\n",
       "| AR | 0  | 12 | 2  | 24 | 1  |\n",
       "| AR | 1  | 16 | 4  | 40 | 0  |\n",
       "| AR | 1  | 10 | 4  | 85 | 1  |\n",
       "| AR | 1  | 12 | 3  | 78 | 1  |\n",
       "| AR | 0  | 14 | 4  | 31 | 0  |\n",
       "| AR | 1  | 10 | 1  | 75 | 0  |\n",
       "| AR | 1  | 17 | 2  | 54 | 0  |\n",
       "| AR | 1  |  8 | 1  | 78 | 0  |\n",
       "| AR | 1  | 15 | 3  | 71 | 0  |\n",
       "| AR | 1  | 13 | 3  | 40 | 1  |\n",
       "| AR | 1  | 10 | 2  | 46 | 0  |\n",
       "| AR | 1  |  9 | 2  | 71 | 1  |\n",
       "| AR | 1  |  5 | 2  | 20 | 1  |\n",
       "| AR | 1  | 10 | 3  | 60 | 0  |\n",
       "| AR | 1  |  8 | 2  | 45 | 0  |\n",
       "| AR | 1  | 14 | 1  | 45 | 0  |\n",
       "| AR | 1  | 14 | 2  | 20 | 1  |\n",
       "| AR | 1  |  6 | 1  | 77 | 0  |\n",
       "| AR | 0  | 17 | 2  | 50 | 1  |\n",
       "| AR | 1  | 12 | 2  | 65 | 0  |\n",
       "| AR | 1  |  6 | 1  | 84 | 1  |\n",
       "| AR | 1  | 13 | 2  | 56 | 1  |\n",
       "| AR | 1  |  7 | 1  | 56 | 0  |\n",
       "| AR | 1  | 15 | 4  | 44 | 0  |\n",
       "| AR | 1  | 16 | 2  | 50 | 0  |\n",
       "| AR | 1  |  8 | 2  | 31 | 1  |\n",
       "| AR | 1  | 16 | 4  | 64 | 0  |\n",
       "| AR | 1  | 10 | 1  | 80 | 0  |\n",
       "| ... | ... | ... | ... | ... | ... |\n",
       "| SC  | 1   | 11  | 1   |  76 | 0   |\n",
       "| SC  | 0   |  9  | 1   |  78 | 0   |\n",
       "| SC  | 1   | 16  | 4   |  37 | 1   |\n",
       "| SC  | 1   | 15  | 3   |  46 | 0   |\n",
       "| SC  | 1   | 12  | 2   |  26 | 1   |\n",
       "| SC  | 1   | 17  | 3   |  43 | 1   |\n",
       "| SC  | 0   | 15  | 2   |  36 | 1   |\n",
       "| SC  | 1   | 16  | 2   |  37 | 0   |\n",
       "| SC  | 1   | 16  | 4   |  50 | 1   |\n",
       "| SC  | 1   | 17  | 3   |  57 | 0   |\n",
       "| SC  | 1   |  5  | 3   |  24 | 1   |\n",
       "| SC  | 1   | 13  | 3   |  19 | 1   |\n",
       "| SC  | 0   |  9  | 3   |  51 | 1   |\n",
       "| SC  | 1   | 13  | 2   |  53 | 1   |\n",
       "| SC  | 1   | 17  | 4   |  48 | 1   |\n",
       "| SC  | 1   | 17  | 4   |  63 | 1   |\n",
       "| SC  | 0   |  9  | 2   |  81 | 1   |\n",
       "| SC  | 1   | 17  | 2   |  35 | 0   |\n",
       "| SC  | 1   | 10  | 4   |  84 | 0   |\n",
       "| SC  | 1   | 16  | 2   |  57 | 0   |\n",
       "| SC  | 1   | 11  | 4   |  28 | 1   |\n",
       "| SC  | 0   |  8  | 1   |  62 | 1   |\n",
       "| SC  | 1   |  5  | 2   |  50 | 1   |\n",
       "| SC  | 1   | 15  | 2   |  51 | 1   |\n",
       "| SC  | 1   | 17  | 4   |  53 | 1   |\n",
       "| SC  | 1   | 10  | 2   |  24 | 0   |\n",
       "| SC  | 1   | 12  | 3   |  46 | 0   |\n",
       "| SC  | 0   | 12  | 1   |  79 | 1   |\n",
       "| SC  | 1   |  9  | 1   |  36 | 1   |\n",
       "| SC  | 1   |  8  | 1   | 120 | 1   |\n",
       "\n"
      ],
      "text/plain": [
       "     state vote income education age sex\n",
       "1    AR    1     9     2         73  0  \n",
       "2    AR    1    11     2         24  0  \n",
       "3    AR    0    12     2         24  1  \n",
       "4    AR    1    16     4         40  0  \n",
       "5    AR    1    10     4         85  1  \n",
       "6    AR    1    12     3         78  1  \n",
       "7    AR    0    14     4         31  0  \n",
       "8    AR    1    10     1         75  0  \n",
       "9    AR    1    17     2         54  0  \n",
       "10   AR    1     8     1         78  0  \n",
       "11   AR    1    15     3         71  0  \n",
       "12   AR    1    13     3         40  1  \n",
       "13   AR    1    10     2         46  0  \n",
       "14   AR    1     9     2         71  1  \n",
       "15   AR    1     5     2         20  1  \n",
       "16   AR    1    10     3         60  0  \n",
       "17   AR    1     8     2         45  0  \n",
       "18   AR    1    14     1         45  0  \n",
       "19   AR    1    14     2         20  1  \n",
       "20   AR    1     6     1         77  0  \n",
       "21   AR    0    17     2         50  1  \n",
       "22   AR    1    12     2         65  0  \n",
       "23   AR    1     6     1         84  1  \n",
       "24   AR    1    13     2         56  1  \n",
       "25   AR    1     7     1         56  0  \n",
       "26   AR    1    15     4         44  0  \n",
       "27   AR    1    16     2         50  0  \n",
       "28   AR    1     8     2         31  1  \n",
       "29   AR    1    16     4         64  0  \n",
       "30   AR    1    10     1         80  0  \n",
       "...  ...   ...  ...    ...       ... ...\n",
       "1473 SC    1    11     1          76 0  \n",
       "1474 SC    0     9     1          78 0  \n",
       "1475 SC    1    16     4          37 1  \n",
       "1476 SC    1    15     3          46 0  \n",
       "1477 SC    1    12     2          26 1  \n",
       "1478 SC    1    17     3          43 1  \n",
       "1479 SC    0    15     2          36 1  \n",
       "1480 SC    1    16     2          37 0  \n",
       "1481 SC    1    16     4          50 1  \n",
       "1482 SC    1    17     3          57 0  \n",
       "1483 SC    1     5     3          24 1  \n",
       "1484 SC    1    13     3          19 1  \n",
       "1485 SC    0     9     3          51 1  \n",
       "1486 SC    1    13     2          53 1  \n",
       "1487 SC    1    17     4          48 1  \n",
       "1488 SC    1    17     4          63 1  \n",
       "1489 SC    0     9     2          81 1  \n",
       "1490 SC    1    17     2          35 0  \n",
       "1491 SC    1    10     4          84 0  \n",
       "1492 SC    1    16     2          57 0  \n",
       "1493 SC    1    11     4          28 1  \n",
       "1494 SC    0     8     1          62 1  \n",
       "1495 SC    1     5     2          50 1  \n",
       "1496 SC    1    15     2          51 1  \n",
       "1497 SC    1    17     4          53 1  \n",
       "1498 SC    1    10     2          24 0  \n",
       "1499 SC    1    12     3          46 0  \n",
       "1500 SC    0    12     1          79 1  \n",
       "1501 SC    1     9     1          36 1  \n",
       "1502 SC    1     8     1         120 1  "
      ]
     },
     "metadata": {},
     "output_type": "display_data"
    }
   ],
   "source": [
    "#Notice there is no = sign as we have in 2.1\n",
    "read.csv('vote.csv')"
   ]
  },
  {
   "cell_type": "markdown",
   "metadata": {},
   "source": [
    "## 2.2 Read csv file in sub-folder\n",
    "- read.csv(\"FOLDER_NAME/FILE_NAME.csv\")\n",
    "    - In the example below we import \"arrests.csv\" from the \"Sub_folder\" folder"
   ]
  },
  {
   "cell_type": "code",
   "execution_count": 4,
   "metadata": {},
   "outputs": [],
   "source": [
    "df_arrests = read.csv(\"Sub_folder/arrests.csv\")"
   ]
  },
  {
   "cell_type": "markdown",
   "metadata": {},
   "source": [
    "# 3. Basics of the dataframe"
   ]
  },
  {
   "cell_type": "markdown",
   "metadata": {},
   "source": [
    "## 3.1 Display: first lines of the dataframe\n",
    "\n",
    "`Function:` head(DF_NAME, # of lines you want to display)"
   ]
  },
  {
   "cell_type": "code",
   "execution_count": 5,
   "metadata": {},
   "outputs": [
    {
     "data": {
      "text/html": [
       "<table>\n",
       "<thead><tr><th scope=col>state</th><th scope=col>vote</th><th scope=col>income</th><th scope=col>education</th><th scope=col>age</th><th scope=col>sex</th></tr></thead>\n",
       "<tbody>\n",
       "\t<tr><td>AR</td><td>1 </td><td> 9</td><td>2 </td><td>73</td><td>0 </td></tr>\n",
       "\t<tr><td>AR</td><td>1 </td><td>11</td><td>2 </td><td>24</td><td>0 </td></tr>\n",
       "\t<tr><td>AR</td><td>0 </td><td>12</td><td>2 </td><td>24</td><td>1 </td></tr>\n",
       "</tbody>\n",
       "</table>\n"
      ],
      "text/latex": [
       "\\begin{tabular}{r|llllll}\n",
       " state & vote & income & education & age & sex\\\\\n",
       "\\hline\n",
       "\t AR & 1  &  9 & 2  & 73 & 0 \\\\\n",
       "\t AR & 1  & 11 & 2  & 24 & 0 \\\\\n",
       "\t AR & 0  & 12 & 2  & 24 & 1 \\\\\n",
       "\\end{tabular}\n"
      ],
      "text/markdown": [
       "\n",
       "| state | vote | income | education | age | sex |\n",
       "|---|---|---|---|---|---|\n",
       "| AR | 1  |  9 | 2  | 73 | 0  |\n",
       "| AR | 1  | 11 | 2  | 24 | 0  |\n",
       "| AR | 0  | 12 | 2  | 24 | 1  |\n",
       "\n"
      ],
      "text/plain": [
       "  state vote income education age sex\n",
       "1 AR    1     9     2         73  0  \n",
       "2 AR    1    11     2         24  0  \n",
       "3 AR    0    12     2         24  1  "
      ]
     },
     "metadata": {},
     "output_type": "display_data"
    }
   ],
   "source": [
    "# Shows the first 3 lines\n",
    "head(df, 3)"
   ]
  },
  {
   "cell_type": "markdown",
   "metadata": {},
   "source": [
    "## 3.2 Display: column names\n",
    "\n",
    "`Function:` names(DF_NAME)"
   ]
  },
  {
   "cell_type": "code",
   "execution_count": 6,
   "metadata": {},
   "outputs": [
    {
     "data": {
      "text/html": [
       "<ol class=list-inline>\n",
       "\t<li>'state'</li>\n",
       "\t<li>'vote'</li>\n",
       "\t<li>'income'</li>\n",
       "\t<li>'education'</li>\n",
       "\t<li>'age'</li>\n",
       "\t<li>'sex'</li>\n",
       "</ol>\n"
      ],
      "text/latex": [
       "\\begin{enumerate*}\n",
       "\\item 'state'\n",
       "\\item 'vote'\n",
       "\\item 'income'\n",
       "\\item 'education'\n",
       "\\item 'age'\n",
       "\\item 'sex'\n",
       "\\end{enumerate*}\n"
      ],
      "text/markdown": [
       "1. 'state'\n",
       "2. 'vote'\n",
       "3. 'income'\n",
       "4. 'education'\n",
       "5. 'age'\n",
       "6. 'sex'\n",
       "\n",
       "\n"
      ],
      "text/plain": [
       "[1] \"state\"     \"vote\"      \"income\"    \"education\" \"age\"       \"sex\"      "
      ]
     },
     "metadata": {},
     "output_type": "display_data"
    }
   ],
   "source": [
    "names(df)"
   ]
  },
  {
   "cell_type": "markdown",
   "metadata": {},
   "source": [
    "## 3.3 Display: summary stats\n",
    "`Function:` summary(DF_NAME)"
   ]
  },
  {
   "cell_type": "code",
   "execution_count": 7,
   "metadata": {},
   "outputs": [
    {
     "data": {
      "text/plain": [
       " state          vote            income        education         age        \n",
       " AR: 501   Min.   :0.0000   Min.   : 4.00   Min.   :1.00   Min.   :  5.00  \n",
       " SC:1001   1st Qu.:1.0000   1st Qu.: 9.00   1st Qu.:2.00   1st Qu.: 36.00  \n",
       "           Median :1.0000   Median :13.00   Median :3.00   Median : 49.00  \n",
       "           Mean   :0.8555   Mean   :12.06   Mean   :2.65   Mean   : 49.28  \n",
       "           3rd Qu.:1.0000   3rd Qu.:16.00   3rd Qu.:4.00   3rd Qu.: 62.00  \n",
       "           Max.   :1.0000   Max.   :17.00   Max.   :4.00   Max.   :120.00  \n",
       "      sex        \n",
       " Min.   :0.0000  \n",
       " 1st Qu.:0.0000  \n",
       " Median :1.0000  \n",
       " Mean   :0.5593  \n",
       " 3rd Qu.:1.0000  \n",
       " Max.   :1.0000  "
      ]
     },
     "metadata": {},
     "output_type": "display_data"
    }
   ],
   "source": [
    "summary(df)"
   ]
  },
  {
   "cell_type": "markdown",
   "metadata": {},
   "source": [
    "# 4. Inidvidual column manipulation\n",
    "\n",
    "- Select the dataframe column with a '$\\mathit{\\$}$'\n",
    "    - DATEFRAME$\\mathit{\\$}$COLUMNNAME\n",
    "    \n",
    "- Use the mean function to find average age\n",
    "\n",
    "`Function:` mean(DF_NAME$\\mathit{\\$}$Col_Name)\n",
    "\n",
    "`Function:` sd(DF_NAME$\\mathit{\\$}$Col_name)"
   ]
  },
  {
   "cell_type": "code",
   "execution_count": 8,
   "metadata": {},
   "outputs": [
    {
     "data": {
      "text/html": [
       "49.2789613848202"
      ],
      "text/latex": [
       "49.2789613848202"
      ],
      "text/markdown": [
       "49.2789613848202"
      ],
      "text/plain": [
       "[1] 49.27896"
      ]
     },
     "metadata": {},
     "output_type": "display_data"
    }
   ],
   "source": [
    "#Shows mean of age column\n",
    "mean(df$age)"
   ]
  },
  {
   "cell_type": "code",
   "execution_count": 9,
   "metadata": {},
   "outputs": [
    {
     "data": {
      "text/html": [
       "17.5918284581461"
      ],
      "text/latex": [
       "17.5918284581461"
      ],
      "text/markdown": [
       "17.5918284581461"
      ],
      "text/plain": [
       "[1] 17.59183"
      ]
     },
     "metadata": {},
     "output_type": "display_data"
    }
   ],
   "source": [
    "#Shows standard deviation of age column\n",
    "sd(df$age)"
   ]
  },
  {
   "cell_type": "markdown",
   "metadata": {},
   "source": [
    "# Review of functions used in Disc1_intro\n",
    "\n",
    "- `Function:` read.csv(\"NAMEOFFILE.csv\")\n",
    "    - Reads csv\n",
    "- `Function:` ls()\n",
    "    - Shows saved objects\n",
    "- `Function:` head(DF_NAME, # of lines you want to display)\n",
    "    - Show first lines of data frame\n",
    "- `Function:` names(DF_NAME)\n",
    "    - Shows column names\n",
    "- `Function:` summary(DF_NAME)\n",
    "    - Shows summary stats\n",
    "- `Function:` mean(DF_NAME$\\mathit{\\$}$Col_Name)\n",
    "    - Shows mean of certain column\n",
    "- `Function:` sd(DF_NAME$\\mathit{\\$}$Col_name)\n",
    "    - Shows standard deviation of certain column\n"
   ]
  },
  {
   "cell_type": "code",
   "execution_count": null,
   "metadata": {},
   "outputs": [],
   "source": []
  }
 ],
 "metadata": {
  "kernelspec": {
   "display_name": "R [conda env:r_env]",
   "language": "R",
   "name": "conda-env-r_env-r"
  },
  "language_info": {
   "codemirror_mode": "r",
   "file_extension": ".r",
   "mimetype": "text/x-r-source",
   "name": "R",
   "pygments_lexer": "r",
   "version": "3.6.1"
  }
 },
 "nbformat": 4,
 "nbformat_minor": 4
}

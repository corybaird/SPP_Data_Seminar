{
 "cells": [
  {
   "cell_type": "markdown",
   "id": "israeli-pontiac",
   "metadata": {},
   "source": [
    "# Session 1--Rstudio and downloading (September 10th)\n",
    "\n",
    "\n",
    "### Session 1: notes\n",
    "\n",
    "1. Module 1 covers Rstudio basics \n",
    "    - [Notes](https://github.com/corybaird/SPP_Data_Seminar/blob/main/R/Session_1/Module_1_Rstudio.ipynb)\n",
    "    - [Video](https://youtu.be/STfjnYs8b9M)\n",
    "    \n",
    "2. Module 2 covers downloading \n",
    "    - [Notes](https://github.com/corybaird/SPP_Data_Seminar/blob/main/R/Session_1/Module_2_Download.ipynb)\n",
    "    - [Video](https://youtu.be/hp-EWoTQgOM)\n",
    "    \n",
    "3. Excercise to practice material covered in Modules 1 & 2\n",
    "    - Current page"
   ]
  },
  {
   "cell_type": "markdown",
   "id": "several-harris",
   "metadata": {},
   "source": [
    "# Excercise overview\n",
    "\n",
    "- Please try to complete the excercises before attending the session"
   ]
  },
  {
   "cell_type": "markdown",
   "id": "seasonal-joint",
   "metadata": {},
   "source": [
    "\n",
    "# Q.1 Identify the following sections of r-studio\n",
    "\n",
    "\n",
    "\n",
    "- Where is code written? \n",
    "    - Answer: Upper-left,upper-right, lower-left, lower-right?\n",
    " \n",
    " \n",
    " \n",
    "- Where is the code output? \n",
    "     - Answer: Upper-left,upper-right, lower-left, lower-right?\n",
    "\n",
    "\n",
    "\n",
    "- Where are objects stored (dataframes, strings, etc)? \n",
    "     - Answer: Upper-left,upper-right, lower-left, lower-right?\n",
    "     \n",
    "     \n",
    "     \n",
    "- Where can you see the files in your folder? \n",
    "     - Answer: Upper-left,upper-right, lower-left, lower-right?"
   ]
  },
  {
   "cell_type": "markdown",
   "id": "hawaiian-concert",
   "metadata": {},
   "source": [
    "# Q.2 Import a file from your computer"
   ]
  },
  {
   "cell_type": "code",
   "execution_count": 2,
   "id": "cathedral-reset",
   "metadata": {},
   "outputs": [],
   "source": [
    "path = 'YOURFILEPATH'\n",
    "df = read.csv(path) #only if the file is csv will this work"
   ]
  },
  {
   "cell_type": "markdown",
   "id": "mental-guide",
   "metadata": {},
   "source": [
    "### Q.2.1 Show first 2 rows"
   ]
  },
  {
   "cell_type": "code",
   "execution_count": null,
   "id": "personalized-connectivity",
   "metadata": {},
   "outputs": [],
   "source": []
  },
  {
   "cell_type": "markdown",
   "id": "excited-reserve",
   "metadata": {},
   "source": [
    "### Q.2.2 Show column names"
   ]
  },
  {
   "cell_type": "code",
   "execution_count": null,
   "id": "grateful-burner",
   "metadata": {},
   "outputs": [],
   "source": []
  },
  {
   "cell_type": "markdown",
   "id": "generous-imperial",
   "metadata": {},
   "source": [
    "### Q.2.3 Display summary stats"
   ]
  },
  {
   "cell_type": "code",
   "execution_count": null,
   "id": "resistant-boards",
   "metadata": {},
   "outputs": [],
   "source": []
  },
  {
   "cell_type": "markdown",
   "id": "aging-honor",
   "metadata": {},
   "source": [
    "# Q.3 Download csv file from github\n",
    "\n",
    "- Download data with information on COVID-19 restrictions by state\n",
    "    - [link](https://github.com/COVID19StatePolicy/SocialDistancing/blob/master/data/USstatesCov19distancingpolicy.csv)\n"
   ]
  },
  {
   "cell_type": "code",
   "execution_count": null,
   "id": "female-helen",
   "metadata": {},
   "outputs": [],
   "source": []
  },
  {
   "cell_type": "markdown",
   "id": "primary-execution",
   "metadata": {},
   "source": [
    "# Q.4 Download table from html website\n",
    "\n",
    "- Download infant mortality rates from wikipedia\n",
    "    - [link](https://en.wikipedia.org/wiki/List_of_countries_by_infant_and_under-five_mortality_rates)"
   ]
  },
  {
   "cell_type": "markdown",
   "id": "arctic-court",
   "metadata": {},
   "source": [
    "## 4.A Hint: Use rvest package"
   ]
  },
  {
   "cell_type": "code",
   "execution_count": 6,
   "id": "charming-ownership",
   "metadata": {},
   "outputs": [],
   "source": [
    "#Step 1\n",
    "#install.packages('rvest')\n",
    "#Step 2\n",
    "library(rvest)"
   ]
  },
  {
   "cell_type": "markdown",
   "id": "mexican-grade",
   "metadata": {},
   "source": [
    "## 4.1 Download"
   ]
  },
  {
   "cell_type": "code",
   "execution_count": null,
   "id": "certain-secretariat",
   "metadata": {},
   "outputs": [],
   "source": []
  }
 ],
 "metadata": {
  "jupytext": {
   "cell_metadata_filter": "-all",
   "notebook_metadata_filter": "-all",
   "text_representation": {
    "extension": ".R",
    "format_name": "light"
   }
  },
  "kernelspec": {
   "display_name": "R [conda env:r_env]",
   "language": "R",
   "name": "conda-env-r_env-r"
  },
  "language_info": {
   "codemirror_mode": "r",
   "file_extension": ".r",
   "mimetype": "text/x-r-source",
   "name": "R",
   "pygments_lexer": "r",
   "version": "3.6.1"
  }
 },
 "nbformat": 4,
 "nbformat_minor": 5
}

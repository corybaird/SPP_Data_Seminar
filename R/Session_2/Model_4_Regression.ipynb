{
 "cells": [
  {
   "cell_type": "markdown",
   "id": "asian-housing",
   "metadata": {},
   "source": [
    "# Session 2-- Manipulating data and regression \n",
    "\n",
    "\n",
    "## Session 2 is composed of 3 parts¶\n",
    "\n",
    "1. Module 3: Manipulating data\n",
    "    - Notes (Current page)\n",
    "    - Video\n",
    "2. Module 4: Regression\n",
    "    - Notes\n",
    "    - Video\n",
    "\n",
    "3. Excercise to practice material covered in Modules 3 & 4\n",
    "    - Link\n",
    "\n",
    "\n",
    "\n",
    "# Module 4"
   ]
  },
  {
   "cell_type": "code",
   "execution_count": null,
   "id": "given-living",
   "metadata": {},
   "outputs": [],
   "source": []
  }
 ],
 "metadata": {
  "kernelspec": {
   "display_name": "R [conda env:r_env]",
   "language": "R",
   "name": "conda-env-r_env-r"
  },
  "language_info": {
   "codemirror_mode": "r",
   "file_extension": ".r",
   "mimetype": "text/x-r-source",
   "name": "R",
   "pygments_lexer": "r",
   "version": "3.6.1"
  }
 },
 "nbformat": 4,
 "nbformat_minor": 5
}

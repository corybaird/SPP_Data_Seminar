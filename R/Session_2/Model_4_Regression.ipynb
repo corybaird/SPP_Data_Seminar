{
 "cells": [
  {
   "cell_type": "markdown",
   "id": "shaped-treasurer",
   "metadata": {},
   "source": [
    "# Session 2-- Manipulating data and regression \n",
    "\n",
    "\n",
    "## Session 2 is composed of 2 parts¶\n",
    "\n",
    "1. Module 3: Manipulating data\n",
    "    - [Notes](https://github.com/corybaird/SPP_Data_Seminar/blob/main/R/Session_2/Module_3_Manipulation.ipynb)\n",
    "    - [Video](https://www.youtube.com/watch?v=6UCIoUJusTI&ab_channel=CB)\n",
    "2. Module 4: Regression\n",
    "    - Notes (current page)\n",
    "    - [Video](https://youtu.be/wCCYfMe_h3k)\n",
    "\n",
    "\n",
    "\n",
    "\n",
    "\n",
    "# Module 4: Regression"
   ]
  },
  {
   "cell_type": "markdown",
   "id": "numerous-filename",
   "metadata": {},
   "source": [
    "## A.1 Import libraries"
   ]
  },
  {
   "cell_type": "code",
   "execution_count": null,
   "id": "adjusted-demographic",
   "metadata": {},
   "outputs": [],
   "source": [
    "# Step 1\n",
    "install.packages('dplyr')\n",
    "install.packages('ggplot2')\n",
    "install.packages('WDI')\n",
    "\n",
    "#Step 2\n",
    "library(ggplot2)\n",
    "library(dplyr)\n",
    "library(WDI)"
   ]
  },
  {
   "cell_type": "markdown",
   "id": "overall-valley",
   "metadata": {},
   "source": [
    "# 1. Install data"
   ]
  },
  {
   "cell_type": "markdown",
   "id": "great-morris",
   "metadata": {},
   "source": [
    "## 1.1 WDI data\n",
    "\n",
    "### 1.1.1 Install with WDI function from WDI library"
   ]
  },
  {
   "cell_type": "code",
   "execution_count": 70,
   "id": "color-stone",
   "metadata": {},
   "outputs": [],
   "source": [
    "df_wdi = WDI(\n",
    "country = \"all\",\n",
    "indicator = c(\"NY.GDP.PCAP.KD\", #GDP\n",
    "              \"SP.POP.DPND\" # Age dependency\n",
    "             ),\n",
    "start = 1980,\n",
    "end = 2020,\n",
    "extra = FALSE,\n",
    "cache = NULL,\n",
    "latest = NULL,\n",
    "language = \"en\"\n",
    ")"
   ]
  },
  {
   "cell_type": "code",
   "execution_count": 71,
   "id": "excessive-sewing",
   "metadata": {},
   "outputs": [
    {
     "data": {
      "text/html": [
       "<table>\n",
       "<thead><tr><th scope=col>iso2c</th><th scope=col>country</th><th scope=col>year</th><th scope=col>NY.GDP.PCAP.KD</th><th scope=col>SP.POP.DPND</th></tr></thead>\n",
       "<tbody>\n",
       "\t<tr><td>1A        </td><td>Arab World</td><td>1980      </td><td>5263.215  </td><td>92.25752  </td></tr>\n",
       "\t<tr><td>1A        </td><td>Arab World</td><td>1981      </td><td>5255.007  </td><td>91.96566  </td></tr>\n",
       "</tbody>\n",
       "</table>\n"
      ],
      "text/latex": [
       "\\begin{tabular}{r|lllll}\n",
       " iso2c & country & year & NY.GDP.PCAP.KD & SP.POP.DPND\\\\\n",
       "\\hline\n",
       "\t 1A         & Arab World & 1980       & 5263.215   & 92.25752  \\\\\n",
       "\t 1A         & Arab World & 1981       & 5255.007   & 91.96566  \\\\\n",
       "\\end{tabular}\n"
      ],
      "text/markdown": [
       "\n",
       "| iso2c | country | year | NY.GDP.PCAP.KD | SP.POP.DPND |\n",
       "|---|---|---|---|---|\n",
       "| 1A         | Arab World | 1980       | 5263.215   | 92.25752   |\n",
       "| 1A         | Arab World | 1981       | 5255.007   | 91.96566   |\n",
       "\n"
      ],
      "text/plain": [
       "  iso2c country    year NY.GDP.PCAP.KD SP.POP.DPND\n",
       "1 1A    Arab World 1980 5263.215       92.25752   \n",
       "2 1A    Arab World 1981 5255.007       91.96566   "
      ]
     },
     "metadata": {},
     "output_type": "display_data"
    }
   ],
   "source": [
    "df_wdi %>% head(2)"
   ]
  },
  {
   "cell_type": "markdown",
   "id": "historical-variation",
   "metadata": {},
   "source": [
    "### 1.1.2 Filter data"
   ]
  },
  {
   "cell_type": "code",
   "execution_count": 72,
   "id": "simple-joint",
   "metadata": {},
   "outputs": [],
   "source": [
    "df_wdi = df_wdi %>% \n",
    "filter(year==2020)"
   ]
  },
  {
   "cell_type": "code",
   "execution_count": 73,
   "id": "portable-cotton",
   "metadata": {},
   "outputs": [
    {
     "data": {
      "text/html": [
       "<table>\n",
       "<thead><tr><th scope=col>iso2c</th><th scope=col>country</th><th scope=col>year</th><th scope=col>NY.GDP.PCAP.KD</th><th scope=col>SP.POP.DPND</th></tr></thead>\n",
       "<tbody>\n",
       "\t<tr><td>1A                                         </td><td>Arab World                                 </td><td>2020                                       </td><td> 6043.964                                  </td><td>61.01996                                   </td></tr>\n",
       "\t<tr><td>1W                                         </td><td>World                                      </td><td>2020                                       </td><td>10565.499                                  </td><td>54.56867                                   </td></tr>\n",
       "\t<tr><td>4E                                             </td><td>East Asia &amp; Pacific (excluding high income)</td><td>2020                                           </td><td> 6881.016                                      </td><td>44.12737                                       </td></tr>\n",
       "</tbody>\n",
       "</table>\n"
      ],
      "text/latex": [
       "\\begin{tabular}{r|lllll}\n",
       " iso2c & country & year & NY.GDP.PCAP.KD & SP.POP.DPND\\\\\n",
       "\\hline\n",
       "\t 1A                                          & Arab World                                  & 2020                                        &  6043.964                                   & 61.01996                                   \\\\\n",
       "\t 1W                                          & World                                       & 2020                                        & 10565.499                                   & 54.56867                                   \\\\\n",
       "\t 4E                                            & East Asia \\& Pacific (excluding high income) & 2020                                          &  6881.016                                     & 44.12737                                     \\\\\n",
       "\\end{tabular}\n"
      ],
      "text/markdown": [
       "\n",
       "| iso2c | country | year | NY.GDP.PCAP.KD | SP.POP.DPND |\n",
       "|---|---|---|---|---|\n",
       "| 1A                                          | Arab World                                  | 2020                                        |  6043.964                                   | 61.01996                                    |\n",
       "| 1W                                          | World                                       | 2020                                        | 10565.499                                   | 54.56867                                    |\n",
       "| 4E                                          | East Asia & Pacific (excluding high income) | 2020                                        |  6881.016                                   | 44.12737                                    |\n",
       "\n"
      ],
      "text/plain": [
       "  iso2c country                                     year NY.GDP.PCAP.KD\n",
       "1 1A    Arab World                                  2020  6043.964     \n",
       "2 1W    World                                       2020 10565.499     \n",
       "3 4E    East Asia & Pacific (excluding high income) 2020  6881.016     \n",
       "  SP.POP.DPND\n",
       "1 61.01996   \n",
       "2 54.56867   \n",
       "3 44.12737   "
      ]
     },
     "metadata": {},
     "output_type": "display_data"
    }
   ],
   "source": [
    "df_wdi %>% head(3)"
   ]
  },
  {
   "cell_type": "markdown",
   "id": "parliamentary-defendant",
   "metadata": {},
   "source": [
    "### 1.1.3 Rename column"
   ]
  },
  {
   "cell_type": "code",
   "execution_count": 74,
   "id": "accomplished-silver",
   "metadata": {},
   "outputs": [
    {
     "data": {
      "text/html": [
       "<table>\n",
       "<thead><tr><th scope=col>iso2c</th><th scope=col>country</th><th scope=col>year</th><th scope=col>GDP</th><th scope=col>Age_dep_ratio</th></tr></thead>\n",
       "<tbody>\n",
       "\t<tr><td>1A                                         </td><td>Arab World                                 </td><td>2020                                       </td><td> 6043.964                                  </td><td>61.01996                                   </td></tr>\n",
       "\t<tr><td>1W                                         </td><td>World                                      </td><td>2020                                       </td><td>10565.499                                  </td><td>54.56867                                   </td></tr>\n",
       "\t<tr><td>4E                                             </td><td>East Asia &amp; Pacific (excluding high income)</td><td>2020                                           </td><td> 6881.016                                      </td><td>44.12737                                       </td></tr>\n",
       "</tbody>\n",
       "</table>\n"
      ],
      "text/latex": [
       "\\begin{tabular}{r|lllll}\n",
       " iso2c & country & year & GDP & Age\\_dep\\_ratio\\\\\n",
       "\\hline\n",
       "\t 1A                                          & Arab World                                  & 2020                                        &  6043.964                                   & 61.01996                                   \\\\\n",
       "\t 1W                                          & World                                       & 2020                                        & 10565.499                                   & 54.56867                                   \\\\\n",
       "\t 4E                                            & East Asia \\& Pacific (excluding high income) & 2020                                          &  6881.016                                     & 44.12737                                     \\\\\n",
       "\\end{tabular}\n"
      ],
      "text/markdown": [
       "\n",
       "| iso2c | country | year | GDP | Age_dep_ratio |\n",
       "|---|---|---|---|---|\n",
       "| 1A                                          | Arab World                                  | 2020                                        |  6043.964                                   | 61.01996                                    |\n",
       "| 1W                                          | World                                       | 2020                                        | 10565.499                                   | 54.56867                                    |\n",
       "| 4E                                          | East Asia & Pacific (excluding high income) | 2020                                        |  6881.016                                   | 44.12737                                    |\n",
       "\n"
      ],
      "text/plain": [
       "  iso2c country                                     year GDP      \n",
       "1 1A    Arab World                                  2020  6043.964\n",
       "2 1W    World                                       2020 10565.499\n",
       "3 4E    East Asia & Pacific (excluding high income) 2020  6881.016\n",
       "  Age_dep_ratio\n",
       "1 61.01996     \n",
       "2 54.56867     \n",
       "3 44.12737     "
      ]
     },
     "metadata": {},
     "output_type": "display_data"
    }
   ],
   "source": [
    "df_wdi = df_wdi %>% \n",
    "rename('GDP' = 'NY.GDP.PCAP.KD',\n",
    "      'Age_dep_ratio' = 'SP.POP.DPND')\n",
    "\n",
    "df_wdi %>% head(3)"
   ]
  },
  {
   "cell_type": "markdown",
   "id": "chronic-period",
   "metadata": {},
   "source": [
    "### 1.1.4 Drop columns"
   ]
  },
  {
   "cell_type": "code",
   "execution_count": 75,
   "id": "matched-slope",
   "metadata": {},
   "outputs": [
    {
     "data": {
      "text/html": [
       "<table>\n",
       "<thead><tr><th scope=col>country</th><th scope=col>GDP</th><th scope=col>Age_dep_ratio</th></tr></thead>\n",
       "<tbody>\n",
       "\t<tr><td>Arab World                                 </td><td> 6043.964                                  </td><td>61.01996                                   </td></tr>\n",
       "\t<tr><td>World                                      </td><td>10565.499                                  </td><td>54.56867                                   </td></tr>\n",
       "\t<tr><td>East Asia &amp; Pacific (excluding high income)</td><td> 6881.016                                      </td><td>44.12737                                       </td></tr>\n",
       "</tbody>\n",
       "</table>\n"
      ],
      "text/latex": [
       "\\begin{tabular}{r|lll}\n",
       " country & GDP & Age\\_dep\\_ratio\\\\\n",
       "\\hline\n",
       "\t Arab World                                  &  6043.964                                   & 61.01996                                   \\\\\n",
       "\t World                                       & 10565.499                                   & 54.56867                                   \\\\\n",
       "\t East Asia \\& Pacific (excluding high income) &  6881.016                                     & 44.12737                                     \\\\\n",
       "\\end{tabular}\n"
      ],
      "text/markdown": [
       "\n",
       "| country | GDP | Age_dep_ratio |\n",
       "|---|---|---|\n",
       "| Arab World                                  |  6043.964                                   | 61.01996                                    |\n",
       "| World                                       | 10565.499                                   | 54.56867                                    |\n",
       "| East Asia & Pacific (excluding high income) |  6881.016                                   | 44.12737                                    |\n",
       "\n"
      ],
      "text/plain": [
       "  country                                     GDP       Age_dep_ratio\n",
       "1 Arab World                                   6043.964 61.01996     \n",
       "2 World                                       10565.499 54.56867     \n",
       "3 East Asia & Pacific (excluding high income)  6881.016 44.12737     "
      ]
     },
     "metadata": {},
     "output_type": "display_data"
    }
   ],
   "source": [
    "df_wdi = df_wdi %>% select(country, GDP, Age_dep_ratio)\n",
    "\n",
    "df_wdi %>% head(3)"
   ]
  },
  {
   "cell_type": "markdown",
   "id": "classical-madagascar",
   "metadata": {},
   "source": [
    "## 1.2 NYT data"
   ]
  },
  {
   "cell_type": "code",
   "execution_count": 76,
   "id": "direct-packaging",
   "metadata": {},
   "outputs": [],
   "source": [
    "url = 'https://raw.githubusercontent.com/nytimes/covid-19-data/master/excess-deaths/deaths.csv'\n",
    "df_nyt = read.csv(url)\n"
   ]
  },
  {
   "cell_type": "code",
   "execution_count": 77,
   "id": "absolute-jesus",
   "metadata": {},
   "outputs": [
    {
     "data": {
      "text/html": [
       "<table>\n",
       "<thead><tr><th scope=col>country</th><th scope=col>placename</th><th scope=col>frequency</th><th scope=col>start_date</th><th scope=col>end_date</th><th scope=col>year</th><th scope=col>month</th><th scope=col>week</th><th scope=col>deaths</th><th scope=col>expected_deaths</th><th scope=col>excess_deaths</th><th scope=col>baseline</th></tr></thead>\n",
       "<tbody>\n",
       "\t<tr><td>Austria                  </td><td>                         </td><td>weekly                   </td><td>2020-01-06               </td><td>2020-01-12               </td><td>2020                     </td><td>1                        </td><td>2                        </td><td>1702                     </td><td>1806                     </td><td>-104                     </td><td>2015-2019 historical data</td></tr>\n",
       "\t<tr><td>Austria                  </td><td>                         </td><td>weekly                   </td><td>2020-01-13               </td><td>2020-01-19               </td><td>2020                     </td><td>1                        </td><td>3                        </td><td>1797                     </td><td>1819                     </td><td> -22                     </td><td>2015-2019 historical data</td></tr>\n",
       "</tbody>\n",
       "</table>\n"
      ],
      "text/latex": [
       "\\begin{tabular}{r|llllllllllll}\n",
       " country & placename & frequency & start\\_date & end\\_date & year & month & week & deaths & expected\\_deaths & excess\\_deaths & baseline\\\\\n",
       "\\hline\n",
       "\t Austria                   &                           & weekly                    & 2020-01-06                & 2020-01-12                & 2020                      & 1                         & 2                         & 1702                      & 1806                      & -104                      & 2015-2019 historical data\\\\\n",
       "\t Austria                   &                           & weekly                    & 2020-01-13                & 2020-01-19                & 2020                      & 1                         & 3                         & 1797                      & 1819                      &  -22                      & 2015-2019 historical data\\\\\n",
       "\\end{tabular}\n"
      ],
      "text/markdown": [
       "\n",
       "| country | placename | frequency | start_date | end_date | year | month | week | deaths | expected_deaths | excess_deaths | baseline |\n",
       "|---|---|---|---|---|---|---|---|---|---|---|---|\n",
       "| Austria                   |                           | weekly                    | 2020-01-06                | 2020-01-12                | 2020                      | 1                         | 2                         | 1702                      | 1806                      | -104                      | 2015-2019 historical data |\n",
       "| Austria                   |                           | weekly                    | 2020-01-13                | 2020-01-19                | 2020                      | 1                         | 3                         | 1797                      | 1819                      |  -22                      | 2015-2019 historical data |\n",
       "\n"
      ],
      "text/plain": [
       "  country placename frequency start_date end_date   year month week deaths\n",
       "1 Austria           weekly    2020-01-06 2020-01-12 2020 1     2    1702  \n",
       "2 Austria           weekly    2020-01-13 2020-01-19 2020 1     3    1797  \n",
       "  expected_deaths excess_deaths baseline                 \n",
       "1 1806            -104          2015-2019 historical data\n",
       "2 1819             -22          2015-2019 historical data"
      ]
     },
     "metadata": {},
     "output_type": "display_data"
    }
   ],
   "source": [
    "df_nyt %>% head(2)"
   ]
  },
  {
   "cell_type": "markdown",
   "id": "emotional-kidney",
   "metadata": {},
   "source": [
    "### 1.2.1 Filter only last date"
   ]
  },
  {
   "cell_type": "code",
   "execution_count": 78,
   "id": "systematic-justice",
   "metadata": {},
   "outputs": [],
   "source": [
    "# Converts column type from factor to date\n",
    "df_nyt$end_date = as.Date(df_nyt$end_date)"
   ]
  },
  {
   "cell_type": "code",
   "execution_count": 79,
   "id": "freelance-aaron",
   "metadata": {},
   "outputs": [
    {
     "data": {
      "text/html": [
       "<table>\n",
       "<thead><tr><th scope=col>country</th><th scope=col>placename</th><th scope=col>frequency</th><th scope=col>start_date</th><th scope=col>end_date</th><th scope=col>year</th><th scope=col>month</th><th scope=col>week</th><th scope=col>deaths</th><th scope=col>expected_deaths</th><th scope=col>excess_deaths</th><th scope=col>baseline</th></tr></thead>\n",
       "<tbody>\n",
       "\t<tr><td>Austria                  </td><td>                         </td><td>weekly                   </td><td>2020-11-23               </td><td>2020-11-29               </td><td>2020                     </td><td>11                       </td><td>48                       </td><td>2425                     </td><td>1587                     </td><td>838                      </td><td>2015-2019 historical data</td></tr>\n",
       "\t<tr><td>Chile                    </td><td>                         </td><td>weekly                   </td><td>2020-11-23               </td><td>2020-11-29               </td><td>2020                     </td><td>11                       </td><td>48                       </td><td>2235                     </td><td>2007                     </td><td>228                      </td><td>2015-2019 historical data</td></tr>\n",
       "\t<tr><td>Czech Republic           </td><td>                         </td><td>weekly                   </td><td>2020-11-23               </td><td>2020-11-29               </td><td>2020                     </td><td>11                       </td><td>48                       </td><td>3029                     </td><td>2143                     </td><td>886                      </td><td>2015-2019 historical data</td></tr>\n",
       "</tbody>\n",
       "</table>\n"
      ],
      "text/latex": [
       "\\begin{tabular}{r|llllllllllll}\n",
       " country & placename & frequency & start\\_date & end\\_date & year & month & week & deaths & expected\\_deaths & excess\\_deaths & baseline\\\\\n",
       "\\hline\n",
       "\t Austria                   &                           & weekly                    & 2020-11-23                & 2020-11-29                & 2020                      & 11                        & 48                        & 2425                      & 1587                      & 838                       & 2015-2019 historical data\\\\\n",
       "\t Chile                     &                           & weekly                    & 2020-11-23                & 2020-11-29                & 2020                      & 11                        & 48                        & 2235                      & 2007                      & 228                       & 2015-2019 historical data\\\\\n",
       "\t Czech Republic            &                           & weekly                    & 2020-11-23                & 2020-11-29                & 2020                      & 11                        & 48                        & 3029                      & 2143                      & 886                       & 2015-2019 historical data\\\\\n",
       "\\end{tabular}\n"
      ],
      "text/markdown": [
       "\n",
       "| country | placename | frequency | start_date | end_date | year | month | week | deaths | expected_deaths | excess_deaths | baseline |\n",
       "|---|---|---|---|---|---|---|---|---|---|---|---|\n",
       "| Austria                   |                           | weekly                    | 2020-11-23                | 2020-11-29                | 2020                      | 11                        | 48                        | 2425                      | 1587                      | 838                       | 2015-2019 historical data |\n",
       "| Chile                     |                           | weekly                    | 2020-11-23                | 2020-11-29                | 2020                      | 11                        | 48                        | 2235                      | 2007                      | 228                       | 2015-2019 historical data |\n",
       "| Czech Republic            |                           | weekly                    | 2020-11-23                | 2020-11-29                | 2020                      | 11                        | 48                        | 3029                      | 2143                      | 886                       | 2015-2019 historical data |\n",
       "\n"
      ],
      "text/plain": [
       "  country        placename frequency start_date end_date   year month week\n",
       "1 Austria                  weekly    2020-11-23 2020-11-29 2020 11    48  \n",
       "2 Chile                    weekly    2020-11-23 2020-11-29 2020 11    48  \n",
       "3 Czech Republic           weekly    2020-11-23 2020-11-29 2020 11    48  \n",
       "  deaths expected_deaths excess_deaths baseline                 \n",
       "1 2425   1587            838           2015-2019 historical data\n",
       "2 2235   2007            228           2015-2019 historical data\n",
       "3 3029   2143            886           2015-2019 historical data"
      ]
     },
     "metadata": {},
     "output_type": "display_data"
    }
   ],
   "source": [
    "df_nyt = df_nyt %>% \n",
    "filter(end_date=='2020-11-29')  \n",
    "\n",
    "df_nyt %>% head(3)"
   ]
  },
  {
   "cell_type": "markdown",
   "id": "funded-foundation",
   "metadata": {},
   "source": [
    "### 1.2.2 Select columns"
   ]
  },
  {
   "cell_type": "code",
   "execution_count": 80,
   "id": "intelligent-economics",
   "metadata": {},
   "outputs": [],
   "source": [
    "df_nyt = df_nyt %>% \n",
    "select(country, expected_deaths, excess_deaths)\n"
   ]
  },
  {
   "cell_type": "code",
   "execution_count": 81,
   "id": "pretty-guide",
   "metadata": {},
   "outputs": [
    {
     "data": {
      "text/html": [
       "<table>\n",
       "<thead><tr><th scope=col>country</th><th scope=col>expected_deaths</th><th scope=col>excess_deaths</th></tr></thead>\n",
       "<tbody>\n",
       "\t<tr><td>Austria       </td><td>1587          </td><td>838           </td></tr>\n",
       "\t<tr><td>Chile         </td><td>2007          </td><td>228           </td></tr>\n",
       "\t<tr><td>Czech Republic</td><td>2143          </td><td>886           </td></tr>\n",
       "</tbody>\n",
       "</table>\n"
      ],
      "text/latex": [
       "\\begin{tabular}{r|lll}\n",
       " country & expected\\_deaths & excess\\_deaths\\\\\n",
       "\\hline\n",
       "\t Austria        & 1587           & 838           \\\\\n",
       "\t Chile          & 2007           & 228           \\\\\n",
       "\t Czech Republic & 2143           & 886           \\\\\n",
       "\\end{tabular}\n"
      ],
      "text/markdown": [
       "\n",
       "| country | expected_deaths | excess_deaths |\n",
       "|---|---|---|\n",
       "| Austria        | 1587           | 838            |\n",
       "| Chile          | 2007           | 228            |\n",
       "| Czech Republic | 2143           | 886            |\n",
       "\n"
      ],
      "text/plain": [
       "  country        expected_deaths excess_deaths\n",
       "1 Austria        1587            838          \n",
       "2 Chile          2007            228          \n",
       "3 Czech Republic 2143            886          "
      ]
     },
     "metadata": {},
     "output_type": "display_data"
    }
   ],
   "source": [
    "df_nyt %>% head(3)"
   ]
  },
  {
   "cell_type": "markdown",
   "id": "acquired-ethiopia",
   "metadata": {},
   "source": [
    "## 1.3 Create new column"
   ]
  },
  {
   "cell_type": "code",
   "execution_count": 84,
   "id": "perfect-norwegian",
   "metadata": {},
   "outputs": [
    {
     "data": {
      "text/html": [
       "<table>\n",
       "<thead><tr><th scope=col>country</th><th scope=col>expected_deaths</th><th scope=col>excess_deaths</th><th scope=col>excess_death_pct</th></tr></thead>\n",
       "<tbody>\n",
       "\t<tr><td>Austria       </td><td>1587          </td><td>838           </td><td>0.5280403     </td></tr>\n",
       "\t<tr><td>Chile         </td><td>2007          </td><td>228           </td><td>0.1136024     </td></tr>\n",
       "\t<tr><td>Czech Republic</td><td>2143          </td><td>886           </td><td>0.4134391     </td></tr>\n",
       "</tbody>\n",
       "</table>\n"
      ],
      "text/latex": [
       "\\begin{tabular}{r|llll}\n",
       " country & expected\\_deaths & excess\\_deaths & excess\\_death\\_pct\\\\\n",
       "\\hline\n",
       "\t Austria        & 1587           & 838            & 0.5280403     \\\\\n",
       "\t Chile          & 2007           & 228            & 0.1136024     \\\\\n",
       "\t Czech Republic & 2143           & 886            & 0.4134391     \\\\\n",
       "\\end{tabular}\n"
      ],
      "text/markdown": [
       "\n",
       "| country | expected_deaths | excess_deaths | excess_death_pct |\n",
       "|---|---|---|---|\n",
       "| Austria        | 1587           | 838            | 0.5280403      |\n",
       "| Chile          | 2007           | 228            | 0.1136024      |\n",
       "| Czech Republic | 2143           | 886            | 0.4134391      |\n",
       "\n"
      ],
      "text/plain": [
       "  country        expected_deaths excess_deaths excess_death_pct\n",
       "1 Austria        1587            838           0.5280403       \n",
       "2 Chile          2007            228           0.1136024       \n",
       "3 Czech Republic 2143            886           0.4134391       "
      ]
     },
     "metadata": {},
     "output_type": "display_data"
    }
   ],
   "source": [
    "df_nyt = df_nyt %>% \n",
    "mutate(excess_death_pct = excess_deaths/expected_deaths\t)\n",
    "\n",
    "df_nyt %>% head(3)"
   ]
  },
  {
   "cell_type": "markdown",
   "id": "precious-sculpture",
   "metadata": {},
   "source": [
    "## 1.3 Merge"
   ]
  },
  {
   "cell_type": "code",
   "execution_count": 85,
   "id": "intelligent-money",
   "metadata": {},
   "outputs": [
    {
     "data": {
      "text/html": [
       "<table>\n",
       "<thead><tr><th scope=col>country</th><th scope=col>expected_deaths</th><th scope=col>excess_deaths</th><th scope=col>excess_death_pct</th><th scope=col>GDP</th><th scope=col>Age_dep_ratio</th></tr></thead>\n",
       "<tbody>\n",
       "\t<tr><td>Austria       </td><td>1587          </td><td>838           </td><td>0.5280403     </td><td>47008.71      </td><td>50.63911      </td></tr>\n",
       "\t<tr><td>Chile         </td><td>2007          </td><td>228           </td><td>0.1136024     </td><td>14050.18      </td><td>45.94575      </td></tr>\n",
       "\t<tr><td>Czech Republic</td><td>2143          </td><td>886           </td><td>0.4134391     </td><td>22843.04      </td><td>56.00270      </td></tr>\n",
       "</tbody>\n",
       "</table>\n"
      ],
      "text/latex": [
       "\\begin{tabular}{r|llllll}\n",
       " country & expected\\_deaths & excess\\_deaths & excess\\_death\\_pct & GDP & Age\\_dep\\_ratio\\\\\n",
       "\\hline\n",
       "\t Austria        & 1587           & 838            & 0.5280403      & 47008.71       & 50.63911      \\\\\n",
       "\t Chile          & 2007           & 228            & 0.1136024      & 14050.18       & 45.94575      \\\\\n",
       "\t Czech Republic & 2143           & 886            & 0.4134391      & 22843.04       & 56.00270      \\\\\n",
       "\\end{tabular}\n"
      ],
      "text/markdown": [
       "\n",
       "| country | expected_deaths | excess_deaths | excess_death_pct | GDP | Age_dep_ratio |\n",
       "|---|---|---|---|---|---|\n",
       "| Austria        | 1587           | 838            | 0.5280403      | 47008.71       | 50.63911       |\n",
       "| Chile          | 2007           | 228            | 0.1136024      | 14050.18       | 45.94575       |\n",
       "| Czech Republic | 2143           | 886            | 0.4134391      | 22843.04       | 56.00270       |\n",
       "\n"
      ],
      "text/plain": [
       "  country        expected_deaths excess_deaths excess_death_pct GDP     \n",
       "1 Austria        1587            838           0.5280403        47008.71\n",
       "2 Chile          2007            228           0.1136024        14050.18\n",
       "3 Czech Republic 2143            886           0.4134391        22843.04\n",
       "  Age_dep_ratio\n",
       "1 50.63911     \n",
       "2 45.94575     \n",
       "3 56.00270     "
      ]
     },
     "metadata": {},
     "output_type": "display_data"
    }
   ],
   "source": [
    "df_merge = merge(df_nyt, df_wdi, by='country')\n",
    "df_merge %>% head(3)"
   ]
  },
  {
   "cell_type": "markdown",
   "id": "developmental-gateway",
   "metadata": {},
   "source": [
    "# 2. Regression"
   ]
  },
  {
   "cell_type": "markdown",
   "id": "foster-closure",
   "metadata": {},
   "source": [
    "## 2.A Always visualize before statistical analysis"
   ]
  },
  {
   "cell_type": "code",
   "execution_count": 112,
   "id": "authentic-university",
   "metadata": {},
   "outputs": [
    {
     "data": {
      "image/png": "[encoded data removed]",
      "text/plain": [
       "plot without title"
      ]
     },
     "metadata": {},
     "output_type": "display_data"
    }
   ],
   "source": [
    "plot(df_merge$GDP,df_merge$excess_death_pct)"
   ]
  },
  {
   "cell_type": "markdown",
   "id": "divine-career",
   "metadata": {},
   "source": [
    "## 1.1 OLS"
   ]
  },
  {
   "cell_type": "code",
   "execution_count": 113,
   "id": "timely-xerox",
   "metadata": {},
   "outputs": [
    {
     "data": {
      "text/plain": [
       "\n",
       "Call:\n",
       "lm(formula = excess_death_pct ~ GDP, data = df_merge)\n",
       "\n",
       "Coefficients:\n",
       "(Intercept)          GDP  \n",
       "  4.301e-01   -4.077e-06  \n"
      ]
     },
     "metadata": {},
     "output_type": "display_data"
    }
   ],
   "source": [
    "lm(excess_death_pct ~ GDP, data= df_merge)"
   ]
  },
  {
   "cell_type": "markdown",
   "id": "gross-oracle",
   "metadata": {},
   "source": [
    "## 1.2 Saving and manipulating results"
   ]
  },
  {
   "cell_type": "code",
   "execution_count": 114,
   "id": "continuing-bench",
   "metadata": {},
   "outputs": [],
   "source": [
    "reg = lm(excess_death_pct ~ GDP, data= df_merge)"
   ]
  },
  {
   "cell_type": "code",
   "execution_count": 115,
   "id": "compatible-illinois",
   "metadata": {},
   "outputs": [
    {
     "data": {
      "text/plain": [
       "\n",
       "Call:\n",
       "lm(formula = excess_death_pct ~ GDP, data = df_merge)\n",
       "\n",
       "Residuals:\n",
       "     Min       1Q   Median       3Q      Max \n",
       "-0.28779 -0.14494 -0.09537  0.07647  0.57582 \n",
       "\n",
       "Coefficients:\n",
       "              Estimate Std. Error t value Pr(>|t|)   \n",
       "(Intercept)  4.301e-01  1.354e-01   3.176  0.00626 **\n",
       "GDP         -4.077e-06  2.807e-06  -1.452  0.16701   \n",
       "---\n",
       "Signif. codes:  0 ‘***’ 0.001 ‘**’ 0.01 ‘*’ 0.05 ‘.’ 0.1 ‘ ’ 1\n",
       "\n",
       "Residual standard error: 0.2499 on 15 degrees of freedom\n",
       "Multiple R-squared:  0.1233,\tAdjusted R-squared:  0.06483 \n",
       "F-statistic: 2.109 on 1 and 15 DF,  p-value: 0.167\n"
      ]
     },
     "metadata": {},
     "output_type": "display_data"
    }
   ],
   "source": [
    "summary(reg)"
   ]
  },
  {
   "cell_type": "markdown",
   "id": "capital-domain",
   "metadata": {},
   "source": [
    "### 1.2.1 Residuals and other data"
   ]
  },
  {
   "cell_type": "code",
   "execution_count": 95,
   "id": "canadian-loading",
   "metadata": {},
   "outputs": [
    {
     "data": {
      "text/html": [
       "<dl class=dl-horizontal>\n",
       "\t<dt>1</dt>\n",
       "\t\t<dd>0.289588786696145</dd>\n",
       "\t<dt>2</dt>\n",
       "\t\t<dd>-0.25921977978975</dd>\n",
       "\t<dt>3</dt>\n",
       "\t\t<dd>0.0764650821935383</dd>\n",
       "\t<dt>4</dt>\n",
       "\t\t<dd>-0.142488577469793</dd>\n",
       "\t<dt>5</dt>\n",
       "\t\t<dd>-0.160235785880638</dd>\n",
       "\t<dt>6</dt>\n",
       "\t\t<dd>-0.0389753140697427</dd>\n",
       "\t<dt>7</dt>\n",
       "\t\t<dd>-0.126712472348195</dd>\n",
       "\t<dt>8</dt>\n",
       "\t\t<dd>0.173152662300218</dd>\n",
       "\t<dt>9</dt>\n",
       "\t\t<dd>-0.287787469023193</dd>\n",
       "\t<dt>10</dt>\n",
       "\t\t<dd>-0.0953681477529065</dd>\n",
       "\t<dt>11</dt>\n",
       "\t\t<dd>-0.119496322153693</dd>\n",
       "\t<dt>12</dt>\n",
       "\t\t<dd>-0.160040951279587</dd>\n",
       "\t<dt>13</dt>\n",
       "\t\t<dd>-0.14494090159849</dd>\n",
       "\t<dt>14</dt>\n",
       "\t\t<dd>-0.0448395750390896</dd>\n",
       "\t<dt>15</dt>\n",
       "\t\t<dd>0.446592525456857</dd>\n",
       "\t<dt>16</dt>\n",
       "\t\t<dd>0.57582031154822</dd>\n",
       "\t<dt>17</dt>\n",
       "\t\t<dd>0.0184859282100998</dd>\n",
       "</dl>\n"
      ],
      "text/latex": [
       "\\begin{description*}\n",
       "\\item[1] 0.289588786696145\n",
       "\\item[2] -0.25921977978975\n",
       "\\item[3] 0.0764650821935383\n",
       "\\item[4] -0.142488577469793\n",
       "\\item[5] -0.160235785880638\n",
       "\\item[6] -0.0389753140697427\n",
       "\\item[7] -0.126712472348195\n",
       "\\item[8] 0.173152662300218\n",
       "\\item[9] -0.287787469023193\n",
       "\\item[10] -0.0953681477529065\n",
       "\\item[11] -0.119496322153693\n",
       "\\item[12] -0.160040951279587\n",
       "\\item[13] -0.14494090159849\n",
       "\\item[14] -0.0448395750390896\n",
       "\\item[15] 0.446592525456857\n",
       "\\item[16] 0.57582031154822\n",
       "\\item[17] 0.0184859282100998\n",
       "\\end{description*}\n"
      ],
      "text/markdown": [
       "1\n",
       ":   0.2895887866961452\n",
       ":   -0.259219779789753\n",
       ":   0.07646508219353834\n",
       ":   -0.1424885774697935\n",
       ":   -0.1602357858806386\n",
       ":   -0.03897531406974277\n",
       ":   -0.1267124723481958\n",
       ":   0.1731526623002189\n",
       ":   -0.28778746902319310\n",
       ":   -0.095368147752906511\n",
       ":   -0.11949632215369312\n",
       ":   -0.16004095127958713\n",
       ":   -0.1449409015984914\n",
       ":   -0.044839575039089615\n",
       ":   0.44659252545685716\n",
       ":   0.5758203115482217\n",
       ":   0.0184859282100998\n",
       "\n"
      ],
      "text/plain": [
       "          1           2           3           4           5           6 \n",
       " 0.28958879 -0.25921978  0.07646508 -0.14248858 -0.16023579 -0.03897531 \n",
       "          7           8           9          10          11          12 \n",
       "-0.12671247  0.17315266 -0.28778747 -0.09536815 -0.11949632 -0.16004095 \n",
       "         13          14          15          16          17 \n",
       "-0.14494090 -0.04483958  0.44659253  0.57582031  0.01848593 "
      ]
     },
     "metadata": {},
     "output_type": "display_data"
    }
   ],
   "source": [
    "reg$residuals #Residuals"
   ]
  },
  {
   "cell_type": "code",
   "execution_count": 96,
   "id": "joined-phrase",
   "metadata": {},
   "outputs": [],
   "source": [
    "#reg$fitted.values #Yhat\n",
    "#reg$coefficients #coefficients\n",
    "#reg$df #Degrees of freedom"
   ]
  },
  {
   "cell_type": "markdown",
   "id": "reverse-interim",
   "metadata": {},
   "source": [
    "## 1.3 Plotting results"
   ]
  },
  {
   "cell_type": "markdown",
   "id": "wound-charles",
   "metadata": {},
   "source": [
    "### 1.3.1 Reg line with scatter"
   ]
  },
  {
   "cell_type": "code",
   "execution_count": 111,
   "id": "refined-edwards",
   "metadata": {},
   "outputs": [
    {
     "data": {
      "image/png": "[encoded data removed]",
      "text/plain": [
       "plot without title"
      ]
     },
     "metadata": {},
     "output_type": "display_data"
    }
   ],
   "source": [
    "plot(df_merge$GDP,df_merge$excess_death_pct)\n",
    "abline(lm(excess_death_pct ~ GDP , data= df_merge),col=\"blue\")"
   ]
  },
  {
   "cell_type": "markdown",
   "id": "particular-fields",
   "metadata": {},
   "source": [
    "### 1.3.2 Plotting residuals"
   ]
  },
  {
   "cell_type": "code",
   "execution_count": 97,
   "id": "brutal-elevation",
   "metadata": {},
   "outputs": [
    {
     "data": {
      "image/png": "[encoded data removed]",
      "text/plain": [
       "plot without title"
      ]
     },
     "metadata": {},
     "output_type": "display_data"
    }
   ],
   "source": [
    "plot(reg$residuals, df_merge$excess_death_pct)"
   ]
  },
  {
   "cell_type": "markdown",
   "id": "intermediate-clause",
   "metadata": {},
   "source": [
    "## 1.4 Multiple regression\n",
    "- Simply add column name with plus after first variable"
   ]
  },
  {
   "cell_type": "code",
   "execution_count": 117,
   "id": "critical-number",
   "metadata": {},
   "outputs": [
    {
     "data": {
      "text/plain": [
       "\n",
       "Call:\n",
       "lm(formula = excess_death_pct ~ GDP + Age_dep_ratio, data = df_merge)\n",
       "\n",
       "Residuals:\n",
       "     Min       1Q   Median       3Q      Max \n",
       "-0.43493 -0.13015 -0.02319  0.10548  0.46422 \n",
       "\n",
       "Coefficients:\n",
       "                Estimate Std. Error t value Pr(>|t|)  \n",
       "(Intercept)    1.547e+00  5.945e-01   2.602   0.0209 *\n",
       "GDP           -3.327e-06  2.614e-06  -1.273   0.2239  \n",
       "Age_dep_ratio -2.072e-02  1.078e-02  -1.922   0.0752 .\n",
       "---\n",
       "Signif. codes:  0 ‘***’ 0.001 ‘**’ 0.01 ‘*’ 0.05 ‘.’ 0.1 ‘ ’ 1\n",
       "\n",
       "Residual standard error: 0.2301 on 14 degrees of freedom\n",
       "Multiple R-squared:  0.3063,\tAdjusted R-squared:  0.2072 \n",
       "F-statistic: 3.091 on 2 and 14 DF,  p-value: 0.07732\n"
      ]
     },
     "metadata": {},
     "output_type": "display_data"
    }
   ],
   "source": [
    "reg = lm(excess_death_pct ~ GDP + Age_dep_ratio, data= df_merge)\n",
    "summary(reg)"
   ]
  },
  {
   "cell_type": "markdown",
   "id": "informational-branch",
   "metadata": {},
   "source": [
    "## 1.5 Robust S.E. Regression"
   ]
  },
  {
   "cell_type": "code",
   "execution_count": 141,
   "id": "intelligent-abuse",
   "metadata": {},
   "outputs": [],
   "source": [
    "install.packages('MASS')\n",
    "library(MASS)"
   ]
  },
  {
   "cell_type": "code",
   "execution_count": 142,
   "id": "distributed-semester",
   "metadata": {},
   "outputs": [
    {
     "data": {
      "text/plain": [
       "\n",
       "Call: rlm(formula = excess_death_pct ~ GDP + Age_dep_ratio, data = df_merge)\n",
       "Residuals:\n",
       "     Min       1Q   Median       3Q      Max \n",
       "-0.43975 -0.12007 -0.01145  0.11030  0.45895 \n",
       "\n",
       "Coefficients:\n",
       "              Value   Std. Error t value\n",
       "(Intercept)    1.5435  0.5342     2.8893\n",
       "GDP            0.0000  0.0000    -1.6686\n",
       "Age_dep_ratio -0.0204  0.0097    -2.1008\n",
       "\n",
       "Residual standard error: 0.178 on 14 degrees of freedom"
      ]
     },
     "metadata": {},
     "output_type": "display_data"
    }
   ],
   "source": [
    "reg = rlm(excess_death_pct ~ GDP + Age_dep_ratio, data= df_merge)\n",
    "summary(reg)"
   ]
  },
  {
   "cell_type": "markdown",
   "id": "assumed-reducing",
   "metadata": {},
   "source": [
    "# 2. Diagnostics"
   ]
  },
  {
   "cell_type": "markdown",
   "id": "bottom-civilization",
   "metadata": {},
   "source": [
    "## 2.A Regression"
   ]
  },
  {
   "cell_type": "code",
   "execution_count": 124,
   "id": "outstanding-leisure",
   "metadata": {},
   "outputs": [],
   "source": [
    "reg = lm(excess_death_pct ~ GDP, data= df_merge)"
   ]
  },
  {
   "cell_type": "markdown",
   "id": "polar-fisher",
   "metadata": {},
   "source": [
    "## 2.1 Breusch pagan: test for heteroskedasticity¶\n"
   ]
  },
  {
   "cell_type": "code",
   "execution_count": 125,
   "id": "amino-grammar",
   "metadata": {},
   "outputs": [],
   "source": [
    "#install.packages('lmtest')\n",
    "library(lmtest)"
   ]
  },
  {
   "cell_type": "code",
   "execution_count": 127,
   "id": "actual-teacher",
   "metadata": {},
   "outputs": [
    {
     "data": {
      "text/plain": [
       "\n",
       "\tstudentized Breusch-Pagan test\n",
       "\n",
       "data:  reg\n",
       "BP = 0.38122, df = 1, p-value = 0.537\n"
      ]
     },
     "metadata": {},
     "output_type": "display_data"
    }
   ],
   "source": [
    "bp = bptest(reg)\n",
    "bp"
   ]
  },
  {
   "cell_type": "markdown",
   "id": "identified-lounge",
   "metadata": {},
   "source": [
    "## 2.2 DW-test: Serial correlation\n",
    "\n",
    "Serial correlation occurs when:\n",
    "\n",
    "- Important variable is omitted\n",
    "- Functional misspecification\n",
    "- Measurement error in independent variable\n",
    "\n",
    "\n",
    "This statistic will always be between 0 and 4.\n",
    "\n",
    "- Inidication of no serial correlation: the test statistic equals 2.\n",
    "- The closer to 0 the statistic, the more evidence for positive serial correlation.\n",
    "- The closer to 4, the more evidence for negative serial correlation."
   ]
  },
  {
   "cell_type": "code",
   "execution_count": 138,
   "id": "advisory-attention",
   "metadata": {},
   "outputs": [
    {
     "data": {
      "text/plain": [
       "\n",
       "\tDurbin-Watson test\n",
       "\n",
       "data:  reg\n",
       "DW = 1.5003, p-value = 0.1574\n",
       "alternative hypothesis: true autocorrelation is greater than 0\n"
      ]
     },
     "metadata": {},
     "output_type": "display_data"
    }
   ],
   "source": [
    "dwtest(reg)"
   ]
  },
  {
   "cell_type": "markdown",
   "id": "informed-function",
   "metadata": {},
   "source": [
    "## 2.3 Functional misspecification"
   ]
  },
  {
   "cell_type": "code",
   "execution_count": 139,
   "id": "powerful-privacy",
   "metadata": {},
   "outputs": [
    {
     "data": {
      "text/plain": [
       "\n",
       "\tRESET test\n",
       "\n",
       "data:  reg\n",
       "RESET = 1.4778, df1 = 2, df2 = 13, p-value = 0.2641\n"
      ]
     },
     "metadata": {},
     "output_type": "display_data"
    }
   ],
   "source": [
    "resettest(reg)"
   ]
  }
 ],
 "metadata": {
  "kernelspec": {
   "display_name": "R [conda env:r_env]",
   "language": "R",
   "name": "conda-env-r_env-r"
  },
  "language_info": {
   "codemirror_mode": "r",
   "file_extension": ".r",
   "mimetype": "text/x-r-source",
   "name": "R",
   "pygments_lexer": "r",
   "version": "3.6.1"
  }
 },
 "nbformat": 4,
 "nbformat_minor": 5
}

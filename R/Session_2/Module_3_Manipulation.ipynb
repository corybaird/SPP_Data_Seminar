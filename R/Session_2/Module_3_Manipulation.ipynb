{
 "cells": [
  {
   "cell_type": "markdown",
   "metadata": {},
   "source": [
    "# Session 2-- Manipulating data and regression \n"
   ]
  },
  {
   "cell_type": "markdown",
   "metadata": {},
   "source": [
    "## Session 2 is composed of 3 parts¶\n",
    "\n",
    "1. Module 3: Manipulating data\n",
    "    - Notes (Current page)\n",
    "    - Video\n",
    "2. Module 4: Regression\n",
    "    - Notes\n",
    "    - Video\n",
    "\n",
    "3. Excercise to practice material covered in Modules 3 & 4\n",
    "    - Link\n"
   ]
  },
  {
   "cell_type": "markdown",
   "metadata": {},
   "source": [
    "# Module 3: Manipulating data"
   ]
  },
  {
   "cell_type": "markdown",
   "metadata": {},
   "source": [
    "## R.1 Dataframe basics"
   ]
  },
  {
   "cell_type": "markdown",
   "metadata": {},
   "source": [
    "### R.1.1 Read csv file: From github"
   ]
  },
  {
   "cell_type": "code",
   "execution_count": 1,
   "metadata": {},
   "outputs": [],
   "source": [
    "url = 'https://raw.githubusercontent.com/corybaird/PLCY_610_public/master/Discussion_sections/Disc1_Intro/vote.csv'\n",
    "df = read.csv(url)"
   ]
  },
  {
   "cell_type": "markdown",
   "metadata": {},
   "source": [
    "### R.1.2 Display: first lines of the dataframe\n",
    "\n",
    "`Function:` head(DF_NAME, # of lines you want to display)"
   ]
  },
  {
   "cell_type": "code",
   "execution_count": 12,
   "metadata": {},
   "outputs": [
    {
     "data": {
      "text/html": [
       "<table class=\"dataframe\">\n",
       "<caption>A data.frame: 3 × 6</caption>\n",
       "<thead>\n",
       "\t<tr><th></th><th scope=col>state</th><th scope=col>vote</th><th scope=col>income</th><th scope=col>education</th><th scope=col>age</th><th scope=col>sex</th></tr>\n",
       "\t<tr><th></th><th scope=col>&lt;chr&gt;</th><th scope=col>&lt;int&gt;</th><th scope=col>&lt;int&gt;</th><th scope=col>&lt;int&gt;</th><th scope=col>&lt;int&gt;</th><th scope=col>&lt;int&gt;</th></tr>\n",
       "</thead>\n",
       "<tbody>\n",
       "\t<tr><th scope=row>1</th><td>AR</td><td>1</td><td> 9</td><td>2</td><td>73</td><td>0</td></tr>\n",
       "\t<tr><th scope=row>2</th><td>AR</td><td>1</td><td>11</td><td>2</td><td>24</td><td>0</td></tr>\n",
       "\t<tr><th scope=row>3</th><td>AR</td><td>0</td><td>12</td><td>2</td><td>24</td><td>1</td></tr>\n",
       "</tbody>\n",
       "</table>\n"
      ],
      "text/latex": [
       "A data.frame: 3 × 6\n",
       "\\begin{tabular}{r|llllll}\n",
       "  & state & vote & income & education & age & sex\\\\\n",
       "  & <chr> & <int> & <int> & <int> & <int> & <int>\\\\\n",
       "\\hline\n",
       "\t1 & AR & 1 &  9 & 2 & 73 & 0\\\\\n",
       "\t2 & AR & 1 & 11 & 2 & 24 & 0\\\\\n",
       "\t3 & AR & 0 & 12 & 2 & 24 & 1\\\\\n",
       "\\end{tabular}\n"
      ],
      "text/markdown": [
       "\n",
       "A data.frame: 3 × 6\n",
       "\n",
       "| <!--/--> | state &lt;chr&gt; | vote &lt;int&gt; | income &lt;int&gt; | education &lt;int&gt; | age &lt;int&gt; | sex &lt;int&gt; |\n",
       "|---|---|---|---|---|---|---|\n",
       "| 1 | AR | 1 |  9 | 2 | 73 | 0 |\n",
       "| 2 | AR | 1 | 11 | 2 | 24 | 0 |\n",
       "| 3 | AR | 0 | 12 | 2 | 24 | 1 |\n",
       "\n"
      ],
      "text/plain": [
       "  state vote income education age sex\n",
       "1 AR    1     9     2         73  0  \n",
       "2 AR    1    11     2         24  0  \n",
       "3 AR    0    12     2         24  1  "
      ]
     },
     "metadata": {},
     "output_type": "display_data"
    }
   ],
   "source": [
    "# Shows the first 3 lines\n",
    "head(df, 3)"
   ]
  },
  {
   "cell_type": "markdown",
   "metadata": {},
   "source": [
    "### R.1.3 Display: column names\n",
    "\n",
    "`Function:` names(DF_NAME)"
   ]
  },
  {
   "cell_type": "code",
   "execution_count": 13,
   "metadata": {},
   "outputs": [
    {
     "data": {
      "text/html": [
       "<style>\n",
       ".list-inline {list-style: none; margin:0; padding: 0}\n",
       ".list-inline>li {display: inline-block}\n",
       ".list-inline>li:not(:last-child)::after {content: \"\\00b7\"; padding: 0 .5ex}\n",
       "</style>\n",
       "<ol class=list-inline><li>'state'</li><li>'vote'</li><li>'income'</li><li>'education'</li><li>'age'</li><li>'sex'</li></ol>\n"
      ],
      "text/latex": [
       "\\begin{enumerate*}\n",
       "\\item 'state'\n",
       "\\item 'vote'\n",
       "\\item 'income'\n",
       "\\item 'education'\n",
       "\\item 'age'\n",
       "\\item 'sex'\n",
       "\\end{enumerate*}\n"
      ],
      "text/markdown": [
       "1. 'state'\n",
       "2. 'vote'\n",
       "3. 'income'\n",
       "4. 'education'\n",
       "5. 'age'\n",
       "6. 'sex'\n",
       "\n",
       "\n"
      ],
      "text/plain": [
       "[1] \"state\"     \"vote\"      \"income\"    \"education\" \"age\"       \"sex\"      "
      ]
     },
     "metadata": {},
     "output_type": "display_data"
    }
   ],
   "source": [
    "names(df)"
   ]
  },
  {
   "cell_type": "markdown",
   "metadata": {},
   "source": [
    "### R.1.4 Display: summary stats\n",
    "`Function:` summary(DF_NAME)"
   ]
  },
  {
   "cell_type": "code",
   "execution_count": 14,
   "metadata": {},
   "outputs": [
    {
     "data": {
      "text/plain": [
       "    state                vote            income        education   \n",
       " Length:1502        Min.   :0.0000   Min.   : 4.00   Min.   :1.00  \n",
       " Class :character   1st Qu.:1.0000   1st Qu.: 9.00   1st Qu.:2.00  \n",
       " Mode  :character   Median :1.0000   Median :13.00   Median :3.00  \n",
       "                    Mean   :0.8555   Mean   :12.06   Mean   :2.65  \n",
       "                    3rd Qu.:1.0000   3rd Qu.:16.00   3rd Qu.:4.00  \n",
       "                    Max.   :1.0000   Max.   :17.00   Max.   :4.00  \n",
       "      age              sex        \n",
       " Min.   :  5.00   Min.   :0.0000  \n",
       " 1st Qu.: 36.00   1st Qu.:0.0000  \n",
       " Median : 49.00   Median :1.0000  \n",
       " Mean   : 49.28   Mean   :0.5593  \n",
       " 3rd Qu.: 62.00   3rd Qu.:1.0000  \n",
       " Max.   :120.00   Max.   :1.0000  "
      ]
     },
     "metadata": {},
     "output_type": "display_data"
    }
   ],
   "source": [
    "summary(df)"
   ]
  },
  {
   "cell_type": "markdown",
   "metadata": {},
   "source": [
    "### R.1.5 Selecting a column\n",
    "- Select the dataframe column with a '$\\mathit{\\$}$'\n",
    "    - DATEFRAME$\\mathit{\\$}$COLUMNNAME\n",
    "    \n",
    "- Use the mean function to find average age\n",
    "\n",
    "`Function:` mean(DF_NAME$\\mathit{\\$}$Col_Name)\n",
    "\n",
    "`Function:` sd(DF_NAME$\\mathit{\\$}$Col_name)"
   ]
  },
  {
   "cell_type": "code",
   "execution_count": 15,
   "metadata": {},
   "outputs": [
    {
     "data": {
      "text/html": [
       "49.2789613848202"
      ],
      "text/latex": [
       "49.2789613848202"
      ],
      "text/markdown": [
       "49.2789613848202"
      ],
      "text/plain": [
       "[1] 49.27896"
      ]
     },
     "metadata": {},
     "output_type": "display_data"
    }
   ],
   "source": [
    "#Shows mean of age column\n",
    "mean(df$age)"
   ]
  },
  {
   "cell_type": "code",
   "execution_count": 16,
   "metadata": {},
   "outputs": [
    {
     "data": {
      "text/html": [
       "17.5918284581461"
      ],
      "text/latex": [
       "17.5918284581461"
      ],
      "text/markdown": [
       "17.5918284581461"
      ],
      "text/plain": [
       "[1] 17.59183"
      ]
     },
     "metadata": {},
     "output_type": "display_data"
    }
   ],
   "source": [
    "#Shows standard deviation of age column\n",
    "sd(df$age)"
   ]
  },
  {
   "cell_type": "markdown",
   "metadata": {},
   "source": [
    "# 1. DPLYR\n",
    "- I want to introduce you to the idea of libraries!\n",
    "    - Libraries simply allow you to use more functions!\n",
    "- If you want to know more about DPLYR please visit this [tutorial](https://github.com/corybaird/Development_economics/blob/master/TA_Sessions/R/W1_DPLYR/W1_DPLYR_code.ipynb) I made for a development economics course "
   ]
  },
  {
   "cell_type": "markdown",
   "metadata": {},
   "source": [
    "## 1.A Install library\n",
    "# Common mistake to avoid!--Confirm you have installed libraries\n",
    "## Step 1:\n",
    "install.packages('NAME_OF_PACKAGE')\n",
    "\n",
    "## Step 2:\n",
    "library(NAME_OF_PACKAGE)"
   ]
  },
  {
   "cell_type": "code",
   "execution_count": 17,
   "metadata": {},
   "outputs": [],
   "source": [
    "#Step 1\n",
    "#install.packages('dplyr')"
   ]
  },
  {
   "cell_type": "code",
   "execution_count": 19,
   "metadata": {},
   "outputs": [],
   "source": [
    "#Step 2\n",
    "library(dplyr)"
   ]
  },
  {
   "cell_type": "markdown",
   "metadata": {},
   "source": [
    "## 1.B Pipe operator: %>%\n",
    "\n",
    "### Shortcut on mac: <kbd>Cmd</kbd>+<kbd>Shift</kbd>+ <kbd>m</kbd>\n",
    "\n",
    "### Shortcut on pc: <kbd>Ctrl</kbd>+<kbd>Shift</kbd>+ <kbd>m</kbd>\n"
   ]
  },
  {
   "cell_type": "code",
   "execution_count": 20,
   "metadata": {},
   "outputs": [
    {
     "data": {
      "text/html": [
       "<table class=\"dataframe\">\n",
       "<caption>A data.frame: 2 × 6</caption>\n",
       "<thead>\n",
       "\t<tr><th></th><th scope=col>state</th><th scope=col>vote</th><th scope=col>income</th><th scope=col>education</th><th scope=col>age</th><th scope=col>sex</th></tr>\n",
       "\t<tr><th></th><th scope=col>&lt;chr&gt;</th><th scope=col>&lt;int&gt;</th><th scope=col>&lt;int&gt;</th><th scope=col>&lt;int&gt;</th><th scope=col>&lt;int&gt;</th><th scope=col>&lt;int&gt;</th></tr>\n",
       "</thead>\n",
       "<tbody>\n",
       "\t<tr><th scope=row>1</th><td>AR</td><td>1</td><td> 9</td><td>2</td><td>73</td><td>0</td></tr>\n",
       "\t<tr><th scope=row>2</th><td>AR</td><td>1</td><td>11</td><td>2</td><td>24</td><td>0</td></tr>\n",
       "</tbody>\n",
       "</table>\n"
      ],
      "text/latex": [
       "A data.frame: 2 × 6\n",
       "\\begin{tabular}{r|llllll}\n",
       "  & state & vote & income & education & age & sex\\\\\n",
       "  & <chr> & <int> & <int> & <int> & <int> & <int>\\\\\n",
       "\\hline\n",
       "\t1 & AR & 1 &  9 & 2 & 73 & 0\\\\\n",
       "\t2 & AR & 1 & 11 & 2 & 24 & 0\\\\\n",
       "\\end{tabular}\n"
      ],
      "text/markdown": [
       "\n",
       "A data.frame: 2 × 6\n",
       "\n",
       "| <!--/--> | state &lt;chr&gt; | vote &lt;int&gt; | income &lt;int&gt; | education &lt;int&gt; | age &lt;int&gt; | sex &lt;int&gt; |\n",
       "|---|---|---|---|---|---|---|\n",
       "| 1 | AR | 1 |  9 | 2 | 73 | 0 |\n",
       "| 2 | AR | 1 | 11 | 2 | 24 | 0 |\n",
       "\n"
      ],
      "text/plain": [
       "  state vote income education age sex\n",
       "1 AR    1     9     2         73  0  \n",
       "2 AR    1    11     2         24  0  "
      ]
     },
     "metadata": {},
     "output_type": "display_data"
    }
   ],
   "source": [
    "df %>% head(2)"
   ]
  },
  {
   "cell_type": "markdown",
   "metadata": {},
   "source": [
    "# 1. Select: Column select"
   ]
  },
  {
   "cell_type": "markdown",
   "metadata": {},
   "source": [
    "## 1.1 Select multiple columns\n",
    "- Just type the name of the column in the select() function"
   ]
  },
  {
   "cell_type": "code",
   "execution_count": 21,
   "metadata": {},
   "outputs": [
    {
     "data": {
      "text/html": [
       "<table class=\"dataframe\">\n",
       "<caption>A data.frame: 3 × 2</caption>\n",
       "<thead>\n",
       "\t<tr><th></th><th scope=col>vote</th><th scope=col>income</th></tr>\n",
       "\t<tr><th></th><th scope=col>&lt;int&gt;</th><th scope=col>&lt;int&gt;</th></tr>\n",
       "</thead>\n",
       "<tbody>\n",
       "\t<tr><th scope=row>1</th><td>1</td><td> 9</td></tr>\n",
       "\t<tr><th scope=row>2</th><td>1</td><td>11</td></tr>\n",
       "\t<tr><th scope=row>3</th><td>0</td><td>12</td></tr>\n",
       "</tbody>\n",
       "</table>\n"
      ],
      "text/latex": [
       "A data.frame: 3 × 2\n",
       "\\begin{tabular}{r|ll}\n",
       "  & vote & income\\\\\n",
       "  & <int> & <int>\\\\\n",
       "\\hline\n",
       "\t1 & 1 &  9\\\\\n",
       "\t2 & 1 & 11\\\\\n",
       "\t3 & 0 & 12\\\\\n",
       "\\end{tabular}\n"
      ],
      "text/markdown": [
       "\n",
       "A data.frame: 3 × 2\n",
       "\n",
       "| <!--/--> | vote &lt;int&gt; | income &lt;int&gt; |\n",
       "|---|---|---|\n",
       "| 1 | 1 |  9 |\n",
       "| 2 | 1 | 11 |\n",
       "| 3 | 0 | 12 |\n",
       "\n"
      ],
      "text/plain": [
       "  vote income\n",
       "1 1     9    \n",
       "2 1    11    \n",
       "3 0    12    "
      ]
     },
     "metadata": {},
     "output_type": "display_data"
    }
   ],
   "source": [
    "df  %>% \n",
    "select(vote, income) %>% \n",
    "head(3)"
   ]
  },
  {
   "cell_type": "markdown",
   "metadata": {},
   "source": [
    "## 1.2 Select: advanced conditions"
   ]
  },
  {
   "cell_type": "markdown",
   "metadata": {},
   "source": [
    "### 1.2.1 Select by column name that STARTS with letter or string"
   ]
  },
  {
   "cell_type": "code",
   "execution_count": 22,
   "metadata": {},
   "outputs": [
    {
     "data": {
      "text/html": [
       "<table class=\"dataframe\">\n",
       "<caption>A data.frame: 2 × 1</caption>\n",
       "<thead>\n",
       "\t<tr><th></th><th scope=col>vote</th></tr>\n",
       "\t<tr><th></th><th scope=col>&lt;int&gt;</th></tr>\n",
       "</thead>\n",
       "<tbody>\n",
       "\t<tr><th scope=row>1</th><td>1</td></tr>\n",
       "\t<tr><th scope=row>2</th><td>1</td></tr>\n",
       "</tbody>\n",
       "</table>\n"
      ],
      "text/latex": [
       "A data.frame: 2 × 1\n",
       "\\begin{tabular}{r|l}\n",
       "  & vote\\\\\n",
       "  & <int>\\\\\n",
       "\\hline\n",
       "\t1 & 1\\\\\n",
       "\t2 & 1\\\\\n",
       "\\end{tabular}\n"
      ],
      "text/markdown": [
       "\n",
       "A data.frame: 2 × 1\n",
       "\n",
       "| <!--/--> | vote &lt;int&gt; |\n",
       "|---|---|\n",
       "| 1 | 1 |\n",
       "| 2 | 1 |\n",
       "\n"
      ],
      "text/plain": [
       "  vote\n",
       "1 1   \n",
       "2 1   "
      ]
     },
     "metadata": {},
     "output_type": "display_data"
    }
   ],
   "source": [
    "df %>% #Dataframe\n",
    "select(starts_with('v'))%>% #Select column named X\n",
    "head(2) #Shows only first 2 obs"
   ]
  },
  {
   "cell_type": "markdown",
   "metadata": {},
   "source": [
    "### 1.2.2 Select by column name that ENDS with letter or string"
   ]
  },
  {
   "cell_type": "code",
   "execution_count": 23,
   "metadata": {},
   "outputs": [
    {
     "data": {
      "text/html": [
       "<table class=\"dataframe\">\n",
       "<caption>A data.frame: 2 × 1</caption>\n",
       "<thead>\n",
       "\t<tr><th></th><th scope=col>education</th></tr>\n",
       "\t<tr><th></th><th scope=col>&lt;int&gt;</th></tr>\n",
       "</thead>\n",
       "<tbody>\n",
       "\t<tr><th scope=row>1</th><td>2</td></tr>\n",
       "\t<tr><th scope=row>2</th><td>2</td></tr>\n",
       "</tbody>\n",
       "</table>\n"
      ],
      "text/latex": [
       "A data.frame: 2 × 1\n",
       "\\begin{tabular}{r|l}\n",
       "  & education\\\\\n",
       "  & <int>\\\\\n",
       "\\hline\n",
       "\t1 & 2\\\\\n",
       "\t2 & 2\\\\\n",
       "\\end{tabular}\n"
      ],
      "text/markdown": [
       "\n",
       "A data.frame: 2 × 1\n",
       "\n",
       "| <!--/--> | education &lt;int&gt; |\n",
       "|---|---|\n",
       "| 1 | 2 |\n",
       "| 2 | 2 |\n",
       "\n"
      ],
      "text/plain": [
       "  education\n",
       "1 2        \n",
       "2 2        "
      ]
     },
     "metadata": {},
     "output_type": "display_data"
    }
   ],
   "source": [
    "df %>% #Dataframe\n",
    "select(ends_with('ion'))%>% #Select column named X\n",
    "head(2) #Shows only first 2 obs"
   ]
  },
  {
   "cell_type": "markdown",
   "metadata": {},
   "source": [
    "### 1.2.3 Select by column name that CONTAINS with letter or string"
   ]
  },
  {
   "cell_type": "code",
   "execution_count": 24,
   "metadata": {},
   "outputs": [
    {
     "data": {
      "text/html": [
       "<table class=\"dataframe\">\n",
       "<caption>A data.frame: 2 × 2</caption>\n",
       "<thead>\n",
       "\t<tr><th></th><th scope=col>income</th><th scope=col>education</th></tr>\n",
       "\t<tr><th></th><th scope=col>&lt;int&gt;</th><th scope=col>&lt;int&gt;</th></tr>\n",
       "</thead>\n",
       "<tbody>\n",
       "\t<tr><th scope=row>1</th><td> 9</td><td>2</td></tr>\n",
       "\t<tr><th scope=row>2</th><td>11</td><td>2</td></tr>\n",
       "</tbody>\n",
       "</table>\n"
      ],
      "text/latex": [
       "A data.frame: 2 × 2\n",
       "\\begin{tabular}{r|ll}\n",
       "  & income & education\\\\\n",
       "  & <int> & <int>\\\\\n",
       "\\hline\n",
       "\t1 &  9 & 2\\\\\n",
       "\t2 & 11 & 2\\\\\n",
       "\\end{tabular}\n"
      ],
      "text/markdown": [
       "\n",
       "A data.frame: 2 × 2\n",
       "\n",
       "| <!--/--> | income &lt;int&gt; | education &lt;int&gt; |\n",
       "|---|---|---|\n",
       "| 1 |  9 | 2 |\n",
       "| 2 | 11 | 2 |\n",
       "\n"
      ],
      "text/plain": [
       "  income education\n",
       "1  9     2        \n",
       "2 11     2        "
      ]
     },
     "metadata": {},
     "output_type": "display_data"
    }
   ],
   "source": [
    "df %>% #Dataframe\n",
    "select(contains('c'))%>% #Select column named X\n",
    "head(2) #Shows only first 2 obs"
   ]
  },
  {
   "cell_type": "markdown",
   "metadata": {},
   "source": [
    "# 2. Filter: Row select"
   ]
  },
  {
   "cell_type": "markdown",
   "metadata": {},
   "source": [
    "## 2.1 Filter by 1 condition"
   ]
  },
  {
   "cell_type": "code",
   "execution_count": 25,
   "metadata": {},
   "outputs": [
    {
     "data": {
      "text/html": [
       "<table class=\"dataframe\">\n",
       "<caption>A data.frame: 3 × 6</caption>\n",
       "<thead>\n",
       "\t<tr><th></th><th scope=col>state</th><th scope=col>vote</th><th scope=col>income</th><th scope=col>education</th><th scope=col>age</th><th scope=col>sex</th></tr>\n",
       "\t<tr><th></th><th scope=col>&lt;chr&gt;</th><th scope=col>&lt;int&gt;</th><th scope=col>&lt;int&gt;</th><th scope=col>&lt;int&gt;</th><th scope=col>&lt;int&gt;</th><th scope=col>&lt;int&gt;</th></tr>\n",
       "</thead>\n",
       "<tbody>\n",
       "\t<tr><th scope=row>1</th><td>AR</td><td>1</td><td> 9</td><td>2</td><td>73</td><td>0</td></tr>\n",
       "\t<tr><th scope=row>2</th><td>AR</td><td>1</td><td>11</td><td>2</td><td>24</td><td>0</td></tr>\n",
       "\t<tr><th scope=row>3</th><td>AR</td><td>0</td><td>12</td><td>2</td><td>24</td><td>1</td></tr>\n",
       "</tbody>\n",
       "</table>\n"
      ],
      "text/latex": [
       "A data.frame: 3 × 6\n",
       "\\begin{tabular}{r|llllll}\n",
       "  & state & vote & income & education & age & sex\\\\\n",
       "  & <chr> & <int> & <int> & <int> & <int> & <int>\\\\\n",
       "\\hline\n",
       "\t1 & AR & 1 &  9 & 2 & 73 & 0\\\\\n",
       "\t2 & AR & 1 & 11 & 2 & 24 & 0\\\\\n",
       "\t3 & AR & 0 & 12 & 2 & 24 & 1\\\\\n",
       "\\end{tabular}\n"
      ],
      "text/markdown": [
       "\n",
       "A data.frame: 3 × 6\n",
       "\n",
       "| <!--/--> | state &lt;chr&gt; | vote &lt;int&gt; | income &lt;int&gt; | education &lt;int&gt; | age &lt;int&gt; | sex &lt;int&gt; |\n",
       "|---|---|---|---|---|---|---|\n",
       "| 1 | AR | 1 |  9 | 2 | 73 | 0 |\n",
       "| 2 | AR | 1 | 11 | 2 | 24 | 0 |\n",
       "| 3 | AR | 0 | 12 | 2 | 24 | 1 |\n",
       "\n"
      ],
      "text/plain": [
       "  state vote income education age sex\n",
       "1 AR    1     9     2         73  0  \n",
       "2 AR    1    11     2         24  0  \n",
       "3 AR    0    12     2         24  1  "
      ]
     },
     "metadata": {},
     "output_type": "display_data"
    }
   ],
   "source": [
    "df %>% \n",
    "filter(income>6) %>% \n",
    "head(3)"
   ]
  },
  {
   "cell_type": "markdown",
   "metadata": {},
   "source": [
    "## 2.2 Filter by 2 conditions"
   ]
  },
  {
   "cell_type": "code",
   "execution_count": 26,
   "metadata": {},
   "outputs": [
    {
     "data": {
      "text/html": [
       "<table class=\"dataframe\">\n",
       "<caption>A data.frame: 3 × 6</caption>\n",
       "<thead>\n",
       "\t<tr><th></th><th scope=col>state</th><th scope=col>vote</th><th scope=col>income</th><th scope=col>education</th><th scope=col>age</th><th scope=col>sex</th></tr>\n",
       "\t<tr><th></th><th scope=col>&lt;chr&gt;</th><th scope=col>&lt;int&gt;</th><th scope=col>&lt;int&gt;</th><th scope=col>&lt;int&gt;</th><th scope=col>&lt;int&gt;</th><th scope=col>&lt;int&gt;</th></tr>\n",
       "</thead>\n",
       "<tbody>\n",
       "\t<tr><th scope=row>1</th><td>AR</td><td>1</td><td>8</td><td>1</td><td>78</td><td>0</td></tr>\n",
       "\t<tr><th scope=row>2</th><td>AR</td><td>1</td><td>8</td><td>2</td><td>45</td><td>0</td></tr>\n",
       "\t<tr><th scope=row>3</th><td>AR</td><td>1</td><td>7</td><td>1</td><td>56</td><td>0</td></tr>\n",
       "</tbody>\n",
       "</table>\n"
      ],
      "text/latex": [
       "A data.frame: 3 × 6\n",
       "\\begin{tabular}{r|llllll}\n",
       "  & state & vote & income & education & age & sex\\\\\n",
       "  & <chr> & <int> & <int> & <int> & <int> & <int>\\\\\n",
       "\\hline\n",
       "\t1 & AR & 1 & 8 & 1 & 78 & 0\\\\\n",
       "\t2 & AR & 1 & 8 & 2 & 45 & 0\\\\\n",
       "\t3 & AR & 1 & 7 & 1 & 56 & 0\\\\\n",
       "\\end{tabular}\n"
      ],
      "text/markdown": [
       "\n",
       "A data.frame: 3 × 6\n",
       "\n",
       "| <!--/--> | state &lt;chr&gt; | vote &lt;int&gt; | income &lt;int&gt; | education &lt;int&gt; | age &lt;int&gt; | sex &lt;int&gt; |\n",
       "|---|---|---|---|---|---|---|\n",
       "| 1 | AR | 1 | 8 | 1 | 78 | 0 |\n",
       "| 2 | AR | 1 | 8 | 2 | 45 | 0 |\n",
       "| 3 | AR | 1 | 7 | 1 | 56 | 0 |\n",
       "\n"
      ],
      "text/plain": [
       "  state vote income education age sex\n",
       "1 AR    1    8      1         78  0  \n",
       "2 AR    1    8      2         45  0  \n",
       "3 AR    1    7      1         56  0  "
      ]
     },
     "metadata": {},
     "output_type": "display_data"
    }
   ],
   "source": [
    "df %>% \n",
    "filter(income>6 & income<9) %>% \n",
    "head(3)"
   ]
  },
  {
   "cell_type": "markdown",
   "metadata": {},
   "source": [
    "## 2.3 Filter by not equal to condition"
   ]
  },
  {
   "cell_type": "code",
   "execution_count": 27,
   "metadata": {},
   "outputs": [
    {
     "data": {
      "text/html": [
       "<table class=\"dataframe\">\n",
       "<caption>A data.frame: 3 × 6</caption>\n",
       "<thead>\n",
       "\t<tr><th></th><th scope=col>state</th><th scope=col>vote</th><th scope=col>income</th><th scope=col>education</th><th scope=col>age</th><th scope=col>sex</th></tr>\n",
       "\t<tr><th></th><th scope=col>&lt;chr&gt;</th><th scope=col>&lt;int&gt;</th><th scope=col>&lt;int&gt;</th><th scope=col>&lt;int&gt;</th><th scope=col>&lt;int&gt;</th><th scope=col>&lt;int&gt;</th></tr>\n",
       "</thead>\n",
       "<tbody>\n",
       "\t<tr><th scope=row>1</th><td>AR</td><td>0</td><td>12</td><td>2</td><td>24</td><td>1</td></tr>\n",
       "\t<tr><th scope=row>2</th><td>AR</td><td>0</td><td>14</td><td>4</td><td>31</td><td>0</td></tr>\n",
       "\t<tr><th scope=row>3</th><td>AR</td><td>0</td><td>17</td><td>2</td><td>50</td><td>1</td></tr>\n",
       "</tbody>\n",
       "</table>\n"
      ],
      "text/latex": [
       "A data.frame: 3 × 6\n",
       "\\begin{tabular}{r|llllll}\n",
       "  & state & vote & income & education & age & sex\\\\\n",
       "  & <chr> & <int> & <int> & <int> & <int> & <int>\\\\\n",
       "\\hline\n",
       "\t1 & AR & 0 & 12 & 2 & 24 & 1\\\\\n",
       "\t2 & AR & 0 & 14 & 4 & 31 & 0\\\\\n",
       "\t3 & AR & 0 & 17 & 2 & 50 & 1\\\\\n",
       "\\end{tabular}\n"
      ],
      "text/markdown": [
       "\n",
       "A data.frame: 3 × 6\n",
       "\n",
       "| <!--/--> | state &lt;chr&gt; | vote &lt;int&gt; | income &lt;int&gt; | education &lt;int&gt; | age &lt;int&gt; | sex &lt;int&gt; |\n",
       "|---|---|---|---|---|---|---|\n",
       "| 1 | AR | 0 | 12 | 2 | 24 | 1 |\n",
       "| 2 | AR | 0 | 14 | 4 | 31 | 0 |\n",
       "| 3 | AR | 0 | 17 | 2 | 50 | 1 |\n",
       "\n"
      ],
      "text/plain": [
       "  state vote income education age sex\n",
       "1 AR    0    12     2         24  1  \n",
       "2 AR    0    14     4         31  0  \n",
       "3 AR    0    17     2         50  1  "
      ]
     },
     "metadata": {},
     "output_type": "display_data"
    }
   ],
   "source": [
    "df %>% \n",
    "filter(vote!=1) %>% \n",
    "head(3)"
   ]
  },
  {
   "cell_type": "markdown",
   "metadata": {},
   "source": [
    "# 3. Arrange: Rearrange rows by condition"
   ]
  },
  {
   "cell_type": "code",
   "execution_count": 28,
   "metadata": {},
   "outputs": [
    {
     "data": {
      "text/html": [
       "<table class=\"dataframe\">\n",
       "<caption>A data.frame: 5 × 6</caption>\n",
       "<thead>\n",
       "\t<tr><th></th><th scope=col>state</th><th scope=col>vote</th><th scope=col>income</th><th scope=col>education</th><th scope=col>age</th><th scope=col>sex</th></tr>\n",
       "\t<tr><th></th><th scope=col>&lt;chr&gt;</th><th scope=col>&lt;int&gt;</th><th scope=col>&lt;int&gt;</th><th scope=col>&lt;int&gt;</th><th scope=col>&lt;int&gt;</th><th scope=col>&lt;int&gt;</th></tr>\n",
       "</thead>\n",
       "<tbody>\n",
       "\t<tr><th scope=row>1</th><td>AR</td><td>1</td><td>15</td><td>2</td><td> 5</td><td>0</td></tr>\n",
       "\t<tr><th scope=row>2</th><td>AR</td><td>1</td><td>16</td><td>2</td><td>18</td><td>1</td></tr>\n",
       "\t<tr><th scope=row>3</th><td>AR</td><td>1</td><td> 8</td><td>1</td><td>18</td><td>1</td></tr>\n",
       "\t<tr><th scope=row>4</th><td>AR</td><td>1</td><td>13</td><td>2</td><td>18</td><td>0</td></tr>\n",
       "\t<tr><th scope=row>5</th><td>AR</td><td>1</td><td> 4</td><td>3</td><td>18</td><td>0</td></tr>\n",
       "</tbody>\n",
       "</table>\n"
      ],
      "text/latex": [
       "A data.frame: 5 × 6\n",
       "\\begin{tabular}{r|llllll}\n",
       "  & state & vote & income & education & age & sex\\\\\n",
       "  & <chr> & <int> & <int> & <int> & <int> & <int>\\\\\n",
       "\\hline\n",
       "\t1 & AR & 1 & 15 & 2 &  5 & 0\\\\\n",
       "\t2 & AR & 1 & 16 & 2 & 18 & 1\\\\\n",
       "\t3 & AR & 1 &  8 & 1 & 18 & 1\\\\\n",
       "\t4 & AR & 1 & 13 & 2 & 18 & 0\\\\\n",
       "\t5 & AR & 1 &  4 & 3 & 18 & 0\\\\\n",
       "\\end{tabular}\n"
      ],
      "text/markdown": [
       "\n",
       "A data.frame: 5 × 6\n",
       "\n",
       "| <!--/--> | state &lt;chr&gt; | vote &lt;int&gt; | income &lt;int&gt; | education &lt;int&gt; | age &lt;int&gt; | sex &lt;int&gt; |\n",
       "|---|---|---|---|---|---|---|\n",
       "| 1 | AR | 1 | 15 | 2 |  5 | 0 |\n",
       "| 2 | AR | 1 | 16 | 2 | 18 | 1 |\n",
       "| 3 | AR | 1 |  8 | 1 | 18 | 1 |\n",
       "| 4 | AR | 1 | 13 | 2 | 18 | 0 |\n",
       "| 5 | AR | 1 |  4 | 3 | 18 | 0 |\n",
       "\n"
      ],
      "text/plain": [
       "  state vote income education age sex\n",
       "1 AR    1    15     2          5  0  \n",
       "2 AR    1    16     2         18  1  \n",
       "3 AR    1     8     1         18  1  \n",
       "4 AR    1    13     2         18  0  \n",
       "5 AR    1     4     3         18  0  "
      ]
     },
     "metadata": {},
     "output_type": "display_data"
    }
   ],
   "source": [
    "df %>% \n",
    "arrange(age)%>% #Add desc(age) to show descending order\n",
    "head(5)"
   ]
  },
  {
   "cell_type": "markdown",
   "metadata": {},
   "source": [
    "# 4 Mutate: Create new column"
   ]
  },
  {
   "cell_type": "markdown",
   "metadata": {},
   "source": [
    "## 4.1 Create one column"
   ]
  },
  {
   "cell_type": "code",
   "execution_count": 29,
   "metadata": {},
   "outputs": [
    {
     "data": {
      "text/html": [
       "<table class=\"dataframe\">\n",
       "<caption>A data.frame: 3 × 7</caption>\n",
       "<thead>\n",
       "\t<tr><th></th><th scope=col>state</th><th scope=col>vote</th><th scope=col>income</th><th scope=col>education</th><th scope=col>age</th><th scope=col>sex</th><th scope=col>income_log</th></tr>\n",
       "\t<tr><th></th><th scope=col>&lt;chr&gt;</th><th scope=col>&lt;int&gt;</th><th scope=col>&lt;int&gt;</th><th scope=col>&lt;int&gt;</th><th scope=col>&lt;int&gt;</th><th scope=col>&lt;int&gt;</th><th scope=col>&lt;dbl&gt;</th></tr>\n",
       "</thead>\n",
       "<tbody>\n",
       "\t<tr><th scope=row>1</th><td>AR</td><td>1</td><td> 9</td><td>2</td><td>73</td><td>0</td><td>2.197225</td></tr>\n",
       "\t<tr><th scope=row>2</th><td>AR</td><td>1</td><td>11</td><td>2</td><td>24</td><td>0</td><td>2.397895</td></tr>\n",
       "\t<tr><th scope=row>3</th><td>AR</td><td>0</td><td>12</td><td>2</td><td>24</td><td>1</td><td>2.484907</td></tr>\n",
       "</tbody>\n",
       "</table>\n"
      ],
      "text/latex": [
       "A data.frame: 3 × 7\n",
       "\\begin{tabular}{r|lllllll}\n",
       "  & state & vote & income & education & age & sex & income\\_log\\\\\n",
       "  & <chr> & <int> & <int> & <int> & <int> & <int> & <dbl>\\\\\n",
       "\\hline\n",
       "\t1 & AR & 1 &  9 & 2 & 73 & 0 & 2.197225\\\\\n",
       "\t2 & AR & 1 & 11 & 2 & 24 & 0 & 2.397895\\\\\n",
       "\t3 & AR & 0 & 12 & 2 & 24 & 1 & 2.484907\\\\\n",
       "\\end{tabular}\n"
      ],
      "text/markdown": [
       "\n",
       "A data.frame: 3 × 7\n",
       "\n",
       "| <!--/--> | state &lt;chr&gt; | vote &lt;int&gt; | income &lt;int&gt; | education &lt;int&gt; | age &lt;int&gt; | sex &lt;int&gt; | income_log &lt;dbl&gt; |\n",
       "|---|---|---|---|---|---|---|---|\n",
       "| 1 | AR | 1 |  9 | 2 | 73 | 0 | 2.197225 |\n",
       "| 2 | AR | 1 | 11 | 2 | 24 | 0 | 2.397895 |\n",
       "| 3 | AR | 0 | 12 | 2 | 24 | 1 | 2.484907 |\n",
       "\n"
      ],
      "text/plain": [
       "  state vote income education age sex income_log\n",
       "1 AR    1     9     2         73  0   2.197225  \n",
       "2 AR    1    11     2         24  0   2.397895  \n",
       "3 AR    0    12     2         24  1   2.484907  "
      ]
     },
     "metadata": {},
     "output_type": "display_data"
    }
   ],
   "source": [
    "df  %>% \n",
    "mutate(income_log = log(income)) %>% \n",
    "head(3)"
   ]
  },
  {
   "cell_type": "markdown",
   "metadata": {},
   "source": [
    "## 4.2 Create multiple columns"
   ]
  },
  {
   "cell_type": "code",
   "execution_count": 30,
   "metadata": {},
   "outputs": [
    {
     "data": {
      "text/html": [
       "<table class=\"dataframe\">\n",
       "<caption>A data.frame: 3 × 8</caption>\n",
       "<thead>\n",
       "\t<tr><th></th><th scope=col>state</th><th scope=col>vote</th><th scope=col>income</th><th scope=col>education</th><th scope=col>age</th><th scope=col>sex</th><th scope=col>income_log</th><th scope=col>income_thousands</th></tr>\n",
       "\t<tr><th></th><th scope=col>&lt;chr&gt;</th><th scope=col>&lt;int&gt;</th><th scope=col>&lt;int&gt;</th><th scope=col>&lt;int&gt;</th><th scope=col>&lt;int&gt;</th><th scope=col>&lt;int&gt;</th><th scope=col>&lt;dbl&gt;</th><th scope=col>&lt;dbl&gt;</th></tr>\n",
       "</thead>\n",
       "<tbody>\n",
       "\t<tr><th scope=row>1</th><td>AR</td><td>1</td><td> 9</td><td>2</td><td>73</td><td>0</td><td>2.197225</td><td> 9000</td></tr>\n",
       "\t<tr><th scope=row>2</th><td>AR</td><td>1</td><td>11</td><td>2</td><td>24</td><td>0</td><td>2.397895</td><td>11000</td></tr>\n",
       "\t<tr><th scope=row>3</th><td>AR</td><td>0</td><td>12</td><td>2</td><td>24</td><td>1</td><td>2.484907</td><td>12000</td></tr>\n",
       "</tbody>\n",
       "</table>\n"
      ],
      "text/latex": [
       "A data.frame: 3 × 8\n",
       "\\begin{tabular}{r|llllllll}\n",
       "  & state & vote & income & education & age & sex & income\\_log & income\\_thousands\\\\\n",
       "  & <chr> & <int> & <int> & <int> & <int> & <int> & <dbl> & <dbl>\\\\\n",
       "\\hline\n",
       "\t1 & AR & 1 &  9 & 2 & 73 & 0 & 2.197225 &  9000\\\\\n",
       "\t2 & AR & 1 & 11 & 2 & 24 & 0 & 2.397895 & 11000\\\\\n",
       "\t3 & AR & 0 & 12 & 2 & 24 & 1 & 2.484907 & 12000\\\\\n",
       "\\end{tabular}\n"
      ],
      "text/markdown": [
       "\n",
       "A data.frame: 3 × 8\n",
       "\n",
       "| <!--/--> | state &lt;chr&gt; | vote &lt;int&gt; | income &lt;int&gt; | education &lt;int&gt; | age &lt;int&gt; | sex &lt;int&gt; | income_log &lt;dbl&gt; | income_thousands &lt;dbl&gt; |\n",
       "|---|---|---|---|---|---|---|---|---|\n",
       "| 1 | AR | 1 |  9 | 2 | 73 | 0 | 2.197225 |  9000 |\n",
       "| 2 | AR | 1 | 11 | 2 | 24 | 0 | 2.397895 | 11000 |\n",
       "| 3 | AR | 0 | 12 | 2 | 24 | 1 | 2.484907 | 12000 |\n",
       "\n"
      ],
      "text/plain": [
       "  state vote income education age sex income_log income_thousands\n",
       "1 AR    1     9     2         73  0   2.197225    9000           \n",
       "2 AR    1    11     2         24  0   2.397895   11000           \n",
       "3 AR    0    12     2         24  1   2.484907   12000           "
      ]
     },
     "metadata": {},
     "output_type": "display_data"
    }
   ],
   "source": [
    "df  %>% \n",
    "mutate(income_log = log(income),\n",
    "      income_thousands = income*1000) %>% \n",
    "head(3)"
   ]
  },
  {
   "cell_type": "markdown",
   "metadata": {},
   "source": [
    "# 5. Summarise: Summary stats"
   ]
  },
  {
   "cell_type": "code",
   "execution_count": 31,
   "metadata": {},
   "outputs": [
    {
     "data": {
      "text/html": [
       "<table class=\"dataframe\">\n",
       "<caption>A data.frame: 1 × 3</caption>\n",
       "<thead>\n",
       "\t<tr><th scope=col>mean_educ</th><th scope=col>mean_age</th><th scope=col>median_edu</th></tr>\n",
       "\t<tr><th scope=col>&lt;dbl&gt;</th><th scope=col>&lt;dbl&gt;</th><th scope=col>&lt;dbl&gt;</th></tr>\n",
       "</thead>\n",
       "<tbody>\n",
       "\t<tr><td>2.6498</td><td>49.27896</td><td>3</td></tr>\n",
       "</tbody>\n",
       "</table>\n"
      ],
      "text/latex": [
       "A data.frame: 1 × 3\n",
       "\\begin{tabular}{lll}\n",
       " mean\\_educ & mean\\_age & median\\_edu\\\\\n",
       " <dbl> & <dbl> & <dbl>\\\\\n",
       "\\hline\n",
       "\t 2.6498 & 49.27896 & 3\\\\\n",
       "\\end{tabular}\n"
      ],
      "text/markdown": [
       "\n",
       "A data.frame: 1 × 3\n",
       "\n",
       "| mean_educ &lt;dbl&gt; | mean_age &lt;dbl&gt; | median_edu &lt;dbl&gt; |\n",
       "|---|---|---|\n",
       "| 2.6498 | 49.27896 | 3 |\n",
       "\n"
      ],
      "text/plain": [
       "  mean_educ mean_age median_edu\n",
       "1 2.6498    49.27896 3         "
      ]
     },
     "metadata": {},
     "output_type": "display_data"
    }
   ],
   "source": [
    "df %>% \n",
    "summarise(\n",
    "mean_educ = mean(education),\n",
    "mean_age = mean(age),\n",
    "median_edu = median(education))"
   ]
  },
  {
   "cell_type": "markdown",
   "metadata": {},
   "source": [
    "# 6 Groupby"
   ]
  },
  {
   "cell_type": "code",
   "execution_count": 32,
   "metadata": {},
   "outputs": [
    {
     "data": {
      "text/html": [
       "<table class=\"dataframe\">\n",
       "<caption>A tibble: 2 × 2</caption>\n",
       "<thead>\n",
       "\t<tr><th></th><th scope=col>vote</th><th scope=col>mean_income</th></tr>\n",
       "\t<tr><th></th><th scope=col>&lt;int&gt;</th><th scope=col>&lt;dbl&gt;</th></tr>\n",
       "</thead>\n",
       "<tbody>\n",
       "\t<tr><th scope=row>1</th><td>0</td><td>10.85714</td></tr>\n",
       "\t<tr><th scope=row>2</th><td>1</td><td>12.26459</td></tr>\n",
       "</tbody>\n",
       "</table>\n"
      ],
      "text/latex": [
       "A tibble: 2 × 2\n",
       "\\begin{tabular}{r|ll}\n",
       "  & vote & mean\\_income\\\\\n",
       "  & <int> & <dbl>\\\\\n",
       "\\hline\n",
       "\t1 & 0 & 10.85714\\\\\n",
       "\t2 & 1 & 12.26459\\\\\n",
       "\\end{tabular}\n"
      ],
      "text/markdown": [
       "\n",
       "A tibble: 2 × 2\n",
       "\n",
       "| <!--/--> | vote &lt;int&gt; | mean_income &lt;dbl&gt; |\n",
       "|---|---|---|\n",
       "| 1 | 0 | 10.85714 |\n",
       "| 2 | 1 | 12.26459 |\n",
       "\n"
      ],
      "text/plain": [
       "  vote mean_income\n",
       "1 0    10.85714   \n",
       "2 1    12.26459   "
      ]
     },
     "metadata": {},
     "output_type": "display_data"
    }
   ],
   "source": [
    "df %>% \n",
    "group_by(vote) %>% \n",
    "summarise(mean_income = mean(income))"
   ]
  },
  {
   "cell_type": "code",
   "execution_count": null,
   "metadata": {},
   "outputs": [],
   "source": []
  }
 ],
 "metadata": {
  "kernelspec": {
   "display_name": "R [conda env:r_env]",
   "language": "R",
   "name": "conda-env-r_env-r"
  },
  "language_info": {
   "codemirror_mode": "r",
   "file_extension": ".r",
   "mimetype": "text/x-r-source",
   "name": "R",
   "pygments_lexer": "r",
   "version": "3.6.1"
  }
 },
 "nbformat": 4,
 "nbformat_minor": 4
}

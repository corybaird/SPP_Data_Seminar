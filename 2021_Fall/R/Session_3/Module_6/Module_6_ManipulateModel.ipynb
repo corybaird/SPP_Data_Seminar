{
 "cells": [
  {
   "cell_type": "markdown",
   "metadata": {},
   "source": [
    "# Session 3-- Graphing and manipulating data\n",
    "\n",
    "## Session 3 is composed of 2 parts\n",
    "\n",
    "- Module 5: Graphing and mapping\n",
    "    - [Notes](https://github.com/corybaird/SPP_Data_Seminar/blob/main/R/Session_3/Module_5/Module_5_GraphMap.ipynb)\n",
    "    - [Video](https://www.youtube.com/watch?v=5hrFI-_Rtqk)\n",
    "\n",
    "- Module 6: Data manipulation and panel regressions\n",
    "   - [Notes](https://github.com/corybaird/SPP_Data_Seminar/blob/main/R/Session_3/Module_6/Module_6_ManipulateModel.ipynb)\n",
    "   - [Video](https://youtu.be/xVo8zsi6DrI)"
   ]
  },
  {
   "cell_type": "markdown",
   "metadata": {},
   "source": [
    "## A.1 Import Libraries"
   ]
  },
  {
   "cell_type": "code",
   "execution_count": 2,
   "metadata": {},
   "outputs": [],
   "source": [
    "library(dplyr)\n",
    "\n",
    "# Step 1: install\n",
    "#install.packages('WDI')\n",
    "# Step 2: load functions\n",
    "library(WDI)"
   ]
  },
  {
   "cell_type": "markdown",
   "metadata": {},
   "source": [
    "## A.2 Import data"
   ]
  },
  {
   "cell_type": "code",
   "execution_count": 3,
   "metadata": {},
   "outputs": [],
   "source": [
    "df_wdi = WDI(\n",
    "country = \"all\",\n",
    "indicator = c(\"NY.GDP.PCAP.KD\", #GDP\n",
    "              \"SP.POP.DPND\" # Age dependency\n",
    "             ),\n",
    "start = 1980,\n",
    "end = 2020,\n",
    ")"
   ]
  },
  {
   "cell_type": "code",
   "execution_count": 4,
   "metadata": {},
   "outputs": [],
   "source": [
    "df_wdi = df_wdi %>% \n",
    "rename('GDP' = 'NY.GDP.PCAP.KD',\n",
    "      'Age_dep_ratio' = 'SP.POP.DPND')"
   ]
  },
  {
   "cell_type": "code",
   "execution_count": 5,
   "metadata": {},
   "outputs": [],
   "source": [
    "df_wdi = df_wdi %>% select(country, year, GDP, Age_dep_ratio)"
   ]
  },
  {
   "cell_type": "markdown",
   "metadata": {},
   "source": [
    "# 1. Data manipulation"
   ]
  },
  {
   "cell_type": "markdown",
   "metadata": {},
   "source": [
    "## 1.A Data types"
   ]
  },
  {
   "cell_type": "code",
   "execution_count": 6,
   "metadata": {},
   "outputs": [
    {
     "name": "stdout",
     "output_type": "stream",
     "text": [
      "'data.frame':\t10906 obs. of  4 variables:\n",
      " $ country      : chr  \"Arab World\" \"Arab World\" \"Arab World\" \"Arab World\" ...\n",
      " $ year         : int  1980 1981 1982 1983 1984 1985 1986 1987 1988 1989 ...\n",
      " $ GDP          : num  5263 5255 4634 4185 4114 ...\n",
      "  ..- attr(*, \"label\")= chr \"GDP per capita (constant 2010 US$)\"\n",
      " $ Age_dep_ratio: num  92.3 92 91.5 91 90.4 ...\n",
      "  ..- attr(*, \"label\")= chr \"Age dependency ratio (% of working-age population)\"\n"
     ]
    }
   ],
   "source": [
    "df_wdi %>% \n",
    "str()"
   ]
  },
  {
   "cell_type": "markdown",
   "metadata": {},
   "source": [
    "## 1.B Summary stats"
   ]
  },
  {
   "cell_type": "code",
   "execution_count": 7,
   "metadata": {},
   "outputs": [
    {
     "data": {
      "text/plain": [
       "   country               year           GDP           Age_dep_ratio   \n",
       " Length:10906       Min.   :1980   Min.   :   164.3   Min.   : 15.74  \n",
       " Class :character   1st Qu.:1990   1st Qu.:  1410.4   1st Qu.: 50.63  \n",
       " Mode  :character   Median :2000   Median :  3977.6   Median : 62.32  \n",
       "                    Mean   :2000   Mean   : 12105.2   Mean   : 67.05  \n",
       "                    3rd Qu.:2010   3rd Qu.: 13606.1   3rd Qu.: 84.81  \n",
       "                    Max.   :2020   Max.   :209224.5   Max.   :117.88  \n",
       "                                   NA's   :1585       NA's   :1006    "
      ]
     },
     "metadata": {},
     "output_type": "display_data"
    }
   ],
   "source": [
    "df_wdi %>% \n",
    "summary()"
   ]
  },
  {
   "cell_type": "markdown",
   "metadata": {},
   "source": [
    "## 1.1 Check for NA"
   ]
  },
  {
   "cell_type": "code",
   "execution_count": 8,
   "metadata": {},
   "outputs": [
    {
     "data": {
      "text/html": [
       "TRUE"
      ],
      "text/latex": [
       "TRUE"
      ],
      "text/markdown": [
       "TRUE"
      ],
      "text/plain": [
       "[1] TRUE"
      ]
     },
     "metadata": {},
     "output_type": "display_data"
    }
   ],
   "source": [
    "df_wdi %>% \n",
    "is.na() %>% \n",
    "any()"
   ]
  },
  {
   "cell_type": "markdown",
   "metadata": {},
   "source": [
    "### 1.1.1 Drop na\n"
   ]
  },
  {
   "cell_type": "code",
   "execution_count": 9,
   "metadata": {},
   "outputs": [
    {
     "data": {
      "text/html": [
       "<table>\n",
       "<thead><tr><th scope=col>n</th></tr></thead>\n",
       "<tbody>\n",
       "\t<tr><td>10906</td></tr>\n",
       "</tbody>\n",
       "</table>\n"
      ],
      "text/latex": [
       "\\begin{tabular}{r|l}\n",
       " n\\\\\n",
       "\\hline\n",
       "\t 10906\\\\\n",
       "\\end{tabular}\n"
      ],
      "text/markdown": [
       "\n",
       "| n |\n",
       "|---|\n",
       "| 10906 |\n",
       "\n"
      ],
      "text/plain": [
       "  n    \n",
       "1 10906"
      ]
     },
     "metadata": {},
     "output_type": "display_data"
    }
   ],
   "source": [
    "df_wdi %>% count()"
   ]
  },
  {
   "cell_type": "code",
   "execution_count": 10,
   "metadata": {},
   "outputs": [
    {
     "data": {
      "text/html": [
       "<table>\n",
       "<thead><tr><th scope=col>n</th></tr></thead>\n",
       "<tbody>\n",
       "\t<tr><td>8841</td></tr>\n",
       "</tbody>\n",
       "</table>\n"
      ],
      "text/latex": [
       "\\begin{tabular}{r|l}\n",
       " n\\\\\n",
       "\\hline\n",
       "\t 8841\\\\\n",
       "\\end{tabular}\n"
      ],
      "text/markdown": [
       "\n",
       "| n |\n",
       "|---|\n",
       "| 8841 |\n",
       "\n"
      ],
      "text/plain": [
       "  n   \n",
       "1 8841"
      ]
     },
     "metadata": {},
     "output_type": "display_data"
    }
   ],
   "source": [
    "df_wdi  %>% \n",
    "na.omit()  %>% count()"
   ]
  },
  {
   "cell_type": "markdown",
   "metadata": {},
   "source": [
    "## 1.2 Create dummy variables"
   ]
  },
  {
   "cell_type": "markdown",
   "metadata": {},
   "source": [
    "### 1.2.A Filter "
   ]
  },
  {
   "cell_type": "code",
   "execution_count": 11,
   "metadata": {},
   "outputs": [
    {
     "data": {
      "text/html": [
       "<table>\n",
       "<thead><tr><th></th><th scope=col>country</th><th scope=col>year</th><th scope=col>GDP</th><th scope=col>Age_dep_ratio</th></tr></thead>\n",
       "<tbody>\n",
       "\t<tr><th scope=row>265</th><td>IDA &amp; IBRD total</td><td>2020                </td><td>4822.537            </td><td>54.63396            </td></tr>\n",
       "\t<tr><th scope=row>266</th><td>Zimbabwe        </td><td>2020            </td><td>1058.846        </td><td>81.57150        </td></tr>\n",
       "</tbody>\n",
       "</table>\n"
      ],
      "text/latex": [
       "\\begin{tabular}{r|llll}\n",
       "  & country & year & GDP & Age\\_dep\\_ratio\\\\\n",
       "\\hline\n",
       "\t265 & IDA \\& IBRD total & 2020               & 4822.537           & 54.63396          \\\\\n",
       "\t266 & Zimbabwe         & 2020             & 1058.846         & 81.57150        \\\\\n",
       "\\end{tabular}\n"
      ],
      "text/markdown": [
       "\n",
       "| <!--/--> | country | year | GDP | Age_dep_ratio |\n",
       "|---|---|---|---|---|\n",
       "| 265 | IDA & IBRD total | 2020             | 4822.537         | 54.63396         |\n",
       "| 266 | Zimbabwe         | 2020             | 1058.846         | 81.57150         |\n",
       "\n"
      ],
      "text/plain": [
       "    country          year GDP      Age_dep_ratio\n",
       "265 IDA & IBRD total 2020 4822.537 54.63396     \n",
       "266 Zimbabwe         2020 1058.846 81.57150     "
      ]
     },
     "metadata": {},
     "output_type": "display_data"
    }
   ],
   "source": [
    "df_wdi_2020 = df_wdi %>% filter(year== 2020)\n",
    "df_wdi_2020 %>% tail(2)"
   ]
  },
  {
   "cell_type": "markdown",
   "metadata": {},
   "source": [
    "### 1.2.1 Add dummy for high-income countries"
   ]
  },
  {
   "cell_type": "code",
   "execution_count": 12,
   "metadata": {},
   "outputs": [
    {
     "data": {
      "text/html": [
       "<table>\n",
       "<thead><tr><th scope=col>country</th><th scope=col>year</th><th scope=col>GDP</th><th scope=col>Age_dep_ratio</th><th scope=col>high_inc</th></tr></thead>\n",
       "<tbody>\n",
       "\t<tr><td>Arab World</td><td>2020      </td><td> 6043.964 </td><td>61.01996  </td><td>0         </td></tr>\n",
       "\t<tr><td>World     </td><td>2020      </td><td>10565.499 </td><td>54.56867  </td><td>0         </td></tr>\n",
       "</tbody>\n",
       "</table>\n"
      ],
      "text/latex": [
       "\\begin{tabular}{r|lllll}\n",
       " country & year & GDP & Age\\_dep\\_ratio & high\\_inc\\\\\n",
       "\\hline\n",
       "\t Arab World & 2020       &  6043.964  & 61.01996   & 0         \\\\\n",
       "\t World      & 2020       & 10565.499  & 54.56867   & 0         \\\\\n",
       "\\end{tabular}\n"
      ],
      "text/markdown": [
       "\n",
       "| country | year | GDP | Age_dep_ratio | high_inc |\n",
       "|---|---|---|---|---|\n",
       "| Arab World | 2020       |  6043.964  | 61.01996   | 0          |\n",
       "| World      | 2020       | 10565.499  | 54.56867   | 0          |\n",
       "\n"
      ],
      "text/plain": [
       "  country    year GDP       Age_dep_ratio high_inc\n",
       "1 Arab World 2020  6043.964 61.01996      0       \n",
       "2 World      2020 10565.499 54.56867      0       "
      ]
     },
     "metadata": {},
     "output_type": "display_data"
    }
   ],
   "source": [
    "df_wdi_2020 = df_wdi_2020 %>% \n",
    "mutate(high_inc = as.numeric(GDP>15000)) \n",
    "\n",
    "df_wdi_2020 %>% head(2)"
   ]
  },
  {
   "cell_type": "code",
   "execution_count": 13,
   "metadata": {},
   "outputs": [
    {
     "data": {
      "text/plain": [
       "   country               year           GDP           Age_dep_ratio   \n",
       " Length:266         Min.   :2020   Min.   :   202.4   Min.   : 18.10  \n",
       " Class :character   1st Qu.:2020   1st Qu.:  1785.2   1st Qu.: 49.01  \n",
       " Mode  :character   Median :2020   Median :  5371.0   Median : 55.18  \n",
       "                    Mean   :2020   Mean   : 12747.3   Mean   : 58.93  \n",
       "                    3rd Qu.:2020   3rd Qu.: 13878.9   3rd Qu.: 68.59  \n",
       "                    Max.   :2020   Max.   :107458.0   Max.   :109.50  \n",
       "                                   NA's   :43         NA's   :25      \n",
       "    high_inc     \n",
       " Min.   :0.0000  \n",
       " 1st Qu.:0.0000  \n",
       " Median :0.0000  \n",
       " Mean   :0.2466  \n",
       " 3rd Qu.:0.0000  \n",
       " Max.   :1.0000  \n",
       " NA's   :43      "
      ]
     },
     "metadata": {},
     "output_type": "display_data"
    }
   ],
   "source": [
    "df_wdi_2020 %>% summary()"
   ]
  },
  {
   "cell_type": "markdown",
   "metadata": {},
   "source": [
    "### 1.2.2 Omit NAs for only one column"
   ]
  },
  {
   "cell_type": "code",
   "execution_count": 14,
   "metadata": {},
   "outputs": [
    {
     "data": {
      "text/plain": [
       "   country               year           GDP           Age_dep_ratio   \n",
       " Length:223         Min.   :2020   Min.   :   202.4   Min.   : 18.10  \n",
       " Class :character   1st Qu.:2020   1st Qu.:  1785.2   1st Qu.: 49.24  \n",
       " Mode  :character   Median :2020   Median :  5371.0   Median : 55.43  \n",
       "                    Mean   :2020   Mean   : 12747.3   Mean   : 59.47  \n",
       "                    3rd Qu.:2020   3rd Qu.: 13878.9   3rd Qu.: 69.56  \n",
       "                    Max.   :2020   Max.   :107458.0   Max.   :109.50  \n",
       "                                                      NA's   :5       \n",
       "    high_inc     \n",
       " Min.   :0.0000  \n",
       " 1st Qu.:0.0000  \n",
       " Median :0.0000  \n",
       " Mean   :0.2466  \n",
       " 3rd Qu.:0.0000  \n",
       " Max.   :1.0000  \n",
       "                 "
      ]
     },
     "metadata": {},
     "output_type": "display_data"
    }
   ],
   "source": [
    "df_wdi_2020 = df_wdi_2020 %>% \n",
    "filter(!is.na(GDP))\n",
    "\n",
    "df_wdi_2020 %>% summary()"
   ]
  },
  {
   "cell_type": "markdown",
   "metadata": {},
   "source": [
    "### 1.3 Use dummy with summary stats"
   ]
  },
  {
   "cell_type": "code",
   "execution_count": 15,
   "metadata": {},
   "outputs": [
    {
     "data": {
      "text/html": [
       "<table>\n",
       "<thead><tr><th scope=col>high_inc</th><th scope=col>gdp_mean</th></tr></thead>\n",
       "<tbody>\n",
       "\t<tr><td>0       </td><td> 4437.55</td></tr>\n",
       "\t<tr><td>1       </td><td>38129.82</td></tr>\n",
       "</tbody>\n",
       "</table>\n"
      ],
      "text/latex": [
       "\\begin{tabular}{r|ll}\n",
       " high\\_inc & gdp\\_mean\\\\\n",
       "\\hline\n",
       "\t 0        &  4437.55\\\\\n",
       "\t 1        & 38129.82\\\\\n",
       "\\end{tabular}\n"
      ],
      "text/markdown": [
       "\n",
       "| high_inc | gdp_mean |\n",
       "|---|---|\n",
       "| 0        |  4437.55 |\n",
       "| 1        | 38129.82 |\n",
       "\n"
      ],
      "text/plain": [
       "  high_inc gdp_mean\n",
       "1 0         4437.55\n",
       "2 1        38129.82"
      ]
     },
     "metadata": {},
     "output_type": "display_data"
    }
   ],
   "source": [
    "df_wdi_2020 %>% \n",
    "group_by(high_inc) %>% \n",
    "summarise(gdp_mean = mean(GDP))"
   ]
  },
  {
   "cell_type": "markdown",
   "metadata": {},
   "source": [
    "## 1.3 Mapping values"
   ]
  },
  {
   "cell_type": "code",
   "execution_count": 16,
   "metadata": {},
   "outputs": [
    {
     "data": {
      "text/html": [
       "<table>\n",
       "<thead><tr><th></th><th scope=col>country</th><th scope=col>year</th><th scope=col>GDP</th><th scope=col>Age_dep_ratio</th><th scope=col>high_inc</th><th scope=col>highinc_dummy_factor</th></tr></thead>\n",
       "<tbody>\n",
       "\t<tr><th scope=row>222</th><td>IDA &amp; IBRD total</td><td>2020                </td><td>4822.537            </td><td>54.63396            </td><td>0                   </td><td>Low                 </td></tr>\n",
       "\t<tr><th scope=row>223</th><td>Zimbabwe        </td><td>2020            </td><td>1058.846        </td><td>81.57150        </td><td>0               </td><td>Low             </td></tr>\n",
       "</tbody>\n",
       "</table>\n"
      ],
      "text/latex": [
       "\\begin{tabular}{r|llllll}\n",
       "  & country & year & GDP & Age\\_dep\\_ratio & high\\_inc & highinc\\_dummy\\_factor\\\\\n",
       "\\hline\n",
       "\t222 & IDA \\& IBRD total & 2020               & 4822.537           & 54.63396           & 0                  & Low               \\\\\n",
       "\t223 & Zimbabwe         & 2020             & 1058.846         & 81.57150         & 0                & Low             \\\\\n",
       "\\end{tabular}\n"
      ],
      "text/markdown": [
       "\n",
       "| <!--/--> | country | year | GDP | Age_dep_ratio | high_inc | highinc_dummy_factor |\n",
       "|---|---|---|---|---|---|---|\n",
       "| 222 | IDA & IBRD total | 2020             | 4822.537         | 54.63396         | 0                | Low              |\n",
       "| 223 | Zimbabwe         | 2020             | 1058.846         | 81.57150         | 0                | Low              |\n",
       "\n"
      ],
      "text/plain": [
       "    country          year GDP      Age_dep_ratio high_inc highinc_dummy_factor\n",
       "222 IDA & IBRD total 2020 4822.537 54.63396      0        Low                 \n",
       "223 Zimbabwe         2020 1058.846 81.57150      0        Low                 "
      ]
     },
     "metadata": {},
     "output_type": "display_data"
    }
   ],
   "source": [
    "df_wdi_2020  %>% \n",
    "mutate(highinc_dummy_factor = recode(high_inc, '0'='Low', '1'='High')) %>% \n",
    "tail(2)"
   ]
  },
  {
   "cell_type": "markdown",
   "metadata": {},
   "source": [
    "## 1.4 Cut-off dummies"
   ]
  },
  {
   "cell_type": "code",
   "execution_count": 17,
   "metadata": {},
   "outputs": [
    {
     "data": {
      "text/html": [
       "<ol class=list-inline>\n",
       "\t<li>0</li>\n",
       "\t<li>10000</li>\n",
       "\t<li>20000</li>\n",
       "\t<li>30000</li>\n",
       "\t<li>40000</li>\n",
       "\t<li>50000</li>\n",
       "\t<li>60000</li>\n",
       "</ol>\n"
      ],
      "text/latex": [
       "\\begin{enumerate*}\n",
       "\\item 0\n",
       "\\item 10000\n",
       "\\item 20000\n",
       "\\item 30000\n",
       "\\item 40000\n",
       "\\item 50000\n",
       "\\item 60000\n",
       "\\end{enumerate*}\n"
      ],
      "text/markdown": [
       "1. 0\n",
       "2. 10000\n",
       "3. 20000\n",
       "4. 30000\n",
       "5. 40000\n",
       "6. 50000\n",
       "7. 60000\n",
       "\n",
       "\n"
      ],
      "text/plain": [
       "[1]     0 10000 20000 30000 40000 50000 60000"
      ]
     },
     "metadata": {},
     "output_type": "display_data"
    }
   ],
   "source": [
    "cutoffs = c(seq(0, 60000, by = 10000))\n",
    "cutoffs"
   ]
  },
  {
   "cell_type": "code",
   "execution_count": 18,
   "metadata": {},
   "outputs": [
    {
     "data": {
      "text/html": [
       "<table>\n",
       "<thead><tr><th scope=col>country</th><th scope=col>year</th><th scope=col>GDP</th><th scope=col>Age_dep_ratio</th><th scope=col>high_inc</th><th scope=col>cut_variable</th></tr></thead>\n",
       "<tbody>\n",
       "\t<tr><td>Arab World   </td><td>2020         </td><td> 6043.964    </td><td>61.01996     </td><td>0            </td><td>[0,1e+04]    </td></tr>\n",
       "\t<tr><td>World        </td><td>2020         </td><td>10565.499    </td><td>54.56867     </td><td>0            </td><td>(1e+04,2e+04]</td></tr>\n",
       "</tbody>\n",
       "</table>\n"
      ],
      "text/latex": [
       "\\begin{tabular}{r|llllll}\n",
       " country & year & GDP & Age\\_dep\\_ratio & high\\_inc & cut\\_variable\\\\\n",
       "\\hline\n",
       "\t Arab World        & 2020              &  6043.964         & 61.01996          & 0                 & {[}0,1e+04{]}    \\\\\n",
       "\t World           & 2020            & 10565.499       & 54.56867        & 0               & (1e+04,2e+04{]}\\\\\n",
       "\\end{tabular}\n"
      ],
      "text/markdown": [
       "\n",
       "| country | year | GDP | Age_dep_ratio | high_inc | cut_variable |\n",
       "|---|---|---|---|---|---|\n",
       "| Arab World    | 2020          |  6043.964     | 61.01996      | 0             | [0,1e+04]     |\n",
       "| World         | 2020          | 10565.499     | 54.56867      | 0             | (1e+04,2e+04] |\n",
       "\n"
      ],
      "text/plain": [
       "  country    year GDP       Age_dep_ratio high_inc cut_variable \n",
       "1 Arab World 2020  6043.964 61.01996      0        [0,1e+04]    \n",
       "2 World      2020 10565.499 54.56867      0        (1e+04,2e+04]"
      ]
     },
     "metadata": {},
     "output_type": "display_data"
    }
   ],
   "source": [
    "df_wdi_2020 = df_wdi_2020  %>%  \n",
    "mutate(cut_variable = cut(df_wdi_2020$GDP, cutoffs, include.lowest=TRUE))\n",
    "\n",
    "df_wdi_2020 %>% head(2)"
   ]
  },
  {
   "cell_type": "code",
   "execution_count": 19,
   "metadata": {},
   "outputs": [
    {
     "data": {
      "text/html": [
       "<table>\n",
       "<thead><tr><th scope=col>cut_variable</th><th scope=col>mean_gdp</th></tr></thead>\n",
       "<tbody>\n",
       "\t<tr><td>[0,1e+04]    </td><td> 3684.49     </td></tr>\n",
       "\t<tr><td>(1e+04,2e+04]</td><td>14247.69     </td></tr>\n",
       "\t<tr><td>(2e+04,3e+04]</td><td>24778.02     </td></tr>\n",
       "\t<tr><td>(3e+04,4e+04]</td><td>35272.63     </td></tr>\n",
       "\t<tr><td>(4e+04,5e+04]</td><td>44606.33     </td></tr>\n",
       "\t<tr><td>(5e+04,6e+04]</td><td>55529.08     </td></tr>\n",
       "\t<tr><td>NA           </td><td>84730.44     </td></tr>\n",
       "</tbody>\n",
       "</table>\n"
      ],
      "text/latex": [
       "\\begin{tabular}{r|ll}\n",
       " cut\\_variable & mean\\_gdp\\\\\n",
       "\\hline\n",
       "\t {[}0,1e+04{]}     &  3684.49         \\\\\n",
       "\t (1e+04,2e+04{]} & 14247.69       \\\\\n",
       "\t (2e+04,3e+04{]} & 24778.02       \\\\\n",
       "\t (3e+04,4e+04{]} & 35272.63       \\\\\n",
       "\t (4e+04,5e+04{]} & 44606.33       \\\\\n",
       "\t (5e+04,6e+04{]} & 55529.08       \\\\\n",
       "\t NA            & 84730.44     \\\\\n",
       "\\end{tabular}\n"
      ],
      "text/markdown": [
       "\n",
       "| cut_variable | mean_gdp |\n",
       "|---|---|\n",
       "| [0,1e+04]     |  3684.49      |\n",
       "| (1e+04,2e+04] | 14247.69      |\n",
       "| (2e+04,3e+04] | 24778.02      |\n",
       "| (3e+04,4e+04] | 35272.63      |\n",
       "| (4e+04,5e+04] | 44606.33      |\n",
       "| (5e+04,6e+04] | 55529.08      |\n",
       "| NA            | 84730.44      |\n",
       "\n"
      ],
      "text/plain": [
       "  cut_variable  mean_gdp\n",
       "1 [0,1e+04]      3684.49\n",
       "2 (1e+04,2e+04] 14247.69\n",
       "3 (2e+04,3e+04] 24778.02\n",
       "4 (3e+04,4e+04] 35272.63\n",
       "5 (4e+04,5e+04] 44606.33\n",
       "6 (5e+04,6e+04] 55529.08\n",
       "7 NA            84730.44"
      ]
     },
     "metadata": {},
     "output_type": "display_data"
    }
   ],
   "source": [
    "df_wdi_2020 %>% \n",
    "group_by(cut_variable) %>% \n",
    "summarise(mean_gdp = mean(GDP))"
   ]
  },
  {
   "cell_type": "markdown",
   "metadata": {},
   "source": [
    "## 1.5 Filter list"
   ]
  },
  {
   "cell_type": "code",
   "execution_count": 20,
   "metadata": {},
   "outputs": [
    {
     "data": {
      "text/html": [
       "<table>\n",
       "<thead><tr><th scope=col>country</th><th scope=col>year</th><th scope=col>GDP</th><th scope=col>Age_dep_ratio</th><th scope=col>high_inc</th><th scope=col>cut_variable</th></tr></thead>\n",
       "<tbody>\n",
       "\t<tr><td>Albania      </td><td>2020         </td><td> 5064.062    </td><td>46.93011     </td><td>0            </td><td>[0,1e+04]    </td></tr>\n",
       "\t<tr><td>Belgium      </td><td>2020         </td><td>44361.248    </td><td>56.95681     </td><td>1            </td><td>(4e+04,5e+04]</td></tr>\n",
       "\t<tr><td>France       </td><td>2020         </td><td>40520.652    </td><td>62.35641     </td><td>1            </td><td>(4e+04,5e+04]</td></tr>\n",
       "\t<tr><td>Italy        </td><td>2020         </td><td>32901.883    </td><td>56.95922     </td><td>1            </td><td>(3e+04,4e+04]</td></tr>\n",
       "</tbody>\n",
       "</table>\n"
      ],
      "text/latex": [
       "\\begin{tabular}{r|llllll}\n",
       " country & year & GDP & Age\\_dep\\_ratio & high\\_inc & cut\\_variable\\\\\n",
       "\\hline\n",
       "\t Albania           & 2020              &  5064.062         & 46.93011          & 0                 & {[}0,1e+04{]}    \\\\\n",
       "\t Belgium         & 2020            & 44361.248       & 56.95681        & 1               & (4e+04,5e+04{]}\\\\\n",
       "\t France          & 2020            & 40520.652       & 62.35641        & 1               & (4e+04,5e+04{]}\\\\\n",
       "\t Italy           & 2020            & 32901.883       & 56.95922        & 1               & (3e+04,4e+04{]}\\\\\n",
       "\\end{tabular}\n"
      ],
      "text/markdown": [
       "\n",
       "| country | year | GDP | Age_dep_ratio | high_inc | cut_variable |\n",
       "|---|---|---|---|---|---|\n",
       "| Albania       | 2020          |  5064.062     | 46.93011      | 0             | [0,1e+04]     |\n",
       "| Belgium       | 2020          | 44361.248     | 56.95681      | 1             | (4e+04,5e+04] |\n",
       "| France        | 2020          | 40520.652     | 62.35641      | 1             | (4e+04,5e+04] |\n",
       "| Italy         | 2020          | 32901.883     | 56.95922      | 1             | (3e+04,4e+04] |\n",
       "\n"
      ],
      "text/plain": [
       "  country year GDP       Age_dep_ratio high_inc cut_variable \n",
       "1 Albania 2020  5064.062 46.93011      0        [0,1e+04]    \n",
       "2 Belgium 2020 44361.248 56.95681      1        (4e+04,5e+04]\n",
       "3 France  2020 40520.652 62.35641      1        (4e+04,5e+04]\n",
       "4 Italy   2020 32901.883 56.95922      1        (3e+04,4e+04]"
      ]
     },
     "metadata": {},
     "output_type": "display_data"
    }
   ],
   "source": [
    "country_list = c('Albania', 'Italy', 'France', 'Belgium')\n",
    "df_wdi_2020  %>% filter(country %in% country_list)"
   ]
  },
  {
   "cell_type": "markdown",
   "metadata": {},
   "source": [
    "## 1.6 Case when"
   ]
  },
  {
   "cell_type": "code",
   "execution_count": 21,
   "metadata": {},
   "outputs": [
    {
     "data": {
      "text/html": [
       "<table>\n",
       "<thead><tr><th></th><th scope=col>country</th><th scope=col>year</th><th scope=col>GDP</th><th scope=col>Age_dep_ratio</th><th scope=col>high_inc</th><th scope=col>cut_variable</th><th scope=col>language</th></tr></thead>\n",
       "<tbody>\n",
       "\t<tr><th scope=row>56</th><td>Spain         </td><td>2020          </td><td>29600.35      </td><td>52.38578      </td><td>1             </td><td>(2e+04,3e+04] </td><td>Spanish       </td></tr>\n",
       "\t<tr><th scope=row>64</th><td>United Kingdom</td><td>2020          </td><td>39102.90      </td><td>57.06137      </td><td>1             </td><td>(3e+04,4e+04] </td><td>English       </td></tr>\n",
       "\t<tr><th scope=row>87</th><td>Italy         </td><td>2020          </td><td>32901.88      </td><td>56.95922      </td><td>1             </td><td>(3e+04,4e+04] </td><td>Italian       </td></tr>\n",
       "</tbody>\n",
       "</table>\n"
      ],
      "text/latex": [
       "\\begin{tabular}{r|lllllll}\n",
       "  & country & year & GDP & Age\\_dep\\_ratio & high\\_inc & cut\\_variable & language\\\\\n",
       "\\hline\n",
       "\t56 & Spain           & 2020            & 29600.35        & 52.38578        & 1               & (2e+04,3e+04{]} & Spanish        \\\\\n",
       "\t64 & United Kingdom  & 2020            & 39102.90        & 57.06137        & 1               & (3e+04,4e+04{]} & English        \\\\\n",
       "\t87 & Italy           & 2020            & 32901.88        & 56.95922        & 1               & (3e+04,4e+04{]} & Italian        \\\\\n",
       "\\end{tabular}\n"
      ],
      "text/markdown": [
       "\n",
       "| <!--/--> | country | year | GDP | Age_dep_ratio | high_inc | cut_variable | language |\n",
       "|---|---|---|---|---|---|---|---|\n",
       "| 56 | Spain          | 2020           | 29600.35       | 52.38578       | 1              | (2e+04,3e+04]  | Spanish        |\n",
       "| 64 | United Kingdom | 2020           | 39102.90       | 57.06137       | 1              | (3e+04,4e+04]  | English        |\n",
       "| 87 | Italy          | 2020           | 32901.88       | 56.95922       | 1              | (3e+04,4e+04]  | Italian        |\n",
       "\n"
      ],
      "text/plain": [
       "   country        year GDP      Age_dep_ratio high_inc cut_variable  language\n",
       "56 Spain          2020 29600.35 52.38578      1        (2e+04,3e+04] Spanish \n",
       "64 United Kingdom 2020 39102.90 57.06137      1        (3e+04,4e+04] English \n",
       "87 Italy          2020 32901.88 56.95922      1        (3e+04,4e+04] Italian "
      ]
     },
     "metadata": {},
     "output_type": "display_data"
    }
   ],
   "source": [
    "spanish_country_list = c('Spain', 'Argentina', 'Mexico','Chile')\n",
    "\n",
    "df_wdi_2020 %>% \n",
    "mutate(language = case_when(country=='Spain'~'Spanish', \n",
    "                           country=='Italy' ~ 'Italian', \n",
    "                           country=='United Kingdom'~'English')) %>% na.omit()"
   ]
  },
  {
   "cell_type": "markdown",
   "metadata": {},
   "source": [
    "## 1.7 Count column"
   ]
  },
  {
   "cell_type": "code",
   "execution_count": 22,
   "metadata": {},
   "outputs": [
    {
     "data": {
      "text/html": [
       "<table>\n",
       "<thead><tr><th scope=col>high_inc</th><th scope=col>n</th></tr></thead>\n",
       "<tbody>\n",
       "\t<tr><td>0  </td><td>168</td></tr>\n",
       "\t<tr><td>1  </td><td> 55</td></tr>\n",
       "</tbody>\n",
       "</table>\n"
      ],
      "text/latex": [
       "\\begin{tabular}{r|ll}\n",
       " high\\_inc & n\\\\\n",
       "\\hline\n",
       "\t 0   & 168\\\\\n",
       "\t 1   &  55\\\\\n",
       "\\end{tabular}\n"
      ],
      "text/markdown": [
       "\n",
       "| high_inc | n |\n",
       "|---|---|\n",
       "| 0   | 168 |\n",
       "| 1   |  55 |\n",
       "\n"
      ],
      "text/plain": [
       "  high_inc n  \n",
       "1 0        168\n",
       "2 1         55"
      ]
     },
     "metadata": {},
     "output_type": "display_data"
    }
   ],
   "source": [
    "df_wdi_2020  %>% count(high_inc)"
   ]
  },
  {
   "cell_type": "markdown",
   "metadata": {},
   "source": [
    "## 1.8 Export data"
   ]
  },
  {
   "cell_type": "code",
   "execution_count": 23,
   "metadata": {},
   "outputs": [],
   "source": [
    "df_wdi_2020 %>% write.csv('Output/wdi_data.csv')"
   ]
  },
  {
   "cell_type": "markdown",
   "metadata": {},
   "source": [
    "# 2. Merging"
   ]
  },
  {
   "cell_type": "markdown",
   "metadata": {},
   "source": [
    "## 2.A Import data"
   ]
  },
  {
   "cell_type": "code",
   "execution_count": 24,
   "metadata": {},
   "outputs": [
    {
     "data": {
      "text/html": [
       "<table>\n",
       "<thead><tr><th scope=col>country</th><th scope=col>continent</th><th scope=col>year</th><th scope=col>lifeExp</th><th scope=col>pop</th><th scope=col>gdpPercap</th></tr></thead>\n",
       "<tbody>\n",
       "\t<tr><td>Afghanistan</td><td>Asia       </td><td>1952       </td><td>28.801     </td><td>8425333    </td><td>779.4453   </td></tr>\n",
       "\t<tr><td>Afghanistan</td><td>Asia       </td><td>1957       </td><td>30.332     </td><td>9240934    </td><td>820.8530   </td></tr>\n",
       "</tbody>\n",
       "</table>\n"
      ],
      "text/latex": [
       "\\begin{tabular}{r|llllll}\n",
       " country & continent & year & lifeExp & pop & gdpPercap\\\\\n",
       "\\hline\n",
       "\t Afghanistan & Asia        & 1952        & 28.801      & 8425333     & 779.4453   \\\\\n",
       "\t Afghanistan & Asia        & 1957        & 30.332      & 9240934     & 820.8530   \\\\\n",
       "\\end{tabular}\n"
      ],
      "text/markdown": [
       "\n",
       "| country | continent | year | lifeExp | pop | gdpPercap |\n",
       "|---|---|---|---|---|---|\n",
       "| Afghanistan | Asia        | 1952        | 28.801      | 8425333     | 779.4453    |\n",
       "| Afghanistan | Asia        | 1957        | 30.332      | 9240934     | 820.8530    |\n",
       "\n"
      ],
      "text/plain": [
       "  country     continent year lifeExp pop     gdpPercap\n",
       "1 Afghanistan Asia      1952 28.801  8425333 779.4453 \n",
       "2 Afghanistan Asia      1957 30.332  9240934 820.8530 "
      ]
     },
     "metadata": {},
     "output_type": "display_data"
    }
   ],
   "source": [
    "library(gapminder)\n",
    "gapminder %>% head(2)"
   ]
  },
  {
   "cell_type": "markdown",
   "metadata": {},
   "source": [
    "## 2.B Filter data"
   ]
  },
  {
   "cell_type": "code",
   "execution_count": 25,
   "metadata": {},
   "outputs": [],
   "source": [
    "gapminder_2007 = gapminder %>% filter(year==2007)"
   ]
  },
  {
   "cell_type": "markdown",
   "metadata": {},
   "source": [
    "## 2.1 Merge rows"
   ]
  },
  {
   "cell_type": "code",
   "execution_count": 26,
   "metadata": {},
   "outputs": [
    {
     "data": {
      "text/html": [
       "<table>\n",
       "<thead><tr><th scope=col>country</th><th scope=col>continent</th><th scope=col>year</th><th scope=col>lifeExp</th><th scope=col>pop</th><th scope=col>gdpPercap</th></tr></thead>\n",
       "<tbody>\n",
       "\t<tr><td>Afghanistan</td><td>Asia       </td><td>2007       </td><td>43.828     </td><td>31889923   </td><td> 974.5803  </td></tr>\n",
       "\t<tr><td>Albania    </td><td>Europe     </td><td>2007       </td><td>76.423     </td><td> 3600523   </td><td>5937.0295  </td></tr>\n",
       "\t<tr><td>Algeria    </td><td>Africa     </td><td>2007       </td><td>72.301     </td><td>33333216   </td><td>6223.3675  </td></tr>\n",
       "</tbody>\n",
       "</table>\n"
      ],
      "text/latex": [
       "\\begin{tabular}{r|llllll}\n",
       " country & continent & year & lifeExp & pop & gdpPercap\\\\\n",
       "\\hline\n",
       "\t Afghanistan & Asia        & 2007        & 43.828      & 31889923    &  974.5803  \\\\\n",
       "\t Albania     & Europe      & 2007        & 76.423      &  3600523    & 5937.0295  \\\\\n",
       "\t Algeria     & Africa      & 2007        & 72.301      & 33333216    & 6223.3675  \\\\\n",
       "\\end{tabular}\n"
      ],
      "text/markdown": [
       "\n",
       "| country | continent | year | lifeExp | pop | gdpPercap |\n",
       "|---|---|---|---|---|---|\n",
       "| Afghanistan | Asia        | 2007        | 43.828      | 31889923    |  974.5803   |\n",
       "| Albania     | Europe      | 2007        | 76.423      |  3600523    | 5937.0295   |\n",
       "| Algeria     | Africa      | 2007        | 72.301      | 33333216    | 6223.3675   |\n",
       "\n"
      ],
      "text/plain": [
       "  country     continent year lifeExp pop      gdpPercap\n",
       "1 Afghanistan Asia      2007 43.828  31889923  974.5803\n",
       "2 Albania     Europe    2007 76.423   3600523 5937.0295\n",
       "3 Algeria     Africa    2007 72.301  33333216 6223.3675"
      ]
     },
     "metadata": {},
     "output_type": "display_data"
    }
   ],
   "source": [
    "df_1 = gapminder_2007[1:3, ]\n",
    "df_1"
   ]
  },
  {
   "cell_type": "code",
   "execution_count": 27,
   "metadata": {},
   "outputs": [
    {
     "data": {
      "text/html": [
       "<table>\n",
       "<thead><tr><th scope=col>country</th><th scope=col>continent</th><th scope=col>year</th><th scope=col>lifeExp</th><th scope=col>pop</th><th scope=col>gdpPercap</th></tr></thead>\n",
       "<tbody>\n",
       "\t<tr><td>Argentina</td><td>Americas </td><td>2007     </td><td>75.320   </td><td>40301927 </td><td>12779.38 </td></tr>\n",
       "\t<tr><td>Australia</td><td>Oceania  </td><td>2007     </td><td>81.235   </td><td>20434176 </td><td>34435.37 </td></tr>\n",
       "\t<tr><td>Austria  </td><td>Europe   </td><td>2007     </td><td>79.829   </td><td> 8199783 </td><td>36126.49 </td></tr>\n",
       "</tbody>\n",
       "</table>\n"
      ],
      "text/latex": [
       "\\begin{tabular}{r|llllll}\n",
       " country & continent & year & lifeExp & pop & gdpPercap\\\\\n",
       "\\hline\n",
       "\t Argentina & Americas  & 2007      & 75.320    & 40301927  & 12779.38 \\\\\n",
       "\t Australia & Oceania   & 2007      & 81.235    & 20434176  & 34435.37 \\\\\n",
       "\t Austria   & Europe    & 2007      & 79.829    &  8199783  & 36126.49 \\\\\n",
       "\\end{tabular}\n"
      ],
      "text/markdown": [
       "\n",
       "| country | continent | year | lifeExp | pop | gdpPercap |\n",
       "|---|---|---|---|---|---|\n",
       "| Argentina | Americas  | 2007      | 75.320    | 40301927  | 12779.38  |\n",
       "| Australia | Oceania   | 2007      | 81.235    | 20434176  | 34435.37  |\n",
       "| Austria   | Europe    | 2007      | 79.829    |  8199783  | 36126.49  |\n",
       "\n"
      ],
      "text/plain": [
       "  country   continent year lifeExp pop      gdpPercap\n",
       "1 Argentina Americas  2007 75.320  40301927 12779.38 \n",
       "2 Australia Oceania   2007 81.235  20434176 34435.37 \n",
       "3 Austria   Europe    2007 79.829   8199783 36126.49 "
      ]
     },
     "metadata": {},
     "output_type": "display_data"
    }
   ],
   "source": [
    "df_2 = gapminder_2007[5:7, ]\n",
    "df_2"
   ]
  },
  {
   "cell_type": "code",
   "execution_count": 28,
   "metadata": {},
   "outputs": [
    {
     "data": {
      "text/html": [
       "<table>\n",
       "<thead><tr><th scope=col>country</th><th scope=col>continent</th><th scope=col>year</th><th scope=col>lifeExp</th><th scope=col>pop</th><th scope=col>gdpPercap</th></tr></thead>\n",
       "<tbody>\n",
       "\t<tr><td>Afghanistan</td><td>Asia       </td><td>2007       </td><td>43.828     </td><td>31889923   </td><td>  974.5803 </td></tr>\n",
       "\t<tr><td>Albania    </td><td>Europe     </td><td>2007       </td><td>76.423     </td><td> 3600523   </td><td> 5937.0295 </td></tr>\n",
       "\t<tr><td>Algeria    </td><td>Africa     </td><td>2007       </td><td>72.301     </td><td>33333216   </td><td> 6223.3675 </td></tr>\n",
       "\t<tr><td>Argentina  </td><td>Americas   </td><td>2007       </td><td>75.320     </td><td>40301927   </td><td>12779.3796 </td></tr>\n",
       "\t<tr><td>Australia  </td><td>Oceania    </td><td>2007       </td><td>81.235     </td><td>20434176   </td><td>34435.3674 </td></tr>\n",
       "\t<tr><td>Austria    </td><td>Europe     </td><td>2007       </td><td>79.829     </td><td> 8199783   </td><td>36126.4927 </td></tr>\n",
       "</tbody>\n",
       "</table>\n"
      ],
      "text/latex": [
       "\\begin{tabular}{r|llllll}\n",
       " country & continent & year & lifeExp & pop & gdpPercap\\\\\n",
       "\\hline\n",
       "\t Afghanistan & Asia        & 2007        & 43.828      & 31889923    &   974.5803 \\\\\n",
       "\t Albania     & Europe      & 2007        & 76.423      &  3600523    &  5937.0295 \\\\\n",
       "\t Algeria     & Africa      & 2007        & 72.301      & 33333216    &  6223.3675 \\\\\n",
       "\t Argentina   & Americas    & 2007        & 75.320      & 40301927    & 12779.3796 \\\\\n",
       "\t Australia   & Oceania     & 2007        & 81.235      & 20434176    & 34435.3674 \\\\\n",
       "\t Austria     & Europe      & 2007        & 79.829      &  8199783    & 36126.4927 \\\\\n",
       "\\end{tabular}\n"
      ],
      "text/markdown": [
       "\n",
       "| country | continent | year | lifeExp | pop | gdpPercap |\n",
       "|---|---|---|---|---|---|\n",
       "| Afghanistan | Asia        | 2007        | 43.828      | 31889923    |   974.5803  |\n",
       "| Albania     | Europe      | 2007        | 76.423      |  3600523    |  5937.0295  |\n",
       "| Algeria     | Africa      | 2007        | 72.301      | 33333216    |  6223.3675  |\n",
       "| Argentina   | Americas    | 2007        | 75.320      | 40301927    | 12779.3796  |\n",
       "| Australia   | Oceania     | 2007        | 81.235      | 20434176    | 34435.3674  |\n",
       "| Austria     | Europe      | 2007        | 79.829      |  8199783    | 36126.4927  |\n",
       "\n"
      ],
      "text/plain": [
       "  country     continent year lifeExp pop      gdpPercap \n",
       "1 Afghanistan Asia      2007 43.828  31889923   974.5803\n",
       "2 Albania     Europe    2007 76.423   3600523  5937.0295\n",
       "3 Algeria     Africa    2007 72.301  33333216  6223.3675\n",
       "4 Argentina   Americas  2007 75.320  40301927 12779.3796\n",
       "5 Australia   Oceania   2007 81.235  20434176 34435.3674\n",
       "6 Austria     Europe    2007 79.829   8199783 36126.4927"
      ]
     },
     "metadata": {},
     "output_type": "display_data"
    }
   ],
   "source": [
    "rbind(df_1, df_2)"
   ]
  },
  {
   "cell_type": "markdown",
   "metadata": {},
   "source": [
    "## 2.2 Merge columns"
   ]
  },
  {
   "cell_type": "code",
   "execution_count": 29,
   "metadata": {},
   "outputs": [
    {
     "data": {
      "text/html": [
       "<table>\n",
       "<thead><tr><th scope=col>year</th><th scope=col>lifeExp</th></tr></thead>\n",
       "<tbody>\n",
       "\t<tr><td>2007  </td><td>43.828</td></tr>\n",
       "\t<tr><td>2007  </td><td>76.423</td></tr>\n",
       "\t<tr><td>2007  </td><td>72.301</td></tr>\n",
       "</tbody>\n",
       "</table>\n"
      ],
      "text/latex": [
       "\\begin{tabular}{r|ll}\n",
       " year & lifeExp\\\\\n",
       "\\hline\n",
       "\t 2007   & 43.828\\\\\n",
       "\t 2007   & 76.423\\\\\n",
       "\t 2007   & 72.301\\\\\n",
       "\\end{tabular}\n"
      ],
      "text/markdown": [
       "\n",
       "| year | lifeExp |\n",
       "|---|---|\n",
       "| 2007   | 43.828 |\n",
       "| 2007   | 76.423 |\n",
       "| 2007   | 72.301 |\n",
       "\n"
      ],
      "text/plain": [
       "  year lifeExp\n",
       "1 2007 43.828 \n",
       "2 2007 76.423 \n",
       "3 2007 72.301 "
      ]
     },
     "metadata": {},
     "output_type": "display_data"
    }
   ],
   "source": [
    "df_1 = gapminder_2007[1:3, c('year','lifeExp')]\n",
    "df_1"
   ]
  },
  {
   "cell_type": "code",
   "execution_count": 30,
   "metadata": {},
   "outputs": [
    {
     "data": {
      "text/html": [
       "<table>\n",
       "<thead><tr><th scope=col>continent</th><th scope=col>country</th></tr></thead>\n",
       "<tbody>\n",
       "\t<tr><td>Americas </td><td>Argentina</td></tr>\n",
       "\t<tr><td>Oceania  </td><td>Australia</td></tr>\n",
       "\t<tr><td>Europe   </td><td>Austria  </td></tr>\n",
       "</tbody>\n",
       "</table>\n"
      ],
      "text/latex": [
       "\\begin{tabular}{r|ll}\n",
       " continent & country\\\\\n",
       "\\hline\n",
       "\t Americas  & Argentina\\\\\n",
       "\t Oceania   & Australia\\\\\n",
       "\t Europe    & Austria  \\\\\n",
       "\\end{tabular}\n"
      ],
      "text/markdown": [
       "\n",
       "| continent | country |\n",
       "|---|---|\n",
       "| Americas  | Argentina |\n",
       "| Oceania   | Australia |\n",
       "| Europe    | Austria   |\n",
       "\n"
      ],
      "text/plain": [
       "  continent country  \n",
       "1 Americas  Argentina\n",
       "2 Oceania   Australia\n",
       "3 Europe    Austria  "
      ]
     },
     "metadata": {},
     "output_type": "display_data"
    }
   ],
   "source": [
    "df_2 = gapminder_2007[5:7, c('continent','country')]\n",
    "df_2"
   ]
  },
  {
   "cell_type": "code",
   "execution_count": 31,
   "metadata": {},
   "outputs": [
    {
     "data": {
      "text/html": [
       "<table>\n",
       "<thead><tr><th scope=col>year</th><th scope=col>lifeExp</th><th scope=col>continent</th><th scope=col>country</th></tr></thead>\n",
       "<tbody>\n",
       "\t<tr><td>2007     </td><td>43.828   </td><td>Americas </td><td>Argentina</td></tr>\n",
       "\t<tr><td>2007     </td><td>76.423   </td><td>Oceania  </td><td>Australia</td></tr>\n",
       "\t<tr><td>2007     </td><td>72.301   </td><td>Europe   </td><td>Austria  </td></tr>\n",
       "</tbody>\n",
       "</table>\n"
      ],
      "text/latex": [
       "\\begin{tabular}{r|llll}\n",
       " year & lifeExp & continent & country\\\\\n",
       "\\hline\n",
       "\t 2007      & 43.828    & Americas  & Argentina\\\\\n",
       "\t 2007      & 76.423    & Oceania   & Australia\\\\\n",
       "\t 2007      & 72.301    & Europe    & Austria  \\\\\n",
       "\\end{tabular}\n"
      ],
      "text/markdown": [
       "\n",
       "| year | lifeExp | continent | country |\n",
       "|---|---|---|---|\n",
       "| 2007      | 43.828    | Americas  | Argentina |\n",
       "| 2007      | 76.423    | Oceania   | Australia |\n",
       "| 2007      | 72.301    | Europe    | Austria   |\n",
       "\n"
      ],
      "text/plain": [
       "  year lifeExp continent country  \n",
       "1 2007 43.828  Americas  Argentina\n",
       "2 2007 76.423  Oceania   Australia\n",
       "3 2007 72.301  Europe    Austria  "
      ]
     },
     "metadata": {},
     "output_type": "display_data"
    }
   ],
   "source": [
    "cbind(df_1, df_2)"
   ]
  },
  {
   "cell_type": "markdown",
   "metadata": {},
   "source": [
    "## 2.3 Merge rows and columns"
   ]
  },
  {
   "cell_type": "markdown",
   "metadata": {},
   "source": [
    "### 2.3.1 Case data"
   ]
  },
  {
   "cell_type": "code",
   "execution_count": 32,
   "metadata": {},
   "outputs": [
    {
     "data": {
      "text/html": [
       "<table>\n",
       "<thead><tr><th scope=col>date</th><th scope=col>county</th><th scope=col>state</th><th scope=col>fips</th><th scope=col>cases</th><th scope=col>deaths</th></tr></thead>\n",
       "<tbody>\n",
       "\t<tr><td>2020-01-21</td><td>Snohomish </td><td>Washington</td><td>53061     </td><td>1         </td><td>0         </td></tr>\n",
       "\t<tr><td>2020-01-22</td><td>Snohomish </td><td>Washington</td><td>53061     </td><td>1         </td><td>0         </td></tr>\n",
       "</tbody>\n",
       "</table>\n"
      ],
      "text/latex": [
       "\\begin{tabular}{r|llllll}\n",
       " date & county & state & fips & cases & deaths\\\\\n",
       "\\hline\n",
       "\t 2020-01-21 & Snohomish  & Washington & 53061      & 1          & 0         \\\\\n",
       "\t 2020-01-22 & Snohomish  & Washington & 53061      & 1          & 0         \\\\\n",
       "\\end{tabular}\n"
      ],
      "text/markdown": [
       "\n",
       "| date | county | state | fips | cases | deaths |\n",
       "|---|---|---|---|---|---|\n",
       "| 2020-01-21 | Snohomish  | Washington | 53061      | 1          | 0          |\n",
       "| 2020-01-22 | Snohomish  | Washington | 53061      | 1          | 0          |\n",
       "\n"
      ],
      "text/plain": [
       "  date       county    state      fips  cases deaths\n",
       "1 2020-01-21 Snohomish Washington 53061 1     0     \n",
       "2 2020-01-22 Snohomish Washington 53061 1     0     "
      ]
     },
     "metadata": {},
     "output_type": "display_data"
    }
   ],
   "source": [
    "url = 'https://raw.githubusercontent.com/nytimes/covid-19-data/master/us-counties.csv'\n",
    "nyt_cases_df = read.csv(url)\n",
    "nyt_cases_df  %>% head(2)"
   ]
  },
  {
   "cell_type": "markdown",
   "metadata": {},
   "source": [
    "### 2.3.2 Mask data"
   ]
  },
  {
   "cell_type": "code",
   "execution_count": 33,
   "metadata": {},
   "outputs": [
    {
     "data": {
      "text/html": [
       "<table>\n",
       "<thead><tr><th scope=col>COUNTYFP</th><th scope=col>NEVER</th><th scope=col>RARELY</th><th scope=col>SOMETIMES</th><th scope=col>FREQUENTLY</th><th scope=col>ALWAYS</th></tr></thead>\n",
       "<tbody>\n",
       "\t<tr><td>1001 </td><td>0.053</td><td>0.074</td><td>0.134</td><td>0.295</td><td>0.444</td></tr>\n",
       "\t<tr><td>1003 </td><td>0.083</td><td>0.059</td><td>0.098</td><td>0.323</td><td>0.436</td></tr>\n",
       "</tbody>\n",
       "</table>\n"
      ],
      "text/latex": [
       "\\begin{tabular}{r|llllll}\n",
       " COUNTYFP & NEVER & RARELY & SOMETIMES & FREQUENTLY & ALWAYS\\\\\n",
       "\\hline\n",
       "\t 1001  & 0.053 & 0.074 & 0.134 & 0.295 & 0.444\\\\\n",
       "\t 1003  & 0.083 & 0.059 & 0.098 & 0.323 & 0.436\\\\\n",
       "\\end{tabular}\n"
      ],
      "text/markdown": [
       "\n",
       "| COUNTYFP | NEVER | RARELY | SOMETIMES | FREQUENTLY | ALWAYS |\n",
       "|---|---|---|---|---|---|\n",
       "| 1001  | 0.053 | 0.074 | 0.134 | 0.295 | 0.444 |\n",
       "| 1003  | 0.083 | 0.059 | 0.098 | 0.323 | 0.436 |\n",
       "\n"
      ],
      "text/plain": [
       "  COUNTYFP NEVER RARELY SOMETIMES FREQUENTLY ALWAYS\n",
       "1 1001     0.053 0.074  0.134     0.295      0.444 \n",
       "2 1003     0.083 0.059  0.098     0.323      0.436 "
      ]
     },
     "metadata": {},
     "output_type": "display_data"
    }
   ],
   "source": [
    "url = 'https://raw.githubusercontent.com/nytimes/covid-19-data/master/mask-use/mask-use-by-county.csv'\n",
    "nyt_mask_df = read.csv(url)\n",
    "nyt_mask_df %>% head(2)"
   ]
  },
  {
   "cell_type": "markdown",
   "metadata": {},
   "source": [
    "### 2.3.3 Merge"
   ]
  },
  {
   "cell_type": "markdown",
   "metadata": {},
   "source": [
    "#### 5.3.3.1 For the column merge on make sure the name is the same in both data sets"
   ]
  },
  {
   "cell_type": "code",
   "execution_count": 34,
   "metadata": {},
   "outputs": [],
   "source": [
    "library(dplyr)"
   ]
  },
  {
   "cell_type": "code",
   "execution_count": 35,
   "metadata": {},
   "outputs": [
    {
     "data": {
      "text/html": [
       "<ol class=list-inline>\n",
       "\t<li>'fips'</li>\n",
       "\t<li>'NEVER'</li>\n",
       "\t<li>'RARELY'</li>\n",
       "\t<li>'SOMETIMES'</li>\n",
       "\t<li>'FREQUENTLY'</li>\n",
       "\t<li>'ALWAYS'</li>\n",
       "</ol>\n"
      ],
      "text/latex": [
       "\\begin{enumerate*}\n",
       "\\item 'fips'\n",
       "\\item 'NEVER'\n",
       "\\item 'RARELY'\n",
       "\\item 'SOMETIMES'\n",
       "\\item 'FREQUENTLY'\n",
       "\\item 'ALWAYS'\n",
       "\\end{enumerate*}\n"
      ],
      "text/markdown": [
       "1. 'fips'\n",
       "2. 'NEVER'\n",
       "3. 'RARELY'\n",
       "4. 'SOMETIMES'\n",
       "5. 'FREQUENTLY'\n",
       "6. 'ALWAYS'\n",
       "\n",
       "\n"
      ],
      "text/plain": [
       "[1] \"fips\"       \"NEVER\"      \"RARELY\"     \"SOMETIMES\"  \"FREQUENTLY\"\n",
       "[6] \"ALWAYS\"    "
      ]
     },
     "metadata": {},
     "output_type": "display_data"
    }
   ],
   "source": [
    "nyt_mask_df = nyt_mask_df %>% rename('fips' = 'COUNTYFP' )\n",
    "nyt_mask_df %>% names()"
   ]
  },
  {
   "cell_type": "code",
   "execution_count": 36,
   "metadata": {},
   "outputs": [
    {
     "data": {
      "text/html": [
       "<table>\n",
       "<thead><tr><th scope=col>fips</th><th scope=col>date</th><th scope=col>county</th><th scope=col>state</th><th scope=col>cases</th><th scope=col>deaths</th><th scope=col>NEVER</th><th scope=col>RARELY</th><th scope=col>SOMETIMES</th><th scope=col>FREQUENTLY</th><th scope=col>ALWAYS</th></tr></thead>\n",
       "<tbody>\n",
       "\t<tr><td>1001      </td><td>2020-05-15</td><td>Autauga   </td><td>Alabama   </td><td> 103      </td><td> 4        </td><td>0.053     </td><td>0.074     </td><td>0.134     </td><td>0.295     </td><td>0.444     </td></tr>\n",
       "\t<tr><td>1001      </td><td>2021-04-02</td><td>Autauga   </td><td>Alabama   </td><td>6606      </td><td>99        </td><td>0.053     </td><td>0.074     </td><td>0.134     </td><td>0.295     </td><td>0.444     </td></tr>\n",
       "\t<tr><td>1001      </td><td>2020-04-05</td><td>Autauga   </td><td>Alabama   </td><td>  12      </td><td> 0        </td><td>0.053     </td><td>0.074     </td><td>0.134     </td><td>0.295     </td><td>0.444     </td></tr>\n",
       "</tbody>\n",
       "</table>\n"
      ],
      "text/latex": [
       "\\begin{tabular}{r|lllllllllll}\n",
       " fips & date & county & state & cases & deaths & NEVER & RARELY & SOMETIMES & FREQUENTLY & ALWAYS\\\\\n",
       "\\hline\n",
       "\t 1001       & 2020-05-15 & Autauga    & Alabama    &  103       &  4         & 0.053      & 0.074      & 0.134      & 0.295      & 0.444     \\\\\n",
       "\t 1001       & 2021-04-02 & Autauga    & Alabama    & 6606       & 99         & 0.053      & 0.074      & 0.134      & 0.295      & 0.444     \\\\\n",
       "\t 1001       & 2020-04-05 & Autauga    & Alabama    &   12       &  0         & 0.053      & 0.074      & 0.134      & 0.295      & 0.444     \\\\\n",
       "\\end{tabular}\n"
      ],
      "text/markdown": [
       "\n",
       "| fips | date | county | state | cases | deaths | NEVER | RARELY | SOMETIMES | FREQUENTLY | ALWAYS |\n",
       "|---|---|---|---|---|---|---|---|---|---|---|\n",
       "| 1001       | 2020-05-15 | Autauga    | Alabama    |  103       |  4         | 0.053      | 0.074      | 0.134      | 0.295      | 0.444      |\n",
       "| 1001       | 2021-04-02 | Autauga    | Alabama    | 6606       | 99         | 0.053      | 0.074      | 0.134      | 0.295      | 0.444      |\n",
       "| 1001       | 2020-04-05 | Autauga    | Alabama    |   12       |  0         | 0.053      | 0.074      | 0.134      | 0.295      | 0.444      |\n",
       "\n"
      ],
      "text/plain": [
       "  fips date       county  state   cases deaths NEVER RARELY SOMETIMES\n",
       "1 1001 2020-05-15 Autauga Alabama  103   4     0.053 0.074  0.134    \n",
       "2 1001 2021-04-02 Autauga Alabama 6606  99     0.053 0.074  0.134    \n",
       "3 1001 2020-04-05 Autauga Alabama   12   0     0.053 0.074  0.134    \n",
       "  FREQUENTLY ALWAYS\n",
       "1 0.295      0.444 \n",
       "2 0.295      0.444 \n",
       "3 0.295      0.444 "
      ]
     },
     "metadata": {},
     "output_type": "display_data"
    }
   ],
   "source": [
    "merge(nyt_cases_df, nyt_mask_df, by='fips') %>% head(3)"
   ]
  },
  {
   "cell_type": "markdown",
   "metadata": {},
   "source": [
    "# 3. Other models"
   ]
  },
  {
   "cell_type": "markdown",
   "metadata": {},
   "source": [
    "## 3.1 Fixed effects"
   ]
  },
  {
   "cell_type": "code",
   "execution_count": 37,
   "metadata": {},
   "outputs": [
    {
     "name": "stderr",
     "output_type": "stream",
     "text": [
      "\n",
      "Attaching package: ‘plm’\n",
      "\n",
      "The following objects are masked from ‘package:dplyr’:\n",
      "\n",
      "    between, lag, lead\n",
      "\n"
     ]
    }
   ],
   "source": [
    "library(plm)"
   ]
  },
  {
   "cell_type": "code",
   "execution_count": 38,
   "metadata": {},
   "outputs": [
    {
     "data": {
      "text/html": [
       "<table>\n",
       "<thead><tr><th scope=col>firm</th><th scope=col>year</th><th scope=col>inv</th><th scope=col>value</th><th scope=col>capital</th></tr></thead>\n",
       "<tbody>\n",
       "\t<tr><td>1     </td><td>1935  </td><td>317.6 </td><td>3078.5</td><td>  2.8 </td></tr>\n",
       "\t<tr><td>1     </td><td>1936  </td><td>391.8 </td><td>4661.7</td><td> 52.6 </td></tr>\n",
       "\t<tr><td>1     </td><td>1937  </td><td>410.6 </td><td>5387.1</td><td>156.9 </td></tr>\n",
       "</tbody>\n",
       "</table>\n"
      ],
      "text/latex": [
       "\\begin{tabular}{r|lllll}\n",
       " firm & year & inv & value & capital\\\\\n",
       "\\hline\n",
       "\t 1      & 1935   & 317.6  & 3078.5 &   2.8 \\\\\n",
       "\t 1      & 1936   & 391.8  & 4661.7 &  52.6 \\\\\n",
       "\t 1      & 1937   & 410.6  & 5387.1 & 156.9 \\\\\n",
       "\\end{tabular}\n"
      ],
      "text/markdown": [
       "\n",
       "| firm | year | inv | value | capital |\n",
       "|---|---|---|---|---|\n",
       "| 1      | 1935   | 317.6  | 3078.5 |   2.8  |\n",
       "| 1      | 1936   | 391.8  | 4661.7 |  52.6  |\n",
       "| 1      | 1937   | 410.6  | 5387.1 | 156.9  |\n",
       "\n"
      ],
      "text/plain": [
       "  firm year inv   value  capital\n",
       "1 1    1935 317.6 3078.5   2.8  \n",
       "2 1    1936 391.8 4661.7  52.6  \n",
       "3 1    1937 410.6 5387.1 156.9  "
      ]
     },
     "metadata": {},
     "output_type": "display_data"
    }
   ],
   "source": [
    "data(\"Grunfeld\", package=\"plm\")\n",
    "Grunfeld  %>% head(3)"
   ]
  },
  {
   "cell_type": "markdown",
   "metadata": {},
   "source": [
    "### 3.1.1 Fixed effects: Individual fixed effects\n"
   ]
  },
  {
   "cell_type": "code",
   "execution_count": 39,
   "metadata": {},
   "outputs": [
    {
     "data": {
      "text/plain": [
       "Oneway (individual) effect Within Model\n",
       "\n",
       "Call:\n",
       "plm(formula = inv ~ value + capital, data = Grunfeld, model = \"within\", \n",
       "    index = c(\"firm\", \"year\"))\n",
       "\n",
       "Balanced Panel: n = 10, T = 20, N = 200\n",
       "\n",
       "Residuals:\n",
       "      Min.    1st Qu.     Median    3rd Qu.       Max. \n",
       "-184.00857  -17.64316    0.56337   19.19222  250.70974 \n",
       "\n",
       "Coefficients:\n",
       "        Estimate Std. Error t-value  Pr(>|t|)    \n",
       "value   0.110124   0.011857  9.2879 < 2.2e-16 ***\n",
       "capital 0.310065   0.017355 17.8666 < 2.2e-16 ***\n",
       "---\n",
       "Signif. codes:  0 ‘***’ 0.001 ‘**’ 0.01 ‘*’ 0.05 ‘.’ 0.1 ‘ ’ 1\n",
       "\n",
       "Total Sum of Squares:    2244400\n",
       "Residual Sum of Squares: 523480\n",
       "R-Squared:      0.76676\n",
       "Adj. R-Squared: 0.75311\n",
       "F-statistic: 309.014 on 2 and 188 DF, p-value: < 2.22e-16"
      ]
     },
     "metadata": {},
     "output_type": "display_data"
    }
   ],
   "source": [
    "grun.fe <- plm(inv~value+capital, \n",
    "               index=c('firm','year'), \n",
    "               data = Grunfeld, \n",
    "               model = \"within\")\n",
    "\n",
    "summary(grun.fe)"
   ]
  },
  {
   "cell_type": "markdown",
   "metadata": {},
   "source": [
    "### 3.1.2 Fixed effects: Individual AND time fixed effects"
   ]
  },
  {
   "cell_type": "code",
   "execution_count": 40,
   "metadata": {},
   "outputs": [
    {
     "data": {
      "text/html": [
       "<table>\n",
       "<thead><tr><th></th><th scope=col>Estimate</th><th scope=col>Std. Error</th><th scope=col>t-value</th><th scope=col>Pr(&gt;|t|)</th></tr></thead>\n",
       "<tbody>\n",
       "\t<tr><th scope=row>value</th><td>0.1177159   </td><td>0.01375128  </td><td> 8.560354   </td><td>6.652575e-15</td></tr>\n",
       "\t<tr><th scope=row>capital</th><td>0.3579163   </td><td>0.02271901  </td><td>15.754043   </td><td>5.453066e-35</td></tr>\n",
       "</tbody>\n",
       "</table>\n"
      ],
      "text/latex": [
       "\\begin{tabular}{r|llll}\n",
       "  & Estimate & Std. Error & t-value & Pr(>\\textbar{}t\\textbar{})\\\\\n",
       "\\hline\n",
       "\tvalue & 0.1177159    & 0.01375128   &  8.560354    & 6.652575e-15\\\\\n",
       "\tcapital & 0.3579163    & 0.02271901   & 15.754043    & 5.453066e-35\\\\\n",
       "\\end{tabular}\n"
      ],
      "text/markdown": [
       "\n",
       "| <!--/--> | Estimate | Std. Error | t-value | Pr(>|t|) |\n",
       "|---|---|---|---|---|\n",
       "| value | 0.1177159    | 0.01375128   |  8.560354    | 6.652575e-15 |\n",
       "| capital | 0.3579163    | 0.02271901   | 15.754043    | 5.453066e-35 |\n",
       "\n"
      ],
      "text/plain": [
       "        Estimate  Std. Error t-value   Pr(>|t|)    \n",
       "value   0.1177159 0.01375128  8.560354 6.652575e-15\n",
       "capital 0.3579163 0.02271901 15.754043 5.453066e-35"
      ]
     },
     "metadata": {},
     "output_type": "display_data"
    }
   ],
   "source": [
    "#Method 1: factor(year)\n",
    "grun.fe <- plm(inv~value+capital+factor(year), index=c('firm','year'), data = Grunfeld, model = \"within\")\n",
    "\n",
    "#Method 2: effect='twoways'\n",
    "grun.fe <- plm(inv~value+capital, index=c('firm','year'), data = Grunfeld, model = \"within\", effect='twoways')\n",
    "summary(grun.fe)$coefficients"
   ]
  },
  {
   "cell_type": "markdown",
   "metadata": {},
   "source": [
    "### 3.1.3 Standard errors\n",
    "### 3.1.3.1 Baseline standard error"
   ]
  },
  {
   "cell_type": "code",
   "execution_count": 41,
   "metadata": {},
   "outputs": [
    {
     "data": {
      "text/html": [
       "<table>\n",
       "<thead><tr><th></th><th scope=col>Estimate</th><th scope=col>Std. Error</th><th scope=col>t-value</th><th scope=col>Pr(&gt;|t|)</th></tr></thead>\n",
       "<tbody>\n",
       "\t<tr><th scope=row>value</th><td>0.1177159   </td><td>0.01375128  </td><td> 8.560354   </td><td>6.652575e-15</td></tr>\n",
       "\t<tr><th scope=row>capital</th><td>0.3579163   </td><td>0.02271901  </td><td>15.754043   </td><td>5.453066e-35</td></tr>\n",
       "</tbody>\n",
       "</table>\n"
      ],
      "text/latex": [
       "\\begin{tabular}{r|llll}\n",
       "  & Estimate & Std. Error & t-value & Pr(>\\textbar{}t\\textbar{})\\\\\n",
       "\\hline\n",
       "\tvalue & 0.1177159    & 0.01375128   &  8.560354    & 6.652575e-15\\\\\n",
       "\tcapital & 0.3579163    & 0.02271901   & 15.754043    & 5.453066e-35\\\\\n",
       "\\end{tabular}\n"
      ],
      "text/markdown": [
       "\n",
       "| <!--/--> | Estimate | Std. Error | t-value | Pr(>|t|) |\n",
       "|---|---|---|---|---|\n",
       "| value | 0.1177159    | 0.01375128   |  8.560354    | 6.652575e-15 |\n",
       "| capital | 0.3579163    | 0.02271901   | 15.754043    | 5.453066e-35 |\n",
       "\n"
      ],
      "text/plain": [
       "        Estimate  Std. Error t-value   Pr(>|t|)    \n",
       "value   0.1177159 0.01375128  8.560354 6.652575e-15\n",
       "capital 0.3579163 0.02271901 15.754043 5.453066e-35"
      ]
     },
     "metadata": {},
     "output_type": "display_data"
    }
   ],
   "source": [
    "summary(grun.fe)$coefficients"
   ]
  },
  {
   "cell_type": "markdown",
   "metadata": {},
   "source": [
    "### 3.1.1.2 Clustered standard error"
   ]
  },
  {
   "cell_type": "code",
   "execution_count": 42,
   "metadata": {},
   "outputs": [
    {
     "name": "stderr",
     "output_type": "stream",
     "text": [
      "Loading required package: zoo\n",
      "\n",
      "Attaching package: ‘zoo’\n",
      "\n",
      "The following objects are masked from ‘package:base’:\n",
      "\n",
      "    as.Date, as.Date.numeric\n",
      "\n"
     ]
    }
   ],
   "source": [
    "library(lmtest)"
   ]
  },
  {
   "cell_type": "code",
   "execution_count": 43,
   "metadata": {},
   "outputs": [
    {
     "data": {
      "text/plain": [
       "\n",
       "t test of coefficients:\n",
       "\n",
       "        Estimate Std. Error t value  Pr(>|t|)    \n",
       "value   0.117716   0.009712  12.121 < 2.2e-16 ***\n",
       "capital 0.357916   0.042931   8.337 2.552e-14 ***\n",
       "---\n",
       "Signif. codes:  0 ‘***’ 0.001 ‘**’ 0.01 ‘*’ 0.05 ‘.’ 0.1 ‘ ’ 1\n"
      ]
     },
     "metadata": {},
     "output_type": "display_data"
    }
   ],
   "source": [
    "coeftest(grun.fe, vcovHC(grun.fe, type = 'HC0', cluster = c('group','time')))"
   ]
  },
  {
   "cell_type": "markdown",
   "metadata": {},
   "source": [
    "## 3.2 Random effects"
   ]
  },
  {
   "cell_type": "code",
   "execution_count": 44,
   "metadata": {},
   "outputs": [
    {
     "data": {
      "text/html": [
       "<table>\n",
       "<thead><tr><th></th><th scope=col>Estimate</th><th scope=col>Std. Error</th><th scope=col>z-value</th><th scope=col>Pr(&gt;|z|)</th></tr></thead>\n",
       "<tbody>\n",
       "\t<tr><th scope=row>(Intercept)</th><td>-57.8344149 </td><td>28.89893526 </td><td>-2.001265   </td><td>4.536389e-02</td></tr>\n",
       "\t<tr><th scope=row>value</th><td>  0.1097812 </td><td> 0.01049266 </td><td>10.462658   </td><td>1.282075e-25</td></tr>\n",
       "\t<tr><th scope=row>capital</th><td>  0.3081130 </td><td> 0.01718047 </td><td>17.933910   </td><td>6.410879e-72</td></tr>\n",
       "</tbody>\n",
       "</table>\n"
      ],
      "text/latex": [
       "\\begin{tabular}{r|llll}\n",
       "  & Estimate & Std. Error & z-value & Pr(>\\textbar{}z\\textbar{})\\\\\n",
       "\\hline\n",
       "\t(Intercept) & -57.8344149  & 28.89893526  & -2.001265    & 4.536389e-02\\\\\n",
       "\tvalue &   0.1097812  &  0.01049266  & 10.462658    & 1.282075e-25\\\\\n",
       "\tcapital &   0.3081130  &  0.01718047  & 17.933910    & 6.410879e-72\\\\\n",
       "\\end{tabular}\n"
      ],
      "text/markdown": [
       "\n",
       "| <!--/--> | Estimate | Std. Error | z-value | Pr(>|z|) |\n",
       "|---|---|---|---|---|\n",
       "| (Intercept) | -57.8344149  | 28.89893526  | -2.001265    | 4.536389e-02 |\n",
       "| value |   0.1097812  |  0.01049266  | 10.462658    | 1.282075e-25 |\n",
       "| capital |   0.3081130  |  0.01718047  | 17.933910    | 6.410879e-72 |\n",
       "\n"
      ],
      "text/plain": [
       "            Estimate    Std. Error  z-value   Pr(>|z|)    \n",
       "(Intercept) -57.8344149 28.89893526 -2.001265 4.536389e-02\n",
       "value         0.1097812  0.01049266 10.462658 1.282075e-25\n",
       "capital       0.3081130  0.01718047 17.933910 6.410879e-72"
      ]
     },
     "metadata": {},
     "output_type": "display_data"
    }
   ],
   "source": [
    "grun.re <- plm(inv~value+capital,\n",
    "               index=c('firm','year'), \n",
    "               data = Grunfeld, \n",
    "               model = \"random\")\n",
    "\n",
    "summary(grun.re)$coefficients"
   ]
  },
  {
   "cell_type": "markdown",
   "metadata": {},
   "source": [
    "### 3.2.1 Robust standard errors"
   ]
  },
  {
   "cell_type": "code",
   "execution_count": 45,
   "metadata": {},
   "outputs": [
    {
     "data": {
      "text/plain": [
       "\n",
       "t test of coefficients:\n",
       "\n",
       "              Estimate Std. Error t value  Pr(>|t|)    \n",
       "(Intercept) -57.834415  23.449626 -2.4663   0.01451 *  \n",
       "value         0.109781   0.012984  8.4551 6.186e-15 ***\n",
       "capital       0.308113   0.051889  5.9379 1.284e-08 ***\n",
       "---\n",
       "Signif. codes:  0 ‘***’ 0.001 ‘**’ 0.01 ‘*’ 0.05 ‘.’ 0.1 ‘ ’ 1\n"
      ]
     },
     "metadata": {},
     "output_type": "display_data"
    }
   ],
   "source": [
    "coeftest(grun.re, vcovHC(grun.re, type = 'HC0', cluster = c('group','time')))"
   ]
  },
  {
   "cell_type": "markdown",
   "metadata": {},
   "source": [
    "### 3.Z More info on clustered standard errors\n",
    "- [Tutorial](http://rforpublichealth.blogspot.com/2014/10/easy-clustered-standard-errors-in-r.html)\n",
    "\n",
    "- [Code](https://stackoverflow.com/questions/33155638/clustered-standard-errors-in-r-using-plm-with-fixed-effects)\n",
    "\n",
    "- [Compare R and STATA clustered SE](http://www.richard-bluhm.com/clustered-ses-in-r-and-stata-2/)\n"
   ]
  },
  {
   "cell_type": "markdown",
   "metadata": {},
   "source": [
    "## 3.3 Logistic regression"
   ]
  },
  {
   "cell_type": "code",
   "execution_count": 46,
   "metadata": {},
   "outputs": [
    {
     "data": {
      "text/html": [
       "<table>\n",
       "<thead><tr><th></th><th scope=col>mpg</th><th scope=col>cyl</th><th scope=col>disp</th><th scope=col>hp</th><th scope=col>drat</th><th scope=col>wt</th><th scope=col>qsec</th><th scope=col>vs</th><th scope=col>am</th><th scope=col>gear</th><th scope=col>carb</th></tr></thead>\n",
       "<tbody>\n",
       "\t<tr><th scope=row>Mazda RX4</th><td>21   </td><td>6    </td><td>160  </td><td>110  </td><td>3.9  </td><td>2.620</td><td>16.46</td><td>0    </td><td>1    </td><td>4    </td><td>4    </td></tr>\n",
       "\t<tr><th scope=row>Mazda RX4 Wag</th><td>21   </td><td>6    </td><td>160  </td><td>110  </td><td>3.9  </td><td>2.875</td><td>17.02</td><td>0    </td><td>1    </td><td>4    </td><td>4    </td></tr>\n",
       "</tbody>\n",
       "</table>\n"
      ],
      "text/latex": [
       "\\begin{tabular}{r|lllllllllll}\n",
       "  & mpg & cyl & disp & hp & drat & wt & qsec & vs & am & gear & carb\\\\\n",
       "\\hline\n",
       "\tMazda RX4 & 21    & 6     & 160   & 110   & 3.9   & 2.620 & 16.46 & 0     & 1     & 4     & 4    \\\\\n",
       "\tMazda RX4 Wag & 21    & 6     & 160   & 110   & 3.9   & 2.875 & 17.02 & 0     & 1     & 4     & 4    \\\\\n",
       "\\end{tabular}\n"
      ],
      "text/markdown": [
       "\n",
       "| <!--/--> | mpg | cyl | disp | hp | drat | wt | qsec | vs | am | gear | carb |\n",
       "|---|---|---|---|---|---|---|---|---|---|---|---|\n",
       "| Mazda RX4 | 21    | 6     | 160   | 110   | 3.9   | 2.620 | 16.46 | 0     | 1     | 4     | 4     |\n",
       "| Mazda RX4 Wag | 21    | 6     | 160   | 110   | 3.9   | 2.875 | 17.02 | 0     | 1     | 4     | 4     |\n",
       "\n"
      ],
      "text/plain": [
       "              mpg cyl disp hp  drat wt    qsec  vs am gear carb\n",
       "Mazda RX4     21  6   160  110 3.9  2.620 16.46 0  1  4    4   \n",
       "Mazda RX4 Wag 21  6   160  110 3.9  2.875 17.02 0  1  4    4   "
      ]
     },
     "metadata": {},
     "output_type": "display_data"
    }
   ],
   "source": [
    "mtcars %>% head(2)"
   ]
  },
  {
   "cell_type": "code",
   "execution_count": 47,
   "metadata": {},
   "outputs": [
    {
     "data": {
      "text/plain": [
       "\n",
       "Call:\n",
       "glm(formula = am ~ cyl + disp + drat + mpg, family = \"binomial\", \n",
       "    data = mtcars)\n",
       "\n",
       "Deviance Residuals: \n",
       "     Min        1Q    Median        3Q       Max  \n",
       "-1.81690  -0.34097  -0.04864   0.17467   1.74918  \n",
       "\n",
       "Coefficients:\n",
       "             Estimate Std. Error z value Pr(>|z|)  \n",
       "(Intercept) -45.47048   22.84741  -1.990   0.0466 *\n",
       "cyl           2.36515    1.33387   1.773   0.0762 .\n",
       "disp         -0.01922    0.01739  -1.105   0.2692  \n",
       "drat          6.22298    2.91299   2.136   0.0327 *\n",
       "mpg           0.60124    0.47441   1.267   0.2050  \n",
       "---\n",
       "Signif. codes:  0 ‘***’ 0.001 ‘**’ 0.01 ‘*’ 0.05 ‘.’ 0.1 ‘ ’ 1\n",
       "\n",
       "(Dispersion parameter for binomial family taken to be 1)\n",
       "\n",
       "    Null deviance: 43.230  on 31  degrees of freedom\n",
       "Residual deviance: 15.676  on 27  degrees of freedom\n",
       "AIC: 25.676\n",
       "\n",
       "Number of Fisher Scoring iterations: 7\n"
      ]
     },
     "metadata": {},
     "output_type": "display_data"
    }
   ],
   "source": [
    "log_reg = glm(am~ cyl+disp+drat+mpg, family='binomial', mtcars)\n",
    "summary(log_reg)"
   ]
  },
  {
   "cell_type": "markdown",
   "metadata": {},
   "source": [
    "## 3.4 Machine learning: Supervised learning"
   ]
  },
  {
   "cell_type": "code",
   "execution_count": 48,
   "metadata": {},
   "outputs": [
    {
     "name": "stderr",
     "output_type": "stream",
     "text": [
      "Loading required package: lattice\n",
      "Loading required package: ggplot2\n"
     ]
    }
   ],
   "source": [
    "# Step 1\n",
    "#install.packages('caret')\n",
    "\n",
    "# Step 2\n",
    "library(caret)"
   ]
  },
  {
   "cell_type": "code",
   "execution_count": 49,
   "metadata": {},
   "outputs": [
    {
     "data": {
      "text/html": [
       "<table>\n",
       "<thead><tr><th scope=col>city</th><th scope=col>zip</th><th scope=col>beds</th><th scope=col>baths</th><th scope=col>sqft</th><th scope=col>type</th><th scope=col>price</th><th scope=col>latitude</th><th scope=col>longitude</th><th scope=col>ID</th></tr></thead>\n",
       "<tbody>\n",
       "\t<tr><td>SACRAMENTO </td><td>z95838     </td><td>2          </td><td>1          </td><td> 836       </td><td>Residential</td><td>59222      </td><td>38.63191   </td><td>-121.4349  </td><td>1          </td></tr>\n",
       "\t<tr><td>SACRAMENTO </td><td>z95823     </td><td>3          </td><td>1          </td><td>1167       </td><td>Residential</td><td>68212      </td><td>38.47890   </td><td>-121.4310  </td><td>2          </td></tr>\n",
       "\t<tr><td>SACRAMENTO </td><td>z95815     </td><td>2          </td><td>1          </td><td> 796       </td><td>Residential</td><td>68880      </td><td>38.61830   </td><td>-121.4438  </td><td>3          </td></tr>\n",
       "</tbody>\n",
       "</table>\n"
      ],
      "text/latex": [
       "\\begin{tabular}{r|llllllllll}\n",
       " city & zip & beds & baths & sqft & type & price & latitude & longitude & ID\\\\\n",
       "\\hline\n",
       "\t SACRAMENTO  & z95838      & 2           & 1           &  836        & Residential & 59222       & 38.63191    & -121.4349   & 1          \\\\\n",
       "\t SACRAMENTO  & z95823      & 3           & 1           & 1167        & Residential & 68212       & 38.47890    & -121.4310   & 2          \\\\\n",
       "\t SACRAMENTO  & z95815      & 2           & 1           &  796        & Residential & 68880       & 38.61830    & -121.4438   & 3          \\\\\n",
       "\\end{tabular}\n"
      ],
      "text/markdown": [
       "\n",
       "| city | zip | beds | baths | sqft | type | price | latitude | longitude | ID |\n",
       "|---|---|---|---|---|---|---|---|---|---|\n",
       "| SACRAMENTO  | z95838      | 2           | 1           |  836        | Residential | 59222       | 38.63191    | -121.4349   | 1           |\n",
       "| SACRAMENTO  | z95823      | 3           | 1           | 1167        | Residential | 68212       | 38.47890    | -121.4310   | 2           |\n",
       "| SACRAMENTO  | z95815      | 2           | 1           |  796        | Residential | 68880       | 38.61830    | -121.4438   | 3           |\n",
       "\n"
      ],
      "text/plain": [
       "  city       zip    beds baths sqft type        price latitude longitude ID\n",
       "1 SACRAMENTO z95838 2    1      836 Residential 59222 38.63191 -121.4349 1 \n",
       "2 SACRAMENTO z95823 3    1     1167 Residential 68212 38.47890 -121.4310 2 \n",
       "3 SACRAMENTO z95815 2    1      796 Residential 68880 38.61830 -121.4438 3 "
      ]
     },
     "metadata": {},
     "output_type": "display_data"
    }
   ],
   "source": [
    "data(Sacramento)\n",
    "house_df = Sacramento %>% as_tibble()\n",
    "house_df  = house_df %>% mutate(ID = row_number())\n",
    "house_df %>% head(3)"
   ]
  },
  {
   "cell_type": "markdown",
   "metadata": {},
   "source": [
    "### 3.4.1. Baseline regression"
   ]
  },
  {
   "cell_type": "code",
   "execution_count": 50,
   "metadata": {},
   "outputs": [],
   "source": [
    "model = lm(price ~ beds+baths+sqft, data=house_df)"
   ]
  },
  {
   "cell_type": "markdown",
   "metadata": {},
   "source": [
    "#### 3.4.1.1 Evaluate model"
   ]
  },
  {
   "cell_type": "code",
   "execution_count": 51,
   "metadata": {},
   "outputs": [],
   "source": [
    "rmse = function(acutal, predicted){\n",
    "    error = predicted - acutal\n",
    "    rmse = sqrt(mean(error^2))\n",
    "    return(rmse)\n",
    "}"
   ]
  },
  {
   "cell_type": "markdown",
   "metadata": {},
   "source": [
    "#### 3.4.1.2 Actual data=price , Predicted data=fitted.values"
   ]
  },
  {
   "cell_type": "code",
   "execution_count": 52,
   "metadata": {},
   "outputs": [
    {
     "data": {
      "text/html": [
       "82436.6067424843"
      ],
      "text/latex": [
       "82436.6067424843"
      ],
      "text/markdown": [
       "82436.6067424843"
      ],
      "text/plain": [
       "[1] 82436.61"
      ]
     },
     "metadata": {},
     "output_type": "display_data"
    }
   ],
   "source": [
    "rmse(house_df$price, model$fitted.values)"
   ]
  },
  {
   "cell_type": "markdown",
   "metadata": {},
   "source": [
    "### 3.1.2 Train-test regression"
   ]
  },
  {
   "cell_type": "code",
   "execution_count": 53,
   "metadata": {},
   "outputs": [
    {
     "data": {
      "text/html": [
       "<table>\n",
       "<thead><tr><th scope=col>city</th><th scope=col>zip</th><th scope=col>beds</th><th scope=col>baths</th><th scope=col>sqft</th><th scope=col>type</th><th scope=col>price</th><th scope=col>latitude</th><th scope=col>longitude</th><th scope=col>ID</th></tr></thead>\n",
       "<tbody>\n",
       "\t<tr><td>SACRAMENTO </td><td>z95822     </td><td>2          </td><td>2          </td><td> 990       </td><td>Residential</td><td> 66500     </td><td>38.49350   </td><td>-121.4753  </td><td>561        </td></tr>\n",
       "\t<tr><td>CARMICHAEL </td><td>z95608     </td><td>2          </td><td>2          </td><td>1598       </td><td>Residential</td><td>484000     </td><td>38.60275   </td><td>-121.3293  </td><td>321        </td></tr>\n",
       "</tbody>\n",
       "</table>\n"
      ],
      "text/latex": [
       "\\begin{tabular}{r|llllllllll}\n",
       " city & zip & beds & baths & sqft & type & price & latitude & longitude & ID\\\\\n",
       "\\hline\n",
       "\t SACRAMENTO  & z95822      & 2           & 2           &  990        & Residential &  66500      & 38.49350    & -121.4753   & 561        \\\\\n",
       "\t CARMICHAEL  & z95608      & 2           & 2           & 1598        & Residential & 484000      & 38.60275    & -121.3293   & 321        \\\\\n",
       "\\end{tabular}\n"
      ],
      "text/markdown": [
       "\n",
       "| city | zip | beds | baths | sqft | type | price | latitude | longitude | ID |\n",
       "|---|---|---|---|---|---|---|---|---|---|\n",
       "| SACRAMENTO  | z95822      | 2           | 2           |  990        | Residential |  66500      | 38.49350    | -121.4753   | 561         |\n",
       "| CARMICHAEL  | z95608      | 2           | 2           | 1598        | Residential | 484000      | 38.60275    | -121.3293   | 321         |\n",
       "\n"
      ],
      "text/plain": [
       "  city       zip    beds baths sqft type        price  latitude longitude ID \n",
       "1 SACRAMENTO z95822 2    2      990 Residential  66500 38.49350 -121.4753 561\n",
       "2 CARMICHAEL z95608 2    2     1598 Residential 484000 38.60275 -121.3293 321"
      ]
     },
     "metadata": {},
     "output_type": "display_data"
    }
   ],
   "source": [
    "set.seed(42)\n",
    "\n",
    "train = house_df  %>% sample_frac(.8)\n",
    "train %>% head(2)"
   ]
  },
  {
   "cell_type": "code",
   "execution_count": 54,
   "metadata": {},
   "outputs": [
    {
     "data": {
      "text/html": [
       "<table>\n",
       "<thead><tr><th scope=col>city</th><th scope=col>zip</th><th scope=col>beds</th><th scope=col>baths</th><th scope=col>sqft</th><th scope=col>type</th><th scope=col>price</th><th scope=col>latitude</th><th scope=col>longitude</th><th scope=col>ID</th></tr></thead>\n",
       "<tbody>\n",
       "\t<tr><td>SACRAMENTO </td><td>z95824     </td><td>2          </td><td>1          </td><td> 797       </td><td>Residential</td><td>81900      </td><td>38.51947   </td><td>-121.4358  </td><td>5          </td></tr>\n",
       "\t<tr><td>SACRAMENTO </td><td>z95841     </td><td>3          </td><td>1          </td><td>1122       </td><td>Condo      </td><td>89921      </td><td>38.66260   </td><td>-121.3278  </td><td>6          </td></tr>\n",
       "</tbody>\n",
       "</table>\n"
      ],
      "text/latex": [
       "\\begin{tabular}{r|llllllllll}\n",
       " city & zip & beds & baths & sqft & type & price & latitude & longitude & ID\\\\\n",
       "\\hline\n",
       "\t SACRAMENTO  & z95824      & 2           & 1           &  797        & Residential & 81900       & 38.51947    & -121.4358   & 5          \\\\\n",
       "\t SACRAMENTO  & z95841      & 3           & 1           & 1122        & Condo       & 89921       & 38.66260    & -121.3278   & 6          \\\\\n",
       "\\end{tabular}\n"
      ],
      "text/markdown": [
       "\n",
       "| city | zip | beds | baths | sqft | type | price | latitude | longitude | ID |\n",
       "|---|---|---|---|---|---|---|---|---|---|\n",
       "| SACRAMENTO  | z95824      | 2           | 1           |  797        | Residential | 81900       | 38.51947    | -121.4358   | 5           |\n",
       "| SACRAMENTO  | z95841      | 3           | 1           | 1122        | Condo       | 89921       | 38.66260    | -121.3278   | 6           |\n",
       "\n"
      ],
      "text/plain": [
       "  city       zip    beds baths sqft type        price latitude longitude ID\n",
       "1 SACRAMENTO z95824 2    1      797 Residential 81900 38.51947 -121.4358 5 \n",
       "2 SACRAMENTO z95841 3    1     1122 Condo       89921 38.66260 -121.3278 6 "
      ]
     },
     "metadata": {},
     "output_type": "display_data"
    }
   ],
   "source": [
    "test = house_df[-train$ID,]\n",
    "test %>% head(2)"
   ]
  },
  {
   "cell_type": "code",
   "execution_count": 55,
   "metadata": {},
   "outputs": [
    {
     "data": {
      "text/html": [
       "86595.1675340323"
      ],
      "text/latex": [
       "86595.1675340323"
      ],
      "text/markdown": [
       "86595.1675340323"
      ],
      "text/plain": [
       "[1] 86595.17"
      ]
     },
     "metadata": {},
     "output_type": "display_data"
    }
   ],
   "source": [
    "model = lm(price ~ beds+baths+sqft, data=train)\n",
    "\n",
    "p = predict(model, test)\n",
    "\n",
    "rmse(p, test$price)"
   ]
  },
  {
   "cell_type": "markdown",
   "metadata": {},
   "source": [
    "### 3.1.3 Cross validation\n",
    "\n",
    "- More information on the following [blog post](https://medium.com/the-owl/k-fold-cross-validation-in-keras-3ec4a3a00538)\n",
    "\n",
    "<img src= https://miro.medium.com/max/601/1*PdwlCactbJf8F8C7sP-3gw.png>"
   ]
  },
  {
   "cell_type": "code",
   "execution_count": 56,
   "metadata": {},
   "outputs": [
    {
     "data": {
      "text/plain": [
       "Linear Regression \n",
       "\n",
       "932 samples\n",
       "  3 predictor\n",
       "\n",
       "No pre-processing\n",
       "Resampling: Cross-Validated (10 fold) \n",
       "Summary of sample sizes: 840, 839, 837, 838, 840, 838, ... \n",
       "Resampling results:\n",
       "\n",
       "  RMSE      Rsquared   MAE     \n",
       "  82523.46  0.6070828  60606.13\n",
       "\n",
       "Tuning parameter 'intercept' was held constant at a value of TRUE"
      ]
     },
     "metadata": {},
     "output_type": "display_data"
    }
   ],
   "source": [
    "model = train(\n",
    "  price ~ beds+baths+sqft, \n",
    "    data=house_df,\n",
    "  method = \"lm\",\n",
    "  trControl = trainControl(\n",
    "    method = \"cv\", \n",
    "    number = 10,\n",
    "    verboseIter = FALSE\n",
    "  )\n",
    ")\n",
    "model"
   ]
  }
 ],
 "metadata": {
  "kernelspec": {
   "display_name": "R [conda env:r_env]",
   "language": "R",
   "name": "conda-env-r_env-r"
  },
  "language_info": {
   "codemirror_mode": "r",
   "file_extension": ".r",
   "mimetype": "text/x-r-source",
   "name": "R",
   "pygments_lexer": "r",
   "version": "3.6.1"
  }
 },
 "nbformat": 4,
 "nbformat_minor": 4
}
